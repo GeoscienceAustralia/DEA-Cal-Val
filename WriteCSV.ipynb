{
 "cells": [
  {
   "cell_type": "code",
   "execution_count": null,
   "metadata": {},
   "outputs": [],
   "source": [
    "import pandas as pd\n",
    "all_fils = []\n",
    "for i in ground_brdf['Line'].unique():\n",
    "    all_fils.append(ground_brdf[ground_brdf['Line']==i].mean())\n",
    "#all_fils.append(fstat_df['Sat_mean'])\n",
    "ftat = fstat_df.rename({'Band1': 'band1', 'Band2': 'band2', 'Band3': 'band3', 'Band4': 'band4', 'Band5': 'band5', 'Band6': 'band6', 'Band7': 'band7', 'Band8': 'band8', 'Band8a': 'band8a', 'Band11': 'band11', 'Band12': 'band12'}, axis='index')\n",
    "outt = pd.concat(all_fils, axis=1)\n",
    "outt.columns = outt.loc['Line'].astype(int)\n",
    "if field_data[3] == 'Landsat8':\n",
    "    oot = outt.drop(['Line', 'Latitude', 'Longitude', 'Spec_number', 'band8', 'Solar_angle'])\n",
    "elif field_data[3] == 'Sentinel2a' or field_data[3] == 'Sentinel2b':\n",
    "    oot = outt.drop(['Line', 'Latitude', 'Longitude', 'Spec_number', 'band9', 'Solar_angle'])\n",
    "else:\n",
    "    print('Satellite should be one of Landsat8, Sentinel2a/b. I got', field_data[3])\n",
    "\n",
    "folt = pd.concat([oot, ftat['Sat_mean']], axis=1, ignore_index=True)\n",
    "folt.rename(columns={folt.columns[-1]: 'Sat_mean'}, inplace=True)\n",
    "folt.to_csv('PNGS/CSV/'+field_data[0]+field_data[1]+field_data[2]+field_data[3]+'.csv')"
   ]
  }
 ],
 "metadata": {
  "kernelspec": {
   "display_name": "Python 3",
   "language": "python",
   "name": "python3"
  },
  "language_info": {
   "codemirror_mode": {
    "name": "ipython",
    "version": 3
   },
   "file_extension": ".py",
   "mimetype": "text/x-python",
   "name": "python",
   "nbconvert_exporter": "python",
   "pygments_lexer": "ipython3",
   "version": "3.6.5"
  }
 },
 "nbformat": 4,
 "nbformat_minor": 2
}
