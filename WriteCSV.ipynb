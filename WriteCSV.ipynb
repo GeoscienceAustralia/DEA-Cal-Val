{
 "cells": [
  {
   "cell_type": "code",
   "execution_count": null,
   "metadata": {},
   "outputs": [],
   "source": [
    "import pandas as pd\n",
    "all_fils = []\n",
    "for i in ground_brdf['Line'].unique():\n",
    "    all_fils.append(ground_brdf[ground_brdf['Line']==i].mean())\n",
    "outt = pd.concat(all_fils, axis=1)\n",
    "outt.columns = outt.loc['Line'].astype(int)\n",
    "oot = outt.drop(['Line', 'Latitude', 'Longitude', 'Spec_number', 'Solar_angle'])\n",
    "oot.to_csv('PNGS/CSV/'+field_data[0]+field_data[1]+field_data[2]+field_data[3]+'.csv')"
   ]
  }
 ],
 "metadata": {
  "kernelspec": {
   "display_name": "Python 3",
   "language": "python",
   "name": "python3"
  },
  "language_info": {
   "codemirror_mode": {
    "name": "ipython",
    "version": 3
   },
   "file_extension": ".py",
   "mimetype": "text/x-python",
   "name": "python",
   "nbconvert_exporter": "python",
   "pygments_lexer": "ipython3",
   "version": "3.6.5"
  }
 },
 "nbformat": 4,
 "nbformat_minor": 2
}
