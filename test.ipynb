{
 "cells": [
  {
   "cell_type": "markdown",
   "metadata": {},
   "source": [
    "# Workflow for processing Lake George field data from 26MAY18"
   ]
  },
  {
   "cell_type": "code",
   "execution_count": 1,
   "metadata": {},
   "outputs": [],
   "source": [
    "import csv, glob, sys, os, re\n",
    "from os import listdir\n",
    "import numpy as np\n",
    "import pandas as pd\n",
    "import math\n",
    "\n",
    "import datacube\n",
    "from datetime import datetime, timedelta\n",
    "import pyproj\n",
    "from pandas import Series\n",
    "import matplotlib.pyplot as plt\n",
    "import matplotlib\n",
    "\n",
    "#\n",
    "# Use notebook format (allows inline zooming and moving of figures)\n",
    "# Set default font size for all plots\n",
    "#\n",
    "%matplotlib notebook\n",
    "matplotlib.rcParams.update({'font.size': 11})\n",
    "\n",
    "#\n",
    "# Astropy is used to determine the Solar angle\n",
    "#\n",
    "import astropy.coordinates as coord\n",
    "from astropy.time import Time\n",
    "import astropy.units as u\n",
    "\n",
    "#\n",
    "# dc will be used later on when comparing with satellite data:\n",
    "#\n",
    "dc = datacube.Datacube(app='nbart-fieldsites')"
   ]
  },
  {
   "cell_type": "markdown",
   "metadata": {},
   "source": [
    "### Set up input and output directories etc"
   ]
  },
  {
   "cell_type": "code",
   "execution_count": 2,
   "metadata": {},
   "outputs": [],
   "source": [
    "indir = '/g/data1a/u46/users/aw3463/GuyByrne/30APR18/lake_george/26_march_2018/'\n",
    "output = '/g/data/u46/users/aw3463/GuyByrne/calval/PNGS/LAG-26MAR18/'\n",
    "field_site = 'Lake George'\n",
    "field_date = '26/3/18'\n",
    "site_number = ''\n",
    "sat_name = 'Landsat 8'\n",
    "suffix = 'asd.rad.txt'\n",
    "\n",
    "#\n",
    "# panel_dir and in_panel refer to the file that is used in determining the k-factor,\n",
    "# so this should remain unchanged.\n",
    "#\n",
    "panel_dir =  '/g/data1a/u46/users/aw3463/GuyByrne/30APR18/lake_george/26_march_2018/'\n",
    "in_panel = 'ga_panel1_jan_2018.txt'\n",
    "suffix2 = 'asd.ref.sco.txt'\n",
    "\n",
    "#\n",
    "# Setup for Landsat and Sentinel bandpass filters\n",
    "#\n",
    "sat_resp = dict({'lsat5': '/g/data1a/u46/users/aw3463/GuyByrne/misc_others/landsat5_vsir.flt', \n",
    "            'lsat7': '/g/data1a/u46/users/aw3463/GuyByrne/misc_others/landsat7_vsir.flt', \n",
    "            'lsat8': '/g/data1a/u46/users/aw3463/GuyByrne/misc_others/landsat8_vsir.flt',\n",
    "            'senti': '/g/data1a/u46/users/aw3463/GuyByrne/misc_others/sentinel2a_all.flt'})\n",
    "\n",
    "\n",
    "#\n",
    "# bad_pans    contains the names of individual panels readings that appear to be bogus\n",
    "# bad_grounds contains ground-reading file names that appear to be bogus\n",
    "# Use empty lists if there are no bad spectra.\n",
    "#\n",
    "bad_grounds = ['llg_l300038.asd.rad', 'llg_l300039.asd.rad', 'llg_l300040.asd.rad', 'llg_l300041.asd.rad']\n",
    "#bad_grounds = []\n",
    "bad_pans = ['lkg_l700000.asd.rad', 'lkg_l700001.asd.rad']\n",
    "#bad_pans = []\n",
    "\n",
    "#\n",
    "# Define the first line and spectrum number for all/good panels and grounds\n",
    "#\n",
    "firstGoodLine = 1\n",
    "firstGoodPanelSpec = 0\n",
    "firstGoodGroundSpec = 2"
   ]
  },
  {
   "cell_type": "markdown",
   "metadata": {},
   "source": [
    "### Define how to extract metadata from spectrum file headers"
   ]
  },
  {
   "cell_type": "code",
   "execution_count": 3,
   "metadata": {
    "scrolled": true
   },
   "outputs": [],
   "source": [
    "import calivali"
   ]
  },
  {
   "cell_type": "markdown",
   "metadata": {},
   "source": [
    "### Define 'alldata' as the dataframe that contains all the raw spectra.\n",
    "Show the first wavelength of every spectrum, so that the data integrity can be checked."
   ]
  },
  {
   "cell_type": "code",
   "execution_count": 4,
   "metadata": {
    "scrolled": false
   },
   "outputs": [
    {
     "ename": "NameError",
     "evalue": "name 'glob' is not defined",
     "output_type": "error",
     "traceback": [
      "\u001b[0;31m---------------------------------------------------------------------------\u001b[0m",
      "\u001b[0;31mNameError\u001b[0m                                 Traceback (most recent call last)",
      "\u001b[0;32m<ipython-input-4-f2e9dbec4c2b>\u001b[0m in \u001b[0;36m<module>\u001b[0;34m()\u001b[0m\n\u001b[0;32m----> 1\u001b[0;31m \u001b[0malldata\u001b[0m \u001b[0;34m=\u001b[0m \u001b[0mcalivali\u001b[0m\u001b[0;34m.\u001b[0m\u001b[0mload_from_dir\u001b[0m\u001b[0;34m(\u001b[0m\u001b[0mindir\u001b[0m\u001b[0;34m)\u001b[0m\u001b[0;34m\u001b[0m\u001b[0m\n\u001b[0m\u001b[1;32m      2\u001b[0m \u001b[0;34m\u001b[0m\u001b[0m\n\u001b[1;32m      3\u001b[0m \u001b[0malldata\u001b[0m\u001b[0;34m[\u001b[0m\u001b[0malldata\u001b[0m\u001b[0;34m[\u001b[0m\u001b[0;34m'Wavelength'\u001b[0m\u001b[0;34m]\u001b[0m\u001b[0;34m==\u001b[0m\u001b[0;36m350\u001b[0m\u001b[0;34m]\u001b[0m\u001b[0;34m\u001b[0m\u001b[0m\n",
      "\u001b[0;32m/g/data1a/u46/users/aw3463/GuyByrne/calval/calivali.py\u001b[0m in \u001b[0;36mload_from_dir\u001b[0;34m(indir)\u001b[0m\n\u001b[1;32m     91\u001b[0m \u001b[0;32mdef\u001b[0m \u001b[0mload_from_dir\u001b[0m\u001b[0;34m(\u001b[0m\u001b[0mindir\u001b[0m\u001b[0;34m)\u001b[0m\u001b[0;34m:\u001b[0m\u001b[0;34m\u001b[0m\u001b[0m\n\u001b[1;32m     92\u001b[0m     \u001b[0mall_dfs\u001b[0m \u001b[0;34m=\u001b[0m \u001b[0;34m[\u001b[0m\u001b[0;34m]\u001b[0m\u001b[0;34m\u001b[0m\u001b[0m\n\u001b[0;32m---> 93\u001b[0;31m     \u001b[0;32mfor\u001b[0m \u001b[0mli\u001b[0m \u001b[0;32min\u001b[0m \u001b[0mrange\u001b[0m\u001b[0;34m(\u001b[0m\u001b[0;36m1\u001b[0m\u001b[0;34m,\u001b[0m \u001b[0mlen\u001b[0m\u001b[0;34m(\u001b[0m\u001b[0mglob\u001b[0m\u001b[0;34m.\u001b[0m\u001b[0mglob\u001b[0m\u001b[0;34m(\u001b[0m\u001b[0mindir\u001b[0m\u001b[0;34m+\u001b[0m\u001b[0;34m'line*'\u001b[0m\u001b[0;34m)\u001b[0m\u001b[0;34m)\u001b[0m\u001b[0;34m+\u001b[0m\u001b[0;36m1\u001b[0m\u001b[0;34m)\u001b[0m\u001b[0;34m:\u001b[0m\u001b[0;34m\u001b[0m\u001b[0m\n\u001b[0m\u001b[1;32m     94\u001b[0m         \u001b[0mhome2\u001b[0m \u001b[0;34m=\u001b[0m \u001b[0mindir\u001b[0m\u001b[0;34m+\u001b[0m\u001b[0;34m'line'\u001b[0m\u001b[0;34m+\u001b[0m\u001b[0mstr\u001b[0m\u001b[0;34m(\u001b[0m\u001b[0mli\u001b[0m\u001b[0;34m)\u001b[0m\u001b[0;34m+\u001b[0m\u001b[0;34m'/'\u001b[0m\u001b[0;34m\u001b[0m\u001b[0m\n\u001b[1;32m     95\u001b[0m \u001b[0;34m\u001b[0m\u001b[0m\n",
      "\u001b[0;31mNameError\u001b[0m: name 'glob' is not defined"
     ]
    }
   ],
   "source": [
    "alldata = calivali.load_from_dir(indir)\n",
    "\n",
    "alldata[alldata['Wavelength']==350]"
   ]
  },
  {
   "cell_type": "code",
   "execution_count": null,
   "metadata": {},
   "outputs": [],
   "source": [
    "#\n",
    "# Uncommenting the following line allows jupyter notebook to show more lines.\n",
    "# This is needed when looking into the details of long dataframes/lists etc.\n",
    "#\n",
    "#pd.options.display.max_rows = 5000"
   ]
  },
  {
   "cell_type": "markdown",
   "metadata": {},
   "source": [
    "### Specify which spectra are panels/ground/good/bad\n",
    "\n",
    " Determine panel file names by assuming that all panels have a data value of at least 0.1\n",
    " in the first wavelength (350nm). Call this dataframe 'panel_names'.\n",
    "\n",
    " good_panels = all panel data with bad panels removed<BR>\n",
    " bad_panels  = all bad panel data<BR>\n",
    " all_panels = both good and bad panel data<BR>\n",
    " good_grounds = good ground readings<BR>\n",
    " all_grounds = all ground data.<P>\n",
    " Any bad ground data (bad_grounds) is defined in the 2nd cell.\n"
   ]
  },
  {
   "cell_type": "code",
   "execution_count": null,
   "metadata": {
    "scrolled": true
   },
   "outputs": [],
   "source": [
    "panel_names = alldata[(alldata['Wavelength']==350) & (alldata['radiance']>=0.1)]['filename']\n",
    "\n",
    "all_panels = alldata.loc[alldata['filename'].isin(panel_names)]\n",
    "good_panels = all_panels.loc[~all_panels['filename'].isin(bad_pans)]\n",
    "bad_panels = alldata.loc[alldata['filename'].isin(bad_pans)]\n",
    "\n",
    "tmp_grounds = alldata.loc[~alldata['filename'].isin(bad_grounds)]\n",
    "good_grounds = tmp_grounds.loc[~tmp_grounds['filename'].isin(panel_names)]\n",
    "all_grounds = alldata.loc[~alldata['filename'].isin(panel_names)]"
   ]
  },
  {
   "cell_type": "markdown",
   "metadata": {},
   "source": [
    "### Make a dataframe that contains just the spectra, with one spectrum per column\n",
    "\n",
    " Loop over each line 'i' and then over each spectrum 'j' within line 'i'.\n",
    " \n",
    " For the first spectrum, copy both the\n",
    " Wavelength (for the index) and radiance to a new dataframe (temp2).<BR>\n",
    " For all subsequent spectra, append the new dataframe with a radiance\n",
    " column. <BR>The results in a new dataframe 'outpanel' that has a wavelength\n",
    " column (also set as the index), <BR>plus all the radiances in subsequent\n",
    " columns.\n",
    "\n"
   ]
  },
  {
   "cell_type": "code",
   "execution_count": null,
   "metadata": {},
   "outputs": [],
   "source": [
    "def make_spec_df(in_df):\n",
    "    for i in in_df.Line.unique():\n",
    "        temp_loop = in_df[(in_df['Wavelength']==350) & (in_df['Line']==i)]\n",
    "        for j in temp_loop['Spec_number']:\n",
    "            temp2 = in_df[(in_df['Spec_number']==j) & (in_df['Line']==i)]\n",
    "            \n",
    "            try:\n",
    "                out_df['radiance'+str(i)+\"-\"+str(j)] = temp2['radiance']\n",
    "            except UnboundLocalError:\n",
    "                out_df = temp2[['Wavelength', 'radiance']].copy()\n",
    "\n",
    "    out_df.set_index(\"Wavelength\", inplace=True)\n",
    "\n",
    "    return out_df"
   ]
  },
  {
   "cell_type": "markdown",
   "metadata": {},
   "source": [
    "### Create dataframes for all/good/bad panel spectra.\n",
    "\n",
    "For the bad panel spectra dataframe, first check to see if bad panels have been defined.<BR>\n",
    "If not, then don't create anything."
   ]
  },
  {
   "cell_type": "code",
   "execution_count": null,
   "metadata": {},
   "outputs": [],
   "source": [
    "all_panel_spec = make_spec_df(all_panels)\n",
    "good_panel_spec = make_spec_df(good_panels)\n",
    "try:\n",
    "    bad_panel_spec = make_spec_df(bad_panels)\n",
    "except UnboundLocalError:\n",
    "    pass"
   ]
  },
  {
   "cell_type": "markdown",
   "metadata": {},
   "source": [
    "## Figure 1\n",
    "### Plot panel radiances for all/good/bad panels"
   ]
  },
  {
   "cell_type": "code",
   "execution_count": null,
   "metadata": {},
   "outputs": [],
   "source": [
    "fig, axes = plt.subplots(nrows=1, ncols=3, figsize=(11.0, 5.0))\n",
    "fig.suptitle(sat_name+': '+field_site+' '+field_date+' '+site_number, fontweight='bold')\n",
    "plt.tight_layout(pad=3.5, w_pad=1.0, h_pad=1.0)\n",
    "\n",
    "#\n",
    "# Plot the radiances for the good panels.\n",
    "#\n",
    "good_panel_spec.plot(title = 'Good panel radiances', legend=False, ax=axes[0])\n",
    "axes[0].set_ylabel(\"Radiance\")\n",
    "\n",
    "#\n",
    "# Plot the bad panel radiances, if they exist (found in line 8)\n",
    "#\n",
    "try:\n",
    "    bad_panel_spec.plot(title = \"Bad panel radiances\", legend=False, ax=axes[1])\n",
    "except NameError:\n",
    "    pass\n",
    "#\n",
    "# Plot the ALL panel radiances\n",
    "#\n",
    "all_panel_spec.plot(title = \" All panel radiances\", legend=False, ax=axes[2])\n",
    "\n",
    "#\n",
    "# Check that output directory exists, if not, create it.\n",
    "#\n",
    "directory = os.path.dirname(output)\n",
    "if not os.path.exists(directory):\n",
    "    os.makedirs(directory)\n",
    "\n",
    "#\n",
    "# Save plot to output directory.\n",
    "#\n",
    "plt.savefig(output+'Fig01_PanelRadiances.png')"
   ]
  },
  {
   "cell_type": "markdown",
   "metadata": {},
   "source": [
    "# Figure 2\n",
    "\n",
    "### Diagnosis plots of bad panel spectra\n",
    "\n",
    " Create a mean of the good panel readings, as well as the bad panel\n",
    " readings. <BR>Then a ratio and a difference of the two can be (seperately)\n",
    " created and plotted.\n",
    "\n",
    " Since the two bad panel readings are higher than they should be, <BR>we\n",
    " put the bad panels on the top of the division and first in the\n",
    " difference."
   ]
  },
  {
   "cell_type": "code",
   "execution_count": null,
   "metadata": {
    "scrolled": false
   },
   "outputs": [],
   "source": [
    "good_panel_mean = good_panel_spec.mean(axis=1)\n",
    "\n",
    "try: \n",
    "    bad_panel_mean = bad_panel_spec.mean(axis=1)\n",
    "    good_bad_div = bad_panel_mean.div(good_panel_mean, axis=0)\n",
    "    good_bad_diff = bad_panel_mean.sub(good_panel_mean, axis=0)\n",
    "\n",
    "    pd.Series.to_frame(good_bad_div)\n",
    "    pd.Series.to_frame(good_bad_diff)\n",
    "\n",
    "    fig, axes = plt.subplots(nrows=2, ncols=2, figsize=(9.5, 9.5))\n",
    "    fig.suptitle(sat_name+': '+field_site+' '+field_date+' '+site_number, fontweight='bold')\n",
    "\n",
    "    good_bad_div.plot(title='(average bad panels / average good panels)', legend=False, ax=axes[0,0])\n",
    "\n",
    "    good_bad_diff.plot(title='(average bad panels) - (average good panels)', legend=False, ax=axes[0,1])\n",
    "\n",
    "    good_panel_mean.plot(title='Average good panels', legend=False, ax=axes[1,0])\n",
    "    axes[1,0].set_ylabel(\"Radiance\")\n",
    "    plt.tight_layout(pad=3.5, w_pad=1.0, h_pad=1.0)\n",
    "\n",
    "    bad_panel_mean.plot(title='Average bad panels', legend=False, ax=axes[1,1])\n",
    "    plt.savefig(output+'Fig02_GoodBadPanelCompare.png')\n",
    "\n",
    "except NameError:\n",
    "    pass"
   ]
  },
  {
   "cell_type": "markdown",
   "metadata": {},
   "source": [
    "### Create spectral dataframes for all ground spectra and good ground spectra"
   ]
  },
  {
   "cell_type": "code",
   "execution_count": null,
   "metadata": {},
   "outputs": [],
   "source": [
    "all_grounds_spec = make_spec_df(all_grounds)\n",
    "good_grounds_spec = make_spec_df(good_grounds)"
   ]
  },
  {
   "cell_type": "markdown",
   "metadata": {},
   "source": [
    "# Figure 3\n",
    "\n",
    "### Plot ground spectra (all and good), normalised to the median good spectrum\n",
    "\n",
    "These plots are used to identify any ground spectra that are bogus."
   ]
  },
  {
   "cell_type": "code",
   "execution_count": null,
   "metadata": {
    "scrolled": false
   },
   "outputs": [],
   "source": [
    "good_median = good_grounds_spec.median(axis=1)\n",
    "good_norm = good_grounds_spec.div(good_median, axis=0)\n",
    "all_norm = all_grounds_spec.div(good_median, axis=0)\n",
    "\n",
    "fig, axes = plt.subplots(nrows=1, ncols=2, figsize=(9.6, 6.0))\n",
    "fig.suptitle(sat_name+': '+field_site+' '+field_date+' '+site_number, fontweight='bold')\n",
    "plt.tight_layout(pad=5.5, w_pad=1.0, h_pad=1.0)\n",
    "\n",
    "all_norm.plot(title=\"All ground radiances normalised to \\nthe median ground radiance\", legend=False, ax=axes[0])\n",
    "\n",
    "good_norm.plot(title=\"Good ground radiances normalised to \\nthe median ground radiance\", legend=False, ax=axes[1])\n",
    "\n",
    "plt.savefig(output+'Fig03_GroundRadiances.png')"
   ]
  },
  {
   "cell_type": "markdown",
   "metadata": {},
   "source": [
    "### Create dataframe with relative time stamps\n",
    "\n",
    " Make a new dataframe with time since the first good panel reading\n",
    " along the <BR>x-axis and \"1\" for the y-axis. This allows a plot of the\n",
    " data timeline to be made.\n"
   ]
  },
  {
   "cell_type": "code",
   "execution_count": null,
   "metadata": {},
   "outputs": [],
   "source": [
    "def make_timeline(in_df, good_panels):\n",
    "    \n",
    "    temp_df = in_df[['date_saved', 'Line']].loc[in_df['Wavelength']==350]\n",
    "    gpt = good_panels[['date_saved', 'Line']].loc[good_panels['Wavelength']==350]\n",
    "    \n",
    "    out_df = temp_df.copy()\n",
    "    for i in range(len(out_df)):\n",
    "        out_df.iloc[[i], [0]]=(temp_df.iloc[i][0]-gpt.iloc[0][0]).seconds\n",
    "\n",
    "    out_df['ones'] = np.ones(len(out_df))\n",
    "    return out_df\n"
   ]
  },
  {
   "cell_type": "markdown",
   "metadata": {},
   "source": [
    "### Create time-relative dataframes\n",
    "\n",
    "gpt = good panels<BR>\n",
    "gpta = all panels<BR>\n",
    "adt = good grounds<BR>\n",
    "adta = all grounds"
   ]
  },
  {
   "cell_type": "code",
   "execution_count": null,
   "metadata": {},
   "outputs": [],
   "source": [
    "gpt = make_timeline(good_panels, good_panels)\n",
    "gpta = make_timeline(all_panels, good_panels)\n",
    "adt = make_timeline(good_grounds, good_panels)\n",
    "adta = make_timeline(all_grounds, good_panels)"
   ]
  },
  {
   "cell_type": "markdown",
   "metadata": {},
   "source": [
    "### Create multi-panel plot function with one line plotted on each panel\n",
    "\n",
    "Given the number of lines in the dataset, determine the best plot layout.<BR>\n",
    "This assumes a single column for only a single plot,<BR>\n",
    "two columns for up to four panel plots and three columns for up to 15 panel plots.\n",
    "\n",
    " Panel readings are coded in as blue crosses and ground readings are\n",
    " coded as orange vertical lines.\n"
   ]
  },
  {
   "cell_type": "code",
   "execution_count": null,
   "metadata": {},
   "outputs": [],
   "source": [
    "def panel_plot_layout(nlines):\n",
    "    n=3; m=5\n",
    "    if nlines < 13:\n",
    "        m=4\n",
    "    if nlines < 10:\n",
    "        m=3\n",
    "    if nlines < 9:\n",
    "        n=2; m=4\n",
    "    if nlines < 7:\n",
    "        m=3\n",
    "    if nlines < 5:\n",
    "        m=2\n",
    "    if nlines < 3:\n",
    "        m=1\n",
    "    if nlines < 2:\n",
    "        n=1\n",
    "    return n, m\n",
    "\n",
    "\n",
    "def multi_timeline_plot(n, m, gpta, adta):\n",
    "    k=0\n",
    "    for i in range(m):\n",
    "        for j in range(n):\n",
    "            k+=1\n",
    "            if k > gpta.Line.max():\n",
    "                break\n",
    "            elif gpta[(gpta['Line']==k)].empty:\n",
    "                axes[i,j].axis('off')\n",
    "            else:\n",
    "                temp_loop = gpta[(gpta['Line']==k)]\n",
    "                all_loop = adta[(adta['Line']==k)]\n",
    "                all_loop.plot(x='date_saved', y='ones', kind='scatter', legend=False, ax=axes[i,j], color='orange', marker='|')\n",
    "                temp_loop.plot(x='date_saved', y='ones', kind='scatter', legend=False, ax=axes[i,j], marker='x', sharey=True, title='line'+str(k))\n",
    "                if i==n-1:\n",
    "                    axes[i,j].set_xlabel(\"Time (seconds)\")\n",
    "                else:\n",
    "                    axes[i,j].set_xlabel(\"\")\n",
    "                axes[i,j].set_ylabel(\"\")\n",
    "                axes[i,j].set_yticks([])\n",
    "\n",
    "    if k in [1, 3, 5, 7, 11, 14]:\n",
    "        axes[-1, -1].axis('off')\n",
    "    if k in [10, 13]:\n",
    "        axes[-1, -1].axis('off')\n",
    "        axes[-1, -2].axis('off')\n",
    "    #plt.tight_layout()\n",
    "    \n",
    "    #\n",
    "    # The following commented out lines will plot an effective legend. However, they are not used\n",
    "    # because it is a combination of relative and absolute coordinates, which is not easy to automate.\n",
    "    #\n",
    "    #plt.scatter(2465, 1.007, marker=\"|\", c='orange')\n",
    "    #plt.scatter(2465, 1.009, marker=\"x\", c='blue')\n",
    "    #plt.figtext(0.915, 0.268, \"Panel\")\n",
    "    #plt.figtext(0.912, 0.246, \"Ground\")\n",
    "\n"
   ]
  },
  {
   "cell_type": "markdown",
   "metadata": {},
   "source": [
    "# Figure 4\n",
    "\n",
    "### Plot timelines for ALL panel and ground data, with one line in one panel"
   ]
  },
  {
   "cell_type": "code",
   "execution_count": null,
   "metadata": {
    "scrolled": false
   },
   "outputs": [],
   "source": [
    "n, m = panel_plot_layout(len(gpta.Line.unique()))\n",
    "\n",
    "fig, axes = plt.subplots(nrows=m, ncols=n, figsize=(9.5, 9.5))\n",
    "fig.suptitle(sat_name+': '+field_site+' '+field_date+' '+site_number+': Time Stamps for each line, including ALL data', fontweight='bold')\n",
    "plt.tight_layout(pad=4.5, w_pad=1.0, h_pad=2.0)\n",
    "\n",
    "multi_timeline_plot(n, m, gpta, adta)\n",
    "\n",
    "\n",
    "plt.savefig(output+'Fig04_AllTimeLineData.png')"
   ]
  },
  {
   "cell_type": "markdown",
   "metadata": {},
   "source": [
    "# Figure 5\n",
    "\n",
    "### Plot timelines for GOOD panel and ground data, with one line in one panel"
   ]
  },
  {
   "cell_type": "code",
   "execution_count": null,
   "metadata": {},
   "outputs": [],
   "source": [
    "n, m = panel_plot_layout(len(gpta.Line.unique()))\n",
    "\n",
    "fig, axes = plt.subplots(nrows=m, ncols=n, figsize=(9.5, 11))\n",
    "fig.suptitle(sat_name+': '+field_site+' '+field_date+' '+site_number+': Time Stamps for each line, including GOOD data', fontweight='bold')\n",
    "plt.tight_layout(pad=4.5, w_pad=1.0, h_pad=2.0)\n",
    "\n",
    "multi_timeline_plot(n, m, gpt, adt)\n",
    "\n",
    "plt.savefig(output+'Fig05_GoodTimeLineData.png')"
   ]
  },
  {
   "cell_type": "markdown",
   "metadata": {},
   "source": [
    "# Figure 6\n",
    "\n",
    "### Create timeline plot of averaged, normalised all/good panels\n",
    "\n",
    "These plots are used to identify any panels that show unusually bright or dark readings,<BR>\n",
    "    which can be weeded out as bad panels.\n",
    "    \n",
    "The general shape of the curve should follow \"insolation\" - the changing of incident light\n",
    "due to the Sun rising/falling in the sky.\n",
    "\n",
    "The method to create the nromalised mean panels is as follows:\n",
    "\n",
    "<OL>\n",
    "    <LI>A mask of the mean good panels is created that removes the wavelengths that are most affected by low atmospheric transmission.</LI>\n",
    "    <LI>ALL/GOOD spectra are divided by the masked mean good panel spectrum to make normalised spectra.</LI>\n",
    "    <LI>The mean values for both ALL and GOOD normalised spectra are created</LI>\n",
    "    <LI>The mean values for spectra are appended to the spt and gpta dataframes</LI>\n",
    "    <LI>The mean values are plotted, as a function of time, relative to the first panel time stamp</LI>\n",
    "    </OL>"
   ]
  },
  {
   "cell_type": "code",
   "execution_count": null,
   "metadata": {},
   "outputs": [],
   "source": [
    "#\n",
    "# Create a mask to avoid wavelengths where atmospheric transmission is\n",
    "# close to zero: 1350-1480nm, 1801-1966nm and >2350nm\n",
    "#\n",
    "mask1 = good_panel_mean.where(np.logical_or(good_panel_mean.index<1350, good_panel_mean.index>1480))\n",
    "mask2 = mask1.where(np.logical_or(mask1.index<1801, mask1.index>1966))\n",
    "\n",
    "# 1.\n",
    "mean_panel_masked = mask2.where(np.logical_or(mask2.index<2350, mask2.index>2500))\n",
    "\n",
    "# 2.\n",
    "good_norm_panels_masked = good_panel_spec.div(mean_panel_masked, axis=0)\n",
    "all_norm_panels_masked = all_panel_spec.div(mean_panel_masked, axis=0)\n",
    "\n",
    "# 3.\n",
    "good_averages_masked = good_norm_panels_masked.mean(axis=0)\n",
    "all_averages_masked = all_norm_panels_masked.mean(axis=0)\n",
    "\n",
    "# 4.\n",
    "gpt['Normalised_Averaged_Panels']=good_averages_masked.values\n",
    "gpta['Normalised_Averaged_Panels']=all_averages_masked.values\n",
    "\n",
    "# 5.\n",
    "fig, axes = plt.subplots(nrows=1, ncols=2, figsize=(9.5, 4.5))\n",
    "fig.suptitle(sat_name+': '+field_site+' '+field_date+' '+site_number+': Time vs Normalised, Wavelength-averaged Panels', fontweight='bold')\n",
    "plt.tight_layout(pad=3.5, w_pad=1.0, h_pad=1.0)\n",
    "\n",
    "gpta.plot.scatter(x='date_saved', y='Normalised_Averaged_Panels', title='All Panels', color='black', ax=axes[0])\n",
    "gpta.plot.line(x='date_saved', y='Normalised_Averaged_Panels', ax=axes[0], style='b', legend=False)\n",
    "axes[0].set_ylabel(\"Normalised Average Panel Radiance\")\n",
    "axes[0].set_xlabel(\"Time (seconds)\")\n",
    "\n",
    "gpt.plot.scatter(x='date_saved', y='Normalised_Averaged_Panels', title='Good Panels', color='black', ax=axes[1])\n",
    "gpt.plot.line(x='date_saved', y='Normalised_Averaged_Panels', ax=axes[1], style='b', legend=False)\n",
    "axes[1].set_ylabel(\"\")\n",
    "axes[1].set_xlabel(\"Time (seconds)\")\n",
    "\n",
    "plt.savefig(output+'Fig06_TimevsAvgPanels.png')"
   ]
  },
  {
   "cell_type": "markdown",
   "metadata": {},
   "source": [
    "# Figure X7\n",
    "\n",
    "### Comparison plot between expected insolation curve and normalised, averaged panels\n",
    "\n",
    "### Currently, this plot is not used."
   ]
  },
  {
   "cell_type": "code",
   "execution_count": null,
   "metadata": {},
   "outputs": [],
   "source": [
    "#good_panel_spec.sum(axis=0)\n",
    "#gpt['sum']=good_panel_spec.sum(axis=0).values\n",
    "#\n",
    "#ax2 = gpt.plot.scatter(x='date_saved', y='sum', color='black')\n",
    "#gpt.plot.line(x='date_saved', y='sum', ax=ax2, style='b', legend=False)\n",
    "#plt.figtext(0.12, 0.9, sat_name+\": \"+field_site+\" \"+field_date+\" \"+site_number+': Time vs Wavelength-summed Panels', fontweight='bold')\n",
    "#\n",
    "##\n",
    "## The Following dataframe assumes 26/3/2018, where meridian is at 02:07:44 (UTC) and\n",
    "## that t=0 is 00:12:58, which is the UTC date stamp of the first panel reading. This dataframe\n",
    "## then gives the Insolation values, as a function of seconds.\n",
    "##\n",
    "#sdf_dst = pd.DataFrame([[-314.0, 0.9544765503230449], [136.0, 0.960635398038314], [586.0, 0.9662590390482365],\n",
    "#                        [1036.0, 0.9713789520297165], [1486.0, 0.9760229720710379], [1936.0, 0.9802156732739963],\n",
    "#                        [2386.0, 0.9839786952371856], [2836.0, 0.9873310215393157]], columns=['Time', 'Insolation'])\n",
    "##\n",
    "## The following plot shows the same increase in panel readins, as above, but this time, two lines for\n",
    "## Insolation are plotted. The blue line shows a scaled Insolation curve. The data *should* fit this curve,\n",
    "## but they do not, without re-aligning the y-axis, as shown in the orange curve. The orange curve is a good\n",
    "## fit to the data, but it no longer follows the Insolation curve for the time of day.\n",
    "##\n",
    "## The reason for this discrepancy may be because the atmospheric absorption is not taken into account. If it\n",
    "## were, then this should have the effect of steepening the Insolation curve as there is more atmospheric\n",
    "## absorption when the Sun is lower in the sky (earlier in the day).\n",
    "##\n",
    "#sdf_dst_fixed = sdf_dst.copy()\n",
    "#\n",
    "#sdf_dst['Insolation']*=248\n",
    "#sdf_dst.plot.line(x='Time', y='Insolation', ax=ax2)\n",
    "#plt.savefig(output+'Fig07_TimevsAvgPanelsInsolation.png')"
   ]
  },
  {
   "cell_type": "markdown",
   "metadata": {},
   "source": [
    "### Define the K-factor\n",
    "\n",
    "This reads a standard file with a response curve for the detector, given an ideally white surface.<BR>\n",
    "Then \"k_f\" is defined for the K-factor."
   ]
  },
  {
   "cell_type": "code",
   "execution_count": null,
   "metadata": {},
   "outputs": [],
   "source": [
    "def k_factor(panel_dir, in_panel):\n",
    "    k_f = pd.read_csv(panel_dir + in_panel, skiprows=5, delim_whitespace=True)\n",
    "    # Set index to wavelength\n",
    "    k_f.set_index(\"Wavelength\", inplace = True) \n",
    "    \n",
    "    return k_f\n",
    "\n",
    "k_f = k_factor(panel_dir, in_panel)"
   ]
  },
  {
   "cell_type": "markdown",
   "metadata": {},
   "source": [
    "### Rename the first spectrum in ALL/GOOD panels to the correct name\n",
    "\n",
    "Rather than just \"radiance\", it will be named something like radiance1-0<BR>\n",
    "for the zeroth spectrum in the first line, for example.    "
   ]
  },
  {
   "cell_type": "code",
   "execution_count": null,
   "metadata": {},
   "outputs": [],
   "source": [
    "gps_new_name = 'radiance'+str(firstGoodLine)+\"-\"+str(firstGoodPanelSpec)\n",
    "ggs_new_name = 'radiance'+str(firstGoodLine)+\"-\"+str(firstGoodGroundSpec)\n",
    "\n",
    "good_panel_spec.rename(columns={'radiance': gps_new_name}, inplace=True)\n",
    "good_grounds_spec.rename(columns={'radiance': ggs_new_name}, inplace=True)\n"
   ]
  },
  {
   "cell_type": "markdown",
   "metadata": {},
   "source": [
    "### Create dataframe with Reflectances\n",
    "\n",
    "Loop through each Line with spectral data:\n",
    "<OL>\n",
    "    <LI>Make an average of all the panel spectra within the Line (line_avg_panel).</LI>\n",
    "    <LI>For each ground spectrum within the Line, divide by the average panel spectrum (refl_temp)</LI>\n",
    "    <LI>Multiply each normalised ground spectrum my the K-factor to create reflectances dataframe (line_refls)</LI>\n",
    "</OL>\n",
    "\n",
    "Finally, combine each dataframe for reflectances within a line into a single dataframe (all_refls)"
   ]
  },
  {
   "cell_type": "code",
   "execution_count": null,
   "metadata": {
    "scrolled": true
   },
   "outputs": [],
   "source": [
    "frames = []\n",
    "for j in good_panels.Line.unique():\n",
    "    \n",
    "    # 1.\n",
    "    line_name_pans = [col for col in good_panel_spec.columns if 'radiance'+str(j)+'-' in col]\n",
    "    \n",
    "    tmplist = []\n",
    "    for i in line_name_pans:\n",
    "        temp = good_panel_spec[i]\n",
    "        tmplist.append(temp)\n",
    "    \n",
    "    tmp_df = pd.concat(tmplist, axis=1)\n",
    "    line_avg_panel = tmp_df.mean(axis=1)\n",
    "    \n",
    "    # 2.\n",
    "    line_name_grounds = [col for col in good_grounds_spec.columns if 'radiance'+str(j)+'-' in col]\n",
    "    \n",
    "    tmplist = []\n",
    "    for i in line_name_grounds:\n",
    "        temp = good_grounds_spec[i]\n",
    "        tmplist.append(temp)\n",
    "    \n",
    "    tmp_df = pd.concat(tmplist, axis=1)\n",
    "    refl_tmp = tmp_df.div(line_avg_panel, axis=0)\n",
    "    \n",
    "    # 3.\n",
    "    line_refls = pd.np.multiply(refl_tmp, k_f)\n",
    "    \n",
    "    frames.append(line_refls)\n",
    "\n",
    "all_refls = pd.concat(frames, axis=1)"
   ]
  },
  {
   "cell_type": "markdown",
   "metadata": {},
   "source": [
    "# Figure 7\n",
    "\n",
    "### Plot all ground reflectances in black, plus the Line-averaged reflectances in colour\n",
    "\n",
    "The Line-averaged reflectances are shown in order to identify any outlying lines that<BR>\n",
    "\n",
    "might have been caused by bad panel spectra (for example)."
   ]
  },
  {
   "cell_type": "code",
   "execution_count": null,
   "metadata": {},
   "outputs": [],
   "source": [
    "fig, axy = plt.subplots(nrows=1, ncols=1, figsize=(9.5, 6.5))\n",
    "fig.suptitle(sat_name+': '+field_site+' '+field_date+' '+site_number+': Ground Reflectances.\\nBlack: Individual reflectances. Colour: Average Reflectances for each line', fontweight='bold')\n",
    "plt.tight_layout(pad=3.5, w_pad=1.0, h_pad=1.0)\n",
    "axy.set_ylabel(\"Reflectance\")\n",
    "\n",
    "all_refls.plot(legend=False, ax=axy, color='k')\n",
    "\n",
    "colpac=['#770000', '#FF0000', '#FF7700', '#FFFF00', '#77FF00', '#00FF00', \n",
    "        '#00FF77', '#00FFFF', '#0077FF', '#0000FF', '#000077']\n",
    "\n",
    "for i in good_panels.Line.unique():\n",
    "    rad_name = 'radiance'+str(i)\n",
    "    line = all_refls.filter(like=rad_name).mean(axis=1)\n",
    "    line.plot(ax=axy, color=colpac[i], legend=True, label='Line'+str(i))\n",
    "\n",
    "axy.set_ylabel(\"Reflectance\")\n",
    "\n",
    "plt.savefig(output+'Fig07_Reflectances.png')"
   ]
  },
  {
   "cell_type": "markdown",
   "metadata": {},
   "source": [
    "### Read in the spectral responses for each band"
   ]
  },
  {
   "cell_type": "code",
   "execution_count": null,
   "metadata": {},
   "outputs": [],
   "source": [
    "def get_spectrum_curve(f_name):\n",
    "    band_n = dict() \n",
    "    key = list()\n",
    "    wavelength = np.array([], dtype='float64') \n",
    "    response = np.array([], dtype='float64') \n",
    "    with open(f_name, 'r', newline='') as csvfile:\n",
    "        csv_reader = csv.reader(csvfile, delimiter=' ', skipinitialspace=True)\n",
    "        for row in csv_reader:\n",
    "            if row[0].lower().find('band') >= 0:\n",
    "                key.append(row[0].lower()+row[1])\n",
    "                if wavelength.shape[0] > 0:\n",
    "                    spectrum_curve = np.vstack([wavelength, response]).T\n",
    "                    band_n.update({key[len(key)-2]: spectrum_curve})\n",
    "                    wavelength = np.array([], dtype='float64') \n",
    "                    response = np.array([], dtype='float64') \n",
    "            else:\n",
    "                wavelength = np.append(wavelength, float(row[0]))\n",
    "                response = np.append(response, float(row[1]))\n",
    "    spectrum_curve = np.vstack([wavelength, response]).T\n",
    "    band_n.update({key[len(key)-1]: spectrum_curve})\n",
    "    wavelength = np.array([], dtype='float64') \n",
    "    response = np.array([], dtype='float64') \n",
    "    return band_n "
   ]
  },
  {
   "cell_type": "markdown",
   "metadata": {},
   "source": [
    "### Create weighted-average of spectrum for each band"
   ]
  },
  {
   "cell_type": "code",
   "execution_count": null,
   "metadata": {},
   "outputs": [],
   "source": [
    "def field_int_curve(field_data, band):\n",
    "    result = np.zeros(len(band))\n",
    "    i = 0\n",
    "    for b in band:\n",
    "        spectrum_curve = band[b]\n",
    "        dom_a = max(min(spectrum_curve[:, 0]), min(field_data[:, 0]))\n",
    "        dom_b = min(max(spectrum_curve[:, 0]), max(field_data[:, 0]))\n",
    "        source_x = field_data[:, 1][np.where((field_data[:, 0] >= dom_a) & \n",
    "                (field_data[:, 0] <= dom_b))]\n",
    "        source_y = spectrum_curve[:, 1][np.where((spectrum_curve[:, 0] >= dom_a) & \n",
    "            (spectrum_curve[:, 0] <= dom_b))]\n",
    "        result[i] = sum(source_x*source_y)/sum(source_y)\n",
    "        i += 1\n",
    "    return result"
   ]
  },
  {
   "cell_type": "markdown",
   "metadata": {},
   "source": [
    "### Apply weighted band responses to all reflectances"
   ]
  },
  {
   "cell_type": "code",
   "execution_count": null,
   "metadata": {},
   "outputs": [],
   "source": [
    "f_name = sat_resp['lsat8']\n",
    "band = get_spectrum_curve(f_name)\n",
    "result = []\n",
    "field_data = all_refls\n",
    "wave_length = np.array(all_refls.index, dtype='float64')\n",
    "for col in field_data.columns:\n",
    "    source_x = np.vstack([wave_length, np.array(field_data[col], dtype='float64')]).T\n",
    "    result.append(field_int_curve(source_x, band))\n",
    "result_df = pd.DataFrame(result)\n",
    "result_df.columns = list(band.keys())\n"
   ]
  },
  {
   "cell_type": "markdown",
   "metadata": {},
   "source": [
    "### Reformat band reflectances and apply to dataframe \"ground_bands\""
   ]
  },
  {
   "cell_type": "code",
   "execution_count": null,
   "metadata": {},
   "outputs": [],
   "source": [
    "gg = good_grounds[(good_grounds['Wavelength']==350)]\n",
    "gg.reset_index(drop=True, inplace=True)\n",
    "\n",
    "catty = pd.concat([gg,result_df], axis=1)\n",
    "ground_bands = catty.drop(['Wavelength', 'radiance'], axis=1)"
   ]
  },
  {
   "cell_type": "markdown",
   "metadata": {},
   "source": [
    "# Figure 8\n",
    "\n",
    "### Plot band reflectances for individual spectra and for Line-averaged spectra"
   ]
  },
  {
   "cell_type": "code",
   "execution_count": null,
   "metadata": {
    "scrolled": false
   },
   "outputs": [],
   "source": [
    "fig, axes = plt.subplots(nrows=1, ncols=2, figsize=(11.5, 6.5))\n",
    "fig.suptitle(sat_name+': '+field_site+' '+field_date+' '+site_number+': \\nGround Reflectances averaged into '+sat_name+' Bands\\n        Line Averaged                                                         Individual spectra', fontweight='bold')\n",
    "axes[0].set_ylabel(\"Reflectance\")\n",
    "axes[0].set_xlabel(\"Band Number\")\n",
    "axes[1].set_xlabel(\"Band Number\")\n",
    "axes[0].set_xticks([0,1,2,3,4,5,6,7,8,9,10,11,12,13,14,15])\n",
    "axes[1].set_xticks([0,1,2,3,4,5,6,7,8,9,10,11,12,13,14,15])\n",
    "plt.tight_layout(pad=5.5, w_pad=1.0, h_pad=1.0)\n",
    "\n",
    "d=pd.DataFrame([[[ground_bands[j][(ground_bands['Line']==i)].mean()] for j in list(band.keys())] for i in ground_bands.Line.unique()])\n",
    "for i in d.columns:\n",
    "    d[i] = d[i].str.get(0)\n",
    "    d.rename(columns={i: 'band'+str(i+1)}, inplace=True)\n",
    "for i in d.index:\n",
    "    d.rename(index={i: 'Line'+str(i+1)}, inplace=True)\n",
    "\n",
    "d.T.plot(legend=True, ax=axes[0], color=colpac)\n",
    "\n",
    "result_df.T.plot(legend=False, ax=axes[1])\n",
    "\n",
    "plt.savefig(output+'Fig08_BandReflectances.png')"
   ]
  },
  {
   "cell_type": "markdown",
   "metadata": {},
   "source": [
    "### Determine Solar angle\n",
    "\n",
    "Based on the spectrum Latitude, Longitude and time stamp, calculate the angle of<BR>\n",
    "the Sun, with respect to the zenith. Append this number to the \"ground_bands\" dataframe."
   ]
  },
  {
   "cell_type": "code",
   "execution_count": null,
   "metadata": {
    "scrolled": true
   },
   "outputs": [],
   "source": [
    "def solar_angle(row):\n",
    "\n",
    "    loc = coord.EarthLocation(lon=row['Longitude'] * u.deg,\n",
    "                              lat=row['Latitude'] * u.deg)\n",
    "    #timy0 = timei.to_pydatetime()\n",
    "    timy = Time(row['date_saved'], format='datetime')\n",
    "    \n",
    "    altaz = coord.AltAz(location=loc, obstime=timy)\n",
    "    sun = coord.get_sun(timy)\n",
    "\n",
    "    return sun.transform_to(altaz).zen.degree\n",
    "\n",
    "ground_bands['Solar_angle'] = ground_bands.apply(solar_angle, axis=1)"
   ]
  },
  {
   "cell_type": "markdown",
   "metadata": {},
   "source": [
    "### Print out time stamp and coordinate extent\n",
    "\n",
    "The time stamp and Lat/Long extents are required to calculate the BRDF correction, used below.\n",
    "\n",
    "In order to calculate the BRF correction, the following method is used:\n",
    "\n",
    "<OL>\n",
    "    <LI>Run the print statements in the cell below.</LI>\n",
    "    <LI>Copy and paste the output into a VDI terminal window</LI>\n",
    "    <LI>Copy and paste the resultant VDI output into the BRDF calculation cell, writing over the similar text.</LI>\n",
    "</OL>\n",
    "\n",
    "NOTE: This works assuming that the BRDF code is in the directory /home/547/aw3463\n"
   ]
  },
  {
   "cell_type": "code",
   "execution_count": null,
   "metadata": {
    "scrolled": true
   },
   "outputs": [],
   "source": [
    "print(\"sed -i \\\"34s/.*/        setattr(self, 'acquisition_datetime', dateutil.parser.parse('\",ground_bands['date_saved'][0],\"'))/\\\" /home/547/aw3463/brdf/retrieve_brdf.py\", sep='')\n",
    "print(\"sed -i \\\"37s/.*/        bbox = geopandas.GeoDataFrame({'geometry': [box(\",ground_bands['Longitude'].min(),\", \", ground_bands['Latitude'].min(),\", \",\n",
    "      ground_bands['Longitude'].max(),\", \", ground_bands['Latitude'].max(),\")]})/\\\" /home/547/aw3463/brdf/retrieve_brdf.py\", sep='')\n",
    "print(\"python retrieve_brdf.py > temp.txt ; awk -f format.awk temp.txt\")\n",
    "print(\"\")"
   ]
  },
  {
   "cell_type": "markdown",
   "metadata": {},
   "source": [
    "### BRDF Calculation\n",
    "\n",
    "The following script is adapted from FORTRAN code that will calculate the adjusted ASD measurement to 45$^\\circ$. This is derived from \"MODIS BRDF / Albedo Product: Algorithm Theoretical basis Docuement Version 5.0\" by Strahler et al. (1999).\n",
    "\n",
    "What follows is a key to the variables used in this code, compared to the variables and equations in the document:\n",
    "\n",
    "hb and br = h/b and b/r . . . . . . . . . . . . . . . crown shape parameters, respectively.<BR>\n",
    "RL_brdf = R($\\theta, \\vartheta, \\phi, \\Lambda$). . . . . . . . . . . . . . (37)<BR>\n",
    "solar = $\\theta$ . . . . . . . . . . . . . . . . . . . . . . . . . . solar zenith angle<BR>\n",
    "view = $\\xi$ . . . . . . . . . . . . . . . . . . . . . . . . . . .view zenith angle<BR>\n",
    "ra = $\\phi$ . . . . . . . . . . . . . . . . . . . . . . . . . . . . view-sun relative azimuth angle<BR>\n",
    "cosxi = cos $\\xi^\\prime$ . . . . . . . . . . . . . . . . . . . . . . (43)<BR>\n",
    "rs_thick = K$_{vol}$ = RossThick kernel . . . . . . (38)<BR>\n",
    "d_li2 = D$^2$ . . . . . . . . . . . . . . . . . . . . . . . . . (42)<BR>\n",
    "x_li = tan$\\theta^\\prime$ tan$\\vartheta^\\prime$ sin$\\phi$ . . . . . . . . . . . . . . .(41) (part of)<BR>\n",
    "cosl = cos $t$ . . . . . . . . . . . . . . . . . . . . . . . . (41)<BR>\n",
    "l_li = $t$ . . . . . . . . . . . . . . . . . . . . . . . . . . . . .constrained such that $-1 \\leq t \\leq 1$<BR>\n",
    "o_li = O($\\theta, \\vartheta, \\phi$) . . . . . . . . . . . . . . . . . . . .(40)<BR>\n",
    "li_sparse = K$_{geo}$ . . . . . . . . . . . . . . . . . . . . (39)<BR><BR><BR>\n",
    "\n",
    "Equations used for the Ross-Li BRDF model:\n",
    "\n",
    "R($\\theta, \\vartheta, \\phi, \\Lambda$) = $f_{iso}(\\Lambda) + f_{vol}(\\Lambda)\\,K_{vol}(\\theta, \\vartheta, \\phi) + f_{geo}(\\Lambda)\\,K_{geo}(\\theta, \\vartheta, \\phi)$ . . . . . . . . (37)\n",
    "\n",
    "$K_{vol} = k_{RT} = \\frac{(\\pi/2 - \\xi)\\rm{cos}\\,\\xi + \\rm{sin}\\,\\xi}{\\rm{cos}\\,\\theta + \\rm{cos}\\,\\vartheta} - \\frac{\\pi}{4}$ . . . . . . . . . . . . . . . . . . . . . . . . . . . . . . . . . . . . . . (38)\n",
    "    \n",
    "$K_{geo} = k_{LSR} = O(\\theta, \\vartheta, \\phi) - {\\rm sec}\\,\\theta^\\prime - {\\rm sec}\\,\\vartheta^\\prime + \\frac{1}{2} (1 + \\rm{cos}\\,\\xi^\\prime)\\, \\rm{sec}\\,\\theta^\\prime \\rm{sec}\\,\\vartheta^\\prime$ . . . (39)\n",
    "\n",
    "$O = \\frac{1}{\\pi}(t - \\rm{sin}\\,t\\,\\,\\rm{cos}\\,t)(\\rm{sec}\\,\\theta^\\prime + \\rm{sec}\\,\\vartheta^\\prime)$ . . . . . . . . . . . . . . . . . . . . . . . . . . . . . . . . . . (40)\n",
    "\n",
    "$\\rm{cos}\\,t = \\frac{h}{b}\\frac{\\sqrt{D^2 + (\\rm{tan}\\,\\theta^\\prime\\,\\,\\rm{tan}\\,\\vartheta^\\prime\\,\\,\\rm{sin}\\,\\phi)^2}}{\\rm{sec}\\,\\theta^\\prime + \\rm{sec}\\,\\vartheta^\\prime}$ . . . . . . . . . . . . . . . . . . . . . . . . . . . . . . . . . . . . . . . . (41)\n",
    "\n",
    "$D = \\sqrt{\\rm{tan}^2\\,\\theta^\\prime + \\rm{tan}^2\\,\\vartheta^\\prime - 2\\,\\rm{tan}\\,\\theta^\\prime\\,\\rm{tan}\\,\\vartheta^\\prime\\,\\rm{cos}\\,\\phi}$ . . . . . . . . . . . . . . . . . . . . . . . . . . (42)\n",
    "\n",
    "$\\rm{cos}\\,\\xi^\\prime = \\rm{cos}\\,\\theta^\\prime\\,\\rm{cos}\\,\\vartheta^\\prime + \\rm{sin}\\,\\theta^\\prime\\,\\rm{sin}\\,\\vartheta^\\prime\\,\\rm{cos}\\,\\phi$ . . . . . . . . . . . . . . . . . . . . . . . . . . . . . . .(43)\n",
    "\n",
    "$\\theta^\\prime = \\rm{tan}^{-1}(\\frac{b}{r}\\rm{tan}\\,\\theta)\\,\\vartheta^\\prime = \\rm{tan}^{-1}(\\frac{b}{r}\\rm{tan}\\,\\vartheta)$ . . . . . . . . . . . . . . . . . . . . . . . . . . . . . . . . . .(44)"
   ]
  },
  {
   "cell_type": "code",
   "execution_count": null,
   "metadata": {
    "scrolled": false
   },
   "outputs": [],
   "source": [
    "hb = 2 # set to emulate spherical crowns that are separated from the\n",
    "br = 1 # ground by half their diameter\n",
    "\n",
    "pib = math.pi/180 # convert from degrees to radians\n",
    "\n",
    "n_factor = 1\n",
    "\n",
    "def ReadAndCalc():\n",
    "    #\n",
    "    # Create pandas dataframe \"brdf_df\" which contains the BRDF values\n",
    "    # for six LS8 bands\n",
    "    #\n",
    "    brdf_data = np.array([['', 'brdf0', 'brdf1', 'brdf2'],\n",
    "                          ['band1', 0.08310833333333334, 0.0234046875, 0.013693750000000001],\n",
    "                          ['band2', 0.08310833333333334, 0.0234046875, 0.013693750000000001],\n",
    "                          ['band3', 0.12372239583333333, 0.05032916666666667, 0.020385416666666666],\n",
    "                          ['band4', 0.136753125, 0.05567083333333334, 0.021951041666666667],\n",
    "                          ['band5', 0.26231197916666665, 0.15916822916666667, 0.02613645833333333],\n",
    "                          ['band6', 0.3259296875, 0.18079375, 0.036346875],\n",
    "                          ['band7', 0.2410984375, 0.09051822916666667, 0.03795572916666667],\n",
    "                         ])\n",
    "   \n",
    "    brdf_df = pd.DataFrame(data=brdf_data[1:,1:],\n",
    "                  index=brdf_data[1:,0],\n",
    "                  columns=brdf_data[0,1:])\n",
    "    \n",
    "    ground_brdf = ground_bands.copy()\n",
    "    \n",
    "    for i in ground_bands.index:\n",
    "        for j in brdf_df.index:\n",
    "            norm_1 = float(brdf_df.loc[j,'brdf1'])/float(brdf_df.loc[j,'brdf0'])\n",
    "            norm_2 = float(brdf_df.loc[j,'brdf2'])/float(brdf_df.loc[j,'brdf0'])\n",
    "            solar_angle = ground_bands.loc[i,'Solar_angle']\n",
    "            rland = ground_bands.loc[i,j]\n",
    "    \n",
    "            if n_factor == 0:\n",
    "                fnn = 1\n",
    "            else:\n",
    "                fnn = RL_brdf(45*pib, 0, 0, hb, br, 1, norm_1, norm_2)\n",
    "\n",
    "            solar = solar_angle*pib\n",
    "\n",
    "            ann = RL_brdf(solar, 0, 0, hb, br, 1, norm_1, norm_2)\n",
    "            ref = rland * fnn / ann\n",
    "            ground_brdf.loc[i,j] = ref\n",
    "            #print(i,j,rland, ref)\n",
    "    return ground_brdf\n",
    "            \n",
    "def RL_brdf(solar, view, ra, hb, br, brdf0, brdf1, brdf2):\n",
    "    cossolar = math.cos(solar)\n",
    "    cosvia = math.cos(view)\n",
    "    cosra = math.cos(ra)\n",
    "    sinsolar = math.sin(solar)\n",
    "    sinvia = math.sin(view)\n",
    "    sinra = math.sin(ra)\n",
    "    \n",
    "    cosxi = (cossolar * cosvia) + (sinsolar * sinvia * cosra) # (43)\n",
    "    \n",
    "    if cosxi >= 1:\n",
    "        cosxi = 1\n",
    "    \n",
    "    xi = math.acos(cosxi)\n",
    "    \n",
    "    rs_thick = (((((math.pi/2) - xi) * math.cos(xi)) + math.sin(xi)) / (cossolar \\\n",
    "                    + cosvia)) - (math.pi/4)  # (38)\n",
    "    \n",
    "    tansolar = sinsolar / cossolar\n",
    "    tanvia = sinvia / cosvia\n",
    "    theta_new_v = math.atan(br * tanvia)      # (44)\n",
    "    theta_new_s = math.atan(br * tansolar)    # (44)\n",
    "    \n",
    "    cosxi = (math.cos(theta_new_s) * math.cos(theta_new_v)) + (math.sin(theta_new_s) \\\n",
    "             * math.sin(theta_new_v) * cosra) # (43)\n",
    "    \n",
    "    if cosxi >= 1:\n",
    "        cosxi = 1\n",
    "    \n",
    "    secsolar = 1 / math.cos(theta_new_s)\n",
    "    secvia = 1 / math.cos(theta_new_v)\n",
    "    \n",
    "    d_li2 = abs(math.tan(theta_new_s)**2 + math.tan(theta_new_v)**2 - (2 * \\\n",
    "                math.tan(theta_new_s)*math.tan(theta_new_v)*cosra)) # (42)**2\n",
    "    \n",
    "    x_li = math.tan(theta_new_s) * math.tan(theta_new_v) * sinra\n",
    "    cosl = hb * math.sqrt(d_li2 + x_li**2) / (secsolar + secvia) # (41)\n",
    "    \n",
    "    if cosl >= 1:\n",
    "        o_li = 0\n",
    "    else:\n",
    "        l_li=math.acos(cosl)\n",
    "        o_li = (l_li - (math.sin(l_li) * math.cos(l_li))) * (secsolar + secvia) \\\n",
    "                / math.pi     # (40)\n",
    "    \n",
    "    li_sparse = o_li - (secsolar + secvia) + (0.5 * (1 + cosxi) * secsolar \\\n",
    "                * secvia)  # (39)\n",
    "    \n",
    "    rl_brdf = brdf0 + (brdf1 * rs_thick) + (brdf2 * li_sparse)  # (37)\n",
    "    return rl_brdf\n",
    "\n",
    "ground_brdf = ReadAndCalc()"
   ]
  },
  {
   "cell_type": "markdown",
   "metadata": {},
   "source": [
    "### Choose between Landsat 8 and Sentinel satellite data\n",
    "\n",
    "In the last two lines, swap \"ls8_bands\" and \"senti_bands\" for the appropriate satellite overpass."
   ]
  },
  {
   "cell_type": "code",
   "execution_count": null,
   "metadata": {},
   "outputs": [],
   "source": [
    "band_nn = get_spectrum_curve(f_name)\n",
    "senti_bands = [1,2,3,4,5,6,7,8,'8a',9,11,12]\n",
    "ls8_bands = [1,2,3,4,5,6,7,8]\n",
    "\n",
    "band_min = [band_nn['band'+str(i)][:, 0].min() for i in ls8_bands]\n",
    "band_max = [band_nn['band'+str(i)][:, 0].max() for i in ls8_bands]\n"
   ]
  },
  {
   "cell_type": "markdown",
   "metadata": {},
   "source": [
    "# Figure 9\n",
    "\n",
    "### Plot satellite band extents against median ground spectrum\n",
    "\n",
    "This plot will show where the satellite bands fall, with respect to the spectrum<BR>\n",
    "and in particular, with respect to the atmospheric absorbtion features."
   ]
  },
  {
   "cell_type": "code",
   "execution_count": null,
   "metadata": {},
   "outputs": [],
   "source": [
    "fig, axes = plt.subplots(nrows=1, ncols=1, figsize=(9.5, 6.5))\n",
    "fig.suptitle(sat_name+': '+field_site+' '+field_date+' '+site_number+': \\nMedian ground reflectance with '+sat_name+' Bands shown as black bars', fontweight='bold')\n",
    "axes.set_ylabel(\"Reflectance\")\n",
    "plt.tight_layout(pad=3.5, w_pad=1.0, h_pad=1.0)\n",
    "\n",
    "med = all_refls.median(axis=1)\n",
    "all_refls['Median'] = med\n",
    "all_refls.plot(y='Median', ax=axes, legend=False)\n",
    "\n",
    "if sat_name == 'Landsat 8': \n",
    "    y_cord = [0.065, 0.075, 0.08, 0.09, 0.11, 0.18, 0.15, 0.12]\n",
    "elif sat_name == 'Sentinel':\n",
    "    y_cord = [0.06, 0.07, 0.08, 0.09, 0.10, 0.11, 0.12, 0.13, 0.14, 0.15, 0.17, 0.15]\n",
    "else:\n",
    "    print(\"Incorrect Satellite name - must be one of Landsat 8 or Sentinel\")\n",
    "    \n",
    "for i in range(len(band_min)):\n",
    "    plt.annotate('', xy = (band_min[i], y_cord[i]),  xycoords = 'data', \\\n",
    "        xytext = (band_max[i], y_cord[i]), textcoords = 'data',\\\n",
    "        arrowprops=dict(edgecolor='black', arrowstyle = '|-|, widthA=0.3, widthB=0.3'))\n",
    "    plt.text((band_max[i]+band_min[i]-35)/2, y_cord[i]+0.002, i+1, fontsize=8)\n",
    "\n",
    "plt.savefig(output+'Fig09_BandWavelengths.png')"
   ]
  },
  {
   "cell_type": "markdown",
   "metadata": {},
   "source": [
    "### Print field data time and Latitude/Longitude extents\n",
    "\n",
    "The print outputs are used to manually feed the following query cell the right information<BR>\n",
    "for the field data. Depending on how the field data align with satellite data, the longitude<BR>\n",
    "and latitude extents may need to be adjusted."
   ]
  },
  {
   "cell_type": "code",
   "execution_count": null,
   "metadata": {},
   "outputs": [],
   "source": [
    "print(ground_bands['date_saved'][0])\n",
    "print(ground_bands['Latitude'].min(), ground_bands['Latitude'].max(),\n",
    "      ground_bands['Longitude'].min(), ground_bands['Longitude'].max())\n"
   ]
  },
  {
   "cell_type": "markdown",
   "metadata": {},
   "source": [
    "### Query Satellite data\n",
    "\n",
    "Retrieve xarrays for satellite data, based on query area and time.<BR>\n",
    "sat_array will contain all band data<BR>\n",
    "sat_rgb only contains the red, green and blue bands."
   ]
  },
  {
   "cell_type": "code",
   "execution_count": null,
   "metadata": {},
   "outputs": [],
   "source": [
    "query = {\n",
    "         'time': ('2018-03-16', '2018-04-01'),\n",
    "         'lat': (-35.09303, -35.092256666666664),\n",
    "         'lon': (149.46138333333334, 149.46272333333334),\n",
    "         'output_crs': 'EPSG:3577',\n",
    "         'resolution': (-25, 25),\n",
    "        }\n",
    "sat_array = dc.load(product='ls8_nbar_albers', **query)\n",
    "sat_rgb = dc.load(product='ls8_nbar_albers', measurements=['red', 'green', 'blue'], **query)"
   ]
  },
  {
   "cell_type": "markdown",
   "metadata": {},
   "source": [
    "# Figure 10\n",
    "\n",
    "### Plot relative locations of field and satellite data"
   ]
  },
  {
   "cell_type": "code",
   "execution_count": null,
   "metadata": {
    "scrolled": false
   },
   "outputs": [],
   "source": [
    "wgs_84 = pyproj.Proj(init='epsg:4326')\n",
    "aus_albers = pyproj.Proj(init='epsg:3577')\n",
    "\n",
    "xloc = [pyproj.transform(wgs_84, aus_albers, ground_brdf['Longitude'][i], ground_brdf['Latitude'][i]) for i in range(len(ground_brdf))]\n",
    "\n",
    "relxloc = [(xloc[i][0]-xloc[0][0], xloc[i][1]-xloc[0][1]) for i in range(len(ground_brdf))]\n",
    "\n",
    "satloc = [[0 for x in range(2)] for y in range(len(sat_array.x)*(len(sat_array.y)))]\n",
    "count=0\n",
    "for i in range(len(sat_array.x)):\n",
    "    for j in range(len(sat_array.y)):\n",
    "        satloc[count][0] = float(sat_array.x[i]-xloc[0][0])\n",
    "        satloc[count][1] = float(sat_array.y[j]-xloc[0][1])\n",
    "        count+=1\n",
    "      \n",
    "satloc_df = pd.DataFrame(satloc)\n",
    "\n",
    "fig, axes = plt.subplots(nrows=1, ncols=1, figsize=(9.5, 9.5))\n",
    "fig.suptitle(sat_name+': '+field_site+' '+field_date+' '+site_number+': GeoLocations for data taken with LS8 (black) and field data (colours).\\nReference position = '+str(xloc[0][0])+', '+str(xloc[0][1]), fontweight='bold')\n",
    "plt.tight_layout(pad=4.0, w_pad=1.0, h_pad=1.0)\n",
    "\n",
    "def gridlines(satloc_df):\n",
    "    axes.axhline(satloc_df[1].unique()[0]+12.5, linestyle='--', color='black', linewidth=0.5)\n",
    "    for i in range(len(satloc_df[1].unique())):\n",
    "        axes.axhline(satloc_df[1].unique()[0]-(12.5+(25*i)), linestyle='--', color='black', linewidth=0.5)\n",
    "\n",
    "    axes.axvline(satloc_df[0].unique()[0]-12.5, linestyle='--', color='black', linewidth=0.5)\n",
    "    for i in range(len(satloc_df[0].unique())):\n",
    "        axes.axvline(satloc_df[0].unique()[0]+(12.5+(25*i)), linestyle='--', color='black', linewidth=0.5)\n",
    "\n",
    "\n",
    "rr = pd.DataFrame(relxloc)\n",
    "\n",
    "ground_brdf_XY = pd.concat([ground_brdf, rr], axis=1)\n",
    "ground_brdf_XY.rename(columns={0: 'RelX', 1: 'RelY'}, inplace=True)\n",
    "\n",
    "for i in ground_brdf_XY.Line.unique():\n",
    "    ground_brdf_XY[(ground_brdf_XY['Line']==i)].plot.scatter('RelX', 'RelY', ax=axes, color=colpac[i])\n",
    "\n",
    "satloc_df.plot.scatter(0,1, ax=axes, color='black', )\n",
    "\n",
    "axes.set_xlabel(\"Relative Aus Albers Longitude (m)\")\n",
    "axes.set_ylabel(\"Relative Aus Albers Latitude (m)\")\n",
    "\n",
    "gridlines(satloc_df)\n",
    "\n",
    "plt.savefig(output+'Fig10_SatFieldLocations.png')"
   ]
  },
  {
   "cell_type": "markdown",
   "metadata": {},
   "source": [
    "### Create Australian albers columns for ground_brdf (not used)"
   ]
  },
  {
   "cell_type": "code",
   "execution_count": null,
   "metadata": {},
   "outputs": [],
   "source": [
    "for i in range(len(ground_brdf)):\n",
    "    ground_brdf['Xalbers'], ground_brdf['Yalbers'] = pyproj.transform(wgs_84, aus_albers, ground_brdf['Longitude'][i], ground_brdf['Latitude'][i])\n",
    "    \n",
    "print(ground_brdf['Xalbers'][4], ground_brdf['Yalbers'][4])\n",
    "\n",
    "pyproj.transform(wgs_84, aus_albers, ground_brdf['Longitude'][4], ground_brdf['Latitude'][4])"
   ]
  },
  {
   "cell_type": "markdown",
   "metadata": {},
   "source": [
    "### Create Field RGB xarray\n",
    "\n",
    "The field xarray is based on the pixel locations of the satellite data, where each pixel<BR>\n",
    "    contains an average of all field data measurements that fall within the pixel."
   ]
  },
  {
   "cell_type": "code",
   "execution_count": null,
   "metadata": {},
   "outputs": [],
   "source": [
    "field_rgb = sat_rgb.astype(float)\n",
    "\n",
    "for i in range(len(sat_rgb.x)):\n",
    "    for j in range(len(sat_rgb.y)):\n",
    "        count = 0\n",
    "        cum2, cum3, cum4 = 0, 0, 0\n",
    "        for k in range(len(xloc)):\n",
    "            if (sat_rgb.x[i]-12.5 < xloc[k][0] < sat_rgb.x[i]+12.5) and (sat_rgb.y[j]-12.5 < xloc[k][1] < sat_rgb.y[j]+12.5):\n",
    "                cum2 = cum2+ground_brdf.iloc[k]['band2']\n",
    "                cum3 = cum3+ground_brdf.iloc[k]['band3']\n",
    "                cum4 = cum4+ground_brdf.iloc[k]['band4']\n",
    "                count=count+1\n",
    "        if count<10:\n",
    "            field_rgb.blue[0][j][i] = np.nan\n",
    "            field_rgb.green[0][j][i] = np.nan\n",
    "            field_rgb.red[0][j][i] = np.nan          \n",
    "        else:\n",
    "            field_rgb.blue[0][j][i] = cum2/count\n",
    "            field_rgb.green[0][j][i] = cum3/count\n",
    "            field_rgb.red[0][j][i] = cum4/count"
   ]
  },
  {
   "cell_type": "markdown",
   "metadata": {},
   "source": [
    "# Figure 11\n",
    "\n",
    "### Plot RGB array for Satellite data"
   ]
  },
  {
   "cell_type": "code",
   "execution_count": null,
   "metadata": {
    "scrolled": false
   },
   "outputs": [],
   "source": [
    "fake_saturation = 10000\n",
    "srgb = sat_rgb.to_array(dim='color')\n",
    "srgb = srgb.transpose(*(srgb.dims[1:]+srgb.dims[:1]))  # make 'color' the last dimension\n",
    "srgb = srgb.where((srgb <= fake_saturation).all(dim='color'))  # mask out pixels where any band is 'saturated'\n",
    "srgb /= fake_saturation  # scale to [0, 1] range for imshow\n",
    "\n",
    "srgb.plot.imshow(x=sat_rgb.crs.dimensions[1], y=sat_rgb.crs.dimensions[0],\n",
    "                col='time', aspect=1, figsize=(6.5, 6.5))\n",
    "plt.title(field_site+' '+field_date+' '+site_number+': '+sat_name+' RGB colours', fontweight='bold')\n",
    "\n",
    "plt.savefig(output+'Fig11_LS8_rgb.png')"
   ]
  },
  {
   "cell_type": "markdown",
   "metadata": {},
   "source": [
    "# Figure 12\n",
    "\n",
    "### Plot RGB array for Field data"
   ]
  },
  {
   "cell_type": "code",
   "execution_count": null,
   "metadata": {},
   "outputs": [],
   "source": [
    "fake_saturation = 1\n",
    "frgb = field_rgb.to_array(dim='color')\n",
    "frgb = frgb.transpose(*(frgb.dims[1:]+frgb.dims[:1]))  # make 'color' the last dimension\n",
    "frgb = frgb.where((frgb <= fake_saturation).all(dim='color'))  # mask out pixels where any band is 'saturated'\n",
    "frgb /= fake_saturation  # scale to [0, 1] range for imshow\n",
    "\n",
    "\n",
    "frgb.plot.imshow(x=field_rgb.crs.dimensions[1], y=field_rgb.crs.dimensions[0],\n",
    "                col='time', add_colorbar=True, figsize=(6.5, 6.5))\n",
    "plt.title(field_site+' '+field_date+' '+site_number+'Field RGB colours', fontweight='bold')\n",
    "plt.savefig(output+'Fig12_Field_rgb.png')"
   ]
  },
  {
   "cell_type": "markdown",
   "metadata": {},
   "source": [
    "### Test query for Sentinel 2 data (not used)"
   ]
  },
  {
   "cell_type": "code",
   "execution_count": null,
   "metadata": {
    "scrolled": true
   },
   "outputs": [],
   "source": [
    "# dc2 = datacube.Datacube(config='/home/547/aw3463/sentinel2.config')\n",
    "#\n",
    "#query = {\n",
    "#        'lat': (-35.25, -35.35),\n",
    "#        'lon': (149.05, 149.17),\n",
    "#        'output_crs': 'EPSG:3577',\n",
    "#        'resolution': (-10, 10),\n",
    "#        'time':('2017-10-01', '2018-05-15')\n",
    "#        }\n",
    "#\n",
    "#canberra = dc2.load(product='s2b_ard_granule', **query)\n",
    "#\n",
    "#canberra"
   ]
  },
  {
   "cell_type": "markdown",
   "metadata": {},
   "source": [
    "### Create Field full band xarray\n",
    "\n",
    "The field xarray is based on the pixel locations of the satellite data, where each pixel<BR>\n",
    "    contains an average of all field data measurements that fall within the pixel."
   ]
  },
  {
   "cell_type": "code",
   "execution_count": null,
   "metadata": {},
   "outputs": [],
   "source": [
    "field_array = sat_array.astype(float)\n",
    "\n",
    "for i in range(len(sat_array.x)):\n",
    "    for j in range(len(sat_array.y)):\n",
    "        count = 0\n",
    "        cum1, cum2, cum3, cum4, cum5, cum6, cum7 = 0,0,0,0,0,0,0\n",
    "        for k in range(len(xloc)):\n",
    "            if (sat_array.x[i]-12.5 < xloc[k][0] < sat_array.x[i]+12.5) and (sat_array.y[j]-12.5 < xloc[k][1] < sat_array.y[j]+12.5):\n",
    "                cum1 = cum1+ground_brdf.iloc[k]['band1']\n",
    "                cum2 = cum2+ground_brdf.iloc[k]['band2']\n",
    "                cum3 = cum3+ground_brdf.iloc[k]['band3']\n",
    "                cum4 = cum4+ground_brdf.iloc[k]['band4']\n",
    "                cum5 = cum5+ground_brdf.iloc[k]['band5']\n",
    "                cum6 = cum6+ground_brdf.iloc[k]['band6']\n",
    "                cum7 = cum7+ground_brdf.iloc[k]['band7']\n",
    "                count=count+1\n",
    "        if count<10:\n",
    "            field_array.coastal_aerosol[0][j][i] = np.nan\n",
    "            field_array.blue[0][j][i] = np.nan\n",
    "            field_array.green[0][j][i] = np.nan\n",
    "            field_array.red[0][j][i] = np.nan\n",
    "            field_array.nir[0][j][i] = np.nan\n",
    "            field_array.swir1[0][j][i] = np.nan\n",
    "            field_array.swir2[0][j][i] = np.nan\n",
    "        else:\n",
    "            field_array.coastal_aerosol[0][j][i] = cum1/count            \n",
    "            field_array.blue[0][j][i] = cum2/count\n",
    "            field_array.green[0][j][i] = cum3/count\n",
    "            field_array.red[0][j][i] = cum4/count\n",
    "            field_array.nir[0][j][i] = cum5/count\n",
    "            field_array.swir1[0][j][i] = cum6/count\n",
    "            field_array.swir2[0][j][i] = cum7/count\n"
   ]
  },
  {
   "cell_type": "markdown",
   "metadata": {},
   "source": [
    "# Figure 13\n",
    "\n",
    "### Plot ratio arrays for each band\n",
    "\n",
    "Each panel shows the ratio of satellite/field data * 100. Therefore, the intensity axis gives<BR>\n",
    "a percentage of the satellite data, as a function of the field data, where perfectly matching<BR>\n",
    "    data should show 100%."
   ]
  },
  {
   "cell_type": "code",
   "execution_count": null,
   "metadata": {},
   "outputs": [],
   "source": [
    "newarr = (sat_array/10000)/field_array\n",
    "newarr.reset_index('time', drop=True, inplace=True)\n",
    "\n",
    "fig, axes = plt.subplots(nrows=3, ncols=3, figsize=(11.5, 9.5))\n",
    "fig.suptitle(sat_name+': '+field_site+' '+field_date+' '+site_number+': Ratio of satellite/field reflectance', fontweight='bold')\n",
    "\n",
    "newarr.coastal_aerosol.plot(ax=axes[0,0])\n",
    "newarr.blue.plot(ax=axes[0,1])\n",
    "newarr.green.plot(ax=axes[0,2])\n",
    "newarr.red.plot(ax=axes[1,0])\n",
    "newarr.nir.plot(ax=axes[1,1])\n",
    "newarr.swir1.plot(ax=axes[1,2])\n",
    "newarr.swir2.plot(ax=axes[2,0])\n",
    "plt.tight_layout(pad=3.0, w_pad=1.0, h_pad=1.0)\n",
    "\n",
    "axes[2,1].axis('off')\n",
    "axes[2,2].axis('off')\n",
    "plt.savefig(output+'Fig13_RatioSatOverFieldData.png')"
   ]
  },
  {
   "cell_type": "markdown",
   "metadata": {},
   "source": [
    "### Create a statistics dataframe, comparing satellite and field data"
   ]
  },
  {
   "cell_type": "code",
   "execution_count": null,
   "metadata": {},
   "outputs": [],
   "source": [
    "data_array = np.array([['','LS8_mean','LS8_SD', 'Field_mean', 'Field_SD'],\n",
    "                ['Band1', float(sat_array.coastal_aerosol.mean()/10000), float(sat_array.coastal_aerosol.std()/10000), float(ground_bands['band1'].mean()), float(ground_bands['band1'].std())],\n",
    "                ['Band2', float(sat_array.blue.mean()/10000), float(sat_array.blue.std()/10000), float(ground_bands['band2'].mean()), float(ground_bands['band2'].std())],\n",
    "                ['Band3', float(sat_array.green.mean()/10000), float(sat_array.green.std()/10000), float(ground_bands['band3'].mean()), float(ground_bands['band3'].std())],\n",
    "                ['Band4', float(sat_array.red.mean()/10000), float(sat_array.red.std()/10000), float(ground_bands['band4'].mean()), float(ground_bands['band4'].std())],\n",
    "                ['Band5', float(sat_array.nir.mean()/10000), float(sat_array.nir.std()/10000), float(ground_bands['band5'].mean()), float(ground_bands['band5'].std())],\n",
    "                ['Band6', float(sat_array.swir1.mean()/10000), float(sat_array.swir1.std()/10000), float(ground_bands['band6'].mean()), float(ground_bands['band6'].std())],\n",
    "                ['Band7', float(sat_array.swir2.mean()/10000), float(sat_array.swir2.std()/10000), float(ground_bands['band7'].mean()), float(ground_bands['band7'].std())],\n",
    "                ])\n",
    "                \n",
    "stat_df = pd.DataFrame(data=data_array[1:,1:],\n",
    "                  index=data_array[1:,0],\n",
    "                  columns=data_array[0,1:])\n",
    "\n",
    "stat_df['LS8_SD/mean (%)'] = 100*stat_df['LS8_SD'].astype(float)/stat_df['LS8_mean'].astype(float)\n",
    "stat_df['Field_SD/mean (%)'] = 100*stat_df['Field_SD'].astype(float)/stat_df['Field_mean'].astype(float)\n",
    "stat_df['LS8/Field'] = stat_df['LS8_mean'].astype(float)/stat_df['Field_mean'].astype(float) \n",
    "\n",
    "stat_df\n",
    "#stat_df['LS8/Field'].std()/stat_df['LS8/Field'].mean()*100"
   ]
  },
  {
   "cell_type": "markdown",
   "metadata": {},
   "source": [
    "### Convert all statistics entries to float"
   ]
  },
  {
   "cell_type": "code",
   "execution_count": null,
   "metadata": {},
   "outputs": [],
   "source": [
    "fstat_df = stat_df.astype(float)"
   ]
  },
  {
   "cell_type": "markdown",
   "metadata": {},
   "source": [
    "# Figure 14\n",
    "\n",
    "### Plot comparison spectra of ALL satellite and field data, on a pixel-by-pixel basis\n",
    "\n",
    "Error bars are shown for the field data, based on the standard deviation of the pixels<BR>\n",
    "    within the field."
   ]
  },
  {
   "cell_type": "code",
   "execution_count": null,
   "metadata": {},
   "outputs": [],
   "source": [
    "fig, axes = plt.subplots(nrows=1, ncols=1, figsize=(9.5, 9.5))\n",
    "fig.suptitle(sat_name+': '+field_site+' '+field_date+' '+site_number+': Satellite and Field data comparison by band', fontweight='bold')\n",
    "plt.tight_layout(pad=3.5, w_pad=1.0, h_pad=1.0)\n",
    "\n",
    "fstat_df.plot(x=fstat_df.index, y='LS8_mean', ax=axes, color='black')\n",
    "fstat_df.plot(y='Field_mean', ax=axes, color='blue')\n",
    "axes.set_ylabel('Reflectance')\n",
    "plt.errorbar(x=fstat_df.index, y=fstat_df['Field_mean'], yerr=fstat_df['Field_SD'], color='blue')\n",
    "axes.set_xticklabels(['Band0','Band 1','Band 2','Band 3','Band 4','Band 5','Band 6', 'Band 7'])\n",
    "plt.savefig(output+'Fig14_LS8FieldBandCompare.png')"
   ]
  },
  {
   "cell_type": "markdown",
   "metadata": {},
   "source": [
    "# Figure 15\n",
    "\n",
    "### Plot comparison spectra of INNER satellite and field data, on a pixel-by-pixel basis\n",
    "\n",
    "Error bars are shown for the field data, based on the standard deviation of the pixels\n",
    "within the field.\n",
    "\n",
    "Only inner pixels are chosen to compare, where there are many field spectra for each satellite<BR>\n",
    "    pixel. For example, using [2:4,2:4] will choose four pixels between coordinates (2,2) and (3,3),<BR>\n",
    "    inclusive, from the top-left corner."
   ]
  },
  {
   "cell_type": "code",
   "execution_count": null,
   "metadata": {},
   "outputs": [],
   "source": [
    "inner_array = np.array([['', 'LS8_inner_mean', 'Field_inner_mean'],\n",
    "                        ['Band1', float(sat_array.coastal_aerosol[0][2:4,2:4].mean()/10000), float(field_array.coastal_aerosol[0][2:4,2:4].mean())],\n",
    "                        ['Band2', float(sat_array.blue[0][2:4,2:4].mean()/10000), float(field_array.blue[0][2:4,2:4].mean())],\n",
    "                        ['Band3', float(sat_array.green[0][2:4,2:4].mean()/10000), float(field_array.green[0][2:4,2:4].mean())],\n",
    "                        ['Band4', float(sat_array.red[0][2:4,2:4].mean()/10000), float(field_array.red[0][2:4,2:4].mean())],\n",
    "                        ['Band5', float(sat_array.nir[0][2:4,2:4].mean()/10000), float(field_array.nir[0][2:4,2:4].mean())],\n",
    "                        ['Band6', float(sat_array.swir1[0][2:4,2:4].mean()/10000), float(field_array.swir1[0][2:4,2:4].mean())],\n",
    "                        ['Band7', float(sat_array.swir2[0][2:4,2:4].mean()/10000), float(field_array.swir2[0][2:4,2:4].mean())],\n",
    "                       ])\n",
    "\n",
    "inner_df = pd.DataFrame(data=inner_array[1:,1:],\n",
    "                  index=inner_array[1:,0],\n",
    "                  columns=inner_array[0,1:])\n",
    "\n",
    "inner_df['Field_SD'] = fstat_df['Field_SD']\n",
    "\n",
    "finner_df = inner_df.astype(float)\n",
    "\n",
    "fig, axes = plt.subplots(nrows=1, ncols=1, figsize=(9.5, 9.5))\n",
    "fig.suptitle(sat_name+': '+field_site+' '+field_date+' '+site_number+': Satellite and Field data comparison by band for inner pixels', fontweight='bold')\n",
    "plt.tight_layout(pad=3.5, w_pad=1.0, h_pad=1.0)\n",
    "\n",
    "finner_df.plot(x=finner_df.index, y='LS8_inner_mean', ax=axes, color='black')\n",
    "finner_df.plot(y='Field_inner_mean', ax=axes, color='blue')\n",
    "axes.set_ylabel('Reflectance')\n",
    "plt.errorbar(x=finner_df.index, y=finner_df['Field_inner_mean'], yerr=finner_df['Field_SD'], color='blue')\n",
    "axes.set_xticklabels(['Band0','Band 1','Band 2','Band 3','Band 4','Band 5','Band 6', 'Band 7'])\n",
    "plt.savefig(output+'Fig15_InnerLS8FieldBandCompare.png')"
   ]
  },
  {
   "cell_type": "markdown",
   "metadata": {},
   "source": [
    "# Figure 16\n",
    "\n",
    "### Comparison plot of Field and satellite data\n",
    "\n",
    "Plot shows a pixel-by-pixel comparison of all pixels where field data exists.<BR> \n",
    "Different band data are shown in different colours and different symbols."
   ]
  },
  {
   "cell_type": "code",
   "execution_count": null,
   "metadata": {},
   "outputs": [],
   "source": [
    "fig, axes = plt.subplots(nrows=1, ncols=1, figsize=(9.5, 9.5))\n",
    "fig.suptitle(sat_name+': '+field_site+' '+field_date+' '+site_number+': Pixel by pixel comparison of field and satellite data', fontweight='bold')\n",
    "plt.tight_layout(pad=3.5, w_pad=1.0, h_pad=1.0)\n",
    "\n",
    "plot_scale = [0.0, 0.25, 0.0, 0.25]\n",
    "plt.xlim(plot_scale[0], plot_scale[1])\n",
    "plt.ylim(plot_scale[2], plot_scale[3])\n",
    "p1, p2 = [-1, 2], [-1, 2]\n",
    "plt.plot(p1, p2, marker='o')\n",
    "plt.xlabel('Field Reflectance per pixel')\n",
    "plt.ylabel('Satellite Reflectance per pixel')\n",
    "\n",
    "plt.scatter(field_array.coastal_aerosol[0], sat_array.coastal_aerosol[0]/10000, marker='o', facecolors='none', edgecolors='red')\n",
    "plt.scatter(field_array.blue[0], sat_array.blue[0]/10000, marker='^', facecolors='none', edgecolors='orange')\n",
    "plt.scatter(field_array.green[0], sat_array.green[0]/10000, marker='s', facecolors='none', edgecolors='yellow')\n",
    "plt.scatter(field_array.red[0], sat_array.red[0]/10000, marker='+', color='green')\n",
    "plt.scatter(field_array.nir[0], sat_array.nir[0]/10000, marker='x', color='blue')\n",
    "plt.scatter(field_array.swir1[0], sat_array.swir1[0]/10000, marker='D', facecolors='none', edgecolors='darkblue')\n",
    "plt.scatter(field_array.swir2[0], sat_array.swir2[0]/10000, marker='*', facecolors='none', edgecolors='black')\n",
    "\n",
    "x_stretch = (plot_scale[1]-plot_scale[0])\n",
    "y_stretch = (plot_scale[3]-plot_scale[2])\n",
    "\n",
    "plt.scatter((0.1*x_stretch)+plot_scale[0], (0.950*y_stretch)+plot_scale[2], marker='o', facecolors='none', edgecolors='red')\n",
    "plt.scatter((0.1*x_stretch)+plot_scale[0], (0.925*y_stretch)+plot_scale[2], marker='^', facecolors='none', edgecolors='orange')\n",
    "plt.scatter((0.1*x_stretch)+plot_scale[0], (0.900*y_stretch)+plot_scale[2], marker='s', facecolors='none', edgecolors='yellow')\n",
    "plt.scatter((0.1*x_stretch)+plot_scale[0], (0.875*y_stretch)+plot_scale[2], marker='+', color='green')\n",
    "plt.scatter((0.1*x_stretch)+plot_scale[0], (0.850*y_stretch)+plot_scale[2], marker='x', color='blue')\n",
    "plt.scatter((0.1*x_stretch)+plot_scale[0], (0.825*y_stretch)+plot_scale[2], marker='D', facecolors='none', edgecolors='darkblue')\n",
    "plt.scatter((0.1*x_stretch)+plot_scale[0], (0.800*y_stretch)+plot_scale[2], marker='*', facecolors='none', edgecolors='black')\n",
    "\n",
    "plt.figtext(0.185, 0.895, \"Band 1 - Coastal Aerosol\")\n",
    "plt.figtext(0.185, 0.872, \"Band 2 - Blue\")\n",
    "plt.figtext(0.185, 0.850, \"Band 3 - Green\")\n",
    "plt.figtext(0.185, 0.830, \"Band 4 - Red\")\n",
    "plt.figtext(0.185, 0.809, \"Band 5 - NIR\")\n",
    "plt.figtext(0.185, 0.786, \"Band 6 - SWIR1\")\n",
    "plt.figtext(0.185, 0.766, \"Band 7 - SWIR2\")\n",
    "plt.savefig(output+'Fig16_PixelByPixelComparison.png')"
   ]
  },
  {
   "cell_type": "code",
   "execution_count": null,
   "metadata": {},
   "outputs": [],
   "source": []
  }
 ],
 "metadata": {
  "kernelspec": {
   "display_name": "Python 3",
   "language": "python",
   "name": "python3"
  },
  "language_info": {
   "codemirror_mode": {
    "name": "ipython",
    "version": 3
   },
   "file_extension": ".py",
   "mimetype": "text/x-python",
   "name": "python",
   "nbconvert_exporter": "python",
   "pygments_lexer": "ipython3",
   "version": "3.6.5"
  }
 },
 "nbformat": 4,
 "nbformat_minor": 2
}
