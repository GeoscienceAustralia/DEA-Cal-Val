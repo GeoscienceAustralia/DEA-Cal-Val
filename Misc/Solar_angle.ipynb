{
 "cells": [
  {
   "cell_type": "code",
   "execution_count": null,
   "metadata": {},
   "outputs": [],
   "source": [
    "import astropy.coordinates as coord\n",
    "from astropy.time import Time\n",
    "import astropy.units as u\n",
    "\n",
    "\n",
    "loc = coord.EarthLocation(lon=149 * u.deg,\n",
    "                          lat=-35 * u.deg)\n",
    "now = Time.now()\n",
    "\n",
    "altaz = coord.AltAz(location=loc, obstime=now)\n",
    "sun = coord.get_sun(now)\n",
    "\n",
    "print(sun.transform_to(altaz).zen.degree)"
   ]
  }
 ],
 "metadata": {
  "kernelspec": {
   "display_name": "Python 3",
   "language": "python",
   "name": "python3"
  },
  "language_info": {
   "codemirror_mode": {
    "name": "ipython",
    "version": 3
   },
   "file_extension": ".py",
   "mimetype": "text/x-python",
   "name": "python",
   "nbconvert_exporter": "python",
   "pygments_lexer": "ipython3",
   "version": "3.6.5"
  }
 },
 "nbformat": 4,
 "nbformat_minor": 2
}
