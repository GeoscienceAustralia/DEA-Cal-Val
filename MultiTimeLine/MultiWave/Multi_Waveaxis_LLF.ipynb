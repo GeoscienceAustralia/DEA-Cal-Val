{
 "cells": [
  {
   "cell_type": "markdown",
   "metadata": {},
   "source": [
    "### Imports"
   ]
  },
  {
   "cell_type": "code",
   "execution_count": 2,
   "metadata": {},
   "outputs": [],
   "source": [
    "import pandas as pd\n",
    "import numpy as np\n",
    "\n",
    "import matplotlib.pyplot as plt\n",
    "import matplotlib.ticker as ticker\n",
    "import matplotlib\n",
    "\n",
    "matplotlib.rcParams.update({'font.size': 12})\n",
    "matplotlib.rcParams['savefig.dpi'] = 300"
   ]
  },
  {
   "cell_type": "markdown",
   "metadata": {},
   "source": [
    "### Read in CSV files\n",
    "\n",
    "Create dataframe \"timedf\" and then mask out wavelengths over atmospheric absorption bands.<BR>\n",
    "Final result is \"time_masked\" dataframe."
   ]
  },
  {
   "cell_type": "code",
   "execution_count": 3,
   "metadata": {
    "scrolled": true
   },
   "outputs": [],
   "source": [
    "\n",
    "def ReadInCSVs(full_csvs):\n",
    "    \n",
    "    all_dfs=[]\n",
    "    \n",
    "    for i in range(len(full_csvs)):\n",
    "        if i==0:\n",
    "            lstemp = pd.read_csv('../../CSV/FULL_SPEC_AVG/'+full_csvs[i])\n",
    "            all_dfs.append(lstemp)\n",
    "        else:\n",
    "            lstemp = pd.read_csv('../../CSV/FULL_SPEC_AVG/'+full_csvs[i], usecols=[1])\n",
    "            all_dfs.append(lstemp)\n",
    "        \n",
    "    return pd.concat(all_dfs, axis=1)\n",
    "\n",
    "full_csvs = ['LLF25JUN18.csv']\n",
    "\n",
    "timedf = ReadInCSVs(full_csvs)\n",
    "timedf.set_index('Wavelength', inplace=True)\n",
    "\n",
    "maska = timedf['25JUN18'].where(np.logical_or(timedf.index < 1340, timedf.index > 1450))\n",
    "maskb = maska.where(np.logical_or(maska.index < 1790, maska.index > 1950))\n",
    "masked = maskb.where(np.logical_or(maskb.index<2350, maskb.index>2500))\n",
    "\n",
    "mask = masked.div(masked)\n",
    "time_masked = timedf.div(mask, axis=0)\n"
   ]
  },
  {
   "cell_type": "markdown",
   "metadata": {},
   "source": [
    "### FIGURE: plot averaged spectra for each field campaign"
   ]
  },
  {
   "cell_type": "code",
   "execution_count": 4,
   "metadata": {
    "scrolled": true
   },
   "outputs": [
    {
     "data": {
      "image/png": "[encoded data removed]",
      "text/plain": [
       "<Figure size 396x396 with 1 Axes>"
      ]
     },
     "metadata": {
      "needs_background": "light"
     },
     "output_type": "display_data"
    }
   ],
   "source": [
    "colpac=['#770000', '#FF0000', '#FF7700', '#FFFF00', '#77FF00', '#00FF00', \n",
    "        '#00FF77', '#00FFFF', '#0077FF', '#0000FF', '#000077', '#FF00FF', '#777777', '#770077', '#777700']\n",
    "\n",
    "fig, axes = plt.subplots(nrows=1, ncols=1, figsize=(5.5, 5.5))\n",
    "plt.tight_layout(pad=11, w_pad=1.0, h_pad=1.0)\n",
    "\n",
    "for i in range(len(time_masked.columns)):\n",
    "    axes.plot(time_masked[time_masked.columns[i]], color=colpac[i])\n",
    "\n",
    "axes.legend(time_masked.columns, loc=(1.01,0.88))\n",
    "axes.set_xlabel('Wavelength (nm)')\n",
    "axes.set_ylabel('Surface Reflectance')\n",
    "\n",
    "plt.savefig('LLFplot1.png')"
   ]
  },
  {
   "cell_type": "markdown",
   "metadata": {},
   "source": [
    "### FIGURE: Time Plot\n",
    "Plot daily rainfall numbers, as well as markers for the date of field campaigns,<BR>\n",
    "using the same colours as the above figure."
   ]
  },
  {
   "cell_type": "code",
   "execution_count": 9,
   "metadata": {},
   "outputs": [
    {
     "data": {
      "image/png": "[encoded data removed]",
      "text/plain": [
       "<Figure size 468x252 with 1 Axes>"
      ]
     },
     "metadata": {
      "needs_background": "light"
     },
     "output_type": "display_data"
    }
   ],
   "source": [
    "rain_dat = '../../Weather/IDCJAC0009_012117_1800_Data.csv'\n",
    "\n",
    "fig, axes = plt.subplots(nrows=1, ncols=1, figsize=(6.5, 3.5))\n",
    "plt.tight_layout(pad=2, w_pad=1.0, h_pad=1.0)\n",
    "\n",
    "krain = pd.read_csv(rain_dat, parse_dates=[[2,3,4]])\n",
    "krain.rename({'Rainfall amount (millimetres)': 'rain'}, axis=1, inplace=True)\n",
    "krain.rename(columns={'Year_Month_Day': 'Date'}, inplace=True)\n",
    "krain.set_index('Date', inplace=True)\n",
    "\n",
    "\n",
    "axes.plot(krain.rain, color='k')\n",
    "axes.set_xlim(pd.datetime(2018,1,1), pd.datetime(2019,2,11))\n",
    "axes.set_ylim(-1, 30)\n",
    "axes.set_ylabel('Daily Rainfall (mm)')\n",
    "fig.autofmt_xdate()\n",
    "for i in range(len(time_masked.columns)):\n",
    "    axes.scatter(time_masked.columns[i][:7], 0, marker='|', s=1000000, linewidth=3, color=colpac[i])\n",
    "\n",
    "               \n",
    "plt.savefig('LLFplot2.png')"
   ]
  },
  {
   "cell_type": "markdown",
   "metadata": {},
   "source": [
    "### Older version - Read in CSVs"
   ]
  },
  {
   "cell_type": "code",
   "execution_count": 5,
   "metadata": {},
   "outputs": [],
   "source": [
    "def ReadInCSVs(ls8_csvs, sent_csvs):\n",
    "\n",
    "    ls8_ftimes = ls8_csvs.copy()\n",
    "    sent_ftimes = sent_csvs.copy()\n",
    "\n",
    "    ls8_fdata = pd.DataFrame()\n",
    "    sent_fdata = pd.DataFrame()\n",
    "\n",
    "    for i in range(len(ls8_csvs)):\n",
    "        ls8_ftimes[i] = pd.Timestamp(ls8_csvs[i][4:11]).dayofyear\n",
    "        sent_ftimes[i] = pd.Timestamp(sent_csvs[i][4:11]).dayofyear\n",
    "        lstemp = pd.read_csv('../../CSV/'+ls8_csvs[i])\n",
    "        senttemp = pd.read_csv('../../CSV/'+sent_csvs[i])\n",
    "        lstemp.set_index('Unnamed: 0', inplace=True)\n",
    "        senttemp.set_index('Unnamed: 0', inplace=True)\n",
    "        ls8_fdata[str(ls8_csvs[i][4:11])] = lstemp['Field_mean']\n",
    "        sent_fdata[str(sent_csvs[i][4:11])] = senttemp['Field_mean']\n",
    "\n",
    "    return ls8_ftimes, sent_ftimes, ls8_fdata, sent_fdata\n",
    "\n",
    "ls8_csvs = ['LLF_25JUN18__Landsat8.csv']\n",
    "\n",
    "sent_csvs = ['LLF_25JUN18__Sentinel2a.csv']\n",
    "\n",
    "ls8_ftimes, sent_ftimes, ls8_fdata, sent_fdata = ReadInCSVs(ls8_csvs, sent_csvs)"
   ]
  },
  {
   "cell_type": "markdown",
   "metadata": {},
   "source": [
    "### FIGURE: Plot band-averaged field spectra"
   ]
  },
  {
   "cell_type": "code",
   "execution_count": 6,
   "metadata": {
    "scrolled": false
   },
   "outputs": [
    {
     "data": {
      "text/plain": [
       "<matplotlib.legend.Legend at 0x7f0668f4b588>"
      ]
     },
     "execution_count": 6,
     "metadata": {},
     "output_type": "execute_result"
    },
    {
     "data": {
      "image/png": "[encoded data removed]",
      "text/plain": [
       "<Figure size 396x396 with 1 Axes>"
      ]
     },
     "metadata": {
      "needs_background": "light"
     },
     "output_type": "display_data"
    }
   ],
   "source": [
    "fig, axes = plt.subplots(nrows=1, ncols=1, figsize=(5.5, 5.5))\n",
    "\n",
    "axes.plot(ls8_fdata, '-o')\n",
    "axes.legend(ls8_fdata.columns)"
   ]
  }
 ],
 "metadata": {
  "kernelspec": {
   "display_name": "Python [default]",
   "language": "python",
   "name": "python3"
  },
  "language_info": {
   "codemirror_mode": {
    "name": "ipython",
    "version": 3
   },
   "file_extension": ".py",
   "mimetype": "text/x-python",
   "name": "python",
   "nbconvert_exporter": "python",
   "pygments_lexer": "ipython3",
   "version": "3.6.6"
  }
 },
 "nbformat": 4,
 "nbformat_minor": 2
}
