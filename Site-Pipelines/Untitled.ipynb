{
 "cells": [
  {
   "cell_type": "code",
   "execution_count": 1,
   "metadata": {},
   "outputs": [],
   "source": [
    "import datacube"
   ]
  },
  {
   "cell_type": "code",
   "execution_count": 18,
   "metadata": {},
   "outputs": [],
   "source": [
    "data = datacube.Datacube(env='datacube', config='/home/547/aw3463/.sent2.conf')"
   ]
  },
  {
   "cell_type": "code",
   "execution_count": 19,
   "metadata": {},
   "outputs": [],
   "source": [
    "query = {'time': ('2018', '2019'), \n",
    "         'lat': (-30.585160, -30.58416), \n",
    "         'lon': (115.156126, 115.157126), \n",
    "         'output_crs': 'EPSG:3577',\n",
    "         'resampling': 'bilinear',\n",
    "         'resolution': (-25, 25)\n",
    "        }"
   ]
  },
  {
   "cell_type": "code",
   "execution_count": 22,
   "metadata": {},
   "outputs": [],
   "source": [
    "sat_array = data.load(product='s2a_ard_granule', **query)"
   ]
  },
  {
   "cell_type": "code",
   "execution_count": 23,
   "metadata": {},
   "outputs": [
    {
     "data": {
      "text/plain": [
       "<xarray.DataArray 'time' (time: 28)>\n",
       "array(['2018-01-02T02:26:01.026000000', '2018-01-12T02:19:11.026000000',\n",
       "       '2018-01-22T02:26:01.026000000', '2018-02-01T02:19:21.026000000',\n",
       "       '2018-02-11T02:13:41.026000000', '2018-02-21T02:13:41.026000000',\n",
       "       '2018-03-03T02:13:41.026000000', '2018-03-13T02:13:41.026000000',\n",
       "       '2018-03-23T02:13:41.026000000', '2018-04-02T02:13:41.026000000',\n",
       "       '2018-04-12T02:13:51.026000000', '2018-04-22T02:13:51.026000000',\n",
       "       '2018-05-02T02:13:51.024000000', '2018-05-12T02:13:51.024000000',\n",
       "       '2018-05-22T02:13:51.024000000', '2018-06-01T02:13:51.024000000',\n",
       "       '2018-06-11T02:13:41.024000000', '2018-06-21T02:13:41.024000000',\n",
       "       '2018-07-01T02:13:51.024000000', '2018-07-11T02:13:51.024000000',\n",
       "       '2018-08-10T02:13:41.024000000', '2018-09-09T02:13:41.024000000',\n",
       "       '2018-10-09T02:13:41.024000000', '2018-10-19T02:13:41.024000000',\n",
       "       '2018-11-08T02:13:41.024000000', '2018-11-18T02:13:41.024000000',\n",
       "       '2018-11-28T02:13:41.024000000', '2018-12-08T02:13:41.024000000'],\n",
       "      dtype='datetime64[ns]')\n",
       "Coordinates:\n",
       "  * time     (time) datetime64[ns] 2018-01-02T02:26:01.026000 ... 2018-12-08T02:13:41.024000\n",
       "Attributes:\n",
       "    units:    seconds since 1970-01-01 00:00:00"
      ]
     },
     "execution_count": 23,
     "metadata": {},
     "output_type": "execute_result"
    }
   ],
   "source": [
    "sat_array.coords['time']"
   ]
  },
  {
   "cell_type": "code",
   "execution_count": null,
   "metadata": {},
   "outputs": [],
   "source": []
  }
 ],
 "metadata": {
  "kernelspec": {
   "display_name": "Python [default]",
   "language": "python",
   "name": "python3"
  },
  "language_info": {
   "codemirror_mode": {
    "name": "ipython",
    "version": 3
   },
   "file_extension": ".py",
   "mimetype": "text/x-python",
   "name": "python",
   "nbconvert_exporter": "python",
   "pygments_lexer": "ipython3",
   "version": "3.6.6"
  }
 },
 "nbformat": 4,
 "nbformat_minor": 2
}
