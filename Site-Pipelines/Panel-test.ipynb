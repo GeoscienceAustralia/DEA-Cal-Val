{
 "cells": [
  {
   "cell_type": "markdown",
   "metadata": {},
   "source": [
    "# Workflow for processing  TEMPLATE Pinnacles - 20MAY18"
   ]
  },
  {
   "cell_type": "code",
   "execution_count": 1,
   "metadata": {},
   "outputs": [],
   "source": [
    "import time\n",
    "start_time = time.time()\n",
    "\n",
    "import numpy as np\n",
    "import pandas as pd\n",
    "\n",
    "#\n",
    "# Set up input and output directories\n",
    "#\n",
    "indir = '/g/data1a/u46/users/aw3463/GuyByrne/30APR18/Mullion/01DEC18/atmosphere/'\n",
    "output = '/g/data/u46/users/aw3463/GuyByrne/calval/PNGS/TMP2/'\n",
    "\n",
    "#\n",
    "# field_data is in the format: 'Field Site Name', 'Date', 'Site number', 'Satellite Name', 'Panel origin', 'Reflectance/Radiance'.\n",
    "# and 'Radiance'/'Reflectance'.\n",
    "# NOTE: Satellite name should be one of: 'Landsat8', 'Sentinel2a', or 'Sentinel2b'.\n",
    "#\n",
    "field_data = ['MUL', '01DEC18', '', 'Sentinel2b', 'GA_Panel', 'Radiance']\n",
    "\n",
    "#\n",
    "# bad_pans    contains the names of individual panels readings that appear to be bogus\n",
    "# bad_grounds contains ground-reading file names that appear to be bogus\n",
    "# Use empty lists if there are no bad spectra.\n",
    "#\n",
    "bad_grounds = []\n",
    "bad_pans = []\n",
    "\n",
    "#\n",
    "# Define the first line and spectrum number for all/good panels and grounds\n",
    "#\n",
    "firstGoodLine = 1\n",
    "firstGoodPanelSpec = 0\n",
    "firstGoodGroundSpec = 2\n",
    "\n",
    "#\n",
    "# Calculated BRDF data\n",
    "#\n",
    "brdf_data = np.array([['', 'brdf0', 'brdf1', 'brdf2'],\n",
    "                          ['band1', 0.160444, 0.030512, 0.024824000000000002],\n",
    "                          ['band11', 0.587068, 0.13617200000000002, 0.07799600000000001],\n",
    "                          ['band12', 0.48186000000000007, 0.090064, 0.078224],\n",
    "                          ['band2', 0.160444, 0.030512, 0.024824000000000002],\n",
    "                          ['band3', 0.33585200000000004, 0.081624, 0.058964],\n",
    "                          ['band4', 0.43227600000000005, 0.094276, 0.07554400000000001],\n",
    "                          ['band5', 0.43227600000000005, 0.094276, 0.07554400000000001],\n",
    "                          ['band6', 0.43227600000000005, 0.094276, 0.07554400000000001],\n",
    "                          ['band7', 0.5422680000000001, 0.156784, 0.06847600000000001],\n",
    "                          ['band8', 0.5422680000000001, 0.156784, 0.06847600000000001],\n",
    "                          ['band8a', 0.5422680000000001, 0.156784, 0.06847600000000001],\n",
    "                         ])\n",
    "\n",
    "#\n",
    "# plot_scale defines the extent of the axes in the final two plots in the workflow.\n",
    "# A scale from 0-1 means no reflectance to perfect reflectance. Typically, dark sites\n",
    "# will range from 0-0.3, whereas bright sites will be between 0-1.\n",
    "#\n",
    "plot_scale = [0.0, 1.0, 0.0, 1.0]\n",
    "\n",
    "#\n",
    "# Define corners of field data, if GPS coordinates are NOT written into headers.\n",
    "# Order is SE, SW, NE, NW. Units are decimal degrees.\n",
    "# If there are no coordinates, then set RockWalk to either True or False.\n",
    "# True  means that the field site was walked in a rock-like pattern (alternating directions),\n",
    "# False means that the field site was walked in a roll-like pattern (same direction)\n",
    "#\n",
    "Corners = [0, 0, 0, 0, 0, 0, 0, 0]\n",
    "RockWalk = True\n",
    "StartCorner = 'SE'"
   ]
  },
  {
   "cell_type": "code",
   "execution_count": 2,
   "metadata": {},
   "outputs": [],
   "source": [
    "import matplotlib.pyplot as plt\n",
    "import matplotlib\n",
    "import datacube\n",
    "import sys, os, shutil\n",
    "sys.path.append(\"..\")\n",
    "\n",
    "from CalVal import *\n",
    "\n",
    "#\n",
    "# Use notebook format (allows inline zooming and moving of figures)\n",
    "# Set default font size for all plots\n",
    "#\n",
    "%matplotlib notebook\n",
    "matplotlib.rcParams.update({'font.size': 12})\n",
    "matplotlib.rcParams['savefig.dpi'] = 300\n",
    "\n",
    "#\n",
    "# Remove old files in directory and create a new one\n",
    "#\n",
    "directory = os.path.dirname(output)\n",
    "if os.path.exists(directory):\n",
    "    shutil.rmtree(directory)\n",
    "os.makedirs(directory)"
   ]
  },
  {
   "cell_type": "code",
   "execution_count": 3,
   "metadata": {},
   "outputs": [],
   "source": [
    "#######################################\n",
    "# LINES BELOW SHOULD REMAIN UNCHANGED #\n",
    "#######################################\n",
    "#\n",
    "# panel_dir and in_panel refer to the file that is used in determining the k-factor,\n",
    "# so this should remain unchanged.\n",
    "#\n",
    "if field_data[5] == 'Radiance':\n",
    "    suffix = 'asd.rad.txt'\n",
    "else: \n",
    "    suffix = 'asd.txt'\n",
    "\n",
    "panel_dir =  '/g/data1a/u46/users/aw3463/GuyByrne/30APR18/Panels/'\n",
    "\n",
    "if field_data[4] == 'GA_Panel':\n",
    "    in_panel = 'ga_panel1_jan_2018.txt'\n",
    "elif field_data[4] == 'CSIRO_Panel':\n",
    "    in_panel = 'csiro_panel.txt'\n",
    "elif field_data[4] == 'UA_Panel':\n",
    "    in_panel = 'ua_panel.txt'\n",
    "elif field_data[4] == 'UOW_Panel':\n",
    "    in_panel = 'uow_panel.txt'\n",
    "elif field_data[4] == 'UQ_Panel':\n",
    "    in_panel = 'uq_panel.txt'\n",
    "elif field_data[4] == 'CSIRO_VIC_Panel':\n",
    "    in_panel = 'csiro_vic_panel.txt'\n",
    "elif field_data[4] == 'Curtin_Panel':\n",
    "    in_panel = 'curtin_panel.txt'\n",
    "else:\n",
    "    nopanel = '***PANEL NAME NOT KNOWN***'\n",
    "    print(nopanel)\n",
    "\n",
    "#\n",
    "# Setup for Landsat and Sentinel bandpass filters\n",
    "#\n",
    "sat_resp = dict({'Landsat5': '/g/data1a/u46/users/aw3463/GuyByrne/misc_others/landsat5_vsir.flt', \n",
    "            'Landsat7': '/g/data1a/u46/users/aw3463/GuyByrne/misc_others/landsat7_vsir.flt', \n",
    "            'Landsat8': '/g/data1a/u46/users/aw3463/GuyByrne/misc_others/landsat8_vsir.flt',\n",
    "            'Sentinel2a': '/g/data1a/u46/users/aw3463/GuyByrne/misc_others/Sent2a.flt',\n",
    "            'Sentinel2b': '/g/data1a/u46/users/aw3463/GuyByrne/misc_others/Sent2b.flt'})\n",
    "\n",
    "f_name = sat_resp[field_data[3]]\n",
    "\n",
    "#\n",
    "# Colours used for plotting multi-coloured Lines\n",
    "#\n",
    "colpac=['#770000', '#FF0000', '#FF7700', '#FFFF00', '#77FF00', '#00FF00', \n",
    "        '#00FF77', '#00FFFF', '#0077FF', '#0000FF', '#000077', '#FF00FF', '#777777', '#770077', '#777700']\n",
    "\n",
    "#\n",
    "# Start Figure numbering at 1\n",
    "#\n",
    "fignum = 1"
   ]
  },
  {
   "cell_type": "markdown",
   "metadata": {},
   "source": [
    "### Define 'alldata' as the dataframe that contains all the raw spectra.\n",
    "Show the first wavelength of every spectrum, so that the data integrity can be checked."
   ]
  },
  {
   "cell_type": "code",
   "execution_count": 4,
   "metadata": {
    "scrolled": true
   },
   "outputs": [
    {
     "data": {
      "text/html": [
       "<div>\n",
       "<style scoped>\n",
       "    .dataframe tbody tr th:only-of-type {\n",
       "        vertical-align: middle;\n",
       "    }\n",
       "\n",
       "    .dataframe tbody tr th {\n",
       "        vertical-align: top;\n",
       "    }\n",
       "\n",
       "    .dataframe thead th {\n",
       "        text-align: right;\n",
       "    }\n",
       "</style>\n",
       "<table border=\"1\" class=\"dataframe\">\n",
       "  <thead>\n",
       "    <tr style=\"text-align: right;\">\n",
       "      <th></th>\n",
       "      <th>Wavelength</th>\n",
       "      <th>radiance</th>\n",
       "      <th>filename</th>\n",
       "      <th>date_saved</th>\n",
       "      <th>Latitude</th>\n",
       "      <th>Longitude</th>\n",
       "      <th>Line</th>\n",
       "      <th>Spec_number</th>\n",
       "      <th>Inst_number</th>\n",
       "    </tr>\n",
       "  </thead>\n",
       "  <tbody>\n",
       "    <tr>\n",
       "      <th>0</th>\n",
       "      <td>350</td>\n",
       "      <td>0.177783</td>\n",
       "      <td>mul_panels200000.asd.rad</td>\n",
       "      <td>2018-12-01 00:03:38</td>\n",
       "      <td>-35.123052</td>\n",
       "      <td>148.862535</td>\n",
       "      <td>1</td>\n",
       "      <td>0</td>\n",
       "      <td>18179/2</td>\n",
       "    </tr>\n",
       "    <tr>\n",
       "      <th>0</th>\n",
       "      <td>350</td>\n",
       "      <td>0.177852</td>\n",
       "      <td>mul_panels200001.asd.rad</td>\n",
       "      <td>2018-12-01 00:03:42</td>\n",
       "      <td>-35.123060</td>\n",
       "      <td>148.862513</td>\n",
       "      <td>1</td>\n",
       "      <td>1</td>\n",
       "      <td>18179/2</td>\n",
       "    </tr>\n",
       "    <tr>\n",
       "      <th>0</th>\n",
       "      <td>350</td>\n",
       "      <td>0.174829</td>\n",
       "      <td>mul_panels200002.asd.rad</td>\n",
       "      <td>2018-12-01 00:03:56</td>\n",
       "      <td>-35.123070</td>\n",
       "      <td>148.862510</td>\n",
       "      <td>1</td>\n",
       "      <td>2</td>\n",
       "      <td>18179/2</td>\n",
       "    </tr>\n",
       "    <tr>\n",
       "      <th>0</th>\n",
       "      <td>350</td>\n",
       "      <td>0.175165</td>\n",
       "      <td>mul_panels200003.asd.rad</td>\n",
       "      <td>2018-12-01 00:03:59</td>\n",
       "      <td>-35.123070</td>\n",
       "      <td>148.862512</td>\n",
       "      <td>1</td>\n",
       "      <td>3</td>\n",
       "      <td>18179/2</td>\n",
       "    </tr>\n",
       "  </tbody>\n",
       "</table>\n",
       "</div>"
      ],
      "text/plain": [
       "   Wavelength  radiance                  filename          date_saved  \\\n",
       "0         350  0.177783  mul_panels200000.asd.rad 2018-12-01 00:03:38   \n",
       "0         350  0.177852  mul_panels200001.asd.rad 2018-12-01 00:03:42   \n",
       "0         350  0.174829  mul_panels200002.asd.rad 2018-12-01 00:03:56   \n",
       "0         350  0.175165  mul_panels200003.asd.rad 2018-12-01 00:03:59   \n",
       "\n",
       "    Latitude   Longitude  Line  Spec_number Inst_number  \n",
       "0 -35.123052  148.862535     1            0     18179/2  \n",
       "0 -35.123060  148.862513     1            1     18179/2  \n",
       "0 -35.123070  148.862510     1            2     18179/2  \n",
       "0 -35.123070  148.862512     1            3     18179/2  "
      ]
     },
     "execution_count": 4,
     "metadata": {},
     "output_type": "execute_result"
    }
   ],
   "source": [
    "alldata = LoadData.load_from_dir(indir, suffix, firstGoodLine, Corners)\n",
    "\n",
    "alldata[alldata['Wavelength']==350]"
   ]
  },
  {
   "cell_type": "code",
   "execution_count": 36,
   "metadata": {},
   "outputs": [],
   "source": [
    "s0 = alldata[alldata.Spec_number==0]\n",
    "s1 = alldata[alldata.Spec_number==1]\n",
    "s2 = alldata[alldata.Spec_number==2]\n",
    "s3 = alldata[alldata.Spec_number==3]\n",
    "\n",
    "s0.rename(columns={'radiance': 'radiance0'}, inplace=True)\n",
    "s1.rename(columns={'radiance': 'radiance1'}, inplace=True)\n",
    "s2.rename(columns={'radiance': 'radiance2'}, inplace=True)\n",
    "s3.rename(columns={'radiance': 'radiance3'}, inplace=True)\n"
   ]
  },
  {
   "cell_type": "code",
   "execution_count": 39,
   "metadata": {},
   "outputs": [],
   "source": [
    "add = pd.merge(s0,s1, on='Wavelength') # xx, yx\n",
    "add2 = pd.merge(s2,s3, on='Wavelength') # xy, yy\n",
    "add3 = pd.merge(add,add2, on='Wavelength')"
   ]
  },
  {
   "cell_type": "code",
   "execution_count": 54,
   "metadata": {},
   "outputs": [
    {
     "data": {
      "text/plain": [
       "[<matplotlib.lines.Line2D at 0x7f7c00beac50>]"
      ]
     },
     "execution_count": 54,
     "metadata": {},
     "output_type": "execute_result"
    },
    {
     "data": {
      "image/png": "[encoded data removed]",
      "text/plain": [
       "<Figure size 432x288 with 1 Axes>"
      ]
     },
     "metadata": {
      "needs_background": "light"
     },
     "output_type": "display_data"
    }
   ],
   "source": [
    "plt.plot(add3.Wavelength, ((add3.radiance0+add3.radiance1)/2)-((add3.radiance2+add3.radiance3)/2))\n",
    "#plt.ylim(1.005,1.020)"
   ]
  },
  {
   "cell_type": "code",
   "execution_count": 48,
   "metadata": {},
   "outputs": [
    {
     "data": {
      "text/plain": [
       "0        350\n",
       "1        351\n",
       "2        352\n",
       "3        353\n",
       "4        354\n",
       "5        355\n",
       "6        356\n",
       "7        357\n",
       "8        358\n",
       "9        359\n",
       "10       360\n",
       "11       361\n",
       "12       362\n",
       "13       363\n",
       "14       364\n",
       "15       365\n",
       "16       366\n",
       "17       367\n",
       "18       368\n",
       "19       369\n",
       "20       370\n",
       "21       371\n",
       "22       372\n",
       "23       373\n",
       "24       374\n",
       "25       375\n",
       "26       376\n",
       "27       377\n",
       "28       378\n",
       "29       379\n",
       "        ... \n",
       "2121    2471\n",
       "2122    2472\n",
       "2123    2473\n",
       "2124    2474\n",
       "2125    2475\n",
       "2126    2476\n",
       "2127    2477\n",
       "2128    2478\n",
       "2129    2479\n",
       "2130    2480\n",
       "2131    2481\n",
       "2132    2482\n",
       "2133    2483\n",
       "2134    2484\n",
       "2135    2485\n",
       "2136    2486\n",
       "2137    2487\n",
       "2138    2488\n",
       "2139    2489\n",
       "2140    2490\n",
       "2141    2491\n",
       "2142    2492\n",
       "2143    2493\n",
       "2144    2494\n",
       "2145    2495\n",
       "2146    2496\n",
       "2147    2497\n",
       "2148    2498\n",
       "2149    2499\n",
       "2150    2500\n",
       "Name: Wavelength, Length: 2151, dtype: int64"
      ]
     },
     "execution_count": 48,
     "metadata": {},
     "output_type": "execute_result"
    }
   ],
   "source": [
    "add3.Wavelength"
   ]
  },
  {
   "cell_type": "code",
   "execution_count": 8,
   "metadata": {},
   "outputs": [],
   "source": [
    "diff['Wavelength'] = s0['Wavelength']"
   ]
  },
  {
   "cell_type": "code",
   "execution_count": 12,
   "metadata": {},
   "outputs": [
    {
     "data": {
      "text/plain": [
       "Index([           0,            1,            2,            3,            4,\n",
       "                  5,            6,            7,            8,            9,\n",
       "       ...\n",
       "               2142,         2143,         2144,         2145,         2146,\n",
       "               2147,         2148,         2149,         2150, 'Wavelength'],\n",
       "      dtype='object', length=2152)"
      ]
     },
     "execution_count": 12,
     "metadata": {},
     "output_type": "execute_result"
    }
   ],
   "source": [
    "diff.index\n"
   ]
  },
  {
   "cell_type": "code",
   "execution_count": 10,
   "metadata": {},
   "outputs": [
    {
     "data": {
      "text/plain": [
       "0                                                       1.01612\n",
       "1                                                       1.01563\n",
       "2                                                       1.01524\n",
       "3                                                       1.01475\n",
       "4                                                       1.01433\n",
       "5                                                       1.01415\n",
       "6                                                       1.01376\n",
       "7                                                       1.01348\n",
       "8                                                       1.01322\n",
       "9                                                        1.0128\n",
       "10                                                      1.01261\n",
       "11                                                      1.01238\n",
       "12                                                      1.01212\n",
       "13                                                      1.01192\n",
       "14                                                      1.01176\n",
       "15                                                      1.01159\n",
       "16                                                      1.01142\n",
       "17                                                      1.01126\n",
       "18                                                       1.0112\n",
       "19                                                      1.01119\n",
       "20                                                      1.01113\n",
       "21                                                      1.01094\n",
       "22                                                      1.01091\n",
       "23                                                      1.01086\n",
       "24                                                      1.01073\n",
       "25                                                      1.01071\n",
       "26                                                      1.01072\n",
       "27                                                      1.01073\n",
       "28                                                      1.01071\n",
       "29                                                      1.01064\n",
       "                                    ...                        \n",
       "2122                                                    1.02673\n",
       "2123                                                    1.02906\n",
       "2124                                                    1.03227\n",
       "2125                                                    1.03344\n",
       "2126                                                    1.03212\n",
       "2127                                                    1.02953\n",
       "2128                                                    1.02758\n",
       "2129                                                     1.0291\n",
       "2130                                                    1.03187\n",
       "2131                                                    1.03556\n",
       "2132                                                    1.04049\n",
       "2133                                                    1.03754\n",
       "2134                                                    1.03729\n",
       "2135                                                    1.04397\n",
       "2136                                                    1.04412\n",
       "2137                                                    1.03821\n",
       "2138                                                     1.0331\n",
       "2139                                                    1.01647\n",
       "2140                                                    1.01277\n",
       "2141                                                     1.0185\n",
       "2142                                                    1.02161\n",
       "2143                                                    1.03453\n",
       "2144                                                    1.04217\n",
       "2145                                                    1.04466\n",
       "2146                                                    1.04948\n",
       "2147                                                    1.05811\n",
       "2148                                                    1.05275\n",
       "2149                                                    1.03777\n",
       "2150                                                    1.03482\n",
       "Wavelength    0        350\n",
       "1        351\n",
       "2        352\n",
       "3      ...\n",
       "Name: radiance, Length: 2152, dtype: object"
      ]
     },
     "execution_count": 10,
     "metadata": {},
     "output_type": "execute_result"
    }
   ],
   "source": [
    "diff.plot()\n"
   ]
  },
  {
   "cell_type": "markdown",
   "metadata": {},
   "source": [
    "### Print out time stamp and coordinate extent for BRDF correction\n",
    "\n",
    "The time stamp and Lat/Long extents are required to calculate the BRDF correction, used below.\n",
    "\n",
    "In order to calculate the BRF correction, the following method is used:\n",
    "\n",
    "<OL>\n",
    "    <LI>Run the print statements in the cell below.</LI>\n",
    "    <LI>Copy and paste the output into a VDI terminal window</LI>\n",
    "    <LI>Copy and paste the resultant VDI output into the BRDF calculation cell, writing over the similar text.</LI>\n",
    "</OL>\n",
    "\n",
    "NOTE: This works assuming that the BRDF code is in the current directory.\n"
   ]
  },
  {
   "cell_type": "code",
   "execution_count": null,
   "metadata": {
    "scrolled": true
   },
   "outputs": [],
   "source": [
    "PrintBRDF.print_brdf(alldata, field_data)"
   ]
  },
  {
   "cell_type": "markdown",
   "metadata": {},
   "source": [
    "### Specify which spectra are panels/ground/good/bad\n",
    "\n",
    " Determine panel file names by assuming that all panels have a data value of at least 0.06\n",
    " in the first wavelength (350nm). Call this dataframe 'panel_names'.\n",
    "\n",
    " good_panels = all panel data with bad panels removed<BR>\n",
    " bad_panels  = all bad panel data<BR>\n",
    " all_panels = both good and bad panel data<BR>\n",
    " good_grounds = good ground readings<BR>\n",
    " all_grounds = all ground data.<P>\n",
    " Any bad ground data (bad_grounds) is defined in the 2nd cell.\n"
   ]
  },
  {
   "cell_type": "code",
   "execution_count": null,
   "metadata": {
    "scrolled": true
   },
   "outputs": [],
   "source": [
    "panel_names, all_panels, good_panels, bad_panels, good_grounds, all_grounds = ExtractPanelsGrounds.extract_panels_grounds(alldata, bad_pans, bad_grounds, field_data)"
   ]
  },
  {
   "cell_type": "markdown",
   "metadata": {},
   "source": [
    "### Create dataframes for all/good/bad panel spectra.\n",
    "\n",
    "For the bad panel spectra dataframe, first check to see if bad panels have been defined.<BR>\n",
    "If not, then don't create anything."
   ]
  },
  {
   "cell_type": "code",
   "execution_count": null,
   "metadata": {},
   "outputs": [],
   "source": [
    "all_panel_spec = MakeSpecDF.make_spec_df(all_panels)\n",
    "good_panel_spec = MakeSpecDF.make_spec_df(good_panels)\n",
    "try:\n",
    "    bad_panel_spec = MakeSpecDF.make_spec_df(bad_panels)\n",
    "except UnboundLocalError:\n",
    "    pass"
   ]
  },
  {
   "cell_type": "markdown",
   "metadata": {},
   "source": [
    "# Figure \n",
    "\n",
    "### Plot panel radiances for all/good/bad panels"
   ]
  },
  {
   "cell_type": "code",
   "execution_count": null,
   "metadata": {
    "scrolled": false
   },
   "outputs": [],
   "source": [
    "if field_data[5] == 'Radiance':\n",
    "    try:\n",
    "        FIG_PanelRadiances.FIG_panel_radiances(good_panel_spec, bad_panel_spec, all_panel_spec, output, field_data, fignum)\n",
    "    except NameError:\n",
    "        bad_panel_spec = [0,0]\n",
    "        FIG_PanelRadiances.FIG_panel_radiances(good_panel_spec, bad_panel_spec, all_panel_spec, output, field_data, fignum)\n",
    "\n",
    "fignum += 1"
   ]
  },
  {
   "cell_type": "markdown",
   "metadata": {},
   "source": [
    "# Figure \n",
    "\n",
    "### Diagnosis plots of bad panel spectra"
   ]
  },
  {
   "cell_type": "code",
   "execution_count": null,
   "metadata": {
    "scrolled": false
   },
   "outputs": [],
   "source": [
    "if field_data[5] == 'Radiance':\n",
    "    good_panel_mean = good_panel_spec.mean(axis=1)\n",
    "\n",
    "    try:\n",
    "        FIG_BadPanelAnalysis.FIG_bad_panel_analysis(good_panel_mean, good_panel_spec, bad_panel_spec, output, field_data, fignum)\n",
    "    except AttributeError:\n",
    "        pass\n",
    "fignum +=1"
   ]
  },
  {
   "cell_type": "markdown",
   "metadata": {},
   "source": [
    "### Create spectral dataframes for all ground spectra and good ground spectra"
   ]
  },
  {
   "cell_type": "code",
   "execution_count": null,
   "metadata": {},
   "outputs": [],
   "source": [
    "all_grounds_spec = MakeSpecDF.make_spec_df(all_grounds)\n",
    "good_grounds_spec = MakeSpecDF.make_spec_df(good_grounds)"
   ]
  },
  {
   "cell_type": "markdown",
   "metadata": {},
   "source": [
    "# Figure \n",
    "\n",
    "### Plot ground spectra (all and good), normalised to the median good spectrum\n",
    "\n",
    "These plots are used to identify any ground spectra that are bogus."
   ]
  },
  {
   "cell_type": "code",
   "execution_count": null,
   "metadata": {
    "scrolled": false
   },
   "outputs": [],
   "source": [
    "FIG_GroundSpectra.FIG_ground_spectra(good_grounds_spec, all_grounds_spec, output, field_data, fignum)\n",
    "fignum +=1"
   ]
  },
  {
   "cell_type": "markdown",
   "metadata": {},
   "source": [
    "### Create time-relative dataframes\n",
    "\n",
    "gpt = good panels<BR>\n",
    "gpta = all panels<BR>\n",
    "adt = good grounds<BR>\n",
    "adta = all grounds"
   ]
  },
  {
   "cell_type": "code",
   "execution_count": null,
   "metadata": {},
   "outputs": [],
   "source": [
    "gpt, gpta, adt, adta = CreateTimeRelativeDF.create_time_relative_dfs(good_panels, all_panels, good_grounds, all_grounds)"
   ]
  },
  {
   "cell_type": "markdown",
   "metadata": {},
   "source": [
    "### Add Solar angle to dataframes\n",
    "\n",
    "Based on the spectrum Latitude, Longitude and time stamp, calculate the angle of<BR>\n",
    "the Sun, with respect to the zenith. Append this number to the \"good_panels\" and<BR>\n",
    "\"good_grounds\" dataframes."
   ]
  },
  {
   "cell_type": "code",
   "execution_count": null,
   "metadata": {},
   "outputs": [],
   "source": [
    "if field_data[5] == 'Radiance':\n",
    "    good_panels, good_grounds = SolarAngle.solar_angle(good_panels, good_grounds)"
   ]
  },
  {
   "cell_type": "markdown",
   "metadata": {},
   "source": [
    "# Figure \n",
    "\n",
    "### Plot timelines for ALL panel and ground data, with one line in one panel"
   ]
  },
  {
   "cell_type": "code",
   "execution_count": null,
   "metadata": {
    "scrolled": false
   },
   "outputs": [],
   "source": [
    "FIG_AllTimelines.FIG_all_timelines(gpta, adta, output, field_data, fignum)\n",
    "fignum += 1"
   ]
  },
  {
   "cell_type": "markdown",
   "metadata": {},
   "source": [
    "# Figure \n",
    "\n",
    "### Plot timelines for GOOD panel and ground data, with one line in one panel"
   ]
  },
  {
   "cell_type": "code",
   "execution_count": null,
   "metadata": {},
   "outputs": [],
   "source": [
    "from CalVal.FIG_AllTimelines import panel_plot_layout, multi_timeline_plot\n",
    "\n",
    "FIG_GoodTimelines.FIG_good_timelines(gpta, gpt, adt, panel_plot_layout, multi_timeline_plot, output, field_data, fignum)\n",
    "fignum += 1"
   ]
  },
  {
   "cell_type": "markdown",
   "metadata": {},
   "source": [
    "# Figure \n",
    "\n",
    "### Create timeline plot of averaged all/good panels\n",
    "\n",
    "These plots are used to identify any panels that show unusually bright or dark readings,<BR>\n",
    "    which can be weeded out as bad panels.\n",
    "    \n",
    "The general shape of the curve should follow \"insolation\" - the changing of incident light\n",
    "due to the Sun rising/falling in the sky."
   ]
  },
  {
   "cell_type": "code",
   "execution_count": null,
   "metadata": {
    "scrolled": true
   },
   "outputs": [],
   "source": [
    "if field_data[5] == 'Radiance':\n",
    "    gpt, gpta = FIG_NormalisedPanelsTimeline.normalise_spectra(good_panel_mean, good_panel_spec, all_panel_spec, gpt, gpta)\n",
    "\n",
    "    FIG_NormalisedPanelsTimeline.FIG_normalised_panels_timeline(gpt, gpta, output, field_data, fignum)\n",
    "fignum += 1"
   ]
  },
  {
   "cell_type": "markdown",
   "metadata": {},
   "source": [
    "# Figure\n",
    "### Fit Insolation Curve\n",
    "\n",
    "Given that the total radiance (insolation, I) should increase with decreasing Solar zenith angle<BR>\n",
    "(ie. as the Sun rises) and that I \\propto cos(Solar zenith angle), we can fit the panel data to a<BR>\n",
    "straight line. The ratio between the fit and the data points can then be used to adjust all panel\n",
    "and ground spectra to account for insolation.<BR><BR>\n",
    "\n",
    "Once the fit has been calculated, the following steps are taken (in subsequent cells):\n",
    "<OL>\n",
    "    <LI>The ratio between the fit and each averaged panel masurement is divided off the panels, so\n",
    "        that they will all fall along the same line.\n",
    "    <LI>For each Line (ie. walked Line in the field), the average panel spectrum is determined, as \n",
    "        well as the average panel Solar angle.\n",
    "    <LI>The \"Solar angle distance\" for each ground spectrum to the averaged panel Solar angle is \n",
    "        used to divide off the insolation fit from the ground spectra. "
   ]
  },
  {
   "cell_type": "code",
   "execution_count": null,
   "metadata": {
    "scrolled": false
   },
   "outputs": [],
   "source": [
    "if field_data[5] == 'Radiance':\n",
    "    slope, intercept, coszenith = FIG_InsolationFit.FIG_insolation_fit(gpt, output, field_data, fignum)\n",
    "fignum += 1"
   ]
  },
  {
   "cell_type": "markdown",
   "metadata": {},
   "source": [
    "### Scale good panels to insolation curve\n",
    "\n",
    "Use the fitted insolation curve to determine individual offsets for each panel measurement and then divide<BR>\n",
    "off the differences. This effectively removes any individual variations in the absolute scaling of panel<BR>\n",
    "measurements."
   ]
  },
  {
   "cell_type": "code",
   "execution_count": null,
   "metadata": {},
   "outputs": [],
   "source": [
    "if field_data[5] == 'Radiance':\n",
    "    good_panels = ScalePanels.scale_panels(slope, intercept, coszenith, gpt, good_panels)"
   ]
  },
  {
   "cell_type": "markdown",
   "metadata": {},
   "source": [
    "### Scale ground spectra to insolation curve\n",
    "\n",
    "For each line, calculate the mean panel spectrum and determine the fit at the according mean Solar zenith angle.<BR>\n",
    "Then determine individual fits for all ground data within the line and apply the ratio of the panel mean fit to<BR>\n",
    "ground fit to the good_grounds dataframe."
   ]
  },
  {
   "cell_type": "code",
   "execution_count": null,
   "metadata": {
    "scrolled": true
   },
   "outputs": [],
   "source": [
    "if field_data[5] == 'Radiance':\n",
    "    good_grounds = ScaleGrounds.scale_grounds(good_panels, good_grounds, slope, intercept)"
   ]
  },
  {
   "cell_type": "markdown",
   "metadata": {},
   "source": [
    "### Define the K-factor\n",
    "\n",
    "This reads a standard file with a response curve for the detector, given an ideally white surface.<BR>\n",
    "Then \"k_f\" is defined for the K-factor."
   ]
  },
  {
   "cell_type": "code",
   "execution_count": null,
   "metadata": {},
   "outputs": [],
   "source": [
    "if field_data[5] == 'Radiance':\n",
    "    k_f = KFactor.k_factor(panel_dir, in_panel)"
   ]
  },
  {
   "cell_type": "markdown",
   "metadata": {},
   "source": [
    "### Re-Make Spectral Dataframes\n",
    "\n",
    "After re-scaling of both good_panels and good_grounds, recreate the good_panel_spec and<BR>\n",
    "good_grounds_spec dataframes"
   ]
  },
  {
   "cell_type": "code",
   "execution_count": null,
   "metadata": {},
   "outputs": [],
   "source": [
    "if field_data[5] == 'Radiance':\n",
    "    good_panel_spec = MakeSpecDF.make_spec_df(good_panels)\n",
    "    good_grounds_spec = MakeSpecDF.make_spec_df(good_grounds)"
   ]
  },
  {
   "cell_type": "markdown",
   "metadata": {},
   "source": [
    "### Rename the first spectrum in ALL/GOOD panels to the correct name\n",
    "\n",
    "Rather than just \"radiance\", it will be named something like radiance1-0<BR>\n",
    "for the zeroth spectrum in the first line, for example.    "
   ]
  },
  {
   "cell_type": "code",
   "execution_count": null,
   "metadata": {},
   "outputs": [],
   "source": [
    "if field_data[5] == 'Radiance':\n",
    "    SpecRename.spec_rename(good_panel_spec, good_grounds_spec, firstGoodLine, firstGoodPanelSpec, firstGoodGroundSpec)"
   ]
  },
  {
   "cell_type": "markdown",
   "metadata": {},
   "source": [
    "### Create dataframe with Reflectances"
   ]
  },
  {
   "cell_type": "code",
   "execution_count": null,
   "metadata": {
    "scrolled": true
   },
   "outputs": [],
   "source": [
    "if field_data[5] == 'Radiance':\n",
    "    all_refls = CreateReflectances.create_reflectances(good_panels, good_panel_spec, good_grounds_spec, k_f)"
   ]
  },
  {
   "cell_type": "markdown",
   "metadata": {},
   "source": [
    "### Test for reflectances\n",
    "Test field_data to see if the data were saved as reflectances. If so, bypass all the panelling workflow."
   ]
  },
  {
   "cell_type": "code",
   "execution_count": null,
   "metadata": {},
   "outputs": [],
   "source": [
    "if field_data[5] == 'Reflectance':\n",
    "    all_refls = good_grounds_spec"
   ]
  },
  {
   "cell_type": "markdown",
   "metadata": {},
   "source": [
    "# Figure \n",
    "\n",
    "### Plot all ground reflectances in black, plus the Line-averaged reflectances in colour\n",
    "\n",
    "The Line-averaged reflectances are shown in order to identify any outlying lines that<BR>\n",
    "\n",
    "might have been caused by bad panel spectra (for example)."
   ]
  },
  {
   "cell_type": "code",
   "execution_count": null,
   "metadata": {},
   "outputs": [],
   "source": [
    "FIG_Reflectances.FIG_reflectances(good_panels, all_refls, colpac, output, field_data, fignum)\n",
    "fignum += 1"
   ]
  },
  {
   "cell_type": "markdown",
   "metadata": {},
   "source": [
    "### Apply weighted band responses to all reflectances"
   ]
  },
  {
   "cell_type": "code",
   "execution_count": null,
   "metadata": {
    "scrolled": true
   },
   "outputs": [],
   "source": [
    "result_df, band = ApplyWeights.apply_weights(f_name, all_refls)"
   ]
  },
  {
   "cell_type": "markdown",
   "metadata": {},
   "source": [
    "### Reformat band reflectances and apply to dataframe \"ground_bands\""
   ]
  },
  {
   "cell_type": "code",
   "execution_count": null,
   "metadata": {},
   "outputs": [],
   "source": [
    "ground_bands = ReformatDF.reformat_df(good_grounds, result_df)"
   ]
  },
  {
   "cell_type": "markdown",
   "metadata": {},
   "source": [
    "# Figure \n",
    "\n",
    "### Plot band reflectances"
   ]
  },
  {
   "cell_type": "code",
   "execution_count": null,
   "metadata": {
    "scrolled": false
   },
   "outputs": [],
   "source": [
    "FIG_BandReflectances.FIG_band_reflectances(ground_bands, result_df, band, colpac, output, field_data, fignum)\n",
    "fignum += 1"
   ]
  },
  {
   "cell_type": "code",
   "execution_count": null,
   "metadata": {},
   "outputs": [],
   "source": [
    "FIG_ReflectancesBand.FIG_reflectances_band(ground_bands, result_df, band, good_panels, all_refls, colpac, output, field_data, fignum)\n",
    "fignum += 1"
   ]
  },
  {
   "cell_type": "markdown",
   "metadata": {},
   "source": [
    "# Figure\n",
    "\n",
    "### Histogram of all good spectra, plotted band-by-band\n",
    "\n",
    "This can be used to identify outlying ground spectra that can be added to bad_grounds in the second cell."
   ]
  },
  {
   "cell_type": "code",
   "execution_count": null,
   "metadata": {
    "scrolled": false
   },
   "outputs": [],
   "source": [
    "FIG_SpecHistogram.FIG_spec_histogram(ground_bands, output, field_data, fignum)\n",
    "fignum += 1"
   ]
  },
  {
   "cell_type": "markdown",
   "metadata": {},
   "source": [
    "### Outlying ground spectra\n",
    "\n",
    "Display the spectra with maximum and minimum values. These can be compared to the histograms above<BR>\n",
    "    to identify any outlying spectra that need to be identified as bad ground spectra."
   ]
  },
  {
   "cell_type": "code",
   "execution_count": null,
   "metadata": {},
   "outputs": [],
   "source": [
    "maxfile = ground_bands['filename'][(ground_bands['band1'] == ground_bands['band1'].max())]\n",
    "maxbands = ground_bands.filter(like='band')[(ground_bands['band1'] == ground_bands['band1'].max())]\n",
    "minfile = ground_bands['filename'][(ground_bands['band1'] == ground_bands['band1'].min())]\n",
    "minbands = ground_bands.filter(like='band')[(ground_bands['band1'] == ground_bands['band1'].min())]\n",
    "\n",
    "print(\"Maximum value found in:\", maxfile.iloc[0], '\\n', maxbands.iloc[0], '\\nMinimum value found in:', minfile.iloc[0], '\\n', minbands.iloc[0])\n",
    "#print(ground_bands['filename'][(ground_bands['band1'] == ground_bands['band1'].max())], '\\n',ground_bands.filter(like='band')[(ground_bands['band1'] == ground_bands['band1'].max())])\n",
    "#print(ground_bands['filename'][(ground_bands['band1'] == ground_bands['band1'].min())], '\\n',ground_bands.filter(like='band')[(ground_bands['band1'] == ground_bands['band1'].min())])\n"
   ]
  },
  {
   "cell_type": "markdown",
   "metadata": {},
   "source": [
    "### Determine Solar angle\n",
    "\n",
    "Based on the spectrum Latitude, Longitude and time stamp, calculate the angle of<BR>\n",
    "the Sun, with respect to the zenith. Append this number to the \"ground_bands\" dataframe."
   ]
  },
  {
   "cell_type": "code",
   "execution_count": null,
   "metadata": {
    "scrolled": true
   },
   "outputs": [],
   "source": [
    "from CalVal.SolarAngle import solang\n",
    "ground_bands['Solar_angle'] = ground_bands.apply(solang, axis=1)"
   ]
  },
  {
   "cell_type": "markdown",
   "metadata": {},
   "source": [
    "### BRDF Calculation\n",
    "\n",
    "The following script is adapted from FORTRAN code that will calculate the adjusted ASD measurement to 45$^\\circ$. This is derived from \"MODIS BRDF / Albedo Product: Algorithm Theoretical basis Docuement Version 5.0\" by Strahler et al. (1999).\n",
    "\n",
    "What follows is a key to the variables used in this code, compared to the variables and equations in the document:\n",
    "\n",
    "hb and br = h/b and b/r . . . . . . . . . . . . . . . crown shape parameters, respectively.<BR>\n",
    "RL_brdf = R($\\theta, \\vartheta, \\phi, \\Lambda$). . . . . . . . . . . . . . (37)<BR>\n",
    "solar = $\\theta$ . . . . . . . . . . . . . . . . . . . . . . . . . . solar zenith angle<BR>\n",
    "view = $\\xi$ . . . . . . . . . . . . . . . . . . . . . . . . . . .view zenith angle<BR>\n",
    "ra = $\\phi$ . . . . . . . . . . . . . . . . . . . . . . . . . . . . view-sun relative azimuth angle<BR>\n",
    "cosxi = cos $\\xi^\\prime$ . . . . . . . . . . . . . . . . . . . . . . (43)<BR>\n",
    "rs_thick = K$_{vol}$ = RossThick kernel . . . . . . (38)<BR>\n",
    "d_li2 = D$^2$ . . . . . . . . . . . . . . . . . . . . . . . . . (42)<BR>\n",
    "x_li = tan$\\theta^\\prime$ tan$\\vartheta^\\prime$ sin$\\phi$ . . . . . . . . . . . . . . .(41) (part of)<BR>\n",
    "cosl = cos $t$ . . . . . . . . . . . . . . . . . . . . . . . . (41)<BR>\n",
    "l_li = $t$ . . . . . . . . . . . . . . . . . . . . . . . . . . . . .constrained such that $-1 \\leq t \\leq 1$<BR>\n",
    "o_li = O($\\theta, \\vartheta, \\phi$) . . . . . . . . . . . . . . . . . . . .(40)<BR>\n",
    "li_sparse = K$_{geo}$ . . . . . . . . . . . . . . . . . . . . (39)<BR><BR><BR>\n",
    "\n",
    "Equations used for the Ross-Li BRDF model:\n",
    "\n",
    "R($\\theta, \\vartheta, \\phi, \\Lambda$) = $f_{iso}(\\Lambda) + f_{vol}(\\Lambda)\\,K_{vol}(\\theta, \\vartheta, \\phi) + f_{geo}(\\Lambda)\\,K_{geo}(\\theta, \\vartheta, \\phi)$ . . . . . . . . (37)\n",
    "\n",
    "$K_{vol} = k_{RT} = \\frac{(\\pi/2 - \\xi)\\rm{cos}\\,\\xi + \\rm{sin}\\,\\xi}{\\rm{cos}\\,\\theta + \\rm{cos}\\,\\vartheta} - \\frac{\\pi}{4}$ . . . . . . . . . . . . . . . . . . . . . . . . . . . . . . . . . . . . . . (38)\n",
    "    \n",
    "$K_{geo} = k_{LSR} = O(\\theta, \\vartheta, \\phi) - {\\rm sec}\\,\\theta^\\prime - {\\rm sec}\\,\\vartheta^\\prime + \\frac{1}{2} (1 + \\rm{cos}\\,\\xi^\\prime)\\, \\rm{sec}\\,\\theta^\\prime \\rm{sec}\\,\\vartheta^\\prime$ . . . (39)\n",
    "\n",
    "$O = \\frac{1}{\\pi}(t - \\rm{sin}\\,t\\,\\,\\rm{cos}\\,t)(\\rm{sec}\\,\\theta^\\prime + \\rm{sec}\\,\\vartheta^\\prime)$ . . . . . . . . . . . . . . . . . . . . . . . . . . . . . . . . . . (40)\n",
    "\n",
    "$\\rm{cos}\\,t = \\frac{h}{b}\\frac{\\sqrt{D^2 + (\\rm{tan}\\,\\theta^\\prime\\,\\,\\rm{tan}\\,\\vartheta^\\prime\\,\\,\\rm{sin}\\,\\phi)^2}}{\\rm{sec}\\,\\theta^\\prime + \\rm{sec}\\,\\vartheta^\\prime}$ . . . . . . . . . . . . . . . . . . . . . . . . . . . . . . . . . . . . . . . . (41)\n",
    "\n",
    "$D = \\sqrt{\\rm{tan}^2\\,\\theta^\\prime + \\rm{tan}^2\\,\\vartheta^\\prime - 2\\,\\rm{tan}\\,\\theta^\\prime\\,\\rm{tan}\\,\\vartheta^\\prime\\,\\rm{cos}\\,\\phi}$ . . . . . . . . . . . . . . . . . . . . . . . . . . (42)\n",
    "\n",
    "$\\rm{cos}\\,\\xi^\\prime = \\rm{cos}\\,\\theta^\\prime\\,\\rm{cos}\\,\\vartheta^\\prime + \\rm{sin}\\,\\theta^\\prime\\,\\rm{sin}\\,\\vartheta^\\prime\\,\\rm{cos}\\,\\phi$ . . . . . . . . . . . . . . . . . . . . . . . . . . . . . . .(43)\n",
    "\n",
    "$\\theta^\\prime = \\rm{tan}^{-1}(\\frac{b}{r}\\rm{tan}\\,\\theta)\\,\\vartheta^\\prime = \\rm{tan}^{-1}(\\frac{b}{r}\\rm{tan}\\,\\vartheta)$ . . . . . . . . . . . . . . . . . . . . . . . . . . . . . . . . . .(44)"
   ]
  },
  {
   "cell_type": "code",
   "execution_count": null,
   "metadata": {
    "scrolled": false
   },
   "outputs": [],
   "source": [
    "ground_brdf, hb, br = BRDF.ReadAndCalc(brdf_data, ground_bands, field_data)"
   ]
  },
  {
   "cell_type": "markdown",
   "metadata": {},
   "source": [
    "### Choose bands for Landsat 8 and Sentinel satellite data"
   ]
  },
  {
   "cell_type": "code",
   "execution_count": null,
   "metadata": {},
   "outputs": [],
   "source": [
    "from CalVal.ApplyWeights import get_spectrum_curve\n",
    "\n",
    "band_nn = get_spectrum_curve(f_name)\n",
    "senti_bands = [1,2,3,4,5,6,7,8,'8a',11,12]\n",
    "ls8_bands = [1,2,3,4,5,6,7]\n",
    "\n",
    "if field_data[3] == 'Landsat8':\n",
    "    band_min = [band_nn['band'+str(i)][:, 0].min() for i in ls8_bands]\n",
    "    band_max = [band_nn['band'+str(i)][:, 0].max() for i in ls8_bands]\n",
    "\n",
    "elif field_data[3] == 'Sentinel2a' or field_data[3] == 'Sentinel2b':\n",
    "    band_min = [band_nn['band'+str(i)][:, 0].min() for i in senti_bands]\n",
    "    band_max = [band_nn['band'+str(i)][:, 0].max() for i in senti_bands]\n",
    "\n",
    "else:\n",
    "    print('Satellite name should be one of Landsat8 or Sentinel. I got', field_data[3])"
   ]
  },
  {
   "cell_type": "markdown",
   "metadata": {},
   "source": [
    "# Figure \n",
    "\n",
    "### Plot satellite band extents against median ground spectrum\n",
    "\n",
    "This plot will show where the satellite bands fall, with respect to the spectrum<BR>\n",
    "and in particular, with respect to the atmospheric absorbtion features."
   ]
  },
  {
   "cell_type": "code",
   "execution_count": null,
   "metadata": {},
   "outputs": [],
   "source": [
    "FIG_BandExtents.FIG_band_extents(all_refls, band_min, band_max, output, field_data, fignum)\n",
    "fignum += 1"
   ]
  },
  {
   "cell_type": "markdown",
   "metadata": {},
   "source": [
    "### Fudge GPS locations if none exist"
   ]
  },
  {
   "cell_type": "code",
   "execution_count": null,
   "metadata": {
    "scrolled": false
   },
   "outputs": [],
   "source": [
    "ground_brdf = FudgeGPS.fudge_gps(ground_brdf, Corners, RockWalk, StartCorner)"
   ]
  },
  {
   "cell_type": "markdown",
   "metadata": {},
   "source": [
    "### Query Satellite data\n",
    "\n",
    "Retrieve xarrays for satellite data, based on which satellite, query area and time.<BR>\n",
    "sat_array will contain all band data<BR>\n",
    "sat_bigarray will be a larger version of sat_array, which can be used for context plotting.<BR>\n",
    "ls8_usgs_array will contain the USGS Level 2 product of Landsat 8 data.<BR>\n",
    "ls8_usgs_bigarray will be the larger version of ls8_usgs_array.<P>\n",
    "    \n",
    "BRDF data is sourced/applied from satellite yaml file to match field and satellite processing for Landsat 8.<BR>\n",
    "ground_WSbrdf is the brdf calculated for the whole of scene (based on satellite yaml file)."
   ]
  },
  {
   "cell_type": "code",
   "execution_count": null,
   "metadata": {},
   "outputs": [],
   "source": [
    "dc, udc, query, query2 = Query.make_query(ground_brdf, field_data)\n",
    "\n",
    "if field_data[3] == 'Landsat8':\n",
    "    sat_array, sat_bigarray, ls8_usgs_array, ls8_usgs_bigarray = CreateSatArrays.create_sat_arrays(dc, udc, query, query2, field_data)    \n",
    "    brdf_data, solar_zenith = SatBRDF.Sat_BRDF(dc, query, sat_array)\n",
    "    ground_WSbrdf, hb, br = BRDF.ReadAndCalc(brdf_data, ground_bands, field_data)\n",
    "    ground_WSbrdf = FudgeGPS.fudge_gps(ground_WSbrdf, Corners, RockWalk, StartCorner)\n",
    "else:\n",
    "    sat_array, sat_bigarray = CreateSatArrays.create_sat_arrays(dc, udc, query, query2, field_data)"
   ]
  },
  {
   "cell_type": "markdown",
   "metadata": {},
   "source": [
    "# Figure \n",
    "\n",
    "### Plot relative locations of field and satellite data"
   ]
  },
  {
   "cell_type": "code",
   "execution_count": null,
   "metadata": {
    "scrolled": false
   },
   "outputs": [],
   "source": [
    "xloc = FIG_SatFieldLocations.FIG_sat_field_locations(ground_brdf, sat_array, colpac, output, field_data, fignum)\n",
    "fignum +=1"
   ]
  },
  {
   "cell_type": "markdown",
   "metadata": {},
   "source": [
    "### Create Field full band xarray\n",
    "\n",
    "The field xarray is based on the pixel locations of the satellite data, where each pixel<BR>\n",
    "    contains an average of all field data measurements that fall within the pixel."
   ]
  },
  {
   "cell_type": "code",
   "execution_count": null,
   "metadata": {},
   "outputs": [],
   "source": [
    "field_array = CreateFieldFromSat.create_field_from_sat(sat_array, ground_brdf, xloc, field_data)\n",
    "\n",
    "if field_data[3] == 'Landsat8':\n",
    "    field_WSarray = CreateFieldFromSat.create_field_from_sat(sat_array, ground_WSbrdf, xloc, field_data)"
   ]
  },
  {
   "cell_type": "markdown",
   "metadata": {},
   "source": [
    "# Figure \n",
    "\n",
    "### Plot large-area context RGB array for Satellite data"
   ]
  },
  {
   "cell_type": "code",
   "execution_count": null,
   "metadata": {
    "scrolled": false
   },
   "outputs": [],
   "source": [
    "FIG_SatBigRGB.FIG_sat_bigRGB(sat_array, sat_bigarray, output, field_data, fignum)\n",
    "fignum += 1"
   ]
  },
  {
   "cell_type": "markdown",
   "metadata": {},
   "source": [
    "# Figure \n",
    "\n",
    "### Plot RGB array for Satellite data"
   ]
  },
  {
   "cell_type": "code",
   "execution_count": null,
   "metadata": {},
   "outputs": [],
   "source": [
    "FIG_SatRGB.FIG_sat_RGB(sat_array, output, field_data, fignum)\n",
    "fignum += 1"
   ]
  },
  {
   "cell_type": "markdown",
   "metadata": {},
   "source": [
    "# Figure \n",
    "\n",
    "### Plot RGB array for Field data"
   ]
  },
  {
   "cell_type": "code",
   "execution_count": null,
   "metadata": {},
   "outputs": [],
   "source": [
    "if field_data[3] == 'Landsat8':\n",
    "    FIG_FieldRGB.FIG_field_RGB(field_WSarray, output, field_data, fignum)\n",
    "else:\n",
    "    FIG_FieldRGB.FIG_field_RGB(field_array, output, field_data, fignum)\n",
    "fignum += 1"
   ]
  },
  {
   "cell_type": "markdown",
   "metadata": {},
   "source": [
    "## Figure\n",
    "### Variance of satellite data\n",
    "\n",
    "Band-by-band plots of the ratio of satellite data, divided by the mean, for each band are shown.\n",
    "The title also lists the min, max and mean variance. Variance is defined as the ratio of the standard\n",
    "deviation divided by the mean, for each band. The mean variance should typically be less than 5%."
   ]
  },
  {
   "cell_type": "code",
   "execution_count": null,
   "metadata": {
    "scrolled": false
   },
   "outputs": [],
   "source": [
    "if field_data[3] == 'Landsat8':\n",
    "    variance = FIG_SatBands.FIG_sat_bands(sat_array, field_WSarray, output, field_data, fignum)\n",
    "else:\n",
    "    variance = FIG_SatBands.FIG_sat_bands(sat_array, field_array, output, field_data, fignum)\n",
    "fignum += 1"
   ]
  },
  {
   "cell_type": "markdown",
   "metadata": {},
   "source": [
    "# Figure\n",
    "\n",
    "### Plot ratio arrays for each band\n",
    "\n",
    "Each panel shows the ratio of satellite/field data."
   ]
  },
  {
   "cell_type": "code",
   "execution_count": null,
   "metadata": {},
   "outputs": [],
   "source": [
    "if field_data[3] == 'Landsat8':\n",
    "    FIG_RatioArrays.FIG_ratio_arrays(sat_array, field_WSarray, output, field_data, fignum)\n",
    "else:\n",
    "    FIG_RatioArrays.FIG_ratio_arrays(sat_array, field_array, output, field_data, fignum)\n",
    "fignum += 1"
   ]
  },
  {
   "cell_type": "markdown",
   "metadata": {},
   "source": [
    "### Create a statistics dataframe, comparing satellite and field data"
   ]
  },
  {
   "cell_type": "code",
   "execution_count": null,
   "metadata": {
    "scrolled": true
   },
   "outputs": [],
   "source": [
    "fstat_df = CreateStats.create_stats(sat_array, ground_brdf, field_data)\n",
    "\n",
    "if field_data[3] == 'Landsat8':\n",
    "    fstat_WSdf = CreateStats.create_stats(sat_array, ground_WSbrdf, field_data)\n",
    "    if field_data[5] == 'USGS':\n",
    "        fstat_usgs_df = CreateStats.create_stats(ls8_usgs_array, ground_bands, field_data)"
   ]
  },
  {
   "cell_type": "markdown",
   "metadata": {},
   "source": [
    "## Create a statistics dataframe, comparing satellite and field data,\n",
    "for only those satellite pixels which overlap with at least one field data position."
   ]
  },
  {
   "cell_type": "code",
   "execution_count": null,
   "metadata": {},
   "outputs": [],
   "source": [
    "finner_df = CreateSubStats.create_SUB_stats(sat_array, field_array, ground_brdf, fstat_df, field_data)\n",
    "if field_data[3] == 'Landsat8':\n",
    "    finner_WSdf = CreateSubStats.create_SUB_stats(sat_array, field_WSarray, ground_WSbrdf, fstat_WSdf, field_data)"
   ]
  },
  {
   "cell_type": "markdown",
   "metadata": {},
   "source": [
    "# Figure\n",
    "\n",
    "### Plot comparison spectra of satellite and field data, on a pixel-by-pixel basis\n",
    "\n",
    "Error bars are shown for the satellite and field data, based on the standard deviation of the pixels\n",
    "within the field. The black line shows the satellite data, which has been averaged over all pixels that satisfy the Datacube query ie. all pixels shown in Figure 11. The orange line shows satellite data which has been averaged over only those pixels that overlap with at least one field measurement."
   ]
  },
  {
   "cell_type": "code",
   "execution_count": null,
   "metadata": {
    "scrolled": false
   },
   "outputs": [],
   "source": [
    "if field_data[3] == 'Landsat8':\n",
    "    FIG_SubSatFieldBands.FIG_SUB_sat_field_bands(sat_array, fstat_WSdf, finner_WSdf, output, field_data, fignum)\n",
    "else:\n",
    "    FIG_SubSatFieldBands.FIG_SUB_sat_field_bands(sat_array, fstat_df, finner_df, output, field_data, fignum)\n",
    "fignum += 1"
   ]
  },
  {
   "cell_type": "code",
   "execution_count": null,
   "metadata": {
    "scrolled": true
   },
   "outputs": [],
   "source": [
    "if field_data[3] == 'Landsat8':\n",
    "    FIG_SatFieldBands.FIG_sat_field_bands(sat_array, fstat_WSdf, finner_WSdf, output, field_data, fignum)\n",
    "else:\n",
    "    FIG_SatFieldBands.FIG_sat_field_bands(sat_array, fstat_df, finner_df, output, field_data, fignum)\n",
    "fignum += 1"
   ]
  },
  {
   "cell_type": "markdown",
   "metadata": {},
   "source": [
    "# Figure\n",
    "\n",
    "### Comparison plot of Field and satellite data\n",
    "\n",
    "Plot shows a pixel-by-pixel comparison of all pixels where field data exists.<BR> \n",
    "Different band data are shown in different colours and different symbols."
   ]
  },
  {
   "cell_type": "code",
   "execution_count": null,
   "metadata": {
    "scrolled": false
   },
   "outputs": [],
   "source": [
    "if field_data[3] == 'Landsat8':\n",
    "    FIG_SatFieldScatterCompare.FIG_sat_field_scatter_compare(sat_array, field_WSarray, plot_scale, output, field_data, fignum)\n",
    "else:\n",
    "    FIG_SatFieldScatterCompare.FIG_sat_field_scatter_compare(sat_array, field_array, plot_scale, output, field_data, fignum)\n",
    "fignum += 1"
   ]
  },
  {
   "cell_type": "code",
   "execution_count": null,
   "metadata": {
    "scrolled": false
   },
   "outputs": [],
   "source": [
    "if field_data[3] == 'Landsat8':\n",
    "    FIG_SatFieldAvgScatterCompare.FIG_sat_field_avg_scatter_compare(sat_array, field_WSarray, plot_scale, fstat_WSdf, output, field_data, fignum)\n",
    "else:\n",
    "    FIG_SatFieldAvgScatterCompare.FIG_sat_field_avg_scatter_compare(sat_array, field_array, plot_scale, fstat_df, output, field_data, fignum)\n",
    "fignum += 1"
   ]
  },
  {
   "cell_type": "markdown",
   "metadata": {},
   "source": [
    "## Print out summary data sheet"
   ]
  },
  {
   "cell_type": "code",
   "execution_count": null,
   "metadata": {},
   "outputs": [],
   "source": [
    "if field_data[3] == 'Landsat8':\n",
    "    PrintSheet.print_sheet(ground_WSbrdf, sat_array, fstat_WSdf, indir, output, field_data, Corners, RockWalk, StartCorner, variance, query, dc)\n",
    "else:\n",
    "    PrintSheet.print_sheet(ground_brdf, sat_array, fstat_df, indir, output, field_data, Corners, RockWalk, StartCorner, variance, query, dc)"
   ]
  },
  {
   "cell_type": "code",
   "execution_count": null,
   "metadata": {},
   "outputs": [],
   "source": [
    "if field_data[3] == 'Landsat8':\n",
    "    fstat_WSdf.to_csv('../CSV/'+field_data[0]+'_'+field_data[1]+'_'+field_data[2]+'_'+field_data[3]+'.csv')\n",
    "    if field_data[5] == 'USGS':\n",
    "        fstat_usgs_df.to_csv('../CSV/'+field_data[0]+'_'+field_data[1]+'_'+field_data[2]+'_'+field_data[3]+'_USGS.csv')\n",
    "else:\n",
    "    fstat_df.to_csv('../CSV/'+field_data[0]+'_'+field_data[1]+'_'+field_data[2]+'_'+field_data[3]+'.csv')\n"
   ]
  },
  {
   "cell_type": "code",
   "execution_count": null,
   "metadata": {},
   "outputs": [],
   "source": [
    "if field_data[3] == 'Landsat8':\n",
    "    print('Difference in time between field site measurement and LS8 data is '\n",
    "          +str(pd.to_datetime(str(sat_array.time.values[0])) - ground_WSbrdf['date_saved'].min()))\n",
    "else:\n",
    "    print('Difference in time between field site measurement and Sentinel data is '\n",
    "          +str(pd.to_datetime(str(sat_array.time.values[0])) - ground_brdf['date_saved'].min()))    "
   ]
  },
  {
   "cell_type": "markdown",
   "metadata": {},
   "source": [
    "## How long did this notebook take to run?"
   ]
  },
  {
   "cell_type": "code",
   "execution_count": null,
   "metadata": {
    "scrolled": false
   },
   "outputs": [],
   "source": [
    "import datetime\n",
    "print(\"This Notebook took \", str(datetime.timedelta(seconds=int((time.time() - start_time)))), \"(h:m:s) to run\")"
   ]
  }
 ],
 "metadata": {
  "kernelspec": {
   "display_name": "Python 3",
   "language": "python",
   "name": "python3"
  },
  "language_info": {
   "codemirror_mode": {
    "name": "ipython",
    "version": 3
   },
   "file_extension": ".py",
   "mimetype": "text/x-python",
   "name": "python",
   "nbconvert_exporter": "python",
   "pygments_lexer": "ipython3",
   "version": "3.6.7"
  }
 },
 "nbformat": 4,
 "nbformat_minor": 2
}
