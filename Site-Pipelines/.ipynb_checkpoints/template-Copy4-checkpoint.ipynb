{
 "cells": [
  {
   "cell_type": "markdown",
   "metadata": {},
   "source": [
    "# Workflow for processing  TEMPLATE Pinnacles - 20MAY18"
   ]
  },
  {
   "cell_type": "code",
   "execution_count": 1,
   "metadata": {},
   "outputs": [],
   "source": [
    "import time\n",
    "start_time = time.time()\n",
    "\n",
    "import numpy as np\n",
    "\n",
    "#\n",
    "# Set up input and output directories\n",
    "#\n",
    "indir = '/g/data1a/u46/users/aw3463/GuyByrne/30APR18/Blanchetown/22APR18/'\n",
    "output = '/g/data/u46/users/aw3463/GuyByrne/calval/PNGS/BLA-22APR18/'\n",
    "\n",
    "#\n",
    "# field_data is in the format: 'Field Site Name', 'Date', 'Site number', 'Satellite Name'\n",
    "# NOTE: Satellite name should be one of: 'Landsat8', 'Sentinel2a', or 'Sentinel2b'.\n",
    "#\n",
    "#\n",
    "# field_data is in the format: 'Field Site Name', 'Date', 'Site number', 'Satellite Name', 'Panel origin', 'Reflectance/Radiance'.\n",
    "# and 'Radiance'/'Reflectance'.\n",
    "# NOTE: Satellite name should be one of: 'Landsat8', 'Sentinel2a', or 'Sentinel2b'.\n",
    "#\n",
    "field_data = ['BLA', '22APR18', '', 'Sentinel2a', 'UA_Panel', 'Radiance']\n",
    "\n",
    "#\n",
    "# bad_pans    contains the names of individual panels readings that appear to be bogus\n",
    "# bad_grounds contains ground-reading file names that appear to be bogus\n",
    "# Use empty lists if there are no bad spectra.\n",
    "#\n",
    "#bad_grounds = ['llg_l300010.asd.rad', 'llg_l300011.asd.rad', 'llg_l300038.asd.rad', 'llg_l300039.asd.rad', 'llg_l300040.asd.rad', 'llg_l300041.asd.rad']\n",
    "bad_grounds = ['BTOWN_00275.asd.rad']\n",
    "#bad_pans = ['lkg_l700000.asd.rad', 'lkg_l700001.asd.rad']\n",
    "bad_pans = []\n",
    "\n",
    "#\n",
    "# Define the first line and spectrum number for all/good panels and grounds\n",
    "#\n",
    "firstGoodLine = 1\n",
    "firstGoodPanelSpec = 2\n",
    "firstGoodGroundSpec = 32\n",
    "\n",
    "#\n",
    "# Calculated BRDF data\n",
    "#\n",
    "brdf_data = np.array([['', 'brdf0', 'brdf1', 'brdf2'],\n",
    "                          ['band1', 0.034192, 0.034796, 0.006668000000000001],\n",
    "                          ['band11', 0.10967600000000001, 0.035744000000000005, 0.025232],\n",
    "                          ['band12', 0.06937600000000001, 0.019912000000000003, 0.016632],\n",
    "                          ['band2', 0.034192, 0.034796, 0.006668000000000001],\n",
    "                          ['band3', 0.06402000000000001, 0.040524000000000004, 0.015156000000000001],\n",
    "                          ['band4', 0.061020000000000005, 0.036208, 0.016488],\n",
    "                          ['band5', 0.061020000000000005, 0.036208, 0.016488],\n",
    "                          ['band6', 0.061020000000000005, 0.036208, 0.016488],\n",
    "                          ['band7', 0.12706800000000001, 0.053164, 0.029604000000000002],\n",
    "                          ['band8', 0.12706800000000001, 0.053164, 0.029604000000000002],\n",
    "                          ['band8a', 0.12706800000000001, 0.053164, 0.029604000000000002],\n",
    "                         ])\n",
    "\n",
    "#\n",
    "# plot_scale defines the extent of the axes in the final two plots in the workflow.\n",
    "# A scale from 0-1 means no reflectance to perfect reflectance. Typically, dark sites\n",
    "# will range from 0-0.3, whereas bright sites will be between 0-1.\n",
    "#\n",
    "plot_scale = [0.0, 0.6, 0.0, 0.6]\n",
    "\n",
    "#\n",
    "# Define corners of field data, if GPS coordinates are NOT written into headers.\n",
    "# Order is SE, SW, NE, NW. Units are decimal degrees.\n",
    "# If there are no coordinates, then set RockWalk to either True or False.\n",
    "# True  means that the field site was walked in a rock-like pattern (alternating directions),\n",
    "# False means that the field site was walked in a roll-like pattern (same direction)\n",
    "#\n",
    "Corners = [-34.385141, 139.600725, -34.385142, 139.599790, -34.384350, 139.600920, -34.384327, 139.599893] \n",
    "RockWalk = True\n",
    "StartCorner = 'SE'"
   ]
  },
  {
   "cell_type": "code",
   "execution_count": 2,
   "metadata": {},
   "outputs": [],
   "source": [
    "import matplotlib.pyplot as plt\n",
    "import matplotlib\n",
    "import datacube\n",
    "import sys, os, shutil\n",
    "sys.path.append(\"..\")\n",
    "\n",
    "from CalVal import *\n",
    "\n",
    "#\n",
    "# Use notebook format (allows inline zooming and moving of figures)\n",
    "# Set default font size for all plots\n",
    "#\n",
    "%matplotlib notebook\n",
    "matplotlib.rcParams.update({'font.size': 12})\n",
    "matplotlib.rcParams['savefig.dpi'] = 300\n",
    "\n",
    "#\n",
    "# Remove old files in directory and create a new one\n",
    "#\n",
    "directory = os.path.dirname(output)\n",
    "if os.path.exists(directory):\n",
    "    shutil.rmtree(directory)\n",
    "os.makedirs(directory)"
   ]
  },
  {
   "cell_type": "code",
   "execution_count": 3,
   "metadata": {},
   "outputs": [],
   "source": [
    "#######################################\n",
    "# LINES BELOW SHOULD REMAIN UNCHANGED #\n",
    "#######################################\n",
    "#\n",
    "# panel_dir and in_panel refer to the file that is used in determining the k-factor,\n",
    "# so this should remain unchanged.\n",
    "#\n",
    "if field_data[5] == 'Radiance':\n",
    "    suffix = 'asd.rad.txt'\n",
    "else: \n",
    "    suffix = 'asd.txt'\n",
    "\n",
    "panel_dir =  '/g/data1a/u46/users/aw3463/GuyByrne/30APR18/Panels/'\n",
    "\n",
    "if field_data[4] == 'GA_Panel':\n",
    "    in_panel = 'ga_panel1_jan_2018.txt'\n",
    "elif field_data[4] == 'CSIRO_Panel':\n",
    "    in_panel = 'csiro_panel.txt'\n",
    "elif field_data[4] == 'UA_Panel':\n",
    "    in_panel = 'ua_panel.txt'\n",
    "elif field_data[4] == 'UOW_Panel':\n",
    "    in_panel = 'uow_panel.txt'\n",
    "elif field_data[4] == 'UQ_Panel':\n",
    "    in_panel = 'uq_panel.txt'\n",
    "elif field_data[4] == 'CSIRO_VIC_Panel':\n",
    "    in_panel = 'csiro_vic_panel.txt'\n",
    "else:\n",
    "    nopanel = '***PANEL NAME NOT KNOWN***'\n",
    "    print(nopanel)\n",
    "\n",
    "#\n",
    "# Setup for Landsat and Sentinel bandpass filters\n",
    "#\n",
    "sat_resp = dict({'Landsat5': '/g/data1a/u46/users/aw3463/GuyByrne/misc_others/landsat5_vsir.flt', \n",
    "            'Landsat7': '/g/data1a/u46/users/aw3463/GuyByrne/misc_others/landsat7_vsir.flt', \n",
    "            'Landsat8': '/g/data1a/u46/users/aw3463/GuyByrne/misc_others/landsat8_vsir.flt',\n",
    "            'Sentinel2a': '/g/data1a/u46/users/aw3463/GuyByrne/misc_others/Sent2a.flt',\n",
    "            'Sentinel2b': '/g/data1a/u46/users/aw3463/GuyByrne/misc_others/Sent2b.flt'})\n",
    "\n",
    "f_name = sat_resp[field_data[3]]\n",
    "\n",
    "#\n",
    "# Colours used for plotting multi-coloured Lines\n",
    "#\n",
    "colpac=['#770000', '#FF0000', '#FF7700', '#FFFF00', '#77FF00', '#00FF00', \n",
    "        '#00FF77', '#00FFFF', '#0077FF', '#0000FF', '#000077', '#FF00FF', '#777777', '#770077', '#777700']\n",
    "\n",
    "#\n",
    "# Start Figure numbering at 1\n",
    "#\n",
    "fignum = 1"
   ]
  },
  {
   "cell_type": "markdown",
   "metadata": {},
   "source": [
    "### Define 'alldata' as the dataframe that contains all the raw spectra.\n",
    "Show the first wavelength of every spectrum, so that the data integrity can be checked."
   ]
  },
  {
   "cell_type": "code",
   "execution_count": 4,
   "metadata": {
    "scrolled": true
   },
   "outputs": [
    {
     "data": {
      "text/html": [
       "<div>\n",
       "<style scoped>\n",
       "    .dataframe tbody tr th:only-of-type {\n",
       "        vertical-align: middle;\n",
       "    }\n",
       "\n",
       "    .dataframe tbody tr th {\n",
       "        vertical-align: top;\n",
       "    }\n",
       "\n",
       "    .dataframe thead th {\n",
       "        text-align: right;\n",
       "    }\n",
       "</style>\n",
       "<table border=\"1\" class=\"dataframe\">\n",
       "  <thead>\n",
       "    <tr style=\"text-align: right;\">\n",
       "      <th></th>\n",
       "      <th>Wavelength</th>\n",
       "      <th>radiance</th>\n",
       "      <th>filename</th>\n",
       "      <th>date_saved</th>\n",
       "      <th>Latitude</th>\n",
       "      <th>Longitude</th>\n",
       "      <th>Line</th>\n",
       "      <th>Spec_number</th>\n",
       "      <th>Inst_number</th>\n",
       "    </tr>\n",
       "  </thead>\n",
       "  <tbody>\n",
       "    <tr>\n",
       "      <th>0</th>\n",
       "      <td>350</td>\n",
       "      <td>0.095221</td>\n",
       "      <td>BTOWN_00002.asd.rad</td>\n",
       "      <td>2018-04-22 00:51:38</td>\n",
       "      <td>-34.385141</td>\n",
       "      <td>139.600725</td>\n",
       "      <td>1</td>\n",
       "      <td>2</td>\n",
       "      <td>16356/2</td>\n",
       "    </tr>\n",
       "    <tr>\n",
       "      <th>0</th>\n",
       "      <td>350</td>\n",
       "      <td>0.095130</td>\n",
       "      <td>BTOWN_00003.asd.rad</td>\n",
       "      <td>2018-04-22 00:51:40</td>\n",
       "      <td>-34.385141</td>\n",
       "      <td>139.600725</td>\n",
       "      <td>1</td>\n",
       "      <td>3</td>\n",
       "      <td>16356/2</td>\n",
       "    </tr>\n",
       "    <tr>\n",
       "      <th>0</th>\n",
       "      <td>350</td>\n",
       "      <td>0.095014</td>\n",
       "      <td>BTOWN_00004.asd.rad</td>\n",
       "      <td>2018-04-22 00:51:43</td>\n",
       "      <td>-34.385141</td>\n",
       "      <td>139.600725</td>\n",
       "      <td>1</td>\n",
       "      <td>4</td>\n",
       "      <td>16356/2</td>\n",
       "    </tr>\n",
       "    <tr>\n",
       "      <th>0</th>\n",
       "      <td>350</td>\n",
       "      <td>0.095105</td>\n",
       "      <td>BTOWN_00005.asd.rad</td>\n",
       "      <td>2018-04-22 00:51:45</td>\n",
       "      <td>-34.385141</td>\n",
       "      <td>139.600725</td>\n",
       "      <td>1</td>\n",
       "      <td>5</td>\n",
       "      <td>16356/2</td>\n",
       "    </tr>\n",
       "    <tr>\n",
       "      <th>0</th>\n",
       "      <td>350</td>\n",
       "      <td>0.095166</td>\n",
       "      <td>BTOWN_00006.asd.rad</td>\n",
       "      <td>2018-04-22 00:51:48</td>\n",
       "      <td>-34.385141</td>\n",
       "      <td>139.600725</td>\n",
       "      <td>1</td>\n",
       "      <td>6</td>\n",
       "      <td>16356/2</td>\n",
       "    </tr>\n",
       "    <tr>\n",
       "      <th>0</th>\n",
       "      <td>350</td>\n",
       "      <td>0.095354</td>\n",
       "      <td>BTOWN_00007.asd.rad</td>\n",
       "      <td>2018-04-22 00:51:50</td>\n",
       "      <td>-34.385141</td>\n",
       "      <td>139.600725</td>\n",
       "      <td>1</td>\n",
       "      <td>7</td>\n",
       "      <td>16356/2</td>\n",
       "    </tr>\n",
       "    <tr>\n",
       "      <th>0</th>\n",
       "      <td>350</td>\n",
       "      <td>0.095206</td>\n",
       "      <td>BTOWN_00008.asd.rad</td>\n",
       "      <td>2018-04-22 00:51:53</td>\n",
       "      <td>-34.385141</td>\n",
       "      <td>139.600725</td>\n",
       "      <td>1</td>\n",
       "      <td>8</td>\n",
       "      <td>16356/2</td>\n",
       "    </tr>\n",
       "    <tr>\n",
       "      <th>0</th>\n",
       "      <td>350</td>\n",
       "      <td>0.095327</td>\n",
       "      <td>BTOWN_00009.asd.rad</td>\n",
       "      <td>2018-04-22 00:51:55</td>\n",
       "      <td>-34.385141</td>\n",
       "      <td>139.600725</td>\n",
       "      <td>1</td>\n",
       "      <td>9</td>\n",
       "      <td>16356/2</td>\n",
       "    </tr>\n",
       "    <tr>\n",
       "      <th>0</th>\n",
       "      <td>350</td>\n",
       "      <td>0.095178</td>\n",
       "      <td>BTOWN_00010.asd.rad</td>\n",
       "      <td>2018-04-22 00:51:58</td>\n",
       "      <td>-34.385141</td>\n",
       "      <td>139.600725</td>\n",
       "      <td>1</td>\n",
       "      <td>10</td>\n",
       "      <td>16356/2</td>\n",
       "    </tr>\n",
       "    <tr>\n",
       "      <th>0</th>\n",
       "      <td>350</td>\n",
       "      <td>0.095345</td>\n",
       "      <td>BTOWN_00011.asd.rad</td>\n",
       "      <td>2018-04-22 00:52:00</td>\n",
       "      <td>-34.385141</td>\n",
       "      <td>139.600725</td>\n",
       "      <td>1</td>\n",
       "      <td>11</td>\n",
       "      <td>16356/2</td>\n",
       "    </tr>\n",
       "    <tr>\n",
       "      <th>0</th>\n",
       "      <td>350</td>\n",
       "      <td>0.095346</td>\n",
       "      <td>BTOWN_00022.asd.rad</td>\n",
       "      <td>2018-04-22 00:52:59</td>\n",
       "      <td>-34.385141</td>\n",
       "      <td>139.600725</td>\n",
       "      <td>1</td>\n",
       "      <td>22</td>\n",
       "      <td>16356/2</td>\n",
       "    </tr>\n",
       "    <tr>\n",
       "      <th>0</th>\n",
       "      <td>350</td>\n",
       "      <td>0.095172</td>\n",
       "      <td>BTOWN_00023.asd.rad</td>\n",
       "      <td>2018-04-22 00:53:03</td>\n",
       "      <td>-34.385141</td>\n",
       "      <td>139.600725</td>\n",
       "      <td>1</td>\n",
       "      <td>23</td>\n",
       "      <td>16356/2</td>\n",
       "    </tr>\n",
       "    <tr>\n",
       "      <th>0</th>\n",
       "      <td>350</td>\n",
       "      <td>0.094246</td>\n",
       "      <td>BTOWN_00024.asd.rad</td>\n",
       "      <td>2018-04-22 00:53:06</td>\n",
       "      <td>-34.385141</td>\n",
       "      <td>139.600725</td>\n",
       "      <td>1</td>\n",
       "      <td>24</td>\n",
       "      <td>16356/2</td>\n",
       "    </tr>\n",
       "    <tr>\n",
       "      <th>0</th>\n",
       "      <td>350</td>\n",
       "      <td>0.094605</td>\n",
       "      <td>BTOWN_00025.asd.rad</td>\n",
       "      <td>2018-04-22 00:53:08</td>\n",
       "      <td>-34.385141</td>\n",
       "      <td>139.600725</td>\n",
       "      <td>1</td>\n",
       "      <td>25</td>\n",
       "      <td>16356/2</td>\n",
       "    </tr>\n",
       "    <tr>\n",
       "      <th>0</th>\n",
       "      <td>350</td>\n",
       "      <td>0.095787</td>\n",
       "      <td>BTOWN_00026.asd.rad</td>\n",
       "      <td>2018-04-22 00:53:11</td>\n",
       "      <td>-34.385141</td>\n",
       "      <td>139.600725</td>\n",
       "      <td>1</td>\n",
       "      <td>26</td>\n",
       "      <td>16356/2</td>\n",
       "    </tr>\n",
       "    <tr>\n",
       "      <th>0</th>\n",
       "      <td>350</td>\n",
       "      <td>0.096002</td>\n",
       "      <td>BTOWN_00027.asd.rad</td>\n",
       "      <td>2018-04-22 00:53:13</td>\n",
       "      <td>-34.385141</td>\n",
       "      <td>139.600725</td>\n",
       "      <td>1</td>\n",
       "      <td>27</td>\n",
       "      <td>16356/2</td>\n",
       "    </tr>\n",
       "    <tr>\n",
       "      <th>0</th>\n",
       "      <td>350</td>\n",
       "      <td>0.096435</td>\n",
       "      <td>BTOWN_00028.asd.rad</td>\n",
       "      <td>2018-04-22 00:53:16</td>\n",
       "      <td>-34.385141</td>\n",
       "      <td>139.600725</td>\n",
       "      <td>1</td>\n",
       "      <td>28</td>\n",
       "      <td>16356/2</td>\n",
       "    </tr>\n",
       "    <tr>\n",
       "      <th>0</th>\n",
       "      <td>350</td>\n",
       "      <td>0.096204</td>\n",
       "      <td>BTOWN_00029.asd.rad</td>\n",
       "      <td>2018-04-22 00:53:18</td>\n",
       "      <td>-34.385141</td>\n",
       "      <td>139.600725</td>\n",
       "      <td>1</td>\n",
       "      <td>29</td>\n",
       "      <td>16356/2</td>\n",
       "    </tr>\n",
       "    <tr>\n",
       "      <th>0</th>\n",
       "      <td>350</td>\n",
       "      <td>0.096193</td>\n",
       "      <td>BTOWN_00030.asd.rad</td>\n",
       "      <td>2018-04-22 00:53:21</td>\n",
       "      <td>-34.385141</td>\n",
       "      <td>139.600725</td>\n",
       "      <td>1</td>\n",
       "      <td>30</td>\n",
       "      <td>16356/2</td>\n",
       "    </tr>\n",
       "    <tr>\n",
       "      <th>0</th>\n",
       "      <td>350</td>\n",
       "      <td>0.096185</td>\n",
       "      <td>BTOWN_00031.asd.rad</td>\n",
       "      <td>2018-04-22 00:53:23</td>\n",
       "      <td>-34.385141</td>\n",
       "      <td>139.600725</td>\n",
       "      <td>1</td>\n",
       "      <td>31</td>\n",
       "      <td>16356/2</td>\n",
       "    </tr>\n",
       "    <tr>\n",
       "      <th>0</th>\n",
       "      <td>350</td>\n",
       "      <td>0.003090</td>\n",
       "      <td>BTOWN_00032.asd.rad</td>\n",
       "      <td>2018-04-22 00:55:34</td>\n",
       "      <td>-34.385141</td>\n",
       "      <td>139.600725</td>\n",
       "      <td>1</td>\n",
       "      <td>32</td>\n",
       "      <td>16356/2</td>\n",
       "    </tr>\n",
       "    <tr>\n",
       "      <th>0</th>\n",
       "      <td>350</td>\n",
       "      <td>0.003321</td>\n",
       "      <td>BTOWN_00033.asd.rad</td>\n",
       "      <td>2018-04-22 00:55:36</td>\n",
       "      <td>-34.385141</td>\n",
       "      <td>139.600725</td>\n",
       "      <td>1</td>\n",
       "      <td>33</td>\n",
       "      <td>16356/2</td>\n",
       "    </tr>\n",
       "    <tr>\n",
       "      <th>0</th>\n",
       "      <td>350</td>\n",
       "      <td>0.003901</td>\n",
       "      <td>BTOWN_00034.asd.rad</td>\n",
       "      <td>2018-04-22 00:55:39</td>\n",
       "      <td>-34.385141</td>\n",
       "      <td>139.600725</td>\n",
       "      <td>1</td>\n",
       "      <td>34</td>\n",
       "      <td>16356/2</td>\n",
       "    </tr>\n",
       "    <tr>\n",
       "      <th>0</th>\n",
       "      <td>350</td>\n",
       "      <td>0.003712</td>\n",
       "      <td>BTOWN_00035.asd.rad</td>\n",
       "      <td>2018-04-22 00:55:42</td>\n",
       "      <td>-34.385141</td>\n",
       "      <td>139.600725</td>\n",
       "      <td>1</td>\n",
       "      <td>35</td>\n",
       "      <td>16356/2</td>\n",
       "    </tr>\n",
       "    <tr>\n",
       "      <th>0</th>\n",
       "      <td>350</td>\n",
       "      <td>0.003880</td>\n",
       "      <td>BTOWN_00036.asd.rad</td>\n",
       "      <td>2018-04-22 00:55:45</td>\n",
       "      <td>-34.385141</td>\n",
       "      <td>139.600725</td>\n",
       "      <td>1</td>\n",
       "      <td>36</td>\n",
       "      <td>16356/2</td>\n",
       "    </tr>\n",
       "    <tr>\n",
       "      <th>0</th>\n",
       "      <td>350</td>\n",
       "      <td>0.003597</td>\n",
       "      <td>BTOWN_00037.asd.rad</td>\n",
       "      <td>2018-04-22 00:55:48</td>\n",
       "      <td>-34.385141</td>\n",
       "      <td>139.600725</td>\n",
       "      <td>1</td>\n",
       "      <td>37</td>\n",
       "      <td>16356/2</td>\n",
       "    </tr>\n",
       "    <tr>\n",
       "      <th>0</th>\n",
       "      <td>350</td>\n",
       "      <td>0.003680</td>\n",
       "      <td>BTOWN_00038.asd.rad</td>\n",
       "      <td>2018-04-22 00:55:51</td>\n",
       "      <td>-34.385141</td>\n",
       "      <td>139.600725</td>\n",
       "      <td>1</td>\n",
       "      <td>38</td>\n",
       "      <td>16356/2</td>\n",
       "    </tr>\n",
       "    <tr>\n",
       "      <th>0</th>\n",
       "      <td>350</td>\n",
       "      <td>0.004661</td>\n",
       "      <td>BTOWN_00039.asd.rad</td>\n",
       "      <td>2018-04-22 00:55:53</td>\n",
       "      <td>-34.385141</td>\n",
       "      <td>139.600725</td>\n",
       "      <td>1</td>\n",
       "      <td>39</td>\n",
       "      <td>16356/2</td>\n",
       "    </tr>\n",
       "    <tr>\n",
       "      <th>0</th>\n",
       "      <td>350</td>\n",
       "      <td>0.004584</td>\n",
       "      <td>BTOWN_00040.asd.rad</td>\n",
       "      <td>2018-04-22 00:55:56</td>\n",
       "      <td>-34.385141</td>\n",
       "      <td>139.600725</td>\n",
       "      <td>1</td>\n",
       "      <td>40</td>\n",
       "      <td>16356/2</td>\n",
       "    </tr>\n",
       "    <tr>\n",
       "      <th>0</th>\n",
       "      <td>350</td>\n",
       "      <td>0.004889</td>\n",
       "      <td>BTOWN_00041.asd.rad</td>\n",
       "      <td>2018-04-22 00:56:00</td>\n",
       "      <td>-34.385141</td>\n",
       "      <td>139.600725</td>\n",
       "      <td>1</td>\n",
       "      <td>41</td>\n",
       "      <td>16356/2</td>\n",
       "    </tr>\n",
       "    <tr>\n",
       "      <th>...</th>\n",
       "      <td>...</td>\n",
       "      <td>...</td>\n",
       "      <td>...</td>\n",
       "      <td>...</td>\n",
       "      <td>...</td>\n",
       "      <td>...</td>\n",
       "      <td>...</td>\n",
       "      <td>...</td>\n",
       "      <td>...</td>\n",
       "    </tr>\n",
       "    <tr>\n",
       "      <th>0</th>\n",
       "      <td>350</td>\n",
       "      <td>0.005672</td>\n",
       "      <td>BTOWN_00452.asd.rad</td>\n",
       "      <td>2018-04-22 02:05:21</td>\n",
       "      <td>-34.385141</td>\n",
       "      <td>139.600725</td>\n",
       "      <td>6</td>\n",
       "      <td>52</td>\n",
       "      <td>16356/2</td>\n",
       "    </tr>\n",
       "    <tr>\n",
       "      <th>0</th>\n",
       "      <td>350</td>\n",
       "      <td>0.004643</td>\n",
       "      <td>BTOWN_00453.asd.rad</td>\n",
       "      <td>2018-04-22 02:05:24</td>\n",
       "      <td>-34.385141</td>\n",
       "      <td>139.600725</td>\n",
       "      <td>6</td>\n",
       "      <td>53</td>\n",
       "      <td>16356/2</td>\n",
       "    </tr>\n",
       "    <tr>\n",
       "      <th>0</th>\n",
       "      <td>350</td>\n",
       "      <td>0.004711</td>\n",
       "      <td>BTOWN_00454.asd.rad</td>\n",
       "      <td>2018-04-22 02:05:27</td>\n",
       "      <td>-34.385141</td>\n",
       "      <td>139.600725</td>\n",
       "      <td>6</td>\n",
       "      <td>54</td>\n",
       "      <td>16356/2</td>\n",
       "    </tr>\n",
       "    <tr>\n",
       "      <th>0</th>\n",
       "      <td>350</td>\n",
       "      <td>0.005594</td>\n",
       "      <td>BTOWN_00455.asd.rad</td>\n",
       "      <td>2018-04-22 02:05:29</td>\n",
       "      <td>-34.385141</td>\n",
       "      <td>139.600725</td>\n",
       "      <td>6</td>\n",
       "      <td>55</td>\n",
       "      <td>16356/2</td>\n",
       "    </tr>\n",
       "    <tr>\n",
       "      <th>0</th>\n",
       "      <td>350</td>\n",
       "      <td>0.004186</td>\n",
       "      <td>BTOWN_00456.asd.rad</td>\n",
       "      <td>2018-04-22 02:05:32</td>\n",
       "      <td>-34.385141</td>\n",
       "      <td>139.600725</td>\n",
       "      <td>6</td>\n",
       "      <td>56</td>\n",
       "      <td>16356/2</td>\n",
       "    </tr>\n",
       "    <tr>\n",
       "      <th>0</th>\n",
       "      <td>350</td>\n",
       "      <td>0.004243</td>\n",
       "      <td>BTOWN_00457.asd.rad</td>\n",
       "      <td>2018-04-22 02:05:34</td>\n",
       "      <td>-34.385141</td>\n",
       "      <td>139.600725</td>\n",
       "      <td>6</td>\n",
       "      <td>57</td>\n",
       "      <td>16356/2</td>\n",
       "    </tr>\n",
       "    <tr>\n",
       "      <th>0</th>\n",
       "      <td>350</td>\n",
       "      <td>0.004313</td>\n",
       "      <td>BTOWN_00458.asd.rad</td>\n",
       "      <td>2018-04-22 02:05:37</td>\n",
       "      <td>-34.385141</td>\n",
       "      <td>139.600725</td>\n",
       "      <td>6</td>\n",
       "      <td>58</td>\n",
       "      <td>16356/2</td>\n",
       "    </tr>\n",
       "    <tr>\n",
       "      <th>0</th>\n",
       "      <td>350</td>\n",
       "      <td>0.003484</td>\n",
       "      <td>BTOWN_00459.asd.rad</td>\n",
       "      <td>2018-04-22 02:05:39</td>\n",
       "      <td>-34.385141</td>\n",
       "      <td>139.600725</td>\n",
       "      <td>6</td>\n",
       "      <td>59</td>\n",
       "      <td>16356/2</td>\n",
       "    </tr>\n",
       "    <tr>\n",
       "      <th>0</th>\n",
       "      <td>350</td>\n",
       "      <td>0.004071</td>\n",
       "      <td>BTOWN_00460.asd.rad</td>\n",
       "      <td>2018-04-22 02:05:42</td>\n",
       "      <td>-34.385141</td>\n",
       "      <td>139.600725</td>\n",
       "      <td>6</td>\n",
       "      <td>60</td>\n",
       "      <td>16356/2</td>\n",
       "    </tr>\n",
       "    <tr>\n",
       "      <th>0</th>\n",
       "      <td>350</td>\n",
       "      <td>0.003788</td>\n",
       "      <td>BTOWN_00461.asd.rad</td>\n",
       "      <td>2018-04-22 02:05:44</td>\n",
       "      <td>-34.385141</td>\n",
       "      <td>139.600725</td>\n",
       "      <td>6</td>\n",
       "      <td>61</td>\n",
       "      <td>16356/2</td>\n",
       "    </tr>\n",
       "    <tr>\n",
       "      <th>0</th>\n",
       "      <td>350</td>\n",
       "      <td>0.003670</td>\n",
       "      <td>BTOWN_00462.asd.rad</td>\n",
       "      <td>2018-04-22 02:06:28</td>\n",
       "      <td>-34.385141</td>\n",
       "      <td>139.600725</td>\n",
       "      <td>6</td>\n",
       "      <td>62</td>\n",
       "      <td>16356/2</td>\n",
       "    </tr>\n",
       "    <tr>\n",
       "      <th>0</th>\n",
       "      <td>350</td>\n",
       "      <td>0.004214</td>\n",
       "      <td>BTOWN_00463.asd.rad</td>\n",
       "      <td>2018-04-22 02:06:31</td>\n",
       "      <td>-34.385141</td>\n",
       "      <td>139.600725</td>\n",
       "      <td>6</td>\n",
       "      <td>63</td>\n",
       "      <td>16356/2</td>\n",
       "    </tr>\n",
       "    <tr>\n",
       "      <th>0</th>\n",
       "      <td>350</td>\n",
       "      <td>0.004023</td>\n",
       "      <td>BTOWN_00464.asd.rad</td>\n",
       "      <td>2018-04-22 02:06:33</td>\n",
       "      <td>-34.385141</td>\n",
       "      <td>139.600725</td>\n",
       "      <td>6</td>\n",
       "      <td>64</td>\n",
       "      <td>16356/2</td>\n",
       "    </tr>\n",
       "    <tr>\n",
       "      <th>0</th>\n",
       "      <td>350</td>\n",
       "      <td>0.004839</td>\n",
       "      <td>BTOWN_00465.asd.rad</td>\n",
       "      <td>2018-04-22 02:06:36</td>\n",
       "      <td>-34.385141</td>\n",
       "      <td>139.600725</td>\n",
       "      <td>6</td>\n",
       "      <td>65</td>\n",
       "      <td>16356/2</td>\n",
       "    </tr>\n",
       "    <tr>\n",
       "      <th>0</th>\n",
       "      <td>350</td>\n",
       "      <td>0.004483</td>\n",
       "      <td>BTOWN_00466.asd.rad</td>\n",
       "      <td>2018-04-22 02:06:38</td>\n",
       "      <td>-34.385141</td>\n",
       "      <td>139.600725</td>\n",
       "      <td>6</td>\n",
       "      <td>66</td>\n",
       "      <td>16356/2</td>\n",
       "    </tr>\n",
       "    <tr>\n",
       "      <th>0</th>\n",
       "      <td>350</td>\n",
       "      <td>0.004099</td>\n",
       "      <td>BTOWN_00467.asd.rad</td>\n",
       "      <td>2018-04-22 02:06:41</td>\n",
       "      <td>-34.385141</td>\n",
       "      <td>139.600725</td>\n",
       "      <td>6</td>\n",
       "      <td>67</td>\n",
       "      <td>16356/2</td>\n",
       "    </tr>\n",
       "    <tr>\n",
       "      <th>0</th>\n",
       "      <td>350</td>\n",
       "      <td>0.004040</td>\n",
       "      <td>BTOWN_00468.asd.rad</td>\n",
       "      <td>2018-04-22 02:06:43</td>\n",
       "      <td>-34.385141</td>\n",
       "      <td>139.600725</td>\n",
       "      <td>6</td>\n",
       "      <td>68</td>\n",
       "      <td>16356/2</td>\n",
       "    </tr>\n",
       "    <tr>\n",
       "      <th>0</th>\n",
       "      <td>350</td>\n",
       "      <td>0.005199</td>\n",
       "      <td>BTOWN_00469.asd.rad</td>\n",
       "      <td>2018-04-22 02:06:46</td>\n",
       "      <td>-34.385141</td>\n",
       "      <td>139.600725</td>\n",
       "      <td>6</td>\n",
       "      <td>69</td>\n",
       "      <td>16356/2</td>\n",
       "    </tr>\n",
       "    <tr>\n",
       "      <th>0</th>\n",
       "      <td>350</td>\n",
       "      <td>0.004402</td>\n",
       "      <td>BTOWN_00470.asd.rad</td>\n",
       "      <td>2018-04-22 02:06:48</td>\n",
       "      <td>-34.385141</td>\n",
       "      <td>139.600725</td>\n",
       "      <td>6</td>\n",
       "      <td>70</td>\n",
       "      <td>16356/2</td>\n",
       "    </tr>\n",
       "    <tr>\n",
       "      <th>0</th>\n",
       "      <td>350</td>\n",
       "      <td>0.004094</td>\n",
       "      <td>BTOWN_00471.asd.rad</td>\n",
       "      <td>2018-04-22 02:06:54</td>\n",
       "      <td>-34.385141</td>\n",
       "      <td>139.600725</td>\n",
       "      <td>6</td>\n",
       "      <td>71</td>\n",
       "      <td>16356/2</td>\n",
       "    </tr>\n",
       "    <tr>\n",
       "      <th>0</th>\n",
       "      <td>350</td>\n",
       "      <td>0.003872</td>\n",
       "      <td>BTOWN_00472.asd.rad</td>\n",
       "      <td>2018-04-22 02:07:40</td>\n",
       "      <td>-34.385141</td>\n",
       "      <td>139.600725</td>\n",
       "      <td>6</td>\n",
       "      <td>72</td>\n",
       "      <td>16356/2</td>\n",
       "    </tr>\n",
       "    <tr>\n",
       "      <th>0</th>\n",
       "      <td>350</td>\n",
       "      <td>0.005336</td>\n",
       "      <td>BTOWN_00473.asd.rad</td>\n",
       "      <td>2018-04-22 02:07:43</td>\n",
       "      <td>-34.385141</td>\n",
       "      <td>139.600725</td>\n",
       "      <td>6</td>\n",
       "      <td>73</td>\n",
       "      <td>16356/2</td>\n",
       "    </tr>\n",
       "    <tr>\n",
       "      <th>0</th>\n",
       "      <td>350</td>\n",
       "      <td>0.004186</td>\n",
       "      <td>BTOWN_00474.asd.rad</td>\n",
       "      <td>2018-04-22 02:07:45</td>\n",
       "      <td>-34.385141</td>\n",
       "      <td>139.600725</td>\n",
       "      <td>6</td>\n",
       "      <td>74</td>\n",
       "      <td>16356/2</td>\n",
       "    </tr>\n",
       "    <tr>\n",
       "      <th>0</th>\n",
       "      <td>350</td>\n",
       "      <td>0.004697</td>\n",
       "      <td>BTOWN_00475.asd.rad</td>\n",
       "      <td>2018-04-22 02:07:48</td>\n",
       "      <td>-34.385141</td>\n",
       "      <td>139.600725</td>\n",
       "      <td>6</td>\n",
       "      <td>75</td>\n",
       "      <td>16356/2</td>\n",
       "    </tr>\n",
       "    <tr>\n",
       "      <th>0</th>\n",
       "      <td>350</td>\n",
       "      <td>0.005086</td>\n",
       "      <td>BTOWN_00476.asd.rad</td>\n",
       "      <td>2018-04-22 02:07:50</td>\n",
       "      <td>-34.385141</td>\n",
       "      <td>139.600725</td>\n",
       "      <td>6</td>\n",
       "      <td>76</td>\n",
       "      <td>16356/2</td>\n",
       "    </tr>\n",
       "    <tr>\n",
       "      <th>0</th>\n",
       "      <td>350</td>\n",
       "      <td>0.005182</td>\n",
       "      <td>BTOWN_00477.asd.rad</td>\n",
       "      <td>2018-04-22 02:07:53</td>\n",
       "      <td>-34.385141</td>\n",
       "      <td>139.600725</td>\n",
       "      <td>6</td>\n",
       "      <td>77</td>\n",
       "      <td>16356/2</td>\n",
       "    </tr>\n",
       "    <tr>\n",
       "      <th>0</th>\n",
       "      <td>350</td>\n",
       "      <td>0.004754</td>\n",
       "      <td>BTOWN_00478.asd.rad</td>\n",
       "      <td>2018-04-22 02:07:55</td>\n",
       "      <td>-34.385141</td>\n",
       "      <td>139.600725</td>\n",
       "      <td>6</td>\n",
       "      <td>78</td>\n",
       "      <td>16356/2</td>\n",
       "    </tr>\n",
       "    <tr>\n",
       "      <th>0</th>\n",
       "      <td>350</td>\n",
       "      <td>0.005036</td>\n",
       "      <td>BTOWN_00479.asd.rad</td>\n",
       "      <td>2018-04-22 02:07:59</td>\n",
       "      <td>-34.385141</td>\n",
       "      <td>139.600725</td>\n",
       "      <td>6</td>\n",
       "      <td>79</td>\n",
       "      <td>16356/2</td>\n",
       "    </tr>\n",
       "    <tr>\n",
       "      <th>0</th>\n",
       "      <td>350</td>\n",
       "      <td>0.005038</td>\n",
       "      <td>BTOWN_00480.asd.rad</td>\n",
       "      <td>2018-04-22 02:08:01</td>\n",
       "      <td>-34.385141</td>\n",
       "      <td>139.600725</td>\n",
       "      <td>6</td>\n",
       "      <td>80</td>\n",
       "      <td>16356/2</td>\n",
       "    </tr>\n",
       "    <tr>\n",
       "      <th>0</th>\n",
       "      <td>350</td>\n",
       "      <td>0.003896</td>\n",
       "      <td>BTOWN_00481.asd.rad</td>\n",
       "      <td>2018-04-22 02:08:04</td>\n",
       "      <td>-34.385141</td>\n",
       "      <td>139.600725</td>\n",
       "      <td>6</td>\n",
       "      <td>81</td>\n",
       "      <td>16356/2</td>\n",
       "    </tr>\n",
       "  </tbody>\n",
       "</table>\n",
       "<p>420 rows × 9 columns</p>\n",
       "</div>"
      ],
      "text/plain": [
       "    Wavelength  radiance             filename          date_saved   Latitude  \\\n",
       "0          350  0.095221  BTOWN_00002.asd.rad 2018-04-22 00:51:38 -34.385141   \n",
       "0          350  0.095130  BTOWN_00003.asd.rad 2018-04-22 00:51:40 -34.385141   \n",
       "0          350  0.095014  BTOWN_00004.asd.rad 2018-04-22 00:51:43 -34.385141   \n",
       "0          350  0.095105  BTOWN_00005.asd.rad 2018-04-22 00:51:45 -34.385141   \n",
       "0          350  0.095166  BTOWN_00006.asd.rad 2018-04-22 00:51:48 -34.385141   \n",
       "0          350  0.095354  BTOWN_00007.asd.rad 2018-04-22 00:51:50 -34.385141   \n",
       "0          350  0.095206  BTOWN_00008.asd.rad 2018-04-22 00:51:53 -34.385141   \n",
       "0          350  0.095327  BTOWN_00009.asd.rad 2018-04-22 00:51:55 -34.385141   \n",
       "0          350  0.095178  BTOWN_00010.asd.rad 2018-04-22 00:51:58 -34.385141   \n",
       "0          350  0.095345  BTOWN_00011.asd.rad 2018-04-22 00:52:00 -34.385141   \n",
       "0          350  0.095346  BTOWN_00022.asd.rad 2018-04-22 00:52:59 -34.385141   \n",
       "0          350  0.095172  BTOWN_00023.asd.rad 2018-04-22 00:53:03 -34.385141   \n",
       "0          350  0.094246  BTOWN_00024.asd.rad 2018-04-22 00:53:06 -34.385141   \n",
       "0          350  0.094605  BTOWN_00025.asd.rad 2018-04-22 00:53:08 -34.385141   \n",
       "0          350  0.095787  BTOWN_00026.asd.rad 2018-04-22 00:53:11 -34.385141   \n",
       "0          350  0.096002  BTOWN_00027.asd.rad 2018-04-22 00:53:13 -34.385141   \n",
       "0          350  0.096435  BTOWN_00028.asd.rad 2018-04-22 00:53:16 -34.385141   \n",
       "0          350  0.096204  BTOWN_00029.asd.rad 2018-04-22 00:53:18 -34.385141   \n",
       "0          350  0.096193  BTOWN_00030.asd.rad 2018-04-22 00:53:21 -34.385141   \n",
       "0          350  0.096185  BTOWN_00031.asd.rad 2018-04-22 00:53:23 -34.385141   \n",
       "0          350  0.003090  BTOWN_00032.asd.rad 2018-04-22 00:55:34 -34.385141   \n",
       "0          350  0.003321  BTOWN_00033.asd.rad 2018-04-22 00:55:36 -34.385141   \n",
       "0          350  0.003901  BTOWN_00034.asd.rad 2018-04-22 00:55:39 -34.385141   \n",
       "0          350  0.003712  BTOWN_00035.asd.rad 2018-04-22 00:55:42 -34.385141   \n",
       "0          350  0.003880  BTOWN_00036.asd.rad 2018-04-22 00:55:45 -34.385141   \n",
       "0          350  0.003597  BTOWN_00037.asd.rad 2018-04-22 00:55:48 -34.385141   \n",
       "0          350  0.003680  BTOWN_00038.asd.rad 2018-04-22 00:55:51 -34.385141   \n",
       "0          350  0.004661  BTOWN_00039.asd.rad 2018-04-22 00:55:53 -34.385141   \n",
       "0          350  0.004584  BTOWN_00040.asd.rad 2018-04-22 00:55:56 -34.385141   \n",
       "0          350  0.004889  BTOWN_00041.asd.rad 2018-04-22 00:56:00 -34.385141   \n",
       "..         ...       ...                  ...                 ...        ...   \n",
       "0          350  0.005672  BTOWN_00452.asd.rad 2018-04-22 02:05:21 -34.385141   \n",
       "0          350  0.004643  BTOWN_00453.asd.rad 2018-04-22 02:05:24 -34.385141   \n",
       "0          350  0.004711  BTOWN_00454.asd.rad 2018-04-22 02:05:27 -34.385141   \n",
       "0          350  0.005594  BTOWN_00455.asd.rad 2018-04-22 02:05:29 -34.385141   \n",
       "0          350  0.004186  BTOWN_00456.asd.rad 2018-04-22 02:05:32 -34.385141   \n",
       "0          350  0.004243  BTOWN_00457.asd.rad 2018-04-22 02:05:34 -34.385141   \n",
       "0          350  0.004313  BTOWN_00458.asd.rad 2018-04-22 02:05:37 -34.385141   \n",
       "0          350  0.003484  BTOWN_00459.asd.rad 2018-04-22 02:05:39 -34.385141   \n",
       "0          350  0.004071  BTOWN_00460.asd.rad 2018-04-22 02:05:42 -34.385141   \n",
       "0          350  0.003788  BTOWN_00461.asd.rad 2018-04-22 02:05:44 -34.385141   \n",
       "0          350  0.003670  BTOWN_00462.asd.rad 2018-04-22 02:06:28 -34.385141   \n",
       "0          350  0.004214  BTOWN_00463.asd.rad 2018-04-22 02:06:31 -34.385141   \n",
       "0          350  0.004023  BTOWN_00464.asd.rad 2018-04-22 02:06:33 -34.385141   \n",
       "0          350  0.004839  BTOWN_00465.asd.rad 2018-04-22 02:06:36 -34.385141   \n",
       "0          350  0.004483  BTOWN_00466.asd.rad 2018-04-22 02:06:38 -34.385141   \n",
       "0          350  0.004099  BTOWN_00467.asd.rad 2018-04-22 02:06:41 -34.385141   \n",
       "0          350  0.004040  BTOWN_00468.asd.rad 2018-04-22 02:06:43 -34.385141   \n",
       "0          350  0.005199  BTOWN_00469.asd.rad 2018-04-22 02:06:46 -34.385141   \n",
       "0          350  0.004402  BTOWN_00470.asd.rad 2018-04-22 02:06:48 -34.385141   \n",
       "0          350  0.004094  BTOWN_00471.asd.rad 2018-04-22 02:06:54 -34.385141   \n",
       "0          350  0.003872  BTOWN_00472.asd.rad 2018-04-22 02:07:40 -34.385141   \n",
       "0          350  0.005336  BTOWN_00473.asd.rad 2018-04-22 02:07:43 -34.385141   \n",
       "0          350  0.004186  BTOWN_00474.asd.rad 2018-04-22 02:07:45 -34.385141   \n",
       "0          350  0.004697  BTOWN_00475.asd.rad 2018-04-22 02:07:48 -34.385141   \n",
       "0          350  0.005086  BTOWN_00476.asd.rad 2018-04-22 02:07:50 -34.385141   \n",
       "0          350  0.005182  BTOWN_00477.asd.rad 2018-04-22 02:07:53 -34.385141   \n",
       "0          350  0.004754  BTOWN_00478.asd.rad 2018-04-22 02:07:55 -34.385141   \n",
       "0          350  0.005036  BTOWN_00479.asd.rad 2018-04-22 02:07:59 -34.385141   \n",
       "0          350  0.005038  BTOWN_00480.asd.rad 2018-04-22 02:08:01 -34.385141   \n",
       "0          350  0.003896  BTOWN_00481.asd.rad 2018-04-22 02:08:04 -34.385141   \n",
       "\n",
       "     Longitude  Line  Spec_number Inst_number  \n",
       "0   139.600725     1            2     16356/2  \n",
       "0   139.600725     1            3     16356/2  \n",
       "0   139.600725     1            4     16356/2  \n",
       "0   139.600725     1            5     16356/2  \n",
       "0   139.600725     1            6     16356/2  \n",
       "0   139.600725     1            7     16356/2  \n",
       "0   139.600725     1            8     16356/2  \n",
       "0   139.600725     1            9     16356/2  \n",
       "0   139.600725     1           10     16356/2  \n",
       "0   139.600725     1           11     16356/2  \n",
       "0   139.600725     1           22     16356/2  \n",
       "0   139.600725     1           23     16356/2  \n",
       "0   139.600725     1           24     16356/2  \n",
       "0   139.600725     1           25     16356/2  \n",
       "0   139.600725     1           26     16356/2  \n",
       "0   139.600725     1           27     16356/2  \n",
       "0   139.600725     1           28     16356/2  \n",
       "0   139.600725     1           29     16356/2  \n",
       "0   139.600725     1           30     16356/2  \n",
       "0   139.600725     1           31     16356/2  \n",
       "0   139.600725     1           32     16356/2  \n",
       "0   139.600725     1           33     16356/2  \n",
       "0   139.600725     1           34     16356/2  \n",
       "0   139.600725     1           35     16356/2  \n",
       "0   139.600725     1           36     16356/2  \n",
       "0   139.600725     1           37     16356/2  \n",
       "0   139.600725     1           38     16356/2  \n",
       "0   139.600725     1           39     16356/2  \n",
       "0   139.600725     1           40     16356/2  \n",
       "0   139.600725     1           41     16356/2  \n",
       "..         ...   ...          ...         ...  \n",
       "0   139.600725     6           52     16356/2  \n",
       "0   139.600725     6           53     16356/2  \n",
       "0   139.600725     6           54     16356/2  \n",
       "0   139.600725     6           55     16356/2  \n",
       "0   139.600725     6           56     16356/2  \n",
       "0   139.600725     6           57     16356/2  \n",
       "0   139.600725     6           58     16356/2  \n",
       "0   139.600725     6           59     16356/2  \n",
       "0   139.600725     6           60     16356/2  \n",
       "0   139.600725     6           61     16356/2  \n",
       "0   139.600725     6           62     16356/2  \n",
       "0   139.600725     6           63     16356/2  \n",
       "0   139.600725     6           64     16356/2  \n",
       "0   139.600725     6           65     16356/2  \n",
       "0   139.600725     6           66     16356/2  \n",
       "0   139.600725     6           67     16356/2  \n",
       "0   139.600725     6           68     16356/2  \n",
       "0   139.600725     6           69     16356/2  \n",
       "0   139.600725     6           70     16356/2  \n",
       "0   139.600725     6           71     16356/2  \n",
       "0   139.600725     6           72     16356/2  \n",
       "0   139.600725     6           73     16356/2  \n",
       "0   139.600725     6           74     16356/2  \n",
       "0   139.600725     6           75     16356/2  \n",
       "0   139.600725     6           76     16356/2  \n",
       "0   139.600725     6           77     16356/2  \n",
       "0   139.600725     6           78     16356/2  \n",
       "0   139.600725     6           79     16356/2  \n",
       "0   139.600725     6           80     16356/2  \n",
       "0   139.600725     6           81     16356/2  \n",
       "\n",
       "[420 rows x 9 columns]"
      ]
     },
     "execution_count": 4,
     "metadata": {},
     "output_type": "execute_result"
    }
   ],
   "source": [
    "alldata = LoadData.load_from_dir(indir, suffix, firstGoodLine, Corners)\n",
    "\n",
    "alldata[alldata['Wavelength']==350]"
   ]
  },
  {
   "cell_type": "markdown",
   "metadata": {},
   "source": [
    "### Print out time stamp and coordinate extent for BRDF correction\n",
    "\n",
    "The time stamp and Lat/Long extents are required to calculate the BRDF correction, used below.\n",
    "\n",
    "In order to calculate the BRF correction, the following method is used:\n",
    "\n",
    "<OL>\n",
    "    <LI>Run the print statements in the cell below.</LI>\n",
    "    <LI>Copy and paste the output into a VDI terminal window</LI>\n",
    "    <LI>Copy and paste the resultant VDI output into the BRDF calculation cell, writing over the similar text.</LI>\n",
    "</OL>\n",
    "\n",
    "NOTE: This works assuming that the BRDF code is in the current directory.\n"
   ]
  },
  {
   "cell_type": "code",
   "execution_count": 5,
   "metadata": {
    "scrolled": false
   },
   "outputs": [],
   "source": [
    "#PrintBRDF.print_brdf(alldata, field_data)"
   ]
  },
  {
   "cell_type": "markdown",
   "metadata": {},
   "source": [
    "### Specify which spectra are panels/ground/good/bad\n",
    "\n",
    " Determine panel file names by assuming that all panels have a data value of at least 0.06\n",
    " in the first wavelength (350nm). Call this dataframe 'panel_names'.\n",
    "\n",
    " good_panels = all panel data with bad panels removed<BR>\n",
    " bad_panels  = all bad panel data<BR>\n",
    " all_panels = both good and bad panel data<BR>\n",
    " good_grounds = good ground readings<BR>\n",
    " all_grounds = all ground data.<P>\n",
    " Any bad ground data (bad_grounds) is defined in the 2nd cell.\n"
   ]
  },
  {
   "cell_type": "code",
   "execution_count": 6,
   "metadata": {
    "scrolled": true
   },
   "outputs": [],
   "source": [
    "panel_names, all_panels, good_panels, bad_panels, good_grounds, all_grounds = ExtractPanelsGrounds.extract_panels_grounds(alldata, bad_pans, bad_grounds, field_data)"
   ]
  },
  {
   "cell_type": "markdown",
   "metadata": {},
   "source": [
    "### Create dataframes for all/good/bad panel spectra.\n",
    "\n",
    "For the bad panel spectra dataframe, first check to see if bad panels have been defined.<BR>\n",
    "If not, then don't create anything."
   ]
  },
  {
   "cell_type": "code",
   "execution_count": 7,
   "metadata": {},
   "outputs": [],
   "source": [
    "all_panel_spec = MakeSpecDF.make_spec_df(all_panels)\n",
    "good_panel_spec = MakeSpecDF.make_spec_df(good_panels)\n",
    "try:\n",
    "    bad_panel_spec = MakeSpecDF.make_spec_df(bad_panels)\n",
    "except UnboundLocalError:\n",
    "    pass"
   ]
  },
  {
   "cell_type": "markdown",
   "metadata": {},
   "source": [
    "# Figure \n",
    "\n",
    "### Plot panel radiances for all/good/bad panels"
   ]
  },
  {
   "cell_type": "code",
   "execution_count": 8,
   "metadata": {
    "scrolled": false
   },
   "outputs": [],
   "source": [
    "#if field_data[5] == 'Radiance':\n",
    "#    try:\n",
    "#        FIG_PanelRadiances.FIG_panel_radiances(good_panel_spec, bad_panel_spec, all_panel_spec, output, field_data, fignum)\n",
    "#    except NameError:\n",
    "#        bad_panel_spec = [0,0]\n",
    "#        FIG_PanelRadiances.FIG_panel_radiances(good_panel_spec, bad_panel_spec, all_panel_spec, output, field_data, fignum)\n",
    "\n",
    "#fignum += 1"
   ]
  },
  {
   "cell_type": "markdown",
   "metadata": {},
   "source": [
    "# Figure \n",
    "\n",
    "### Diagnosis plots of bad panel spectra"
   ]
  },
  {
   "cell_type": "code",
   "execution_count": 9,
   "metadata": {
    "scrolled": false
   },
   "outputs": [],
   "source": [
    "#if field_data[5] == 'Radiance':\n",
    "#    good_panel_mean = good_panel_spec.mean(axis=1)\n",
    "\n",
    "#    try:\n",
    "#        FIG_BadPanelAnalysis.FIG_bad_panel_analysis(good_panel_mean, good_panel_spec, bad_panel_spec, output, field_data, fignum)\n",
    "#    except AttributeError:\n",
    "#        pass\n",
    "#fignum +=1"
   ]
  },
  {
   "cell_type": "markdown",
   "metadata": {},
   "source": [
    "### Create spectral dataframes for all ground spectra and good ground spectra"
   ]
  },
  {
   "cell_type": "code",
   "execution_count": 10,
   "metadata": {},
   "outputs": [],
   "source": [
    "#all_grounds_spec = MakeSpecDF.make_spec_df(all_grounds)\n",
    "#good_grounds_spec = MakeSpecDF.make_spec_df(good_grounds)"
   ]
  },
  {
   "cell_type": "markdown",
   "metadata": {},
   "source": [
    "# Figure \n",
    "\n",
    "### Plot ground spectra (all and good), normalised to the median good spectrum\n",
    "\n",
    "These plots are used to identify any ground spectra that are bogus."
   ]
  },
  {
   "cell_type": "code",
   "execution_count": 11,
   "metadata": {
    "scrolled": false
   },
   "outputs": [],
   "source": [
    "#FIG_GroundSpectra.FIG_ground_spectra(good_grounds_spec, all_grounds_spec, output, field_data, fignum)\n",
    "#fignum +=1"
   ]
  },
  {
   "cell_type": "markdown",
   "metadata": {},
   "source": [
    "### Create time-relative dataframes\n",
    "\n",
    "gpt = good panels<BR>\n",
    "gpta = all panels<BR>\n",
    "adt = good grounds<BR>\n",
    "adta = all grounds"
   ]
  },
  {
   "cell_type": "code",
   "execution_count": 12,
   "metadata": {},
   "outputs": [],
   "source": [
    "#gpt, gpta, adt, adta = CreateTimeRelativeDF.create_time_relative_dfs(good_panels, all_panels, good_grounds, all_grounds)"
   ]
  },
  {
   "cell_type": "markdown",
   "metadata": {},
   "source": [
    "### Add Solar angle to dataframes\n",
    "\n",
    "Based on the spectrum Latitude, Longitude and time stamp, calculate the angle of<BR>\n",
    "the Sun, with respect to the zenith. Append this number to the \"good_panels\" and<BR>\n",
    "\"good_grounds\" dataframes."
   ]
  },
  {
   "cell_type": "code",
   "execution_count": 13,
   "metadata": {},
   "outputs": [],
   "source": [
    "#if field_data[5] == 'Radiance':\n",
    "#    good_panels, good_grounds = SolarAngle.solar_angle(good_panels, good_grounds)"
   ]
  },
  {
   "cell_type": "markdown",
   "metadata": {},
   "source": [
    "# Figure \n",
    "\n",
    "### Plot timelines for ALL panel and ground data, with one line in one panel"
   ]
  },
  {
   "cell_type": "code",
   "execution_count": 14,
   "metadata": {
    "scrolled": false
   },
   "outputs": [],
   "source": [
    "#FIG_AllTimelines.FIG_all_timelines(gpta, adta, output, field_data, fignum)\n",
    "#fignum += 1"
   ]
  },
  {
   "cell_type": "markdown",
   "metadata": {},
   "source": [
    "# Figure \n",
    "\n",
    "### Plot timelines for GOOD panel and ground data, with one line in one panel"
   ]
  },
  {
   "cell_type": "code",
   "execution_count": 15,
   "metadata": {},
   "outputs": [],
   "source": [
    "#from CalVal.FIG_AllTimelines import panel_plot_layout, multi_timeline_plot\n",
    "\n",
    "#FIG_GoodTimelines.FIG_good_timelines(gpta, gpt, adt, panel_plot_layout, multi_timeline_plot, output, field_data, fignum)\n",
    "#fignum += 1"
   ]
  },
  {
   "cell_type": "markdown",
   "metadata": {},
   "source": [
    "# Figure \n",
    "\n",
    "### Create timeline plot of averaged all/good panels\n",
    "\n",
    "These plots are used to identify any panels that show unusually bright or dark readings,<BR>\n",
    "    which can be weeded out as bad panels.\n",
    "    \n",
    "The general shape of the curve should follow \"insolation\" - the changing of incident light\n",
    "due to the Sun rising/falling in the sky."
   ]
  },
  {
   "cell_type": "code",
   "execution_count": 16,
   "metadata": {
    "scrolled": true
   },
   "outputs": [],
   "source": [
    "#if field_data[5] == 'Radiance':\n",
    "#    gpt, gpta = FIG_NormalisedPanelsTimeline.normalise_spectra(good_panel_mean, good_panel_spec, all_panel_spec, gpt, gpta)\n",
    "\n",
    " #   FIG_NormalisedPanelsTimeline.FIG_normalised_panels_timeline(gpt, gpta, output, field_data, fignum)\n",
    "#fignum += 1"
   ]
  },
  {
   "cell_type": "markdown",
   "metadata": {},
   "source": [
    "### Fit Insolation Curve\n",
    "\n",
    "Given that the total radiance (insolation, I) should increase with decreasing Solar zenith angle<BR>\n",
    "(ie. as the Sun rises) and that I \\propto cos(Solar zenith angle), we can fit the panel data to a<BR>\n",
    "straight line. The ratio between the fit and the data points can then be used to adjust all panel\n",
    "and ground spectra to account for insolation.<BR><BR>\n",
    "\n",
    "Once the fit has been calculated, the following steps are taken (in subsequent cells):\n",
    "<OL>\n",
    "    <LI>The ratio between the fit and each averaged panel masurement is divided off the panels, so\n",
    "        that they will all fall along the same line.\n",
    "    <LI>For each Line (ie. walked Line in the field), the average panel spectrum is determined, as \n",
    "        well as the average panel Solar angle.\n",
    "    <LI>The \"Solar angle distance\" for each ground spectrum to the averaged panel Solar angle is \n",
    "        used to divide off the insolation fit from the ground spectra. "
   ]
  },
  {
   "cell_type": "code",
   "execution_count": 17,
   "metadata": {
    "scrolled": false
   },
   "outputs": [],
   "source": [
    "#if field_data[5] == 'Radiance':\n",
    "#    slope, intercept, coszenith = FIG_InsolationFit.FIG_insolation_fit(gpt, output, field_data, fignum)\n",
    "#fignum += 1"
   ]
  },
  {
   "cell_type": "markdown",
   "metadata": {},
   "source": [
    "### Scale good panels to insolation curve\n",
    "\n",
    "Use the fitted insolation curve to determine individual offsets for each panel measurement and then divide<BR>\n",
    "off the differences. This effectively removes any individual variations in the absolute scaling of panel<BR>\n",
    "measurements."
   ]
  },
  {
   "cell_type": "code",
   "execution_count": 18,
   "metadata": {},
   "outputs": [],
   "source": [
    "#if field_data[5] == 'Radiance':\n",
    "#    good_panels = ScalePanels.scale_panels(slope, intercept, coszenith, gpt, good_panels)"
   ]
  },
  {
   "cell_type": "markdown",
   "metadata": {},
   "source": [
    "### Scale ground spectra to insolation curve\n",
    "\n",
    "For each line, calculate the mean panel spectrum and determine the fit at the according mean Solar zenith angle.<BR>\n",
    "Then determine individual fits for all ground data within the line and apply the ratio of the panel mean fit to<BR>\n",
    "ground fit to the good_grounds dataframe."
   ]
  },
  {
   "cell_type": "code",
   "execution_count": 19,
   "metadata": {
    "scrolled": true
   },
   "outputs": [],
   "source": [
    "#if field_data[5] == 'Radiance':\n",
    "#    good_grounds = ScaleGrounds.scale_grounds(good_panels, good_grounds, slope, intercept)"
   ]
  },
  {
   "cell_type": "markdown",
   "metadata": {},
   "source": [
    "### Define the K-factor\n",
    "\n",
    "This reads a standard file with a response curve for the detector, given an ideally white surface.<BR>\n",
    "Then \"k_f\" is defined for the K-factor."
   ]
  },
  {
   "cell_type": "code",
   "execution_count": 20,
   "metadata": {},
   "outputs": [],
   "source": [
    "if field_data[5] == 'Radiance':\n",
    "    k_f = KFactor.k_factor(panel_dir, in_panel)"
   ]
  },
  {
   "cell_type": "markdown",
   "metadata": {},
   "source": [
    "### Re-Make Spectral Dataframes\n",
    "\n",
    "After re-scaling of both good_panels and good_grounds, recreate the good_panel_spec and<BR>\n",
    "good_grounds_spec dataframes"
   ]
  },
  {
   "cell_type": "code",
   "execution_count": 21,
   "metadata": {},
   "outputs": [],
   "source": [
    "if field_data[5] == 'Radiance':\n",
    "    good_panel_spec = MakeSpecDF.make_spec_df(good_panels)\n",
    "    good_grounds_spec = MakeSpecDF.make_spec_df(good_grounds)"
   ]
  },
  {
   "cell_type": "markdown",
   "metadata": {},
   "source": [
    "### Rename the first spectrum in ALL/GOOD panels to the correct name\n",
    "\n",
    "Rather than just \"radiance\", it will be named something like radiance1-0<BR>\n",
    "for the zeroth spectrum in the first line, for example.    "
   ]
  },
  {
   "cell_type": "code",
   "execution_count": 22,
   "metadata": {},
   "outputs": [],
   "source": [
    "if field_data[5] == 'Radiance':\n",
    "    SpecRename.spec_rename(good_panel_spec, good_grounds_spec, firstGoodLine, firstGoodPanelSpec, firstGoodGroundSpec)"
   ]
  },
  {
   "cell_type": "markdown",
   "metadata": {},
   "source": [
    "### Create dataframe with Reflectances"
   ]
  },
  {
   "cell_type": "code",
   "execution_count": 23,
   "metadata": {
    "scrolled": true
   },
   "outputs": [],
   "source": [
    "if field_data[5] == 'Radiance':\n",
    "    all_refls = CreateReflectances.create_reflectances(good_panels, good_panel_spec, good_grounds_spec, k_f)"
   ]
  },
  {
   "cell_type": "markdown",
   "metadata": {},
   "source": [
    "### Test for reflectances\n",
    "Test field_data to see if the data were saved as reflectances. If so, bypass all the panelling workflow."
   ]
  },
  {
   "cell_type": "code",
   "execution_count": 24,
   "metadata": {},
   "outputs": [],
   "source": [
    "if field_data[5] == 'Reflectance':\n",
    "    all_refls = good_grounds_spec"
   ]
  },
  {
   "cell_type": "markdown",
   "metadata": {},
   "source": [
    "# Figure \n",
    "\n",
    "### Plot all ground reflectances in black, plus the Line-averaged reflectances in colour\n",
    "\n",
    "The Line-averaged reflectances are shown in order to identify any outlying lines that<BR>\n",
    "\n",
    "might have been caused by bad panel spectra (for example)."
   ]
  },
  {
   "cell_type": "code",
   "execution_count": 25,
   "metadata": {},
   "outputs": [],
   "source": [
    "#FIG_Reflectances.FIG_reflectances(good_panels, all_refls, colpac, output, field_data, fignum)\n",
    "#fignum += 1"
   ]
  },
  {
   "cell_type": "markdown",
   "metadata": {},
   "source": [
    "### Apply weighted band responses to all reflectances"
   ]
  },
  {
   "cell_type": "code",
   "execution_count": 26,
   "metadata": {
    "scrolled": true
   },
   "outputs": [],
   "source": [
    "result_df, band = ApplyWeights.apply_weights(f_name, all_refls)"
   ]
  },
  {
   "cell_type": "markdown",
   "metadata": {},
   "source": [
    "### Reformat band reflectances and apply to dataframe \"ground_bands\""
   ]
  },
  {
   "cell_type": "code",
   "execution_count": 27,
   "metadata": {},
   "outputs": [],
   "source": [
    "ground_bands = ReformatDF.reformat_df(good_grounds, result_df)"
   ]
  },
  {
   "cell_type": "markdown",
   "metadata": {},
   "source": [
    "# Figure \n",
    "\n",
    "### Plot band reflectances"
   ]
  },
  {
   "cell_type": "code",
   "execution_count": 28,
   "metadata": {
    "scrolled": false
   },
   "outputs": [],
   "source": [
    "#FIG_BandReflectances.FIG_band_reflectances(ground_bands, result_df, band, colpac, output, field_data, fignum)\n",
    "#fignum += 1"
   ]
  },
  {
   "cell_type": "code",
   "execution_count": 29,
   "metadata": {},
   "outputs": [],
   "source": [
    "#FIG_ReflectancesBand.FIG_reflectances_band(ground_bands, result_df, band, good_panels, all_refls, colpac, output, field_data, fignum)\n",
    "#fignum += 1"
   ]
  },
  {
   "cell_type": "markdown",
   "metadata": {},
   "source": [
    "# Figure\n",
    "\n",
    "### Histogram of all good spectra, plotted band-by-band\n",
    "\n",
    "This can be used to identify outlying ground spectra that can be added to bad_grounds in the second cell."
   ]
  },
  {
   "cell_type": "code",
   "execution_count": 30,
   "metadata": {
    "scrolled": false
   },
   "outputs": [],
   "source": [
    "#FIG_SpecHistogram.FIG_spec_histogram(ground_bands, output, field_data, fignum)\n",
    "#fignum += 1"
   ]
  },
  {
   "cell_type": "markdown",
   "metadata": {},
   "source": [
    "### Outlying ground spectra\n",
    "\n",
    "Display the spectra with maximum and minimum values. These can be compared to the histograms above<BR>\n",
    "    to identify any outlying spectra that need to be identified as bad ground spectra."
   ]
  },
  {
   "cell_type": "code",
   "execution_count": 31,
   "metadata": {},
   "outputs": [],
   "source": [
    "#maxfile = ground_bands['filename'][(ground_bands['band1'] == ground_bands['band1'].max())]\n",
    "#maxbands = ground_bands.filter(like='band')[(ground_bands['band1'] == ground_bands['band1'].max())]\n",
    "#minfile = ground_bands['filename'][(ground_bands['band1'] == ground_bands['band1'].min())]\n",
    "#minbands = ground_bands.filter(like='band')[(ground_bands['band1'] == ground_bands['band1'].min())]\n",
    "\n",
    "#print(\"Maximum value found in:\", maxfile.iloc[0], '\\n', maxbands.iloc[0], '\\nMinimum value found in:', minfile.iloc[0], '\\n', minbands.iloc[0])\n",
    "#print(ground_bands['filename'][(ground_bands['band1'] == ground_bands['band1'].max())], '\\n',ground_bands.filter(like='band')[(ground_bands['band1'] == ground_bands['band1'].max())])\n",
    "#print(ground_bands['filename'][(ground_bands['band1'] == ground_bands['band1'].min())], '\\n',ground_bands.filter(like='band')[(ground_bands['band1'] == ground_bands['band1'].min())])\n"
   ]
  },
  {
   "cell_type": "markdown",
   "metadata": {},
   "source": [
    "### Determine Solar angle\n",
    "\n",
    "Based on the spectrum Latitude, Longitude and time stamp, calculate the angle of<BR>\n",
    "the Sun, with respect to the zenith. Append this number to the \"ground_bands\" dataframe."
   ]
  },
  {
   "cell_type": "code",
   "execution_count": 32,
   "metadata": {},
   "outputs": [],
   "source": [
    "from CalVal.SolarAngle import solang\n",
    "ground_bands['Solar_angle'] = ground_bands.apply(solang, axis=1)"
   ]
  },
  {
   "cell_type": "markdown",
   "metadata": {},
   "source": [
    "### BRDF Calculation\n",
    "\n",
    "The following script is adapted from FORTRAN code that will calculate the adjusted ASD measurement to 45$^\\circ$. This is derived from \"MODIS BRDF / Albedo Product: Algorithm Theoretical basis Docuement Version 5.0\" by Strahler et al. (1999).\n",
    "\n",
    "What follows is a key to the variables used in this code, compared to the variables and equations in the document:\n",
    "\n",
    "hb and br = h/b and b/r . . . . . . . . . . . . . . . crown shape parameters, respectively.<BR>\n",
    "RL_brdf = R($\\theta, \\vartheta, \\phi, \\Lambda$). . . . . . . . . . . . . . (37)<BR>\n",
    "solar = $\\theta$ . . . . . . . . . . . . . . . . . . . . . . . . . . solar zenith angle<BR>\n",
    "view = $\\xi$ . . . . . . . . . . . . . . . . . . . . . . . . . . .view zenith angle<BR>\n",
    "ra = $\\phi$ . . . . . . . . . . . . . . . . . . . . . . . . . . . . view-sun relative azimuth angle<BR>\n",
    "cosxi = cos $\\xi^\\prime$ . . . . . . . . . . . . . . . . . . . . . . (43)<BR>\n",
    "rs_thick = K$_{vol}$ = RossThick kernel . . . . . . (38)<BR>\n",
    "d_li2 = D$^2$ . . . . . . . . . . . . . . . . . . . . . . . . . (42)<BR>\n",
    "x_li = tan$\\theta^\\prime$ tan$\\vartheta^\\prime$ sin$\\phi$ . . . . . . . . . . . . . . .(41) (part of)<BR>\n",
    "cosl = cos $t$ . . . . . . . . . . . . . . . . . . . . . . . . (41)<BR>\n",
    "l_li = $t$ . . . . . . . . . . . . . . . . . . . . . . . . . . . . .constrained such that $-1 \\leq t \\leq 1$<BR>\n",
    "o_li = O($\\theta, \\vartheta, \\phi$) . . . . . . . . . . . . . . . . . . . .(40)<BR>\n",
    "li_sparse = K$_{geo}$ . . . . . . . . . . . . . . . . . . . . (39)<BR><BR><BR>\n",
    "\n",
    "Equations used for the Ross-Li BRDF model:\n",
    "\n",
    "R($\\theta, \\vartheta, \\phi, \\Lambda$) = $f_{iso}(\\Lambda) + f_{vol}(\\Lambda)\\,K_{vol}(\\theta, \\vartheta, \\phi) + f_{geo}(\\Lambda)\\,K_{geo}(\\theta, \\vartheta, \\phi)$ . . . . . . . . (37)\n",
    "\n",
    "$K_{vol} = k_{RT} = \\frac{(\\pi/2 - \\xi)\\rm{cos}\\,\\xi + \\rm{sin}\\,\\xi}{\\rm{cos}\\,\\theta + \\rm{cos}\\,\\vartheta} - \\frac{\\pi}{4}$ . . . . . . . . . . . . . . . . . . . . . . . . . . . . . . . . . . . . . . (38)\n",
    "    \n",
    "$K_{geo} = k_{LSR} = O(\\theta, \\vartheta, \\phi) - {\\rm sec}\\,\\theta^\\prime - {\\rm sec}\\,\\vartheta^\\prime + \\frac{1}{2} (1 + \\rm{cos}\\,\\xi^\\prime)\\, \\rm{sec}\\,\\theta^\\prime \\rm{sec}\\,\\vartheta^\\prime$ . . . (39)\n",
    "\n",
    "$O = \\frac{1}{\\pi}(t - \\rm{sin}\\,t\\,\\,\\rm{cos}\\,t)(\\rm{sec}\\,\\theta^\\prime + \\rm{sec}\\,\\vartheta^\\prime)$ . . . . . . . . . . . . . . . . . . . . . . . . . . . . . . . . . . (40)\n",
    "\n",
    "$\\rm{cos}\\,t = \\frac{h}{b}\\frac{\\sqrt{D^2 + (\\rm{tan}\\,\\theta^\\prime\\,\\,\\rm{tan}\\,\\vartheta^\\prime\\,\\,\\rm{sin}\\,\\phi)^2}}{\\rm{sec}\\,\\theta^\\prime + \\rm{sec}\\,\\vartheta^\\prime}$ . . . . . . . . . . . . . . . . . . . . . . . . . . . . . . . . . . . . . . . . (41)\n",
    "\n",
    "$D = \\sqrt{\\rm{tan}^2\\,\\theta^\\prime + \\rm{tan}^2\\,\\vartheta^\\prime - 2\\,\\rm{tan}\\,\\theta^\\prime\\,\\rm{tan}\\,\\vartheta^\\prime\\,\\rm{cos}\\,\\phi}$ . . . . . . . . . . . . . . . . . . . . . . . . . . (42)\n",
    "\n",
    "$\\rm{cos}\\,\\xi^\\prime = \\rm{cos}\\,\\theta^\\prime\\,\\rm{cos}\\,\\vartheta^\\prime + \\rm{sin}\\,\\theta^\\prime\\,\\rm{sin}\\,\\vartheta^\\prime\\,\\rm{cos}\\,\\phi$ . . . . . . . . . . . . . . . . . . . . . . . . . . . . . . .(43)\n",
    "\n",
    "$\\theta^\\prime = \\rm{tan}^{-1}(\\frac{b}{r}\\rm{tan}\\,\\theta)\\,\\vartheta^\\prime = \\rm{tan}^{-1}(\\frac{b}{r}\\rm{tan}\\,\\vartheta)$ . . . . . . . . . . . . . . . . . . . . . . . . . . . . . . . . . .(44)"
   ]
  },
  {
   "cell_type": "code",
   "execution_count": 33,
   "metadata": {},
   "outputs": [],
   "source": [
    "ground_brdf, hb, br = BRDF.ReadAndCalc(brdf_data, ground_bands, field_data)"
   ]
  },
  {
   "cell_type": "markdown",
   "metadata": {},
   "source": [
    "### Choose bands for Landsat 8 and Sentinel satellite data"
   ]
  },
  {
   "cell_type": "code",
   "execution_count": 34,
   "metadata": {},
   "outputs": [],
   "source": [
    "from CalVal.ApplyWeights import get_spectrum_curve\n",
    "\n",
    "band_nn = get_spectrum_curve(f_name)\n",
    "senti_bands = [1,2,3,4,5,6,7,8,'8a',11,12]\n",
    "ls8_bands = [1,2,3,4,5,6,7]\n",
    "\n",
    "if field_data[3] == 'Landsat8':\n",
    "    band_min = [band_nn['band'+str(i)][:, 0].min() for i in ls8_bands]\n",
    "    band_max = [band_nn['band'+str(i)][:, 0].max() for i in ls8_bands]\n",
    "\n",
    "elif field_data[3] == 'Sentinel2a' or field_data[3] == 'Sentinel2b':\n",
    "    band_min = [band_nn['band'+str(i)][:, 0].min() for i in senti_bands]\n",
    "    band_max = [band_nn['band'+str(i)][:, 0].max() for i in senti_bands]\n",
    "\n",
    "else:\n",
    "    print('Satellite name should be one of Landsat8 or Sentinel. I got', field_data[3])"
   ]
  },
  {
   "cell_type": "markdown",
   "metadata": {},
   "source": [
    "# Figure \n",
    "\n",
    "### Plot satellite band extents against median ground spectrum\n",
    "\n",
    "This plot will show where the satellite bands fall, with respect to the spectrum<BR>\n",
    "and in particular, with respect to the atmospheric absorbtion features."
   ]
  },
  {
   "cell_type": "markdown",
   "metadata": {},
   "source": [
    "FIG_BandExtents.FIG_band_extents(all_refls, band_min, band_max, output, field_data, fignum)\n",
    "fignum += 1"
   ]
  },
  {
   "cell_type": "markdown",
   "metadata": {},
   "source": [
    "### Fudge GPS locations if none exist"
   ]
  },
  {
   "cell_type": "code",
   "execution_count": 35,
   "metadata": {
    "scrolled": false
   },
   "outputs": [
    {
     "name": "stdout",
     "output_type": "stream",
     "text": [
      "No good GPS Coordinates found, fudging...\n"
     ]
    }
   ],
   "source": [
    "ground_brdf = FudgeGPS.fudge_gps(ground_brdf, Corners, RockWalk, StartCorner)"
   ]
  },
  {
   "cell_type": "markdown",
   "metadata": {},
   "source": [
    "### Query Satellite data\n",
    "\n",
    "Retrieve xarrays for satellite data, based on which satellite, query area and time.<BR>\n",
    "sat_array will contain all band data<BR>\n",
    "sat_bigarray will be a larger version of sat_array, which can be used for context plotting."
   ]
  },
  {
   "cell_type": "code",
   "execution_count": 36,
   "metadata": {},
   "outputs": [],
   "source": [
    "dc, query, query2 = Query.make_query(ground_brdf, field_data)\n",
    "\n",
    "sat_array, sat_bigarray = CreateSatArrays.create_sat_arrays(dc, query, query2, field_data)"
   ]
  },
  {
   "cell_type": "markdown",
   "metadata": {},
   "source": [
    "# Figure \n",
    "\n",
    "### Plot relative locations of field and satellite data"
   ]
  },
  {
   "cell_type": "code",
   "execution_count": 37,
   "metadata": {},
   "outputs": [
    {
     "data": {
      "image/png": "[encoded data removed]",
      "text/plain": [
       "<Figure size 432x432 with 1 Axes>"
      ]
     },
     "metadata": {},
     "output_type": "display_data"
    }
   ],
   "source": [
    "xloc = FIG_SatFieldLocations.FIG_sat_field_locations(ground_brdf, sat_array, colpac, output, field_data, fignum)\n",
    "fignum +=1"
   ]
  },
  {
   "cell_type": "markdown",
   "metadata": {},
   "source": [
    "### Create Field full band xarray\n",
    "\n",
    "The field xarray is based on the pixel locations of the satellite data, where each pixel<BR>\n",
    "    contains an average of all field data measurements that fall within the pixel."
   ]
  },
  {
   "cell_type": "code",
   "execution_count": null,
   "metadata": {},
   "outputs": [],
   "source": [
    "field_array = CreateFieldFromSat.create_field_from_sat(sat_array, ground_brdf, xloc, field_data)"
   ]
  },
  {
   "cell_type": "markdown",
   "metadata": {},
   "source": [
    "# Figure \n",
    "\n",
    "### Plot large-area context RGB array for Satellite data"
   ]
  },
  {
   "cell_type": "markdown",
   "metadata": {
    "scrolled": false
   },
   "source": [
    "FIG_SatBigRGB.FIG_sat_bigRGB(sat_array, sat_bigarray, output, field_data, fignum)\n",
    "fignum += 1"
   ]
  },
  {
   "cell_type": "markdown",
   "metadata": {},
   "source": [
    "# Figure \n",
    "\n",
    "### Plot RGB array for Satellite data"
   ]
  },
  {
   "cell_type": "markdown",
   "metadata": {},
   "source": [
    "FIG_SatRGB.FIG_sat_RGB(sat_array, output, field_data, fignum)\n",
    "fignum += 1"
   ]
  },
  {
   "cell_type": "markdown",
   "metadata": {},
   "source": [
    "# Figure \n",
    "\n",
    "### Plot RGB array for Field data"
   ]
  },
  {
   "cell_type": "markdown",
   "metadata": {},
   "source": [
    "FIG_FieldRGB.FIG_field_RGB(field_array, output, field_data, fignum)\n",
    "fignum += 1"
   ]
  },
  {
   "cell_type": "markdown",
   "metadata": {},
   "source": [
    "## Figure\n",
    "### Variance of satellite data\n",
    "\n",
    "Band-by-band plots of the ratio of satellite data, divided by the mean, for each band are shown.\n",
    "The title also lists the min, max and mean variance. Variance is defined as the ratio of the standard\n",
    "deviation divided by the mean, for each band. The mean variance should typically be less than 5%."
   ]
  },
  {
   "cell_type": "markdown",
   "metadata": {
    "scrolled": false
   },
   "source": [
    "variance = FIG_SatBands.FIG_sat_bands(sat_array, field_array, output, field_data, fignum)\n",
    "fignum += 1"
   ]
  },
  {
   "cell_type": "markdown",
   "metadata": {},
   "source": [
    "# Figure\n",
    "\n",
    "### Plot ratio arrays for each band\n",
    "\n",
    "Each panel shows the ratio of satellite/field data."
   ]
  },
  {
   "cell_type": "markdown",
   "metadata": {},
   "source": [
    "FIG_RatioArrays.FIG_ratio_arrays(sat_array, field_array, output, field_data, fignum)\n",
    "fignum += 1"
   ]
  },
  {
   "cell_type": "markdown",
   "metadata": {},
   "source": [
    "### Create a statistics dataframe, comparing satellite and field data"
   ]
  },
  {
   "cell_type": "code",
   "execution_count": null,
   "metadata": {
    "scrolled": true
   },
   "outputs": [],
   "source": [
    "fstat_df = CreateStats.create_stats(sat_array, ground_brdf, field_data)"
   ]
  },
  {
   "cell_type": "markdown",
   "metadata": {},
   "source": [
    "## Create a statistics dataframe, comparing satellite and field data,\n",
    "for only those satellite pixels which overlap with at least one field data position."
   ]
  },
  {
   "cell_type": "code",
   "execution_count": null,
   "metadata": {},
   "outputs": [],
   "source": [
    "finner_df = CreateSubStats.create_SUB_stats(sat_array, field_array, ground_brdf, fstat_df, field_data)"
   ]
  },
  {
   "cell_type": "markdown",
   "metadata": {},
   "source": [
    "# Figure\n",
    "\n",
    "### Plot comparison spectra of satellite and field data, on a pixel-by-pixel basis\n",
    "\n",
    "Error bars are shown for the satellite and field data, based on the standard deviation of the pixels\n",
    "within the field. The black line shows the satellite data, which has been averaged over all pixels that satisfy the Datacube query ie. all pixels shown in Figure 11. The orange line shows satellite data which has been averaged over only those pixels that overlap with at least one field measurement."
   ]
  },
  {
   "cell_type": "markdown",
   "metadata": {
    "scrolled": false
   },
   "source": [
    "FIG_SubSatFieldBands.FIG_SUB_sat_field_bands(sat_array, fstat_df, finner_df, output, field_data, fignum)\n",
    "fignum += 1"
   ]
  },
  {
   "cell_type": "markdown",
   "metadata": {
    "scrolled": true
   },
   "source": [
    "FIG_SatFieldBands.FIG_sat_field_bands(sat_array, fstat_df, finner_df, output, field_data, fignum)\n",
    "fignum += 1"
   ]
  },
  {
   "cell_type": "markdown",
   "metadata": {},
   "source": [
    "# Figure\n",
    "\n",
    "### Comparison plot of Field and satellite data\n",
    "\n",
    "Plot shows a pixel-by-pixel comparison of all pixels where field data exists.<BR> \n",
    "Different band data are shown in different colours and different symbols."
   ]
  },
  {
   "cell_type": "markdown",
   "metadata": {
    "scrolled": false
   },
   "source": [
    "FIG_SatFieldScatterCompare.FIG_sat_field_scatter_compare(sat_array, field_array, plot_scale, output, field_data, fignum)\n",
    "fignum += 1"
   ]
  },
  {
   "cell_type": "markdown",
   "metadata": {
    "scrolled": false
   },
   "source": [
    "FIG_SatFieldAvgScatterCompare.FIG_sat_field_avg_scatter_compare(sat_array, field_array, plot_scale, fstat_df, output, field_data, fignum)\n",
    "fignum += 1"
   ]
  },
  {
   "cell_type": "markdown",
   "metadata": {},
   "source": [
    "## Print out summary data sheet"
   ]
  },
  {
   "cell_type": "markdown",
   "metadata": {},
   "source": [
    "PrintSheet.print_sheet(ground_brdf, sat_array, fstat_df, indir, output, field_data, Corners, RockWalk, StartCorner, variance, query, dc)"
   ]
  },
  {
   "cell_type": "markdown",
   "metadata": {},
   "source": [
    "fstat_df.to_csv('../CSV/'+field_data[0]+'_'+field_data[1]+'_'+field_data[2]+'_'+field_data[3]+'.csv')"
   ]
  },
  {
   "cell_type": "markdown",
   "metadata": {},
   "source": [
    "## How long did this notebook take to run?"
   ]
  },
  {
   "cell_type": "code",
   "execution_count": null,
   "metadata": {
    "scrolled": false
   },
   "outputs": [],
   "source": [
    "import datetime\n",
    "print(\"This Notebook took \", str(datetime.timedelta(seconds=int((time.time() - start_time)))), \"(h:m:s) to run\")"
   ]
  },
  {
   "cell_type": "code",
   "execution_count": null,
   "metadata": {},
   "outputs": [],
   "source": [
    "import importlib\n",
    "importlib.reload(Query)"
   ]
  },
  {
   "cell_type": "code",
   "execution_count": null,
   "metadata": {},
   "outputs": [],
   "source": [
    "dc, query, query2 = Query.make_query(ground_brdf, field_data)\n",
    "\n",
    "sat_array, sat_bigarray = CreateSatArrays.create_sat_arrays(dc, query, query2, field_data)"
   ]
  },
  {
   "cell_type": "code",
   "execution_count": null,
   "metadata": {
    "scrolled": true
   },
   "outputs": [],
   "source": [
    "fstat_df_cubic = CreateStats.create_stats(sat_array, ground_brdf, field_data)"
   ]
  },
  {
   "cell_type": "code",
   "execution_count": null,
   "metadata": {},
   "outputs": [],
   "source": [
    "finner_df_cubic = CreateSubStats.create_SUB_stats(sat_array, field_array, ground_brdf, fstat_df, field_data)"
   ]
  },
  {
   "cell_type": "code",
   "execution_count": null,
   "metadata": {
    "scrolled": false
   },
   "outputs": [],
   "source": [
    "100*(fstat_df_bilinear.Sat_mean - fstat_df_nearest.Sat_mean)/fstat_df_nearest.Sat_mean"
   ]
  },
  {
   "cell_type": "code",
   "execution_count": null,
   "metadata": {},
   "outputs": [],
   "source": [
    "100*(finner_df_bilinear.Sat_inner_mean - finner_df_nearest.Sat_inner_mean)/finner_df_nearest.Sat_inner_mean"
   ]
  },
  {
   "cell_type": "code",
   "execution_count": null,
   "metadata": {},
   "outputs": [],
   "source": [
    "100*(fstat_df_cubic.Sat_mean - fstat_df_nearest.Sat_mean)/fstat_df_nearest.Sat_mean"
   ]
  },
  {
   "cell_type": "code",
   "execution_count": null,
   "metadata": {},
   "outputs": [],
   "source": [
    "100*(finner_df_cubic.Sat_inner_mean - finner_df_nearest.Sat_inner_mean)/finner_df_nearest.Sat_inner_mean"
   ]
  },
  {
   "cell_type": "code",
   "execution_count": null,
   "metadata": {},
   "outputs": [],
   "source": [
    "100*(fstat_df_bilinear.Sat_mean - fstat_df_cubic.Sat_mean)/fstat_df_cubic.Sat_mean"
   ]
  },
  {
   "cell_type": "code",
   "execution_count": null,
   "metadata": {},
   "outputs": [],
   "source": [
    "100*(finner_df_bilinear.Sat_inner_mean - finner_df_cubic.Sat_inner_mean)/finner_df_cubic.Sat_inner_mean"
   ]
  },
  {
   "cell_type": "code",
   "execution_count": null,
   "metadata": {},
   "outputs": [],
   "source": [
    "lort = "
   ]
  },
  {
   "cell_type": "code",
   "execution_count": null,
   "metadata": {},
   "outputs": [],
   "source": [
    "import pandas as pd\n",
    "sers = pd.Series(lort)\n",
    "import numpy as np"
   ]
  },
  {
   "cell_type": "code",
   "execution_count": null,
   "metadata": {},
   "outputs": [],
   "source": [
    "sabs = np.abs(sers)\n",
    "sabs.median()"
   ]
  },
  {
   "cell_type": "code",
   "execution_count": null,
   "metadata": {},
   "outputs": [],
   "source": []
  }
 ],
 "metadata": {
  "kernelspec": {
   "display_name": "Python 3",
   "language": "python",
   "name": "python3"
  },
  "language_info": {
   "codemirror_mode": {
    "name": "ipython",
    "version": 3
   },
   "file_extension": ".py",
   "mimetype": "text/x-python",
   "name": "python",
   "nbconvert_exporter": "python",
   "pygments_lexer": "ipython3",
   "version": "3.6.6"
  }
 },
 "nbformat": 4,
 "nbformat_minor": 2
}
