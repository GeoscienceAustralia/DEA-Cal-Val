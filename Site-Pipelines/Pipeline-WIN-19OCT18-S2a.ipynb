{
 "cells": [
  {
   "cell_type": "markdown",
   "metadata": {},
   "source": [
    "# Workflow for processing Winton - 19OCT18 - Sentinel 2a"
   ]
  },
  {
   "cell_type": "code",
   "execution_count": 1,
   "metadata": {},
   "outputs": [],
   "source": [
    "import time\n",
    "start_time = time.time()\n",
    "\n",
    "import numpy as np\n",
    "\n",
    "#\n",
    "# Set up input and output directories\n",
    "#\n",
    "indir = '/g/data1a/u46/users/aw3463/GuyByrne/30APR18/Winton/19OCT18/'\n",
    "output = '/g/data/u46/users/aw3463/GuyByrne/calval/PNGS/WIN-19OCT18-S2a/'\n",
    "\n",
    "#\n",
    "# field_data is in the format: 'Field Site Name', 'Date', 'Site number', 'Satellite Name', 'Panel origin', 'Reflectance/Radiance'.\n",
    "# and 'Radiance'/'Reflectance'.\n",
    "# NOTE: Satellite name should be one of: 'Landsat8', 'Sentinel2a', or 'Sentinel2b'.\n",
    "#\n",
    "field_data = ['WIN', '19OCT18', '', 'Sentinel2a', 'UQ_Panel', 'Radiance']\n",
    "\n",
    "#\n",
    "# bad_pans    contains the names of individual panels readings that appear to be bogus\n",
    "# bad_grounds contains ground-reading file names that appear to be bogus\n",
    "# Use empty lists if there are no bad spectra.\n",
    "#\n",
    "bad_grounds = []\n",
    "bad_pans = []\n",
    "\n",
    "#\n",
    "# Define the first line and spectrum number for all/good panels and grounds\n",
    "#\n",
    "firstGoodLine = 1\n",
    "firstGoodPanelSpec = 50\n",
    "firstGoodGroundSpec = 60\n",
    "\n",
    "#\n",
    "# Calculated BRDF data\n",
    "#\n",
    "brdf_data = np.array([['', 'brdf0', 'brdf1', 'brdf2'],\n",
    "                          ['band1', 0.14425000000000002, 0.02822, 0.020036666666666668],\n",
    "                          ['band11', 0.54457, 0.10411666666666668, 0.08054666666666667],\n",
    "                          ['band12', 0.4551666666666667, 0.06948666666666667, 0.07006666666666667],\n",
    "                          ['band2', 0.14425000000000002, 0.02822, 0.020036666666666668],\n",
    "                          ['band3', 0.22512333333333331, 0.04963666666666667, 0.03701],\n",
    "                          ['band4', 0.31064, 0.05743666666666667, 0.052256666666666673],\n",
    "                          ['band5', 0.31064, 0.05743666666666667, 0.052256666666666673],\n",
    "                          ['band6', 0.31064, 0.05743666666666667, 0.052256666666666673],\n",
    "                          ['band7', 0.38958000000000004, 0.11109000000000001, 0.05335],\n",
    "                          ['band8', 0.38958000000000004, 0.11109000000000001, 0.05335],\n",
    "                          ['band8a', 0.38958000000000004, 0.11109000000000001, 0.05335],\n",
    "                         ])\n",
    "\n",
    "#\n",
    "# plot_scale defines the extent of the axes in the final two plots in the workflow.\n",
    "# A scale from 0-1 means no reflectance to perfect reflectance. Typically, dark sites\n",
    "# will range from 0-0.3, whereas bright sites will be between 0-1.\n",
    "#\n",
    "plot_scale = [0.0, 1.0, 0.0, 1.0]\n",
    "\n",
    "#\n",
    "# Define corners of field data, if GPS coordinates are NOT written into headers.\n",
    "# Order is SE, SW, NE, NW. Units are decimal degrees.\n",
    "# If there are no coordinates, then set RockWalk to either True or False.\n",
    "# True  means that the field site was walked in a rock-like pattern (alternating directions),\n",
    "# False means that the field site was walked in a roll-like pattern (same direction)\n",
    "#\n",
    "Corners = [0, 0, 0, 0, 0, 0, 0, 0]\n",
    "RockWalk = True\n",
    "StartCorner = 'SE'"
   ]
  },
  {
   "cell_type": "code",
   "execution_count": 2,
   "metadata": {},
   "outputs": [],
   "source": [
    "import matplotlib.pyplot as plt\n",
    "import matplotlib\n",
    "import datacube\n",
    "import sys, os, shutil\n",
    "sys.path.append(\"..\")\n",
    "\n",
    "from CalVal import *\n",
    "\n",
    "#\n",
    "# Use notebook format (allows inline zooming and moving of figures)\n",
    "# Set default font size for all plots\n",
    "#\n",
    "%matplotlib notebook\n",
    "matplotlib.rcParams.update({'font.size': 12})\n",
    "matplotlib.rcParams['savefig.dpi'] = 300\n",
    "\n",
    "#\n",
    "# Remove old files in directory and create a new one\n",
    "#\n",
    "directory = os.path.dirname(output)\n",
    "if os.path.exists(directory):\n",
    "    shutil.rmtree(directory)\n",
    "os.makedirs(directory)"
   ]
  },
  {
   "cell_type": "code",
   "execution_count": 3,
   "metadata": {},
   "outputs": [],
   "source": [
    "#######################################\n",
    "# LINES BELOW SHOULD REMAIN UNCHANGED #\n",
    "#######################################\n",
    "#\n",
    "# panel_dir and in_panel refer to the file that is used in determining the k-factor,\n",
    "# so this should remain unchanged.\n",
    "#\n",
    "if field_data[5] == 'Radiance':\n",
    "    suffix = 'asd.rad.txt'\n",
    "else: \n",
    "    suffix = 'asd.txt'\n",
    "\n",
    "panel_dir =  '/g/data1a/u46/users/aw3463/GuyByrne/30APR18/Panels/'\n",
    "\n",
    "if field_data[4] == 'GA_Panel':\n",
    "    in_panel = 'ga_panel1_jan_2018.txt'\n",
    "elif field_data[4] == 'CSIRO_Panel':\n",
    "    in_panel = 'csiro_panel.txt'\n",
    "elif field_data[4] == 'UA_Panel':\n",
    "    in_panel = 'ua_panel.txt'\n",
    "elif field_data[4] == 'UOW_Panel':\n",
    "    in_panel = 'uow_panel.txt'\n",
    "elif field_data[4] == 'UQ_Panel':\n",
    "    in_panel = 'uq_panel.txt'\n",
    "elif field_data[4] == 'CSIRO_VIC_Panel':\n",
    "    in_panel = 'csiro_vic_panel.txt'\n",
    "else:\n",
    "    nopanel = '***PANEL NAME NOT KNOWN***'\n",
    "    print(nopanel)\n",
    "\n",
    "#\n",
    "# Setup for Landsat and Sentinel bandpass filters\n",
    "#\n",
    "sat_resp = dict({'Landsat5': '/g/data1a/u46/users/aw3463/GuyByrne/misc_others/landsat5_vsir.flt', \n",
    "            'Landsat7': '/g/data1a/u46/users/aw3463/GuyByrne/misc_others/landsat7_vsir.flt', \n",
    "            'Landsat8': '/g/data1a/u46/users/aw3463/GuyByrne/misc_others/landsat8_vsir.flt',\n",
    "            'Sentinel2a': '/g/data1a/u46/users/aw3463/GuyByrne/misc_others/Sent2a.flt',\n",
    "            'Sentinel2b': '/g/data1a/u46/users/aw3463/GuyByrne/misc_others/Sent2b.flt'})\n",
    "\n",
    "f_name = sat_resp[field_data[3]]\n",
    "\n",
    "#\n",
    "# Colours used for plotting multi-coloured Lines\n",
    "#\n",
    "colpac=['#770000', '#FF0000', '#FF7700', '#FFFF00', '#77FF00', '#00FF00', \n",
    "        '#00FF77', '#00FFFF', '#0077FF', '#0000FF', '#000077', '#FF00FF', '#777777', '#770077', '#777700']\n",
    "\n",
    "#\n",
    "# Start Figure numbering at 1\n",
    "#\n",
    "fignum = 1"
   ]
  },
  {
   "cell_type": "markdown",
   "metadata": {},
   "source": [
    "### Define 'alldata' as the dataframe that contains all the raw spectra.\n",
    "Show the first wavelength of every spectrum, so that the data integrity can be checked."
   ]
  },
  {
   "cell_type": "code",
   "execution_count": 4,
   "metadata": {
    "scrolled": true
   },
   "outputs": [
    {
     "data": {
      "text/html": [
       "<div>\n",
       "<style scoped>\n",
       "    .dataframe tbody tr th:only-of-type {\n",
       "        vertical-align: middle;\n",
       "    }\n",
       "\n",
       "    .dataframe tbody tr th {\n",
       "        vertical-align: top;\n",
       "    }\n",
       "\n",
       "    .dataframe thead th {\n",
       "        text-align: right;\n",
       "    }\n",
       "</style>\n",
       "<table border=\"1\" class=\"dataframe\">\n",
       "  <thead>\n",
       "    <tr style=\"text-align: right;\">\n",
       "      <th></th>\n",
       "      <th>Wavelength</th>\n",
       "      <th>radiance</th>\n",
       "      <th>filename</th>\n",
       "      <th>date_saved</th>\n",
       "      <th>Latitude</th>\n",
       "      <th>Longitude</th>\n",
       "      <th>Line</th>\n",
       "      <th>Spec_number</th>\n",
       "      <th>Inst_number</th>\n",
       "    </tr>\n",
       "  </thead>\n",
       "  <tbody>\n",
       "    <tr>\n",
       "      <th>0</th>\n",
       "      <td>350</td>\n",
       "      <td>0.168887</td>\n",
       "      <td>20181019WIN00050.asd.rad</td>\n",
       "      <td>2018-10-19 00:29:17</td>\n",
       "      <td>-22.526813</td>\n",
       "      <td>142.938131</td>\n",
       "      <td>1</td>\n",
       "      <td>50</td>\n",
       "      <td>16516/1</td>\n",
       "    </tr>\n",
       "    <tr>\n",
       "      <th>0</th>\n",
       "      <td>350</td>\n",
       "      <td>0.168910</td>\n",
       "      <td>20181019WIN00051.asd.rad</td>\n",
       "      <td>2018-10-19 00:29:19</td>\n",
       "      <td>-22.526813</td>\n",
       "      <td>142.938131</td>\n",
       "      <td>1</td>\n",
       "      <td>51</td>\n",
       "      <td>16516/1</td>\n",
       "    </tr>\n",
       "    <tr>\n",
       "      <th>0</th>\n",
       "      <td>350</td>\n",
       "      <td>0.168730</td>\n",
       "      <td>20181019WIN00052.asd.rad</td>\n",
       "      <td>2018-10-19 00:29:22</td>\n",
       "      <td>-22.526813</td>\n",
       "      <td>142.938131</td>\n",
       "      <td>1</td>\n",
       "      <td>52</td>\n",
       "      <td>16516/1</td>\n",
       "    </tr>\n",
       "    <tr>\n",
       "      <th>0</th>\n",
       "      <td>350</td>\n",
       "      <td>0.168745</td>\n",
       "      <td>20181019WIN00053.asd.rad</td>\n",
       "      <td>2018-10-19 00:29:24</td>\n",
       "      <td>-22.526813</td>\n",
       "      <td>142.938131</td>\n",
       "      <td>1</td>\n",
       "      <td>53</td>\n",
       "      <td>16516/1</td>\n",
       "    </tr>\n",
       "    <tr>\n",
       "      <th>0</th>\n",
       "      <td>350</td>\n",
       "      <td>0.168793</td>\n",
       "      <td>20181019WIN00054.asd.rad</td>\n",
       "      <td>2018-10-19 00:29:27</td>\n",
       "      <td>-22.526813</td>\n",
       "      <td>142.938131</td>\n",
       "      <td>1</td>\n",
       "      <td>54</td>\n",
       "      <td>16516/1</td>\n",
       "    </tr>\n",
       "    <tr>\n",
       "      <th>0</th>\n",
       "      <td>350</td>\n",
       "      <td>0.168917</td>\n",
       "      <td>20181019WIN00055.asd.rad</td>\n",
       "      <td>2018-10-19 00:29:30</td>\n",
       "      <td>-22.526813</td>\n",
       "      <td>142.938131</td>\n",
       "      <td>1</td>\n",
       "      <td>55</td>\n",
       "      <td>16516/1</td>\n",
       "    </tr>\n",
       "    <tr>\n",
       "      <th>0</th>\n",
       "      <td>350</td>\n",
       "      <td>0.168688</td>\n",
       "      <td>20181019WIN00056.asd.rad</td>\n",
       "      <td>2018-10-19 00:29:32</td>\n",
       "      <td>-22.526813</td>\n",
       "      <td>142.938131</td>\n",
       "      <td>1</td>\n",
       "      <td>56</td>\n",
       "      <td>16516/1</td>\n",
       "    </tr>\n",
       "    <tr>\n",
       "      <th>0</th>\n",
       "      <td>350</td>\n",
       "      <td>0.168956</td>\n",
       "      <td>20181019WIN00057.asd.rad</td>\n",
       "      <td>2018-10-19 00:29:35</td>\n",
       "      <td>-22.526813</td>\n",
       "      <td>142.938131</td>\n",
       "      <td>1</td>\n",
       "      <td>57</td>\n",
       "      <td>16516/1</td>\n",
       "    </tr>\n",
       "    <tr>\n",
       "      <th>0</th>\n",
       "      <td>350</td>\n",
       "      <td>0.169186</td>\n",
       "      <td>20181019WIN00058.asd.rad</td>\n",
       "      <td>2018-10-19 00:29:37</td>\n",
       "      <td>-22.526813</td>\n",
       "      <td>142.938131</td>\n",
       "      <td>1</td>\n",
       "      <td>58</td>\n",
       "      <td>16516/1</td>\n",
       "    </tr>\n",
       "    <tr>\n",
       "      <th>0</th>\n",
       "      <td>350</td>\n",
       "      <td>0.169156</td>\n",
       "      <td>20181019WIN00059.asd.rad</td>\n",
       "      <td>2018-10-19 00:29:40</td>\n",
       "      <td>-22.526813</td>\n",
       "      <td>142.938131</td>\n",
       "      <td>1</td>\n",
       "      <td>59</td>\n",
       "      <td>16516/1</td>\n",
       "    </tr>\n",
       "    <tr>\n",
       "      <th>0</th>\n",
       "      <td>350</td>\n",
       "      <td>0.012004</td>\n",
       "      <td>20181019WIN00060.asd.rad</td>\n",
       "      <td>2018-10-19 00:30:42</td>\n",
       "      <td>-22.526915</td>\n",
       "      <td>142.938691</td>\n",
       "      <td>1</td>\n",
       "      <td>60</td>\n",
       "      <td>16516/1</td>\n",
       "    </tr>\n",
       "    <tr>\n",
       "      <th>0</th>\n",
       "      <td>350</td>\n",
       "      <td>0.012775</td>\n",
       "      <td>20181019WIN00061.asd.rad</td>\n",
       "      <td>2018-10-19 00:30:45</td>\n",
       "      <td>-22.526930</td>\n",
       "      <td>142.938688</td>\n",
       "      <td>1</td>\n",
       "      <td>61</td>\n",
       "      <td>16516/1</td>\n",
       "    </tr>\n",
       "    <tr>\n",
       "      <th>0</th>\n",
       "      <td>350</td>\n",
       "      <td>0.013715</td>\n",
       "      <td>20181019WIN00062.asd.rad</td>\n",
       "      <td>2018-10-19 00:30:47</td>\n",
       "      <td>-22.526945</td>\n",
       "      <td>142.938685</td>\n",
       "      <td>1</td>\n",
       "      <td>62</td>\n",
       "      <td>16516/1</td>\n",
       "    </tr>\n",
       "    <tr>\n",
       "      <th>0</th>\n",
       "      <td>350</td>\n",
       "      <td>0.012044</td>\n",
       "      <td>20181019WIN00063.asd.rad</td>\n",
       "      <td>2018-10-19 00:30:50</td>\n",
       "      <td>-22.526968</td>\n",
       "      <td>142.938686</td>\n",
       "      <td>1</td>\n",
       "      <td>63</td>\n",
       "      <td>16516/1</td>\n",
       "    </tr>\n",
       "    <tr>\n",
       "      <th>0</th>\n",
       "      <td>350</td>\n",
       "      <td>0.014667</td>\n",
       "      <td>20181019WIN00064.asd.rad</td>\n",
       "      <td>2018-10-19 00:30:52</td>\n",
       "      <td>-22.526983</td>\n",
       "      <td>142.938682</td>\n",
       "      <td>1</td>\n",
       "      <td>64</td>\n",
       "      <td>16516/1</td>\n",
       "    </tr>\n",
       "    <tr>\n",
       "      <th>0</th>\n",
       "      <td>350</td>\n",
       "      <td>0.013261</td>\n",
       "      <td>20181019WIN00065.asd.rad</td>\n",
       "      <td>2018-10-19 00:30:55</td>\n",
       "      <td>-22.527002</td>\n",
       "      <td>142.938680</td>\n",
       "      <td>1</td>\n",
       "      <td>65</td>\n",
       "      <td>16516/1</td>\n",
       "    </tr>\n",
       "    <tr>\n",
       "      <th>0</th>\n",
       "      <td>350</td>\n",
       "      <td>0.011379</td>\n",
       "      <td>20181019WIN00066.asd.rad</td>\n",
       "      <td>2018-10-19 00:30:57</td>\n",
       "      <td>-22.527023</td>\n",
       "      <td>142.938674</td>\n",
       "      <td>1</td>\n",
       "      <td>66</td>\n",
       "      <td>16516/1</td>\n",
       "    </tr>\n",
       "    <tr>\n",
       "      <th>0</th>\n",
       "      <td>350</td>\n",
       "      <td>0.012030</td>\n",
       "      <td>20181019WIN00067.asd.rad</td>\n",
       "      <td>2018-10-19 00:31:00</td>\n",
       "      <td>-22.527042</td>\n",
       "      <td>142.938673</td>\n",
       "      <td>1</td>\n",
       "      <td>67</td>\n",
       "      <td>16516/1</td>\n",
       "    </tr>\n",
       "    <tr>\n",
       "      <th>0</th>\n",
       "      <td>350</td>\n",
       "      <td>0.014141</td>\n",
       "      <td>20181019WIN00068.asd.rad</td>\n",
       "      <td>2018-10-19 00:31:03</td>\n",
       "      <td>-22.527063</td>\n",
       "      <td>142.938669</td>\n",
       "      <td>1</td>\n",
       "      <td>68</td>\n",
       "      <td>16516/1</td>\n",
       "    </tr>\n",
       "    <tr>\n",
       "      <th>0</th>\n",
       "      <td>350</td>\n",
       "      <td>0.013420</td>\n",
       "      <td>20181019WIN00069.asd.rad</td>\n",
       "      <td>2018-10-19 00:31:05</td>\n",
       "      <td>-22.527082</td>\n",
       "      <td>142.938666</td>\n",
       "      <td>1</td>\n",
       "      <td>69</td>\n",
       "      <td>16516/1</td>\n",
       "    </tr>\n",
       "    <tr>\n",
       "      <th>0</th>\n",
       "      <td>350</td>\n",
       "      <td>0.013255</td>\n",
       "      <td>20181019WIN00070.asd.rad</td>\n",
       "      <td>2018-10-19 00:31:26</td>\n",
       "      <td>-22.527095</td>\n",
       "      <td>142.938667</td>\n",
       "      <td>1</td>\n",
       "      <td>70</td>\n",
       "      <td>16516/1</td>\n",
       "    </tr>\n",
       "    <tr>\n",
       "      <th>0</th>\n",
       "      <td>350</td>\n",
       "      <td>0.013495</td>\n",
       "      <td>20181019WIN00071.asd.rad</td>\n",
       "      <td>2018-10-19 00:31:28</td>\n",
       "      <td>-22.527100</td>\n",
       "      <td>142.938666</td>\n",
       "      <td>1</td>\n",
       "      <td>71</td>\n",
       "      <td>16516/1</td>\n",
       "    </tr>\n",
       "    <tr>\n",
       "      <th>0</th>\n",
       "      <td>350</td>\n",
       "      <td>0.014957</td>\n",
       "      <td>20181019WIN00072.asd.rad</td>\n",
       "      <td>2018-10-19 00:31:31</td>\n",
       "      <td>-22.527120</td>\n",
       "      <td>142.938661</td>\n",
       "      <td>1</td>\n",
       "      <td>72</td>\n",
       "      <td>16516/1</td>\n",
       "    </tr>\n",
       "    <tr>\n",
       "      <th>0</th>\n",
       "      <td>350</td>\n",
       "      <td>0.018515</td>\n",
       "      <td>20181019WIN00073.asd.rad</td>\n",
       "      <td>2018-10-19 00:31:33</td>\n",
       "      <td>-22.527138</td>\n",
       "      <td>142.938658</td>\n",
       "      <td>1</td>\n",
       "      <td>73</td>\n",
       "      <td>16516/1</td>\n",
       "    </tr>\n",
       "    <tr>\n",
       "      <th>0</th>\n",
       "      <td>350</td>\n",
       "      <td>0.018360</td>\n",
       "      <td>20181019WIN00074.asd.rad</td>\n",
       "      <td>2018-10-19 00:31:36</td>\n",
       "      <td>-22.527157</td>\n",
       "      <td>142.938657</td>\n",
       "      <td>1</td>\n",
       "      <td>74</td>\n",
       "      <td>16516/1</td>\n",
       "    </tr>\n",
       "    <tr>\n",
       "      <th>0</th>\n",
       "      <td>350</td>\n",
       "      <td>0.018849</td>\n",
       "      <td>20181019WIN00075.asd.rad</td>\n",
       "      <td>2018-10-19 00:31:39</td>\n",
       "      <td>-22.527180</td>\n",
       "      <td>142.938652</td>\n",
       "      <td>1</td>\n",
       "      <td>75</td>\n",
       "      <td>16516/1</td>\n",
       "    </tr>\n",
       "    <tr>\n",
       "      <th>0</th>\n",
       "      <td>350</td>\n",
       "      <td>0.018598</td>\n",
       "      <td>20181019WIN00076.asd.rad</td>\n",
       "      <td>2018-10-19 00:31:41</td>\n",
       "      <td>-22.527200</td>\n",
       "      <td>142.938645</td>\n",
       "      <td>1</td>\n",
       "      <td>76</td>\n",
       "      <td>16516/1</td>\n",
       "    </tr>\n",
       "    <tr>\n",
       "      <th>0</th>\n",
       "      <td>350</td>\n",
       "      <td>0.018135</td>\n",
       "      <td>20181019WIN00077.asd.rad</td>\n",
       "      <td>2018-10-19 00:31:44</td>\n",
       "      <td>-22.527217</td>\n",
       "      <td>142.938641</td>\n",
       "      <td>1</td>\n",
       "      <td>77</td>\n",
       "      <td>16516/1</td>\n",
       "    </tr>\n",
       "    <tr>\n",
       "      <th>0</th>\n",
       "      <td>350</td>\n",
       "      <td>0.019119</td>\n",
       "      <td>20181019WIN00078.asd.rad</td>\n",
       "      <td>2018-10-19 00:31:46</td>\n",
       "      <td>-22.527238</td>\n",
       "      <td>142.938638</td>\n",
       "      <td>1</td>\n",
       "      <td>78</td>\n",
       "      <td>16516/1</td>\n",
       "    </tr>\n",
       "    <tr>\n",
       "      <th>0</th>\n",
       "      <td>350</td>\n",
       "      <td>0.019242</td>\n",
       "      <td>20181019WIN00079.asd.rad</td>\n",
       "      <td>2018-10-19 00:31:49</td>\n",
       "      <td>-22.527257</td>\n",
       "      <td>142.938634</td>\n",
       "      <td>1</td>\n",
       "      <td>79</td>\n",
       "      <td>16516/1</td>\n",
       "    </tr>\n",
       "    <tr>\n",
       "      <th>...</th>\n",
       "      <td>...</td>\n",
       "      <td>...</td>\n",
       "      <td>...</td>\n",
       "      <td>...</td>\n",
       "      <td>...</td>\n",
       "      <td>...</td>\n",
       "      <td>...</td>\n",
       "      <td>...</td>\n",
       "      <td>...</td>\n",
       "    </tr>\n",
       "    <tr>\n",
       "      <th>0</th>\n",
       "      <td>350</td>\n",
       "      <td>0.022092</td>\n",
       "      <td>20181019WIN00440.asd.rad</td>\n",
       "      <td>2018-10-19 01:03:28</td>\n",
       "      <td>-22.527292</td>\n",
       "      <td>142.937635</td>\n",
       "      <td>6</td>\n",
       "      <td>40</td>\n",
       "      <td>16516/1</td>\n",
       "    </tr>\n",
       "    <tr>\n",
       "      <th>0</th>\n",
       "      <td>350</td>\n",
       "      <td>0.020508</td>\n",
       "      <td>20181019WIN00441.asd.rad</td>\n",
       "      <td>2018-10-19 01:03:31</td>\n",
       "      <td>-22.527308</td>\n",
       "      <td>142.937632</td>\n",
       "      <td>6</td>\n",
       "      <td>41</td>\n",
       "      <td>16516/1</td>\n",
       "    </tr>\n",
       "    <tr>\n",
       "      <th>0</th>\n",
       "      <td>350</td>\n",
       "      <td>0.023505</td>\n",
       "      <td>20181019WIN00442.asd.rad</td>\n",
       "      <td>2018-10-19 01:03:33</td>\n",
       "      <td>-22.527327</td>\n",
       "      <td>142.937628</td>\n",
       "      <td>6</td>\n",
       "      <td>42</td>\n",
       "      <td>16516/1</td>\n",
       "    </tr>\n",
       "    <tr>\n",
       "      <th>0</th>\n",
       "      <td>350</td>\n",
       "      <td>0.023122</td>\n",
       "      <td>20181019WIN00443.asd.rad</td>\n",
       "      <td>2018-10-19 01:03:36</td>\n",
       "      <td>-22.527343</td>\n",
       "      <td>142.937626</td>\n",
       "      <td>6</td>\n",
       "      <td>43</td>\n",
       "      <td>16516/1</td>\n",
       "    </tr>\n",
       "    <tr>\n",
       "      <th>0</th>\n",
       "      <td>350</td>\n",
       "      <td>0.023591</td>\n",
       "      <td>20181019WIN00444.asd.rad</td>\n",
       "      <td>2018-10-19 01:03:38</td>\n",
       "      <td>-22.527363</td>\n",
       "      <td>142.937623</td>\n",
       "      <td>6</td>\n",
       "      <td>44</td>\n",
       "      <td>16516/1</td>\n",
       "    </tr>\n",
       "    <tr>\n",
       "      <th>0</th>\n",
       "      <td>350</td>\n",
       "      <td>0.023685</td>\n",
       "      <td>20181019WIN00445.asd.rad</td>\n",
       "      <td>2018-10-19 01:03:41</td>\n",
       "      <td>-22.527380</td>\n",
       "      <td>142.937621</td>\n",
       "      <td>6</td>\n",
       "      <td>45</td>\n",
       "      <td>16516/1</td>\n",
       "    </tr>\n",
       "    <tr>\n",
       "      <th>0</th>\n",
       "      <td>350</td>\n",
       "      <td>0.021246</td>\n",
       "      <td>20181019WIN00446.asd.rad</td>\n",
       "      <td>2018-10-19 01:03:44</td>\n",
       "      <td>-22.527398</td>\n",
       "      <td>142.937618</td>\n",
       "      <td>6</td>\n",
       "      <td>46</td>\n",
       "      <td>16516/1</td>\n",
       "    </tr>\n",
       "    <tr>\n",
       "      <th>0</th>\n",
       "      <td>350</td>\n",
       "      <td>0.022816</td>\n",
       "      <td>20181019WIN00447.asd.rad</td>\n",
       "      <td>2018-10-19 01:03:46</td>\n",
       "      <td>-22.527417</td>\n",
       "      <td>142.937615</td>\n",
       "      <td>6</td>\n",
       "      <td>47</td>\n",
       "      <td>16516/1</td>\n",
       "    </tr>\n",
       "    <tr>\n",
       "      <th>0</th>\n",
       "      <td>350</td>\n",
       "      <td>0.023243</td>\n",
       "      <td>20181019WIN00448.asd.rad</td>\n",
       "      <td>2018-10-19 01:03:49</td>\n",
       "      <td>-22.527433</td>\n",
       "      <td>142.937613</td>\n",
       "      <td>6</td>\n",
       "      <td>48</td>\n",
       "      <td>16516/1</td>\n",
       "    </tr>\n",
       "    <tr>\n",
       "      <th>0</th>\n",
       "      <td>350</td>\n",
       "      <td>0.022934</td>\n",
       "      <td>20181019WIN00449.asd.rad</td>\n",
       "      <td>2018-10-19 01:03:51</td>\n",
       "      <td>-22.527450</td>\n",
       "      <td>142.937612</td>\n",
       "      <td>6</td>\n",
       "      <td>49</td>\n",
       "      <td>16516/1</td>\n",
       "    </tr>\n",
       "    <tr>\n",
       "      <th>0</th>\n",
       "      <td>350</td>\n",
       "      <td>0.023502</td>\n",
       "      <td>20181019WIN00450.asd.rad</td>\n",
       "      <td>2018-10-19 01:03:54</td>\n",
       "      <td>-22.527465</td>\n",
       "      <td>142.937612</td>\n",
       "      <td>6</td>\n",
       "      <td>50</td>\n",
       "      <td>16516/1</td>\n",
       "    </tr>\n",
       "    <tr>\n",
       "      <th>0</th>\n",
       "      <td>350</td>\n",
       "      <td>0.023679</td>\n",
       "      <td>20181019WIN00451.asd.rad</td>\n",
       "      <td>2018-10-19 01:03:57</td>\n",
       "      <td>-22.527485</td>\n",
       "      <td>142.937609</td>\n",
       "      <td>6</td>\n",
       "      <td>51</td>\n",
       "      <td>16516/1</td>\n",
       "    </tr>\n",
       "    <tr>\n",
       "      <th>0</th>\n",
       "      <td>350</td>\n",
       "      <td>0.024451</td>\n",
       "      <td>20181019WIN00452.asd.rad</td>\n",
       "      <td>2018-10-19 01:03:59</td>\n",
       "      <td>-22.527503</td>\n",
       "      <td>142.937605</td>\n",
       "      <td>6</td>\n",
       "      <td>52</td>\n",
       "      <td>16516/1</td>\n",
       "    </tr>\n",
       "    <tr>\n",
       "      <th>0</th>\n",
       "      <td>350</td>\n",
       "      <td>0.024764</td>\n",
       "      <td>20181019WIN00453.asd.rad</td>\n",
       "      <td>2018-10-19 01:04:02</td>\n",
       "      <td>-22.527522</td>\n",
       "      <td>142.937602</td>\n",
       "      <td>6</td>\n",
       "      <td>53</td>\n",
       "      <td>16516/1</td>\n",
       "    </tr>\n",
       "    <tr>\n",
       "      <th>0</th>\n",
       "      <td>350</td>\n",
       "      <td>0.025316</td>\n",
       "      <td>20181019WIN00454.asd.rad</td>\n",
       "      <td>2018-10-19 01:04:04</td>\n",
       "      <td>-22.527540</td>\n",
       "      <td>142.937598</td>\n",
       "      <td>6</td>\n",
       "      <td>54</td>\n",
       "      <td>16516/1</td>\n",
       "    </tr>\n",
       "    <tr>\n",
       "      <th>0</th>\n",
       "      <td>350</td>\n",
       "      <td>0.025666</td>\n",
       "      <td>20181019WIN00455.asd.rad</td>\n",
       "      <td>2018-10-19 01:04:07</td>\n",
       "      <td>-22.527560</td>\n",
       "      <td>142.937595</td>\n",
       "      <td>6</td>\n",
       "      <td>55</td>\n",
       "      <td>16516/1</td>\n",
       "    </tr>\n",
       "    <tr>\n",
       "      <th>0</th>\n",
       "      <td>350</td>\n",
       "      <td>0.025005</td>\n",
       "      <td>20181019WIN00456.asd.rad</td>\n",
       "      <td>2018-10-19 01:04:10</td>\n",
       "      <td>-22.527577</td>\n",
       "      <td>142.937593</td>\n",
       "      <td>6</td>\n",
       "      <td>56</td>\n",
       "      <td>16516/1</td>\n",
       "    </tr>\n",
       "    <tr>\n",
       "      <th>0</th>\n",
       "      <td>350</td>\n",
       "      <td>0.022805</td>\n",
       "      <td>20181019WIN00457.asd.rad</td>\n",
       "      <td>2018-10-19 01:04:12</td>\n",
       "      <td>-22.527595</td>\n",
       "      <td>142.937591</td>\n",
       "      <td>6</td>\n",
       "      <td>57</td>\n",
       "      <td>16516/1</td>\n",
       "    </tr>\n",
       "    <tr>\n",
       "      <th>0</th>\n",
       "      <td>350</td>\n",
       "      <td>0.023808</td>\n",
       "      <td>20181019WIN00458.asd.rad</td>\n",
       "      <td>2018-10-19 01:04:15</td>\n",
       "      <td>-22.527613</td>\n",
       "      <td>142.937587</td>\n",
       "      <td>6</td>\n",
       "      <td>58</td>\n",
       "      <td>16516/1</td>\n",
       "    </tr>\n",
       "    <tr>\n",
       "      <th>0</th>\n",
       "      <td>350</td>\n",
       "      <td>0.024414</td>\n",
       "      <td>20181019WIN00459.asd.rad</td>\n",
       "      <td>2018-10-19 01:04:17</td>\n",
       "      <td>-22.527630</td>\n",
       "      <td>142.937584</td>\n",
       "      <td>6</td>\n",
       "      <td>59</td>\n",
       "      <td>16516/1</td>\n",
       "    </tr>\n",
       "    <tr>\n",
       "      <th>0</th>\n",
       "      <td>350</td>\n",
       "      <td>0.185597</td>\n",
       "      <td>20181019WIN00460.asd.rad</td>\n",
       "      <td>2018-10-19 01:06:24</td>\n",
       "      <td>-22.526830</td>\n",
       "      <td>142.938113</td>\n",
       "      <td>6</td>\n",
       "      <td>60</td>\n",
       "      <td>16516/1</td>\n",
       "    </tr>\n",
       "    <tr>\n",
       "      <th>0</th>\n",
       "      <td>350</td>\n",
       "      <td>0.185597</td>\n",
       "      <td>20181019WIN00461.asd.rad</td>\n",
       "      <td>2018-10-19 01:06:26</td>\n",
       "      <td>-22.526830</td>\n",
       "      <td>142.938113</td>\n",
       "      <td>6</td>\n",
       "      <td>61</td>\n",
       "      <td>16516/1</td>\n",
       "    </tr>\n",
       "    <tr>\n",
       "      <th>0</th>\n",
       "      <td>350</td>\n",
       "      <td>0.185533</td>\n",
       "      <td>20181019WIN00462.asd.rad</td>\n",
       "      <td>2018-10-19 01:06:29</td>\n",
       "      <td>-22.526830</td>\n",
       "      <td>142.938113</td>\n",
       "      <td>6</td>\n",
       "      <td>62</td>\n",
       "      <td>16516/1</td>\n",
       "    </tr>\n",
       "    <tr>\n",
       "      <th>0</th>\n",
       "      <td>350</td>\n",
       "      <td>0.184981</td>\n",
       "      <td>20181019WIN00463.asd.rad</td>\n",
       "      <td>2018-10-19 01:06:31</td>\n",
       "      <td>-22.526830</td>\n",
       "      <td>142.938113</td>\n",
       "      <td>6</td>\n",
       "      <td>63</td>\n",
       "      <td>16516/1</td>\n",
       "    </tr>\n",
       "    <tr>\n",
       "      <th>0</th>\n",
       "      <td>350</td>\n",
       "      <td>0.184885</td>\n",
       "      <td>20181019WIN00464.asd.rad</td>\n",
       "      <td>2018-10-19 01:06:34</td>\n",
       "      <td>-22.526830</td>\n",
       "      <td>142.938113</td>\n",
       "      <td>6</td>\n",
       "      <td>64</td>\n",
       "      <td>16516/1</td>\n",
       "    </tr>\n",
       "    <tr>\n",
       "      <th>0</th>\n",
       "      <td>350</td>\n",
       "      <td>0.184912</td>\n",
       "      <td>20181019WIN00465.asd.rad</td>\n",
       "      <td>2018-10-19 01:06:37</td>\n",
       "      <td>-22.526830</td>\n",
       "      <td>142.938113</td>\n",
       "      <td>6</td>\n",
       "      <td>65</td>\n",
       "      <td>16516/1</td>\n",
       "    </tr>\n",
       "    <tr>\n",
       "      <th>0</th>\n",
       "      <td>350</td>\n",
       "      <td>0.185023</td>\n",
       "      <td>20181019WIN00466.asd.rad</td>\n",
       "      <td>2018-10-19 01:06:39</td>\n",
       "      <td>-22.526830</td>\n",
       "      <td>142.938113</td>\n",
       "      <td>6</td>\n",
       "      <td>66</td>\n",
       "      <td>16516/1</td>\n",
       "    </tr>\n",
       "    <tr>\n",
       "      <th>0</th>\n",
       "      <td>350</td>\n",
       "      <td>0.184942</td>\n",
       "      <td>20181019WIN00467.asd.rad</td>\n",
       "      <td>2018-10-19 01:06:42</td>\n",
       "      <td>-22.526830</td>\n",
       "      <td>142.938113</td>\n",
       "      <td>6</td>\n",
       "      <td>67</td>\n",
       "      <td>16516/1</td>\n",
       "    </tr>\n",
       "    <tr>\n",
       "      <th>0</th>\n",
       "      <td>350</td>\n",
       "      <td>0.185144</td>\n",
       "      <td>20181019WIN00468.asd.rad</td>\n",
       "      <td>2018-10-19 01:06:44</td>\n",
       "      <td>-22.526830</td>\n",
       "      <td>142.938114</td>\n",
       "      <td>6</td>\n",
       "      <td>68</td>\n",
       "      <td>16516/1</td>\n",
       "    </tr>\n",
       "    <tr>\n",
       "      <th>0</th>\n",
       "      <td>350</td>\n",
       "      <td>0.186037</td>\n",
       "      <td>20181019WIN00469.asd.rad</td>\n",
       "      <td>2018-10-19 01:06:47</td>\n",
       "      <td>-22.526830</td>\n",
       "      <td>142.938114</td>\n",
       "      <td>6</td>\n",
       "      <td>69</td>\n",
       "      <td>16516/1</td>\n",
       "    </tr>\n",
       "  </tbody>\n",
       "</table>\n",
       "<p>420 rows × 9 columns</p>\n",
       "</div>"
      ],
      "text/plain": [
       "    Wavelength  radiance                  filename          date_saved  \\\n",
       "0          350  0.168887  20181019WIN00050.asd.rad 2018-10-19 00:29:17   \n",
       "0          350  0.168910  20181019WIN00051.asd.rad 2018-10-19 00:29:19   \n",
       "0          350  0.168730  20181019WIN00052.asd.rad 2018-10-19 00:29:22   \n",
       "0          350  0.168745  20181019WIN00053.asd.rad 2018-10-19 00:29:24   \n",
       "0          350  0.168793  20181019WIN00054.asd.rad 2018-10-19 00:29:27   \n",
       "0          350  0.168917  20181019WIN00055.asd.rad 2018-10-19 00:29:30   \n",
       "0          350  0.168688  20181019WIN00056.asd.rad 2018-10-19 00:29:32   \n",
       "0          350  0.168956  20181019WIN00057.asd.rad 2018-10-19 00:29:35   \n",
       "0          350  0.169186  20181019WIN00058.asd.rad 2018-10-19 00:29:37   \n",
       "0          350  0.169156  20181019WIN00059.asd.rad 2018-10-19 00:29:40   \n",
       "0          350  0.012004  20181019WIN00060.asd.rad 2018-10-19 00:30:42   \n",
       "0          350  0.012775  20181019WIN00061.asd.rad 2018-10-19 00:30:45   \n",
       "0          350  0.013715  20181019WIN00062.asd.rad 2018-10-19 00:30:47   \n",
       "0          350  0.012044  20181019WIN00063.asd.rad 2018-10-19 00:30:50   \n",
       "0          350  0.014667  20181019WIN00064.asd.rad 2018-10-19 00:30:52   \n",
       "0          350  0.013261  20181019WIN00065.asd.rad 2018-10-19 00:30:55   \n",
       "0          350  0.011379  20181019WIN00066.asd.rad 2018-10-19 00:30:57   \n",
       "0          350  0.012030  20181019WIN00067.asd.rad 2018-10-19 00:31:00   \n",
       "0          350  0.014141  20181019WIN00068.asd.rad 2018-10-19 00:31:03   \n",
       "0          350  0.013420  20181019WIN00069.asd.rad 2018-10-19 00:31:05   \n",
       "0          350  0.013255  20181019WIN00070.asd.rad 2018-10-19 00:31:26   \n",
       "0          350  0.013495  20181019WIN00071.asd.rad 2018-10-19 00:31:28   \n",
       "0          350  0.014957  20181019WIN00072.asd.rad 2018-10-19 00:31:31   \n",
       "0          350  0.018515  20181019WIN00073.asd.rad 2018-10-19 00:31:33   \n",
       "0          350  0.018360  20181019WIN00074.asd.rad 2018-10-19 00:31:36   \n",
       "0          350  0.018849  20181019WIN00075.asd.rad 2018-10-19 00:31:39   \n",
       "0          350  0.018598  20181019WIN00076.asd.rad 2018-10-19 00:31:41   \n",
       "0          350  0.018135  20181019WIN00077.asd.rad 2018-10-19 00:31:44   \n",
       "0          350  0.019119  20181019WIN00078.asd.rad 2018-10-19 00:31:46   \n",
       "0          350  0.019242  20181019WIN00079.asd.rad 2018-10-19 00:31:49   \n",
       "..         ...       ...                       ...                 ...   \n",
       "0          350  0.022092  20181019WIN00440.asd.rad 2018-10-19 01:03:28   \n",
       "0          350  0.020508  20181019WIN00441.asd.rad 2018-10-19 01:03:31   \n",
       "0          350  0.023505  20181019WIN00442.asd.rad 2018-10-19 01:03:33   \n",
       "0          350  0.023122  20181019WIN00443.asd.rad 2018-10-19 01:03:36   \n",
       "0          350  0.023591  20181019WIN00444.asd.rad 2018-10-19 01:03:38   \n",
       "0          350  0.023685  20181019WIN00445.asd.rad 2018-10-19 01:03:41   \n",
       "0          350  0.021246  20181019WIN00446.asd.rad 2018-10-19 01:03:44   \n",
       "0          350  0.022816  20181019WIN00447.asd.rad 2018-10-19 01:03:46   \n",
       "0          350  0.023243  20181019WIN00448.asd.rad 2018-10-19 01:03:49   \n",
       "0          350  0.022934  20181019WIN00449.asd.rad 2018-10-19 01:03:51   \n",
       "0          350  0.023502  20181019WIN00450.asd.rad 2018-10-19 01:03:54   \n",
       "0          350  0.023679  20181019WIN00451.asd.rad 2018-10-19 01:03:57   \n",
       "0          350  0.024451  20181019WIN00452.asd.rad 2018-10-19 01:03:59   \n",
       "0          350  0.024764  20181019WIN00453.asd.rad 2018-10-19 01:04:02   \n",
       "0          350  0.025316  20181019WIN00454.asd.rad 2018-10-19 01:04:04   \n",
       "0          350  0.025666  20181019WIN00455.asd.rad 2018-10-19 01:04:07   \n",
       "0          350  0.025005  20181019WIN00456.asd.rad 2018-10-19 01:04:10   \n",
       "0          350  0.022805  20181019WIN00457.asd.rad 2018-10-19 01:04:12   \n",
       "0          350  0.023808  20181019WIN00458.asd.rad 2018-10-19 01:04:15   \n",
       "0          350  0.024414  20181019WIN00459.asd.rad 2018-10-19 01:04:17   \n",
       "0          350  0.185597  20181019WIN00460.asd.rad 2018-10-19 01:06:24   \n",
       "0          350  0.185597  20181019WIN00461.asd.rad 2018-10-19 01:06:26   \n",
       "0          350  0.185533  20181019WIN00462.asd.rad 2018-10-19 01:06:29   \n",
       "0          350  0.184981  20181019WIN00463.asd.rad 2018-10-19 01:06:31   \n",
       "0          350  0.184885  20181019WIN00464.asd.rad 2018-10-19 01:06:34   \n",
       "0          350  0.184912  20181019WIN00465.asd.rad 2018-10-19 01:06:37   \n",
       "0          350  0.185023  20181019WIN00466.asd.rad 2018-10-19 01:06:39   \n",
       "0          350  0.184942  20181019WIN00467.asd.rad 2018-10-19 01:06:42   \n",
       "0          350  0.185144  20181019WIN00468.asd.rad 2018-10-19 01:06:44   \n",
       "0          350  0.186037  20181019WIN00469.asd.rad 2018-10-19 01:06:47   \n",
       "\n",
       "     Latitude   Longitude  Line  Spec_number Inst_number  \n",
       "0  -22.526813  142.938131     1           50     16516/1  \n",
       "0  -22.526813  142.938131     1           51     16516/1  \n",
       "0  -22.526813  142.938131     1           52     16516/1  \n",
       "0  -22.526813  142.938131     1           53     16516/1  \n",
       "0  -22.526813  142.938131     1           54     16516/1  \n",
       "0  -22.526813  142.938131     1           55     16516/1  \n",
       "0  -22.526813  142.938131     1           56     16516/1  \n",
       "0  -22.526813  142.938131     1           57     16516/1  \n",
       "0  -22.526813  142.938131     1           58     16516/1  \n",
       "0  -22.526813  142.938131     1           59     16516/1  \n",
       "0  -22.526915  142.938691     1           60     16516/1  \n",
       "0  -22.526930  142.938688     1           61     16516/1  \n",
       "0  -22.526945  142.938685     1           62     16516/1  \n",
       "0  -22.526968  142.938686     1           63     16516/1  \n",
       "0  -22.526983  142.938682     1           64     16516/1  \n",
       "0  -22.527002  142.938680     1           65     16516/1  \n",
       "0  -22.527023  142.938674     1           66     16516/1  \n",
       "0  -22.527042  142.938673     1           67     16516/1  \n",
       "0  -22.527063  142.938669     1           68     16516/1  \n",
       "0  -22.527082  142.938666     1           69     16516/1  \n",
       "0  -22.527095  142.938667     1           70     16516/1  \n",
       "0  -22.527100  142.938666     1           71     16516/1  \n",
       "0  -22.527120  142.938661     1           72     16516/1  \n",
       "0  -22.527138  142.938658     1           73     16516/1  \n",
       "0  -22.527157  142.938657     1           74     16516/1  \n",
       "0  -22.527180  142.938652     1           75     16516/1  \n",
       "0  -22.527200  142.938645     1           76     16516/1  \n",
       "0  -22.527217  142.938641     1           77     16516/1  \n",
       "0  -22.527238  142.938638     1           78     16516/1  \n",
       "0  -22.527257  142.938634     1           79     16516/1  \n",
       "..        ...         ...   ...          ...         ...  \n",
       "0  -22.527292  142.937635     6           40     16516/1  \n",
       "0  -22.527308  142.937632     6           41     16516/1  \n",
       "0  -22.527327  142.937628     6           42     16516/1  \n",
       "0  -22.527343  142.937626     6           43     16516/1  \n",
       "0  -22.527363  142.937623     6           44     16516/1  \n",
       "0  -22.527380  142.937621     6           45     16516/1  \n",
       "0  -22.527398  142.937618     6           46     16516/1  \n",
       "0  -22.527417  142.937615     6           47     16516/1  \n",
       "0  -22.527433  142.937613     6           48     16516/1  \n",
       "0  -22.527450  142.937612     6           49     16516/1  \n",
       "0  -22.527465  142.937612     6           50     16516/1  \n",
       "0  -22.527485  142.937609     6           51     16516/1  \n",
       "0  -22.527503  142.937605     6           52     16516/1  \n",
       "0  -22.527522  142.937602     6           53     16516/1  \n",
       "0  -22.527540  142.937598     6           54     16516/1  \n",
       "0  -22.527560  142.937595     6           55     16516/1  \n",
       "0  -22.527577  142.937593     6           56     16516/1  \n",
       "0  -22.527595  142.937591     6           57     16516/1  \n",
       "0  -22.527613  142.937587     6           58     16516/1  \n",
       "0  -22.527630  142.937584     6           59     16516/1  \n",
       "0  -22.526830  142.938113     6           60     16516/1  \n",
       "0  -22.526830  142.938113     6           61     16516/1  \n",
       "0  -22.526830  142.938113     6           62     16516/1  \n",
       "0  -22.526830  142.938113     6           63     16516/1  \n",
       "0  -22.526830  142.938113     6           64     16516/1  \n",
       "0  -22.526830  142.938113     6           65     16516/1  \n",
       "0  -22.526830  142.938113     6           66     16516/1  \n",
       "0  -22.526830  142.938113     6           67     16516/1  \n",
       "0  -22.526830  142.938114     6           68     16516/1  \n",
       "0  -22.526830  142.938114     6           69     16516/1  \n",
       "\n",
       "[420 rows x 9 columns]"
      ]
     },
     "execution_count": 4,
     "metadata": {},
     "output_type": "execute_result"
    }
   ],
   "source": [
    "alldata = LoadData.load_from_dir(indir, suffix, firstGoodLine, Corners)\n",
    "\n",
    "alldata[alldata['Wavelength']==350]"
   ]
  },
  {
   "cell_type": "markdown",
   "metadata": {},
   "source": [
    "### Print out time stamp and coordinate extent for BRDF correction\n",
    "\n",
    "The time stamp and Lat/Long extents are required to calculate the BRDF correction, used below.\n",
    "\n",
    "In order to calculate the BRF correction, the following method is used:\n",
    "\n",
    "<OL>\n",
    "    <LI>Run the print statements in the cell below.</LI>\n",
    "    <LI>Copy and paste the output into a VDI terminal window</LI>\n",
    "    <LI>Copy and paste the resultant VDI output into the BRDF calculation cell, writing over the similar text.</LI>\n",
    "</OL>\n",
    "\n",
    "NOTE: This works assuming that the BRDF code is in the current directory.\n"
   ]
  },
  {
   "cell_type": "code",
   "execution_count": 5,
   "metadata": {
    "scrolled": false
   },
   "outputs": [
    {
     "name": "stdout",
     "output_type": "stream",
     "text": [
      "#################################################################################\n",
      "# Copy and paste the following into a terminal window on VDI for Landsat 8 data #\n",
      "#################################################################################\n",
      "\n",
      "source module.sh\n",
      "sed -i \"34s/.*/        setattr(self, 'acquisition_datetime', dateutil.parser.parse('2018-10-19 00:29:17'))/\" retrieve_brdf.py\n",
      "sed -i \"37s/.*/        bbox = geopandas.GeoDataFrame({'geometry': [box(142.93758416666665, -22.527816666666666, 142.93869083333334, -22.52678)]})/\" retrieve_brdf.py\n",
      "python retrieve_brdf.py > temp.txt ; awk -f format_Sent.awk temp.txt\n",
      "\n"
     ]
    }
   ],
   "source": [
    "PrintBRDF.print_brdf(alldata, field_data)"
   ]
  },
  {
   "cell_type": "markdown",
   "metadata": {},
   "source": [
    "### Specify which spectra are panels/ground/good/bad\n",
    "\n",
    " Determine panel file names by assuming that all panels have a data value of at least 0.06\n",
    " in the first wavelength (350nm). Call this dataframe 'panel_names'.\n",
    "\n",
    " good_panels = all panel data with bad panels removed<BR>\n",
    " bad_panels  = all bad panel data<BR>\n",
    " all_panels = both good and bad panel data<BR>\n",
    " good_grounds = good ground readings<BR>\n",
    " all_grounds = all ground data.<P>\n",
    " Any bad ground data (bad_grounds) is defined in the 2nd cell.\n"
   ]
  },
  {
   "cell_type": "code",
   "execution_count": 6,
   "metadata": {
    "scrolled": true
   },
   "outputs": [],
   "source": [
    "panel_names, all_panels, good_panels, bad_panels, good_grounds, all_grounds = ExtractPanelsGrounds.extract_panels_grounds(alldata, bad_pans, bad_grounds, field_data)"
   ]
  },
  {
   "cell_type": "markdown",
   "metadata": {},
   "source": [
    "### Create dataframes for all/good/bad panel spectra.\n",
    "\n",
    "For the bad panel spectra dataframe, first check to see if bad panels have been defined.<BR>\n",
    "If not, then don't create anything."
   ]
  },
  {
   "cell_type": "code",
   "execution_count": 7,
   "metadata": {},
   "outputs": [],
   "source": [
    "all_panel_spec = MakeSpecDF.make_spec_df(all_panels)\n",
    "good_panel_spec = MakeSpecDF.make_spec_df(good_panels)\n",
    "try:\n",
    "    bad_panel_spec = MakeSpecDF.make_spec_df(bad_panels)\n",
    "except UnboundLocalError:\n",
    "    pass"
   ]
  },
  {
   "cell_type": "markdown",
   "metadata": {},
   "source": [
    "# Figure \n",
    "\n",
    "### Plot panel radiances for all/good/bad panels"
   ]
  },
  {
   "cell_type": "code",
   "execution_count": 8,
   "metadata": {
    "scrolled": false
   },
   "outputs": [
    {
     "data": {
      "image/png": "[encoded data removed]",
      "text/plain": [
       "<Figure size 792x360 with 3 Axes>"
      ]
     },
     "metadata": {
      "needs_background": "light"
     },
     "output_type": "display_data"
    }
   ],
   "source": [
    "if field_data[5] == 'Radiance':\n",
    "    try:\n",
    "        FIG_PanelRadiances.FIG_panel_radiances(good_panel_spec, bad_panel_spec, all_panel_spec, output, field_data, fignum)\n",
    "    except NameError:\n",
    "        bad_panel_spec = [0,0]\n",
    "        FIG_PanelRadiances.FIG_panel_radiances(good_panel_spec, bad_panel_spec, all_panel_spec, output, field_data, fignum)\n",
    "\n",
    "fignum += 1"
   ]
  },
  {
   "cell_type": "markdown",
   "metadata": {},
   "source": [
    "# Figure \n",
    "\n",
    "### Diagnosis plots of bad panel spectra"
   ]
  },
  {
   "cell_type": "code",
   "execution_count": 9,
   "metadata": {
    "scrolled": false
   },
   "outputs": [],
   "source": [
    "if field_data[5] == 'Radiance':\n",
    "    good_panel_mean = good_panel_spec.mean(axis=1)\n",
    "\n",
    "    try:\n",
    "        FIG_BadPanelAnalysis.FIG_bad_panel_analysis(good_panel_mean, good_panel_spec, bad_panel_spec, output, field_data, fignum)\n",
    "    except AttributeError:\n",
    "        pass\n",
    "fignum +=1"
   ]
  },
  {
   "cell_type": "markdown",
   "metadata": {},
   "source": [
    "### Create spectral dataframes for all ground spectra and good ground spectra"
   ]
  },
  {
   "cell_type": "code",
   "execution_count": 10,
   "metadata": {},
   "outputs": [],
   "source": [
    "all_grounds_spec = MakeSpecDF.make_spec_df(all_grounds)\n",
    "good_grounds_spec = MakeSpecDF.make_spec_df(good_grounds)"
   ]
  },
  {
   "cell_type": "markdown",
   "metadata": {},
   "source": [
    "# Figure \n",
    "\n",
    "### Plot ground spectra (all and good), normalised to the median good spectrum\n",
    "\n",
    "These plots are used to identify any ground spectra that are bogus."
   ]
  },
  {
   "cell_type": "code",
   "execution_count": 11,
   "metadata": {
    "scrolled": false
   },
   "outputs": [
    {
     "data": {
      "image/png": "[encoded data removed]",
      "text/plain": [
       "<Figure size 691.2x432 with 2 Axes>"
      ]
     },
     "metadata": {
      "needs_background": "light"
     },
     "output_type": "display_data"
    }
   ],
   "source": [
    "FIG_GroundSpectra.FIG_ground_spectra(good_grounds_spec, all_grounds_spec, output, field_data, fignum)\n",
    "fignum +=1"
   ]
  },
  {
   "cell_type": "markdown",
   "metadata": {},
   "source": [
    "### Create time-relative dataframes\n",
    "\n",
    "gpt = good panels<BR>\n",
    "gpta = all panels<BR>\n",
    "adt = good grounds<BR>\n",
    "adta = all grounds"
   ]
  },
  {
   "cell_type": "code",
   "execution_count": 12,
   "metadata": {},
   "outputs": [],
   "source": [
    "gpt, gpta, adt, adta = CreateTimeRelativeDF.create_time_relative_dfs(good_panels, all_panels, good_grounds, all_grounds)"
   ]
  },
  {
   "cell_type": "markdown",
   "metadata": {},
   "source": [
    "### Add Solar angle to dataframes\n",
    "\n",
    "Based on the spectrum Latitude, Longitude and time stamp, calculate the angle of<BR>\n",
    "the Sun, with respect to the zenith. Append this number to the \"good_panels\" and<BR>\n",
    "\"good_grounds\" dataframes."
   ]
  },
  {
   "cell_type": "code",
   "execution_count": 13,
   "metadata": {},
   "outputs": [
    {
     "name": "stdout",
     "output_type": "stream",
     "text": [
      "Downloading http://maia.usno.navy.mil/ser7/finals2000A.all [Done]\n"
     ]
    },
    {
     "name": "stderr",
     "output_type": "stream",
     "text": [
      "../CalVal/SolarAngle.py:39: SettingWithCopyWarning: \n",
      "A value is trying to be set on a copy of a slice from a DataFrame\n",
      "\n",
      "See the caveats in the documentation: http://pandas.pydata.org/pandas-docs/stable/indexing.html#indexing-view-versus-copy\n",
      "  good_spectra.Solar_angle[good_spectra['date_saved'] == times.iloc[i]] = solzen.iloc[i]\n"
     ]
    }
   ],
   "source": [
    "if field_data[5] == 'Radiance':\n",
    "    good_panels, good_grounds = SolarAngle.solar_angle(good_panels, good_grounds)"
   ]
  },
  {
   "cell_type": "markdown",
   "metadata": {},
   "source": [
    "# Figure \n",
    "\n",
    "### Plot timelines for ALL panel and ground data, with one line in one panel"
   ]
  },
  {
   "cell_type": "code",
   "execution_count": 14,
   "metadata": {
    "scrolled": false
   },
   "outputs": [
    {
     "data": {
      "image/png": "[encoded data removed]",
      "text/plain": [
       "<Figure size 432x288 with 6 Axes>"
      ]
     },
     "metadata": {
      "needs_background": "light"
     },
     "output_type": "display_data"
    }
   ],
   "source": [
    "FIG_AllTimelines.FIG_all_timelines(gpta, adta, output, field_data, fignum)\n",
    "fignum += 1"
   ]
  },
  {
   "cell_type": "markdown",
   "metadata": {},
   "source": [
    "# Figure \n",
    "\n",
    "### Plot timelines for GOOD panel and ground data, with one line in one panel"
   ]
  },
  {
   "cell_type": "code",
   "execution_count": 15,
   "metadata": {},
   "outputs": [
    {
     "data": {
      "image/png": "[encoded data removed]",
      "text/plain": [
       "<Figure size 432x288 with 6 Axes>"
      ]
     },
     "metadata": {
      "needs_background": "light"
     },
     "output_type": "display_data"
    }
   ],
   "source": [
    "from CalVal.FIG_AllTimelines import panel_plot_layout, multi_timeline_plot\n",
    "\n",
    "FIG_GoodTimelines.FIG_good_timelines(gpta, gpt, adt, panel_plot_layout, multi_timeline_plot, output, field_data, fignum)\n",
    "fignum += 1"
   ]
  },
  {
   "cell_type": "markdown",
   "metadata": {},
   "source": [
    "# Figure \n",
    "\n",
    "### Create timeline plot of averaged all/good panels\n",
    "\n",
    "These plots are used to identify any panels that show unusually bright or dark readings,<BR>\n",
    "    which can be weeded out as bad panels.\n",
    "    \n",
    "The general shape of the curve should follow \"insolation\" - the changing of incident light\n",
    "due to the Sun rising/falling in the sky."
   ]
  },
  {
   "cell_type": "code",
   "execution_count": 16,
   "metadata": {
    "scrolled": true
   },
   "outputs": [
    {
     "data": {
      "image/png": "[encoded data removed]",
      "text/plain": [
       "<Figure size 684x324 with 2 Axes>"
      ]
     },
     "metadata": {
      "needs_background": "light"
     },
     "output_type": "display_data"
    }
   ],
   "source": [
    "if field_data[5] == 'Radiance':\n",
    "    gpt, gpta = FIG_NormalisedPanelsTimeline.normalise_spectra(good_panel_mean, good_panel_spec, all_panel_spec, gpt, gpta)\n",
    "\n",
    "    FIG_NormalisedPanelsTimeline.FIG_normalised_panels_timeline(gpt, gpta, output, field_data, fignum)\n",
    "fignum += 1"
   ]
  },
  {
   "cell_type": "markdown",
   "metadata": {},
   "source": [
    "# Figure\n",
    "### Fit Insolation Curve\n",
    "\n",
    "Given that the total radiance (insolation, I) should increase with decreasing Solar zenith angle<BR>\n",
    "(ie. as the Sun rises) and that I \\propto cos(Solar zenith angle), we can fit the panel data to a<BR>\n",
    "straight line. The ratio between the fit and the data points can then be used to adjust all panel\n",
    "and ground spectra to account for insolation.<BR><BR>\n",
    "\n",
    "Once the fit has been calculated, the following steps are taken (in subsequent cells):\n",
    "<OL>\n",
    "    <LI>The ratio between the fit and each averaged panel masurement is divided off the panels, so\n",
    "        that they will all fall along the same line.\n",
    "    <LI>For each Line (ie. walked Line in the field), the average panel spectrum is determined, as \n",
    "        well as the average panel Solar angle.\n",
    "    <LI>The \"Solar angle distance\" for each ground spectrum to the averaged panel Solar angle is \n",
    "        used to divide off the insolation fit from the ground spectra. "
   ]
  },
  {
   "cell_type": "code",
   "execution_count": 17,
   "metadata": {
    "scrolled": false
   },
   "outputs": [
    {
     "data": {
      "image/png": "[encoded data removed]",
      "text/plain": [
       "<Figure size 360x360 with 1 Axes>"
      ]
     },
     "metadata": {
      "needs_background": "light"
     },
     "output_type": "display_data"
    }
   ],
   "source": [
    "if field_data[5] == 'Radiance':\n",
    "    slope, intercept, coszenith = FIG_InsolationFit.FIG_insolation_fit(gpt, output, field_data, fignum)\n",
    "fignum += 1"
   ]
  },
  {
   "cell_type": "markdown",
   "metadata": {},
   "source": [
    "### Scale good panels to insolation curve\n",
    "\n",
    "Use the fitted insolation curve to determine individual offsets for each panel measurement and then divide<BR>\n",
    "off the differences. This effectively removes any individual variations in the absolute scaling of panel<BR>\n",
    "measurements."
   ]
  },
  {
   "cell_type": "code",
   "execution_count": 18,
   "metadata": {},
   "outputs": [
    {
     "name": "stderr",
     "output_type": "stream",
     "text": [
      "../CalVal/ScalePanels.py:7: SettingWithCopyWarning: \n",
      "A value is trying to be set on a copy of a slice from a DataFrame\n",
      "\n",
      "See the caveats in the documentation: http://pandas.pydata.org/pandas-docs/stable/indexing.html#indexing-view-versus-copy\n",
      "  good_panels.radiance[good_panels['date_saved'] == gpt['date_saved'].iloc[i]]/ratio.iloc[i]\n"
     ]
    }
   ],
   "source": [
    "if field_data[5] == 'Radiance':\n",
    "    good_panels = ScalePanels.scale_panels(slope, intercept, coszenith, gpt, good_panels)"
   ]
  },
  {
   "cell_type": "markdown",
   "metadata": {},
   "source": [
    "### Scale ground spectra to insolation curve\n",
    "\n",
    "For each line, calculate the mean panel spectrum and determine the fit at the according mean Solar zenith angle.<BR>\n",
    "Then determine individual fits for all ground data within the line and apply the ratio of the panel mean fit to<BR>\n",
    "ground fit to the good_grounds dataframe."
   ]
  },
  {
   "cell_type": "code",
   "execution_count": 19,
   "metadata": {
    "scrolled": true
   },
   "outputs": [],
   "source": [
    "if field_data[5] == 'Radiance':\n",
    "    good_grounds = ScaleGrounds.scale_grounds(good_panels, good_grounds, slope, intercept)"
   ]
  },
  {
   "cell_type": "markdown",
   "metadata": {},
   "source": [
    "### Define the K-factor\n",
    "\n",
    "This reads a standard file with a response curve for the detector, given an ideally white surface.<BR>\n",
    "Then \"k_f\" is defined for the K-factor."
   ]
  },
  {
   "cell_type": "code",
   "execution_count": 20,
   "metadata": {},
   "outputs": [],
   "source": [
    "if field_data[5] == 'Radiance':\n",
    "    k_f = KFactor.k_factor(panel_dir, in_panel)"
   ]
  },
  {
   "cell_type": "markdown",
   "metadata": {},
   "source": [
    "### Re-Make Spectral Dataframes\n",
    "\n",
    "After re-scaling of both good_panels and good_grounds, recreate the good_panel_spec and<BR>\n",
    "good_grounds_spec dataframes"
   ]
  },
  {
   "cell_type": "code",
   "execution_count": 21,
   "metadata": {},
   "outputs": [],
   "source": [
    "if field_data[5] == 'Radiance':\n",
    "    good_panel_spec = MakeSpecDF.make_spec_df(good_panels)\n",
    "    good_grounds_spec = MakeSpecDF.make_spec_df(good_grounds)"
   ]
  },
  {
   "cell_type": "markdown",
   "metadata": {},
   "source": [
    "### Rename the first spectrum in ALL/GOOD panels to the correct name\n",
    "\n",
    "Rather than just \"radiance\", it will be named something like radiance1-0<BR>\n",
    "for the zeroth spectrum in the first line, for example.    "
   ]
  },
  {
   "cell_type": "code",
   "execution_count": 22,
   "metadata": {},
   "outputs": [],
   "source": [
    "if field_data[5] == 'Radiance':\n",
    "    SpecRename.spec_rename(good_panel_spec, good_grounds_spec, firstGoodLine, firstGoodPanelSpec, firstGoodGroundSpec)"
   ]
  },
  {
   "cell_type": "markdown",
   "metadata": {},
   "source": [
    "### Create dataframe with Reflectances"
   ]
  },
  {
   "cell_type": "code",
   "execution_count": 23,
   "metadata": {
    "scrolled": true
   },
   "outputs": [],
   "source": [
    "if field_data[5] == 'Radiance':\n",
    "    all_refls = CreateReflectances.create_reflectances(good_panels, good_panel_spec, good_grounds_spec, k_f)"
   ]
  },
  {
   "cell_type": "markdown",
   "metadata": {},
   "source": [
    "### Test for reflectances\n",
    "Test field_data to see if the data were saved as reflectances. If so, bypass all the panelling workflow."
   ]
  },
  {
   "cell_type": "code",
   "execution_count": null,
   "metadata": {},
   "outputs": [],
   "source": [
    "if field_data[5] == 'Reflectance':\n",
    "    all_refls = good_grounds_spec"
   ]
  },
  {
   "cell_type": "markdown",
   "metadata": {},
   "source": [
    "# Figure \n",
    "\n",
    "### Plot all ground reflectances in black, plus the Line-averaged reflectances in colour\n",
    "\n",
    "The Line-averaged reflectances are shown in order to identify any outlying lines that<BR>\n",
    "\n",
    "might have been caused by bad panel spectra (for example)."
   ]
  },
  {
   "cell_type": "code",
   "execution_count": null,
   "metadata": {},
   "outputs": [
    {
     "data": {
      "image/png": "[encoded data removed]",
      "text/plain": [
       "<Figure size 972x396 with 2 Axes>"
      ]
     },
     "metadata": {
      "needs_background": "light"
     },
     "output_type": "display_data"
    }
   ],
   "source": [
    "FIG_Reflectances.FIG_reflectances(good_panels, all_refls, colpac, output, field_data, fignum)\n",
    "fignum += 1"
   ]
  },
  {
   "cell_type": "markdown",
   "metadata": {},
   "source": [
    "### Apply weighted band responses to all reflectances"
   ]
  },
  {
   "cell_type": "code",
   "execution_count": null,
   "metadata": {
    "scrolled": true
   },
   "outputs": [],
   "source": [
    "result_df, band = ApplyWeights.apply_weights(f_name, all_refls)"
   ]
  },
  {
   "cell_type": "markdown",
   "metadata": {},
   "source": [
    "### Reformat band reflectances and apply to dataframe \"ground_bands\""
   ]
  },
  {
   "cell_type": "code",
   "execution_count": null,
   "metadata": {},
   "outputs": [],
   "source": [
    "ground_bands = ReformatDF.reformat_df(good_grounds, result_df)"
   ]
  },
  {
   "cell_type": "markdown",
   "metadata": {},
   "source": [
    "# Figure \n",
    "\n",
    "### Plot band reflectances"
   ]
  },
  {
   "cell_type": "code",
   "execution_count": null,
   "metadata": {
    "scrolled": false
   },
   "outputs": [],
   "source": [
    "FIG_BandReflectances.FIG_band_reflectances(ground_bands, result_df, band, colpac, output, field_data, fignum)\n",
    "fignum += 1"
   ]
  },
  {
   "cell_type": "code",
   "execution_count": null,
   "metadata": {},
   "outputs": [],
   "source": [
    "FIG_ReflectancesBand.FIG_reflectances_band(ground_bands, result_df, band, good_panels, all_refls, colpac, output, field_data, fignum)\n",
    "fignum += 1"
   ]
  },
  {
   "cell_type": "markdown",
   "metadata": {},
   "source": [
    "# Figure\n",
    "\n",
    "### Histogram of all good spectra, plotted band-by-band\n",
    "\n",
    "This can be used to identify outlying ground spectra that can be added to bad_grounds in the second cell."
   ]
  },
  {
   "cell_type": "code",
   "execution_count": null,
   "metadata": {
    "scrolled": false
   },
   "outputs": [],
   "source": [
    "FIG_SpecHistogram.FIG_spec_histogram(ground_bands, output, field_data, fignum)\n",
    "fignum += 1"
   ]
  },
  {
   "cell_type": "markdown",
   "metadata": {},
   "source": [
    "### Outlying ground spectra\n",
    "\n",
    "Display the spectra with maximum and minimum values. These can be compared to the histograms above<BR>\n",
    "    to identify any outlying spectra that need to be identified as bad ground spectra."
   ]
  },
  {
   "cell_type": "code",
   "execution_count": null,
   "metadata": {},
   "outputs": [],
   "source": [
    "maxfile = ground_bands['filename'][(ground_bands['band1'] == ground_bands['band1'].max())]\n",
    "maxbands = ground_bands.filter(like='band')[(ground_bands['band1'] == ground_bands['band1'].max())]\n",
    "minfile = ground_bands['filename'][(ground_bands['band1'] == ground_bands['band1'].min())]\n",
    "minbands = ground_bands.filter(like='band')[(ground_bands['band1'] == ground_bands['band1'].min())]\n",
    "\n",
    "print(\"Maximum value found in:\", maxfile.iloc[0], '\\n', maxbands.iloc[0], '\\nMinimum value found in:', minfile.iloc[0], '\\n', minbands.iloc[0])\n",
    "#print(ground_bands['filename'][(ground_bands['band1'] == ground_bands['band1'].max())], '\\n',ground_bands.filter(like='band')[(ground_bands['band1'] == ground_bands['band1'].max())])\n",
    "#print(ground_bands['filename'][(ground_bands['band1'] == ground_bands['band1'].min())], '\\n',ground_bands.filter(like='band')[(ground_bands['band1'] == ground_bands['band1'].min())])\n"
   ]
  },
  {
   "cell_type": "markdown",
   "metadata": {},
   "source": [
    "### Determine Solar angle\n",
    "\n",
    "Based on the spectrum Latitude, Longitude and time stamp, calculate the angle of<BR>\n",
    "the Sun, with respect to the zenith. Append this number to the \"ground_bands\" dataframe."
   ]
  },
  {
   "cell_type": "code",
   "execution_count": null,
   "metadata": {
    "scrolled": true
   },
   "outputs": [],
   "source": [
    "from CalVal.SolarAngle import solang\n",
    "ground_bands['Solar_angle'] = ground_bands.apply(solang, axis=1)"
   ]
  },
  {
   "cell_type": "markdown",
   "metadata": {},
   "source": [
    "### BRDF Calculation\n",
    "\n",
    "The following script is adapted from FORTRAN code that will calculate the adjusted ASD measurement to 45$^\\circ$. This is derived from \"MODIS BRDF / Albedo Product: Algorithm Theoretical basis Docuement Version 5.0\" by Strahler et al. (1999).\n",
    "\n",
    "What follows is a key to the variables used in this code, compared to the variables and equations in the document:\n",
    "\n",
    "hb and br = h/b and b/r . . . . . . . . . . . . . . . crown shape parameters, respectively.<BR>\n",
    "RL_brdf = R($\\theta, \\vartheta, \\phi, \\Lambda$). . . . . . . . . . . . . . (37)<BR>\n",
    "solar = $\\theta$ . . . . . . . . . . . . . . . . . . . . . . . . . . solar zenith angle<BR>\n",
    "view = $\\xi$ . . . . . . . . . . . . . . . . . . . . . . . . . . .view zenith angle<BR>\n",
    "ra = $\\phi$ . . . . . . . . . . . . . . . . . . . . . . . . . . . . view-sun relative azimuth angle<BR>\n",
    "cosxi = cos $\\xi^\\prime$ . . . . . . . . . . . . . . . . . . . . . . (43)<BR>\n",
    "rs_thick = K$_{vol}$ = RossThick kernel . . . . . . (38)<BR>\n",
    "d_li2 = D$^2$ . . . . . . . . . . . . . . . . . . . . . . . . . (42)<BR>\n",
    "x_li = tan$\\theta^\\prime$ tan$\\vartheta^\\prime$ sin$\\phi$ . . . . . . . . . . . . . . .(41) (part of)<BR>\n",
    "cosl = cos $t$ . . . . . . . . . . . . . . . . . . . . . . . . (41)<BR>\n",
    "l_li = $t$ . . . . . . . . . . . . . . . . . . . . . . . . . . . . .constrained such that $-1 \\leq t \\leq 1$<BR>\n",
    "o_li = O($\\theta, \\vartheta, \\phi$) . . . . . . . . . . . . . . . . . . . .(40)<BR>\n",
    "li_sparse = K$_{geo}$ . . . . . . . . . . . . . . . . . . . . (39)<BR><BR><BR>\n",
    "\n",
    "Equations used for the Ross-Li BRDF model:\n",
    "\n",
    "R($\\theta, \\vartheta, \\phi, \\Lambda$) = $f_{iso}(\\Lambda) + f_{vol}(\\Lambda)\\,K_{vol}(\\theta, \\vartheta, \\phi) + f_{geo}(\\Lambda)\\,K_{geo}(\\theta, \\vartheta, \\phi)$ . . . . . . . . (37)\n",
    "\n",
    "$K_{vol} = k_{RT} = \\frac{(\\pi/2 - \\xi)\\rm{cos}\\,\\xi + \\rm{sin}\\,\\xi}{\\rm{cos}\\,\\theta + \\rm{cos}\\,\\vartheta} - \\frac{\\pi}{4}$ . . . . . . . . . . . . . . . . . . . . . . . . . . . . . . . . . . . . . . (38)\n",
    "    \n",
    "$K_{geo} = k_{LSR} = O(\\theta, \\vartheta, \\phi) - {\\rm sec}\\,\\theta^\\prime - {\\rm sec}\\,\\vartheta^\\prime + \\frac{1}{2} (1 + \\rm{cos}\\,\\xi^\\prime)\\, \\rm{sec}\\,\\theta^\\prime \\rm{sec}\\,\\vartheta^\\prime$ . . . (39)\n",
    "\n",
    "$O = \\frac{1}{\\pi}(t - \\rm{sin}\\,t\\,\\,\\rm{cos}\\,t)(\\rm{sec}\\,\\theta^\\prime + \\rm{sec}\\,\\vartheta^\\prime)$ . . . . . . . . . . . . . . . . . . . . . . . . . . . . . . . . . . (40)\n",
    "\n",
    "$\\rm{cos}\\,t = \\frac{h}{b}\\frac{\\sqrt{D^2 + (\\rm{tan}\\,\\theta^\\prime\\,\\,\\rm{tan}\\,\\vartheta^\\prime\\,\\,\\rm{sin}\\,\\phi)^2}}{\\rm{sec}\\,\\theta^\\prime + \\rm{sec}\\,\\vartheta^\\prime}$ . . . . . . . . . . . . . . . . . . . . . . . . . . . . . . . . . . . . . . . . (41)\n",
    "\n",
    "$D = \\sqrt{\\rm{tan}^2\\,\\theta^\\prime + \\rm{tan}^2\\,\\vartheta^\\prime - 2\\,\\rm{tan}\\,\\theta^\\prime\\,\\rm{tan}\\,\\vartheta^\\prime\\,\\rm{cos}\\,\\phi}$ . . . . . . . . . . . . . . . . . . . . . . . . . . (42)\n",
    "\n",
    "$\\rm{cos}\\,\\xi^\\prime = \\rm{cos}\\,\\theta^\\prime\\,\\rm{cos}\\,\\vartheta^\\prime + \\rm{sin}\\,\\theta^\\prime\\,\\rm{sin}\\,\\vartheta^\\prime\\,\\rm{cos}\\,\\phi$ . . . . . . . . . . . . . . . . . . . . . . . . . . . . . . .(43)\n",
    "\n",
    "$\\theta^\\prime = \\rm{tan}^{-1}(\\frac{b}{r}\\rm{tan}\\,\\theta)\\,\\vartheta^\\prime = \\rm{tan}^{-1}(\\frac{b}{r}\\rm{tan}\\,\\vartheta)$ . . . . . . . . . . . . . . . . . . . . . . . . . . . . . . . . . .(44)"
   ]
  },
  {
   "cell_type": "code",
   "execution_count": null,
   "metadata": {
    "scrolled": false
   },
   "outputs": [],
   "source": [
    "ground_brdf, hb, br = BRDF.ReadAndCalc(brdf_data, ground_bands, field_data)"
   ]
  },
  {
   "cell_type": "markdown",
   "metadata": {},
   "source": [
    "### Choose bands for Landsat 8 and Sentinel satellite data"
   ]
  },
  {
   "cell_type": "code",
   "execution_count": null,
   "metadata": {},
   "outputs": [],
   "source": [
    "from CalVal.ApplyWeights import get_spectrum_curve\n",
    "\n",
    "band_nn = get_spectrum_curve(f_name)\n",
    "senti_bands = [1,2,3,4,5,6,7,8,'8a',11,12]\n",
    "ls8_bands = [1,2,3,4,5,6,7]\n",
    "\n",
    "if field_data[3] == 'Landsat8':\n",
    "    band_min = [band_nn['band'+str(i)][:, 0].min() for i in ls8_bands]\n",
    "    band_max = [band_nn['band'+str(i)][:, 0].max() for i in ls8_bands]\n",
    "\n",
    "elif field_data[3] == 'Sentinel2a' or field_data[3] == 'Sentinel2b':\n",
    "    band_min = [band_nn['band'+str(i)][:, 0].min() for i in senti_bands]\n",
    "    band_max = [band_nn['band'+str(i)][:, 0].max() for i in senti_bands]\n",
    "\n",
    "else:\n",
    "    print('Satellite name should be one of Landsat8 or Sentinel. I got', field_data[3])"
   ]
  },
  {
   "cell_type": "markdown",
   "metadata": {},
   "source": [
    "# Figure \n",
    "\n",
    "### Plot satellite band extents against median ground spectrum\n",
    "\n",
    "This plot will show where the satellite bands fall, with respect to the spectrum<BR>\n",
    "and in particular, with respect to the atmospheric absorbtion features."
   ]
  },
  {
   "cell_type": "code",
   "execution_count": null,
   "metadata": {},
   "outputs": [],
   "source": [
    "FIG_BandExtents.FIG_band_extents(all_refls, band_min, band_max, output, field_data, fignum)\n",
    "fignum += 1"
   ]
  },
  {
   "cell_type": "markdown",
   "metadata": {},
   "source": [
    "### Fudge GPS locations if none exist"
   ]
  },
  {
   "cell_type": "code",
   "execution_count": null,
   "metadata": {
    "scrolled": false
   },
   "outputs": [],
   "source": [
    "ground_brdf = FudgeGPS.fudge_gps(ground_brdf, Corners, RockWalk, StartCorner)"
   ]
  },
  {
   "cell_type": "markdown",
   "metadata": {},
   "source": [
    "### Query Satellite data\n",
    "\n",
    "Retrieve xarrays for satellite data, based on which satellite, query area and time.<BR>\n",
    "sat_array will contain all band data<BR>\n",
    "sat_bigarray will be a larger version of sat_array, which can be used for context plotting.<BR>\n",
    "ls8_usgs_array will contain the USGS Level 2 product of Landsat 8 data.<BR>\n",
    "ls8_usgs_bigarray will be the larger version of ls8_usgs_array.<P>\n",
    "    \n",
    "BRDF data is sourced/applied from satellite yaml file to match field and satellite processing for Landsat 8."
   ]
  },
  {
   "cell_type": "code",
   "execution_count": null,
   "metadata": {},
   "outputs": [],
   "source": [
    "dc, udc, query, query2 = Query.make_query(ground_brdf, field_data)\n",
    "\n",
    "if field_data[3] == 'Landsat8':\n",
    "    sat_array, sat_bigarray, ls8_usgs_array, ls8_usgs_bigarray = CreateSatArrays.create_sat_arrays(dc, udc, query, query2, field_data)    \n",
    "    brdf_data = SatBRDF.Sat_BRDF(dc, query, sat_array)\n",
    "    ground_brdf, hb, br = BRDF.ReadAndCalc(brdf_data, ground_bands, field_data)\n",
    "    ground_brdf = FudgeGPS.fudge_gps(ground_brdf, Corners, RockWalk, StartCorner)\n",
    "else:\n",
    "    sat_array, sat_bigarray = CreateSatArrays.create_sat_arrays(dc, udc, query, query2, field_data)"
   ]
  },
  {
   "cell_type": "markdown",
   "metadata": {},
   "source": [
    "# Figure \n",
    "\n",
    "### Plot relative locations of field and satellite data"
   ]
  },
  {
   "cell_type": "code",
   "execution_count": null,
   "metadata": {
    "scrolled": false
   },
   "outputs": [],
   "source": [
    "xloc = FIG_SatFieldLocations.FIG_sat_field_locations(ground_brdf, sat_array, colpac, output, field_data, fignum)\n",
    "fignum +=1"
   ]
  },
  {
   "cell_type": "markdown",
   "metadata": {},
   "source": [
    "### Create Field full band xarray\n",
    "\n",
    "The field xarray is based on the pixel locations of the satellite data, where each pixel<BR>\n",
    "    contains an average of all field data measurements that fall within the pixel."
   ]
  },
  {
   "cell_type": "code",
   "execution_count": null,
   "metadata": {},
   "outputs": [],
   "source": [
    "field_array = CreateFieldFromSat.create_field_from_sat(sat_array, ground_brdf, xloc, field_data)"
   ]
  },
  {
   "cell_type": "markdown",
   "metadata": {},
   "source": [
    "# Figure \n",
    "\n",
    "### Plot large-area context RGB array for Satellite data"
   ]
  },
  {
   "cell_type": "code",
   "execution_count": null,
   "metadata": {
    "scrolled": false
   },
   "outputs": [],
   "source": [
    "FIG_SatBigRGB.FIG_sat_bigRGB(sat_array, sat_bigarray, output, field_data, fignum)\n",
    "fignum += 1"
   ]
  },
  {
   "cell_type": "markdown",
   "metadata": {},
   "source": [
    "# Figure \n",
    "\n",
    "### Plot RGB array for Satellite data"
   ]
  },
  {
   "cell_type": "code",
   "execution_count": null,
   "metadata": {},
   "outputs": [],
   "source": [
    "FIG_SatRGB.FIG_sat_RGB(sat_array, output, field_data, fignum)\n",
    "fignum += 1"
   ]
  },
  {
   "cell_type": "markdown",
   "metadata": {},
   "source": [
    "# Figure \n",
    "\n",
    "### Plot RGB array for Field data"
   ]
  },
  {
   "cell_type": "code",
   "execution_count": null,
   "metadata": {},
   "outputs": [],
   "source": [
    "FIG_FieldRGB.FIG_field_RGB(field_array, output, field_data, fignum)\n",
    "fignum += 1"
   ]
  },
  {
   "cell_type": "markdown",
   "metadata": {},
   "source": [
    "## Figure\n",
    "### Variance of satellite data\n",
    "\n",
    "Band-by-band plots of the ratio of satellite data, divided by the mean, for each band are shown.\n",
    "The title also lists the min, max and mean variance. Variance is defined as the ratio of the standard\n",
    "deviation divided by the mean, for each band. The mean variance should typically be less than 5%."
   ]
  },
  {
   "cell_type": "code",
   "execution_count": null,
   "metadata": {
    "scrolled": false
   },
   "outputs": [],
   "source": [
    "variance = FIG_SatBands.FIG_sat_bands(sat_array, field_array, output, field_data, fignum)\n",
    "fignum += 1"
   ]
  },
  {
   "cell_type": "markdown",
   "metadata": {},
   "source": [
    "# Figure\n",
    "\n",
    "### Plot ratio arrays for each band\n",
    "\n",
    "Each panel shows the ratio of satellite/field data."
   ]
  },
  {
   "cell_type": "code",
   "execution_count": null,
   "metadata": {},
   "outputs": [],
   "source": [
    "FIG_RatioArrays.FIG_ratio_arrays(sat_array, field_array, output, field_data, fignum)\n",
    "fignum += 1"
   ]
  },
  {
   "cell_type": "markdown",
   "metadata": {},
   "source": [
    "### Create a statistics dataframe, comparing satellite and field data"
   ]
  },
  {
   "cell_type": "code",
   "execution_count": null,
   "metadata": {
    "scrolled": true
   },
   "outputs": [],
   "source": [
    "fstat_df = CreateStats.create_stats(sat_array, ground_brdf, field_data)"
   ]
  },
  {
   "cell_type": "code",
   "execution_count": null,
   "metadata": {
    "scrolled": true
   },
   "outputs": [],
   "source": [
    "if field_data[3] == 'Landsat8':\n",
    "    fstat_usgs_df = CreateStats.create_stats(ls8_usgs_array, ground_bands, field_data)"
   ]
  },
  {
   "cell_type": "markdown",
   "metadata": {},
   "source": [
    "## Create a statistics dataframe, comparing satellite and field data,\n",
    "for only those satellite pixels which overlap with at least one field data position."
   ]
  },
  {
   "cell_type": "code",
   "execution_count": null,
   "metadata": {},
   "outputs": [],
   "source": [
    "finner_df = CreateSubStats.create_SUB_stats(sat_array, field_array, ground_brdf, fstat_df, field_data)"
   ]
  },
  {
   "cell_type": "markdown",
   "metadata": {},
   "source": [
    "# Figure\n",
    "\n",
    "### Plot comparison spectra of satellite and field data, on a pixel-by-pixel basis\n",
    "\n",
    "Error bars are shown for the satellite and field data, based on the standard deviation of the pixels\n",
    "within the field. The black line shows the satellite data, which has been averaged over all pixels that satisfy the Datacube query ie. all pixels shown in Figure 11. The orange line shows satellite data which has been averaged over only those pixels that overlap with at least one field measurement."
   ]
  },
  {
   "cell_type": "code",
   "execution_count": null,
   "metadata": {
    "scrolled": false
   },
   "outputs": [],
   "source": [
    "FIG_SubSatFieldBands.FIG_SUB_sat_field_bands(sat_array, fstat_df, finner_df, output, field_data, fignum)\n",
    "fignum += 1"
   ]
  },
  {
   "cell_type": "code",
   "execution_count": null,
   "metadata": {
    "scrolled": true
   },
   "outputs": [],
   "source": [
    "FIG_SatFieldBands.FIG_sat_field_bands(sat_array, fstat_df, finner_df, output, field_data, fignum)\n",
    "fignum += 1"
   ]
  },
  {
   "cell_type": "markdown",
   "metadata": {},
   "source": [
    "# Figure\n",
    "\n",
    "### Comparison plot of Field and satellite data\n",
    "\n",
    "Plot shows a pixel-by-pixel comparison of all pixels where field data exists.<BR> \n",
    "Different band data are shown in different colours and different symbols."
   ]
  },
  {
   "cell_type": "code",
   "execution_count": null,
   "metadata": {
    "scrolled": false
   },
   "outputs": [],
   "source": [
    "FIG_SatFieldScatterCompare.FIG_sat_field_scatter_compare(sat_array, field_array, plot_scale, output, field_data, fignum)\n",
    "fignum += 1"
   ]
  },
  {
   "cell_type": "code",
   "execution_count": null,
   "metadata": {
    "scrolled": false
   },
   "outputs": [],
   "source": [
    "FIG_SatFieldAvgScatterCompare.FIG_sat_field_avg_scatter_compare(sat_array, field_array, plot_scale, fstat_df, output, field_data, fignum)\n",
    "fignum += 1"
   ]
  },
  {
   "cell_type": "markdown",
   "metadata": {},
   "source": [
    "## Print out summary data sheet"
   ]
  },
  {
   "cell_type": "code",
   "execution_count": null,
   "metadata": {},
   "outputs": [],
   "source": [
    "PrintSheet.print_sheet(ground_brdf, sat_array, fstat_df, indir, output, field_data, Corners, RockWalk, StartCorner, variance, query, dc)"
   ]
  },
  {
   "cell_type": "code",
   "execution_count": null,
   "metadata": {},
   "outputs": [],
   "source": [
    "fstat_df.to_csv('../CSV/'+field_data[0]+'_'+field_data[1]+'_'+field_data[2]+'_'+field_data[3]+'.csv')\n",
    "if field_data[3] == 'Landsat8':\n",
    "    fstat_usgs_df.to_csv('../CSV/'+field_data[0]+'_'+field_data[1]+'_'+field_data[2]+'_'+field_data[3]+'_USGS.csv')"
   ]
  },
  {
   "cell_type": "code",
   "execution_count": null,
   "metadata": {},
   "outputs": [],
   "source": [
    "if field_data[3] == 'Landsat8':\n",
    "    import pandas as pd\n",
    "    print('Difference in time between field site measurement and USGS LS8 data is '\n",
    "          +str(pd.to_datetime(str(ls8_usgs_array.time.values[0])) - ground_brdf['date_saved'].min()))"
   ]
  },
  {
   "cell_type": "markdown",
   "metadata": {},
   "source": [
    "## How long did this notebook take to run?"
   ]
  },
  {
   "cell_type": "code",
   "execution_count": null,
   "metadata": {
    "scrolled": true
   },
   "outputs": [],
   "source": [
    "import datetime\n",
    "print(\"This Notebook took \", str(datetime.timedelta(seconds=int((time.time() - start_time)))), \"(h:m:s) to run\")"
   ]
  }
 ],
 "metadata": {
  "kernelspec": {
   "display_name": "Python [default]",
   "language": "python",
   "name": "python3"
  },
  "language_info": {
   "codemirror_mode": {
    "name": "ipython",
    "version": 3
   },
   "file_extension": ".py",
   "mimetype": "text/x-python",
   "name": "python",
   "nbconvert_exporter": "python",
   "pygments_lexer": "ipython3",
   "version": "3.6.6"
  }
 },
 "nbformat": 4,
 "nbformat_minor": 2
}
