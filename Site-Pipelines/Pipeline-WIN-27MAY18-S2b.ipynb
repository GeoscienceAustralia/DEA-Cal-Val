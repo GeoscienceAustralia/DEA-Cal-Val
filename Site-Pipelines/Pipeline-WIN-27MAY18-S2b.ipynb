{
 "cells": [
  {
   "cell_type": "markdown",
   "metadata": {},
   "source": [
    "## Workflow for processing  Winton - 27MAY18 - Sentinel 2b"
   ]
  },
  {
   "cell_type": "code",
   "execution_count": 1,
   "metadata": {},
   "outputs": [],
   "source": [
    "import time\n",
    "start_time = time.time()\n",
    "\n",
    "import numpy as np\n",
    "\n",
    "#\n",
    "# Set up input and output directories\n",
    "#\n",
    "indir = '/g/data1a/u46/users/aw3463/GuyByrne/30APR18/Winton/27MAY18/'\n",
    "output = '/g/data/u46/users/aw3463/GuyByrne/calval/PNGS/WIN-27MAY18-S2b/'\n",
    "\n",
    "#\n",
    "# field_data is in the format: 'Field Site Name', 'Date', 'Site number', 'Satellite Name'\n",
    "# and 'Radiance'/'Reflectance'.\n",
    "# NOTE: Satellite name should be one of: 'Landsat8', 'Sentinel2a', or 'Sentinel2b'.\n",
    "#\n",
    "field_data = ['WIN', '27MAY18', '', 'Sentinel2b', 'UQ_Panel', 'Radiance']\n",
    "\n",
    "#\n",
    "# bad_pans    contains the names of individual panels readings that appear to be bogus\n",
    "# bad_grounds contains ground-reading file names that appear to be bogus\n",
    "# Use empty lists if there are no bad spectra.\n",
    "#\n",
    "bad_grounds = []\n",
    "bad_pans = []\n",
    "\n",
    "#\n",
    "# Define the first line and spectrum number for all/good panels and grounds\n",
    "#\n",
    "firstGoodLine = 1\n",
    "firstGoodPanelSpec = 50\n",
    "firstGoodGroundSpec = 60\n",
    "\n",
    "#\n",
    "# Calculated BRDF data\n",
    "#\n",
    "brdf_data = np.array([['', 'brdf0', 'brdf1', 'brdf2'],\n",
    "                          ['band1', 0.032676000000000004, 0.030204000000000005, 0.007328],\n",
    "                          ['band11', 0.097932, 0.031180000000000003, 0.0218],\n",
    "                          ['band12', 0.065616, 0.017392, 0.016124000000000003],\n",
    "                          ['band2', 0.032676000000000004, 0.030204000000000005, 0.007328],\n",
    "                          ['band3', 0.062372000000000004, 0.037200000000000004, 0.015880000000000002],\n",
    "                          ['band4', 0.059092, 0.033368, 0.016880000000000003],\n",
    "                          ['band5', 0.059092, 0.033368, 0.016880000000000003],\n",
    "                          ['band6', 0.059092, 0.033368, 0.016880000000000003],\n",
    "                          ['band7', 0.11747600000000001, 0.04882, 0.027600000000000003],\n",
    "                          ['band8', 0.11747600000000001, 0.04882, 0.027600000000000003],\n",
    "                          ['band8a', 0.11747600000000001, 0.04882, 0.027600000000000003],\n",
    "                         ])\n",
    "\n",
    "#\n",
    "# plot_scale defines the extent of the axes in the final two plots in the workflow.\n",
    "# A scale from 0-1 means no reflectance to perfect reflectance. Typically, dark sites\n",
    "# will range from 0-0.3, whereas bright sites will be between 0-1.\n",
    "#\n",
    "plot_scale = [0.0, 1.0, 0.0, 1.0]\n",
    "\n",
    "#\n",
    "# Define corners of field data, if GPS coordinates are NOT written into headers.\n",
    "# Order is SE, SW, NE, NW. Units are decimal degrees.\n",
    "# If there are no coordinates, then set RockWalk to either True or False.\n",
    "# True  means that the field site was walked in a rock-like pattern (alternating directions),\n",
    "# False means that the field site was walked in a roll-like pattern (same direction)\n",
    "#\n",
    "Corners = [-22.527813889, 142.93854167, -22.52767778, 142.937663889, -22.5269111, 142.9386778, -22.526825, 142.937691667]\n",
    "RockWalk = True\n",
    "StartCorner = 'NE'"
   ]
  },
  {
   "cell_type": "code",
   "execution_count": 2,
   "metadata": {},
   "outputs": [],
   "source": [
    "import matplotlib.pyplot as plt\n",
    "import matplotlib\n",
    "import datacube\n",
    "import sys, os, shutil\n",
    "sys.path.append(\"..\")\n",
    "\n",
    "from CalVal import *\n",
    "\n",
    "#\n",
    "# Use notebook format (allows inline zooming and moving of figures)\n",
    "# Set default font size for all plots\n",
    "#\n",
    "%matplotlib notebook\n",
    "matplotlib.rcParams.update({'font.size': 12})\n",
    "matplotlib.rcParams['savefig.dpi'] = 300\n",
    "\n",
    "#\n",
    "# Remove old files in directory and create a new one\n",
    "#\n",
    "directory = os.path.dirname(output)\n",
    "if os.path.exists(directory):\n",
    "    shutil.rmtree(directory)\n",
    "os.makedirs(directory)"
   ]
  },
  {
   "cell_type": "code",
   "execution_count": 3,
   "metadata": {},
   "outputs": [],
   "source": [
    "#######################################\n",
    "# LINES BELOW SHOULD REMAIN UNCHANGED #\n",
    "#######################################\n",
    "#\n",
    "# panel_dir and in_panel refer to the file that is used in determining the k-factor,\n",
    "# so this should remain unchanged.\n",
    "#\n",
    "if field_data[5] == 'Radiance':\n",
    "    suffix = 'asd.rad.txt'\n",
    "else: \n",
    "    suffix = 'asd.txt'\n",
    "\n",
    "panel_dir =  '/g/data1a/u46/users/aw3463/GuyByrne/30APR18/Panels/'\n",
    "\n",
    "if field_data[4] == 'GA_Panel':\n",
    "    in_panel = 'ga_panel1_jan_2018.txt'\n",
    "elif field_data[4] == 'CSIRO_Panel':\n",
    "    in_panel = 'csiro_panel.txt'\n",
    "elif field_data[4] == 'UA_Panel':\n",
    "    in_panel = 'ua_panel.txt'\n",
    "elif field_data[4] == 'UOW_Panel':\n",
    "    in_panel = 'uow_panel.txt'\n",
    "elif field_data[4] == 'UQ_Panel':\n",
    "    in_panel = 'uq_panel.txt'\n",
    "elif field_data[4] == 'CSIRO_VIC_Panel':\n",
    "    in_panel = 'csiro_vic_panel.txt'\n",
    "else:\n",
    "    nopanel = '***PANEL NAME NOT KNOWN***'\n",
    "    print(nopanel)\n",
    "\n",
    "#\n",
    "# Setup for Landsat and Sentinel bandpass filters\n",
    "#\n",
    "sat_resp = dict({'Landsat5': '/g/data1a/u46/users/aw3463/GuyByrne/misc_others/landsat5_vsir.flt', \n",
    "            'Landsat7': '/g/data1a/u46/users/aw3463/GuyByrne/misc_others/landsat7_vsir.flt', \n",
    "            'Landsat8': '/g/data1a/u46/users/aw3463/GuyByrne/misc_others/landsat8_vsir.flt',\n",
    "            'Sentinel2a': '/g/data1a/u46/users/aw3463/GuyByrne/misc_others/Sent2a.flt',\n",
    "            'Sentinel2b': '/g/data1a/u46/users/aw3463/GuyByrne/misc_others/Sent2b.flt'})\n",
    "\n",
    "f_name = sat_resp[field_data[3]]\n",
    "\n",
    "#\n",
    "# Colours used for plotting multi-coloured Lines\n",
    "#\n",
    "colpac=['#770000', '#FF0000', '#FF7700', '#FFFF00', '#77FF00', '#00FF00', \n",
    "        '#00FF77', '#00FFFF', '#0077FF', '#0000FF', '#000077', '#FF00FF', '#777777', '#770077', '#777700']\n",
    "\n",
    "#\n",
    "# Start Figure numbering at 1\n",
    "#\n",
    "fignum = 1"
   ]
  },
  {
   "cell_type": "markdown",
   "metadata": {},
   "source": [
    "### Define 'alldata' as the dataframe that contains all the raw spectra.\n",
    "Show the first wavelength of every spectrum, so that the data integrity can be checked."
   ]
  },
  {
   "cell_type": "code",
   "execution_count": 4,
   "metadata": {
    "scrolled": true
   },
   "outputs": [
    {
     "data": {
      "text/html": [
       "<div>\n",
       "<style scoped>\n",
       "    .dataframe tbody tr th:only-of-type {\n",
       "        vertical-align: middle;\n",
       "    }\n",
       "\n",
       "    .dataframe tbody tr th {\n",
       "        vertical-align: top;\n",
       "    }\n",
       "\n",
       "    .dataframe thead th {\n",
       "        text-align: right;\n",
       "    }\n",
       "</style>\n",
       "<table border=\"1\" class=\"dataframe\">\n",
       "  <thead>\n",
       "    <tr style=\"text-align: right;\">\n",
       "      <th></th>\n",
       "      <th>Wavelength</th>\n",
       "      <th>radiance</th>\n",
       "      <th>filename</th>\n",
       "      <th>date_saved</th>\n",
       "      <th>Latitude</th>\n",
       "      <th>Longitude</th>\n",
       "      <th>Line</th>\n",
       "      <th>Spec_number</th>\n",
       "      <th>Inst_number</th>\n",
       "    </tr>\n",
       "  </thead>\n",
       "  <tbody>\n",
       "    <tr>\n",
       "      <th>0</th>\n",
       "      <td>350</td>\n",
       "      <td>0.113938</td>\n",
       "      <td>20180527_WintonCal00050.asd.rad</td>\n",
       "      <td>2018-05-27 00:44:33</td>\n",
       "      <td>-22.527814</td>\n",
       "      <td>142.938542</td>\n",
       "      <td>1</td>\n",
       "      <td>50</td>\n",
       "      <td>16516/1</td>\n",
       "    </tr>\n",
       "    <tr>\n",
       "      <th>0</th>\n",
       "      <td>350</td>\n",
       "      <td>0.114403</td>\n",
       "      <td>20180527_WintonCal00051.asd.rad</td>\n",
       "      <td>2018-05-27 00:44:35</td>\n",
       "      <td>-22.527814</td>\n",
       "      <td>142.938542</td>\n",
       "      <td>1</td>\n",
       "      <td>51</td>\n",
       "      <td>16516/1</td>\n",
       "    </tr>\n",
       "    <tr>\n",
       "      <th>0</th>\n",
       "      <td>350</td>\n",
       "      <td>0.114551</td>\n",
       "      <td>20180527_WintonCal00052.asd.rad</td>\n",
       "      <td>2018-05-27 00:44:38</td>\n",
       "      <td>-22.527814</td>\n",
       "      <td>142.938542</td>\n",
       "      <td>1</td>\n",
       "      <td>52</td>\n",
       "      <td>16516/1</td>\n",
       "    </tr>\n",
       "    <tr>\n",
       "      <th>0</th>\n",
       "      <td>350</td>\n",
       "      <td>0.114641</td>\n",
       "      <td>20180527_WintonCal00053.asd.rad</td>\n",
       "      <td>2018-05-27 00:44:41</td>\n",
       "      <td>-22.527814</td>\n",
       "      <td>142.938542</td>\n",
       "      <td>1</td>\n",
       "      <td>53</td>\n",
       "      <td>16516/1</td>\n",
       "    </tr>\n",
       "    <tr>\n",
       "      <th>0</th>\n",
       "      <td>350</td>\n",
       "      <td>0.114488</td>\n",
       "      <td>20180527_WintonCal00054.asd.rad</td>\n",
       "      <td>2018-05-27 00:44:43</td>\n",
       "      <td>-22.527814</td>\n",
       "      <td>142.938542</td>\n",
       "      <td>1</td>\n",
       "      <td>54</td>\n",
       "      <td>16516/1</td>\n",
       "    </tr>\n",
       "    <tr>\n",
       "      <th>0</th>\n",
       "      <td>350</td>\n",
       "      <td>0.114388</td>\n",
       "      <td>20180527_WintonCal00055.asd.rad</td>\n",
       "      <td>2018-05-27 00:44:46</td>\n",
       "      <td>-22.527814</td>\n",
       "      <td>142.938542</td>\n",
       "      <td>1</td>\n",
       "      <td>55</td>\n",
       "      <td>16516/1</td>\n",
       "    </tr>\n",
       "    <tr>\n",
       "      <th>0</th>\n",
       "      <td>350</td>\n",
       "      <td>0.114467</td>\n",
       "      <td>20180527_WintonCal00056.asd.rad</td>\n",
       "      <td>2018-05-27 00:44:48</td>\n",
       "      <td>-22.527814</td>\n",
       "      <td>142.938542</td>\n",
       "      <td>1</td>\n",
       "      <td>56</td>\n",
       "      <td>16516/1</td>\n",
       "    </tr>\n",
       "    <tr>\n",
       "      <th>0</th>\n",
       "      <td>350</td>\n",
       "      <td>0.114624</td>\n",
       "      <td>20180527_WintonCal00057.asd.rad</td>\n",
       "      <td>2018-05-27 00:44:51</td>\n",
       "      <td>-22.527814</td>\n",
       "      <td>142.938542</td>\n",
       "      <td>1</td>\n",
       "      <td>57</td>\n",
       "      <td>16516/1</td>\n",
       "    </tr>\n",
       "    <tr>\n",
       "      <th>0</th>\n",
       "      <td>350</td>\n",
       "      <td>0.114644</td>\n",
       "      <td>20180527_WintonCal00058.asd.rad</td>\n",
       "      <td>2018-05-27 00:44:54</td>\n",
       "      <td>-22.527814</td>\n",
       "      <td>142.938542</td>\n",
       "      <td>1</td>\n",
       "      <td>58</td>\n",
       "      <td>16516/1</td>\n",
       "    </tr>\n",
       "    <tr>\n",
       "      <th>0</th>\n",
       "      <td>350</td>\n",
       "      <td>0.114548</td>\n",
       "      <td>20180527_WintonCal00059.asd.rad</td>\n",
       "      <td>2018-05-27 00:44:56</td>\n",
       "      <td>-22.527814</td>\n",
       "      <td>142.938542</td>\n",
       "      <td>1</td>\n",
       "      <td>59</td>\n",
       "      <td>16516/1</td>\n",
       "    </tr>\n",
       "    <tr>\n",
       "      <th>0</th>\n",
       "      <td>350</td>\n",
       "      <td>0.014685</td>\n",
       "      <td>20180527_WintonCal00060.asd.rad</td>\n",
       "      <td>2018-05-27 00:45:28</td>\n",
       "      <td>-22.527814</td>\n",
       "      <td>142.938542</td>\n",
       "      <td>1</td>\n",
       "      <td>60</td>\n",
       "      <td>16516/1</td>\n",
       "    </tr>\n",
       "    <tr>\n",
       "      <th>0</th>\n",
       "      <td>350</td>\n",
       "      <td>0.014283</td>\n",
       "      <td>20180527_WintonCal00061.asd.rad</td>\n",
       "      <td>2018-05-27 00:45:30</td>\n",
       "      <td>-22.527814</td>\n",
       "      <td>142.938542</td>\n",
       "      <td>1</td>\n",
       "      <td>61</td>\n",
       "      <td>16516/1</td>\n",
       "    </tr>\n",
       "    <tr>\n",
       "      <th>0</th>\n",
       "      <td>350</td>\n",
       "      <td>0.013321</td>\n",
       "      <td>20180527_WintonCal00062.asd.rad</td>\n",
       "      <td>2018-05-27 00:45:33</td>\n",
       "      <td>-22.527814</td>\n",
       "      <td>142.938542</td>\n",
       "      <td>1</td>\n",
       "      <td>62</td>\n",
       "      <td>16516/1</td>\n",
       "    </tr>\n",
       "    <tr>\n",
       "      <th>0</th>\n",
       "      <td>350</td>\n",
       "      <td>0.013222</td>\n",
       "      <td>20180527_WintonCal00063.asd.rad</td>\n",
       "      <td>2018-05-27 00:45:36</td>\n",
       "      <td>-22.527814</td>\n",
       "      <td>142.938542</td>\n",
       "      <td>1</td>\n",
       "      <td>63</td>\n",
       "      <td>16516/1</td>\n",
       "    </tr>\n",
       "    <tr>\n",
       "      <th>0</th>\n",
       "      <td>350</td>\n",
       "      <td>0.014693</td>\n",
       "      <td>20180527_WintonCal00064.asd.rad</td>\n",
       "      <td>2018-05-27 00:45:38</td>\n",
       "      <td>-22.527814</td>\n",
       "      <td>142.938542</td>\n",
       "      <td>1</td>\n",
       "      <td>64</td>\n",
       "      <td>16516/1</td>\n",
       "    </tr>\n",
       "    <tr>\n",
       "      <th>0</th>\n",
       "      <td>350</td>\n",
       "      <td>0.015288</td>\n",
       "      <td>20180527_WintonCal00065.asd.rad</td>\n",
       "      <td>2018-05-27 00:45:41</td>\n",
       "      <td>-22.527814</td>\n",
       "      <td>142.938542</td>\n",
       "      <td>1</td>\n",
       "      <td>65</td>\n",
       "      <td>16516/1</td>\n",
       "    </tr>\n",
       "    <tr>\n",
       "      <th>0</th>\n",
       "      <td>350</td>\n",
       "      <td>0.014549</td>\n",
       "      <td>20180527_WintonCal00066.asd.rad</td>\n",
       "      <td>2018-05-27 00:45:43</td>\n",
       "      <td>-22.527814</td>\n",
       "      <td>142.938542</td>\n",
       "      <td>1</td>\n",
       "      <td>66</td>\n",
       "      <td>16516/1</td>\n",
       "    </tr>\n",
       "    <tr>\n",
       "      <th>0</th>\n",
       "      <td>350</td>\n",
       "      <td>0.014213</td>\n",
       "      <td>20180527_WintonCal00067.asd.rad</td>\n",
       "      <td>2018-05-27 00:45:46</td>\n",
       "      <td>-22.527814</td>\n",
       "      <td>142.938542</td>\n",
       "      <td>1</td>\n",
       "      <td>67</td>\n",
       "      <td>16516/1</td>\n",
       "    </tr>\n",
       "    <tr>\n",
       "      <th>0</th>\n",
       "      <td>350</td>\n",
       "      <td>0.013996</td>\n",
       "      <td>20180527_WintonCal00068.asd.rad</td>\n",
       "      <td>2018-05-27 00:45:49</td>\n",
       "      <td>-22.527814</td>\n",
       "      <td>142.938542</td>\n",
       "      <td>1</td>\n",
       "      <td>68</td>\n",
       "      <td>16516/1</td>\n",
       "    </tr>\n",
       "    <tr>\n",
       "      <th>0</th>\n",
       "      <td>350</td>\n",
       "      <td>0.013960</td>\n",
       "      <td>20180527_WintonCal00069.asd.rad</td>\n",
       "      <td>2018-05-27 00:45:51</td>\n",
       "      <td>-22.527814</td>\n",
       "      <td>142.938542</td>\n",
       "      <td>1</td>\n",
       "      <td>69</td>\n",
       "      <td>16516/1</td>\n",
       "    </tr>\n",
       "    <tr>\n",
       "      <th>0</th>\n",
       "      <td>350</td>\n",
       "      <td>0.013914</td>\n",
       "      <td>20180527_WintonCal00070.asd.rad</td>\n",
       "      <td>2018-05-27 00:45:54</td>\n",
       "      <td>-22.527814</td>\n",
       "      <td>142.938542</td>\n",
       "      <td>1</td>\n",
       "      <td>70</td>\n",
       "      <td>16516/1</td>\n",
       "    </tr>\n",
       "    <tr>\n",
       "      <th>0</th>\n",
       "      <td>350</td>\n",
       "      <td>0.013921</td>\n",
       "      <td>20180527_WintonCal00071.asd.rad</td>\n",
       "      <td>2018-05-27 00:45:57</td>\n",
       "      <td>-22.527814</td>\n",
       "      <td>142.938542</td>\n",
       "      <td>1</td>\n",
       "      <td>71</td>\n",
       "      <td>16516/1</td>\n",
       "    </tr>\n",
       "    <tr>\n",
       "      <th>0</th>\n",
       "      <td>350</td>\n",
       "      <td>0.013766</td>\n",
       "      <td>20180527_WintonCal00072.asd.rad</td>\n",
       "      <td>2018-05-27 00:45:59</td>\n",
       "      <td>-22.527814</td>\n",
       "      <td>142.938542</td>\n",
       "      <td>1</td>\n",
       "      <td>72</td>\n",
       "      <td>16516/1</td>\n",
       "    </tr>\n",
       "    <tr>\n",
       "      <th>0</th>\n",
       "      <td>350</td>\n",
       "      <td>0.013609</td>\n",
       "      <td>20180527_WintonCal00073.asd.rad</td>\n",
       "      <td>2018-05-27 00:46:02</td>\n",
       "      <td>-22.527814</td>\n",
       "      <td>142.938542</td>\n",
       "      <td>1</td>\n",
       "      <td>73</td>\n",
       "      <td>16516/1</td>\n",
       "    </tr>\n",
       "    <tr>\n",
       "      <th>0</th>\n",
       "      <td>350</td>\n",
       "      <td>0.013013</td>\n",
       "      <td>20180527_WintonCal00074.asd.rad</td>\n",
       "      <td>2018-05-27 00:46:04</td>\n",
       "      <td>-22.527814</td>\n",
       "      <td>142.938542</td>\n",
       "      <td>1</td>\n",
       "      <td>74</td>\n",
       "      <td>16516/1</td>\n",
       "    </tr>\n",
       "    <tr>\n",
       "      <th>0</th>\n",
       "      <td>350</td>\n",
       "      <td>0.014974</td>\n",
       "      <td>20180527_WintonCal00075.asd.rad</td>\n",
       "      <td>2018-05-27 00:46:07</td>\n",
       "      <td>-22.527814</td>\n",
       "      <td>142.938542</td>\n",
       "      <td>1</td>\n",
       "      <td>75</td>\n",
       "      <td>16516/1</td>\n",
       "    </tr>\n",
       "    <tr>\n",
       "      <th>0</th>\n",
       "      <td>350</td>\n",
       "      <td>0.014085</td>\n",
       "      <td>20180527_WintonCal00076.asd.rad</td>\n",
       "      <td>2018-05-27 00:46:10</td>\n",
       "      <td>-22.527814</td>\n",
       "      <td>142.938542</td>\n",
       "      <td>1</td>\n",
       "      <td>76</td>\n",
       "      <td>16516/1</td>\n",
       "    </tr>\n",
       "    <tr>\n",
       "      <th>0</th>\n",
       "      <td>350</td>\n",
       "      <td>0.013801</td>\n",
       "      <td>20180527_WintonCal00077.asd.rad</td>\n",
       "      <td>2018-05-27 00:46:12</td>\n",
       "      <td>-22.527814</td>\n",
       "      <td>142.938542</td>\n",
       "      <td>1</td>\n",
       "      <td>77</td>\n",
       "      <td>16516/1</td>\n",
       "    </tr>\n",
       "    <tr>\n",
       "      <th>0</th>\n",
       "      <td>350</td>\n",
       "      <td>0.013233</td>\n",
       "      <td>20180527_WintonCal00078.asd.rad</td>\n",
       "      <td>2018-05-27 00:46:15</td>\n",
       "      <td>-22.527814</td>\n",
       "      <td>142.938542</td>\n",
       "      <td>1</td>\n",
       "      <td>78</td>\n",
       "      <td>16516/1</td>\n",
       "    </tr>\n",
       "    <tr>\n",
       "      <th>0</th>\n",
       "      <td>350</td>\n",
       "      <td>0.011721</td>\n",
       "      <td>20180527_WintonCal00079.asd.rad</td>\n",
       "      <td>2018-05-27 00:46:18</td>\n",
       "      <td>-22.527814</td>\n",
       "      <td>142.938542</td>\n",
       "      <td>1</td>\n",
       "      <td>79</td>\n",
       "      <td>16516/1</td>\n",
       "    </tr>\n",
       "    <tr>\n",
       "      <th>...</th>\n",
       "      <td>...</td>\n",
       "      <td>...</td>\n",
       "      <td>...</td>\n",
       "      <td>...</td>\n",
       "      <td>...</td>\n",
       "      <td>...</td>\n",
       "      <td>...</td>\n",
       "      <td>...</td>\n",
       "      <td>...</td>\n",
       "    </tr>\n",
       "    <tr>\n",
       "      <th>0</th>\n",
       "      <td>350</td>\n",
       "      <td>0.013157</td>\n",
       "      <td>20180527_WintonCal00300.asd.rad</td>\n",
       "      <td>2018-05-27 00:58:23</td>\n",
       "      <td>-22.527814</td>\n",
       "      <td>142.938542</td>\n",
       "      <td>5</td>\n",
       "      <td>0</td>\n",
       "      <td>16516/1</td>\n",
       "    </tr>\n",
       "    <tr>\n",
       "      <th>0</th>\n",
       "      <td>350</td>\n",
       "      <td>0.013286</td>\n",
       "      <td>20180527_WintonCal00301.asd.rad</td>\n",
       "      <td>2018-05-27 00:58:26</td>\n",
       "      <td>-22.527814</td>\n",
       "      <td>142.938542</td>\n",
       "      <td>5</td>\n",
       "      <td>1</td>\n",
       "      <td>16516/1</td>\n",
       "    </tr>\n",
       "    <tr>\n",
       "      <th>0</th>\n",
       "      <td>350</td>\n",
       "      <td>0.013380</td>\n",
       "      <td>20180527_WintonCal00302.asd.rad</td>\n",
       "      <td>2018-05-27 00:58:29</td>\n",
       "      <td>-22.527814</td>\n",
       "      <td>142.938542</td>\n",
       "      <td>5</td>\n",
       "      <td>2</td>\n",
       "      <td>16516/1</td>\n",
       "    </tr>\n",
       "    <tr>\n",
       "      <th>0</th>\n",
       "      <td>350</td>\n",
       "      <td>0.013598</td>\n",
       "      <td>20180527_WintonCal00303.asd.rad</td>\n",
       "      <td>2018-05-27 00:58:31</td>\n",
       "      <td>-22.527814</td>\n",
       "      <td>142.938542</td>\n",
       "      <td>5</td>\n",
       "      <td>3</td>\n",
       "      <td>16516/1</td>\n",
       "    </tr>\n",
       "    <tr>\n",
       "      <th>0</th>\n",
       "      <td>350</td>\n",
       "      <td>0.013658</td>\n",
       "      <td>20180527_WintonCal00304.asd.rad</td>\n",
       "      <td>2018-05-27 00:58:34</td>\n",
       "      <td>-22.527814</td>\n",
       "      <td>142.938542</td>\n",
       "      <td>5</td>\n",
       "      <td>4</td>\n",
       "      <td>16516/1</td>\n",
       "    </tr>\n",
       "    <tr>\n",
       "      <th>0</th>\n",
       "      <td>350</td>\n",
       "      <td>0.013113</td>\n",
       "      <td>20180527_WintonCal00305.asd.rad</td>\n",
       "      <td>2018-05-27 00:58:36</td>\n",
       "      <td>-22.527814</td>\n",
       "      <td>142.938542</td>\n",
       "      <td>5</td>\n",
       "      <td>5</td>\n",
       "      <td>16516/1</td>\n",
       "    </tr>\n",
       "    <tr>\n",
       "      <th>0</th>\n",
       "      <td>350</td>\n",
       "      <td>0.012771</td>\n",
       "      <td>20180527_WintonCal00306.asd.rad</td>\n",
       "      <td>2018-05-27 00:58:39</td>\n",
       "      <td>-22.527814</td>\n",
       "      <td>142.938542</td>\n",
       "      <td>5</td>\n",
       "      <td>6</td>\n",
       "      <td>16516/1</td>\n",
       "    </tr>\n",
       "    <tr>\n",
       "      <th>0</th>\n",
       "      <td>350</td>\n",
       "      <td>0.011682</td>\n",
       "      <td>20180527_WintonCal00307.asd.rad</td>\n",
       "      <td>2018-05-27 00:58:42</td>\n",
       "      <td>-22.527814</td>\n",
       "      <td>142.938542</td>\n",
       "      <td>5</td>\n",
       "      <td>7</td>\n",
       "      <td>16516/1</td>\n",
       "    </tr>\n",
       "    <tr>\n",
       "      <th>0</th>\n",
       "      <td>350</td>\n",
       "      <td>0.012786</td>\n",
       "      <td>20180527_WintonCal00308.asd.rad</td>\n",
       "      <td>2018-05-27 00:58:44</td>\n",
       "      <td>-22.527814</td>\n",
       "      <td>142.938542</td>\n",
       "      <td>5</td>\n",
       "      <td>8</td>\n",
       "      <td>16516/1</td>\n",
       "    </tr>\n",
       "    <tr>\n",
       "      <th>0</th>\n",
       "      <td>350</td>\n",
       "      <td>0.012319</td>\n",
       "      <td>20180527_WintonCal00309.asd.rad</td>\n",
       "      <td>2018-05-27 00:58:47</td>\n",
       "      <td>-22.527814</td>\n",
       "      <td>142.938542</td>\n",
       "      <td>5</td>\n",
       "      <td>9</td>\n",
       "      <td>16516/1</td>\n",
       "    </tr>\n",
       "    <tr>\n",
       "      <th>0</th>\n",
       "      <td>350</td>\n",
       "      <td>0.012924</td>\n",
       "      <td>20180527_WintonCal00310.asd.rad</td>\n",
       "      <td>2018-05-27 00:58:50</td>\n",
       "      <td>-22.527814</td>\n",
       "      <td>142.938542</td>\n",
       "      <td>5</td>\n",
       "      <td>10</td>\n",
       "      <td>16516/1</td>\n",
       "    </tr>\n",
       "    <tr>\n",
       "      <th>0</th>\n",
       "      <td>350</td>\n",
       "      <td>0.013540</td>\n",
       "      <td>20180527_WintonCal00311.asd.rad</td>\n",
       "      <td>2018-05-27 00:58:52</td>\n",
       "      <td>-22.527814</td>\n",
       "      <td>142.938542</td>\n",
       "      <td>5</td>\n",
       "      <td>11</td>\n",
       "      <td>16516/1</td>\n",
       "    </tr>\n",
       "    <tr>\n",
       "      <th>0</th>\n",
       "      <td>350</td>\n",
       "      <td>0.013020</td>\n",
       "      <td>20180527_WintonCal00312.asd.rad</td>\n",
       "      <td>2018-05-27 00:58:55</td>\n",
       "      <td>-22.527814</td>\n",
       "      <td>142.938542</td>\n",
       "      <td>5</td>\n",
       "      <td>12</td>\n",
       "      <td>16516/1</td>\n",
       "    </tr>\n",
       "    <tr>\n",
       "      <th>0</th>\n",
       "      <td>350</td>\n",
       "      <td>0.013209</td>\n",
       "      <td>20180527_WintonCal00313.asd.rad</td>\n",
       "      <td>2018-05-27 00:58:57</td>\n",
       "      <td>-22.527814</td>\n",
       "      <td>142.938542</td>\n",
       "      <td>5</td>\n",
       "      <td>13</td>\n",
       "      <td>16516/1</td>\n",
       "    </tr>\n",
       "    <tr>\n",
       "      <th>0</th>\n",
       "      <td>350</td>\n",
       "      <td>0.012522</td>\n",
       "      <td>20180527_WintonCal00314.asd.rad</td>\n",
       "      <td>2018-05-27 00:59:00</td>\n",
       "      <td>-22.527814</td>\n",
       "      <td>142.938542</td>\n",
       "      <td>5</td>\n",
       "      <td>14</td>\n",
       "      <td>16516/1</td>\n",
       "    </tr>\n",
       "    <tr>\n",
       "      <th>0</th>\n",
       "      <td>350</td>\n",
       "      <td>0.012939</td>\n",
       "      <td>20180527_WintonCal00315.asd.rad</td>\n",
       "      <td>2018-05-27 00:59:02</td>\n",
       "      <td>-22.527814</td>\n",
       "      <td>142.938542</td>\n",
       "      <td>5</td>\n",
       "      <td>15</td>\n",
       "      <td>16516/1</td>\n",
       "    </tr>\n",
       "    <tr>\n",
       "      <th>0</th>\n",
       "      <td>350</td>\n",
       "      <td>0.013541</td>\n",
       "      <td>20180527_WintonCal00316.asd.rad</td>\n",
       "      <td>2018-05-27 00:59:05</td>\n",
       "      <td>-22.527814</td>\n",
       "      <td>142.938542</td>\n",
       "      <td>5</td>\n",
       "      <td>16</td>\n",
       "      <td>16516/1</td>\n",
       "    </tr>\n",
       "    <tr>\n",
       "      <th>0</th>\n",
       "      <td>350</td>\n",
       "      <td>0.013411</td>\n",
       "      <td>20180527_WintonCal00317.asd.rad</td>\n",
       "      <td>2018-05-27 00:59:07</td>\n",
       "      <td>-22.527814</td>\n",
       "      <td>142.938542</td>\n",
       "      <td>5</td>\n",
       "      <td>17</td>\n",
       "      <td>16516/1</td>\n",
       "    </tr>\n",
       "    <tr>\n",
       "      <th>0</th>\n",
       "      <td>350</td>\n",
       "      <td>0.013112</td>\n",
       "      <td>20180527_WintonCal00318.asd.rad</td>\n",
       "      <td>2018-05-27 00:59:10</td>\n",
       "      <td>-22.527814</td>\n",
       "      <td>142.938542</td>\n",
       "      <td>5</td>\n",
       "      <td>18</td>\n",
       "      <td>16516/1</td>\n",
       "    </tr>\n",
       "    <tr>\n",
       "      <th>0</th>\n",
       "      <td>350</td>\n",
       "      <td>0.013521</td>\n",
       "      <td>20180527_WintonCal00319.asd.rad</td>\n",
       "      <td>2018-05-27 00:59:13</td>\n",
       "      <td>-22.527814</td>\n",
       "      <td>142.938542</td>\n",
       "      <td>5</td>\n",
       "      <td>19</td>\n",
       "      <td>16516/1</td>\n",
       "    </tr>\n",
       "    <tr>\n",
       "      <th>0</th>\n",
       "      <td>350</td>\n",
       "      <td>0.013770</td>\n",
       "      <td>20180527_WintonCal00320.asd.rad</td>\n",
       "      <td>2018-05-27 00:59:15</td>\n",
       "      <td>-22.527814</td>\n",
       "      <td>142.938542</td>\n",
       "      <td>5</td>\n",
       "      <td>20</td>\n",
       "      <td>16516/1</td>\n",
       "    </tr>\n",
       "    <tr>\n",
       "      <th>0</th>\n",
       "      <td>350</td>\n",
       "      <td>0.011583</td>\n",
       "      <td>20180527_WintonCal00321.asd.rad</td>\n",
       "      <td>2018-05-27 00:59:18</td>\n",
       "      <td>-22.527814</td>\n",
       "      <td>142.938542</td>\n",
       "      <td>5</td>\n",
       "      <td>21</td>\n",
       "      <td>16516/1</td>\n",
       "    </tr>\n",
       "    <tr>\n",
       "      <th>0</th>\n",
       "      <td>350</td>\n",
       "      <td>0.010738</td>\n",
       "      <td>20180527_WintonCal00322.asd.rad</td>\n",
       "      <td>2018-05-27 00:59:20</td>\n",
       "      <td>-22.527814</td>\n",
       "      <td>142.938542</td>\n",
       "      <td>5</td>\n",
       "      <td>22</td>\n",
       "      <td>16516/1</td>\n",
       "    </tr>\n",
       "    <tr>\n",
       "      <th>0</th>\n",
       "      <td>350</td>\n",
       "      <td>0.013117</td>\n",
       "      <td>20180527_WintonCal00323.asd.rad</td>\n",
       "      <td>2018-05-27 00:59:23</td>\n",
       "      <td>-22.527814</td>\n",
       "      <td>142.938542</td>\n",
       "      <td>5</td>\n",
       "      <td>23</td>\n",
       "      <td>16516/1</td>\n",
       "    </tr>\n",
       "    <tr>\n",
       "      <th>0</th>\n",
       "      <td>350</td>\n",
       "      <td>0.010615</td>\n",
       "      <td>20180527_WintonCal00324.asd.rad</td>\n",
       "      <td>2018-05-27 00:59:25</td>\n",
       "      <td>-22.527814</td>\n",
       "      <td>142.938542</td>\n",
       "      <td>5</td>\n",
       "      <td>24</td>\n",
       "      <td>16516/1</td>\n",
       "    </tr>\n",
       "    <tr>\n",
       "      <th>0</th>\n",
       "      <td>350</td>\n",
       "      <td>0.010159</td>\n",
       "      <td>20180527_WintonCal00325.asd.rad</td>\n",
       "      <td>2018-05-27 00:59:28</td>\n",
       "      <td>-22.527814</td>\n",
       "      <td>142.938542</td>\n",
       "      <td>5</td>\n",
       "      <td>25</td>\n",
       "      <td>16516/1</td>\n",
       "    </tr>\n",
       "    <tr>\n",
       "      <th>0</th>\n",
       "      <td>350</td>\n",
       "      <td>0.011371</td>\n",
       "      <td>20180527_WintonCal00326.asd.rad</td>\n",
       "      <td>2018-05-27 00:59:30</td>\n",
       "      <td>-22.527814</td>\n",
       "      <td>142.938542</td>\n",
       "      <td>5</td>\n",
       "      <td>26</td>\n",
       "      <td>16516/1</td>\n",
       "    </tr>\n",
       "    <tr>\n",
       "      <th>0</th>\n",
       "      <td>350</td>\n",
       "      <td>0.012170</td>\n",
       "      <td>20180527_WintonCal00327.asd.rad</td>\n",
       "      <td>2018-05-27 00:59:33</td>\n",
       "      <td>-22.527814</td>\n",
       "      <td>142.938542</td>\n",
       "      <td>5</td>\n",
       "      <td>27</td>\n",
       "      <td>16516/1</td>\n",
       "    </tr>\n",
       "    <tr>\n",
       "      <th>0</th>\n",
       "      <td>350</td>\n",
       "      <td>0.011544</td>\n",
       "      <td>20180527_WintonCal00328.asd.rad</td>\n",
       "      <td>2018-05-27 00:59:36</td>\n",
       "      <td>-22.527814</td>\n",
       "      <td>142.938542</td>\n",
       "      <td>5</td>\n",
       "      <td>28</td>\n",
       "      <td>16516/1</td>\n",
       "    </tr>\n",
       "    <tr>\n",
       "      <th>0</th>\n",
       "      <td>350</td>\n",
       "      <td>0.011216</td>\n",
       "      <td>20180527_WintonCal00329.asd.rad</td>\n",
       "      <td>2018-05-27 00:59:38</td>\n",
       "      <td>-22.527814</td>\n",
       "      <td>142.938542</td>\n",
       "      <td>5</td>\n",
       "      <td>29</td>\n",
       "      <td>16516/1</td>\n",
       "    </tr>\n",
       "  </tbody>\n",
       "</table>\n",
       "<p>240 rows × 9 columns</p>\n",
       "</div>"
      ],
      "text/plain": [
       "    Wavelength  radiance                         filename          date_saved  \\\n",
       "0          350  0.113938  20180527_WintonCal00050.asd.rad 2018-05-27 00:44:33   \n",
       "0          350  0.114403  20180527_WintonCal00051.asd.rad 2018-05-27 00:44:35   \n",
       "0          350  0.114551  20180527_WintonCal00052.asd.rad 2018-05-27 00:44:38   \n",
       "0          350  0.114641  20180527_WintonCal00053.asd.rad 2018-05-27 00:44:41   \n",
       "0          350  0.114488  20180527_WintonCal00054.asd.rad 2018-05-27 00:44:43   \n",
       "0          350  0.114388  20180527_WintonCal00055.asd.rad 2018-05-27 00:44:46   \n",
       "0          350  0.114467  20180527_WintonCal00056.asd.rad 2018-05-27 00:44:48   \n",
       "0          350  0.114624  20180527_WintonCal00057.asd.rad 2018-05-27 00:44:51   \n",
       "0          350  0.114644  20180527_WintonCal00058.asd.rad 2018-05-27 00:44:54   \n",
       "0          350  0.114548  20180527_WintonCal00059.asd.rad 2018-05-27 00:44:56   \n",
       "0          350  0.014685  20180527_WintonCal00060.asd.rad 2018-05-27 00:45:28   \n",
       "0          350  0.014283  20180527_WintonCal00061.asd.rad 2018-05-27 00:45:30   \n",
       "0          350  0.013321  20180527_WintonCal00062.asd.rad 2018-05-27 00:45:33   \n",
       "0          350  0.013222  20180527_WintonCal00063.asd.rad 2018-05-27 00:45:36   \n",
       "0          350  0.014693  20180527_WintonCal00064.asd.rad 2018-05-27 00:45:38   \n",
       "0          350  0.015288  20180527_WintonCal00065.asd.rad 2018-05-27 00:45:41   \n",
       "0          350  0.014549  20180527_WintonCal00066.asd.rad 2018-05-27 00:45:43   \n",
       "0          350  0.014213  20180527_WintonCal00067.asd.rad 2018-05-27 00:45:46   \n",
       "0          350  0.013996  20180527_WintonCal00068.asd.rad 2018-05-27 00:45:49   \n",
       "0          350  0.013960  20180527_WintonCal00069.asd.rad 2018-05-27 00:45:51   \n",
       "0          350  0.013914  20180527_WintonCal00070.asd.rad 2018-05-27 00:45:54   \n",
       "0          350  0.013921  20180527_WintonCal00071.asd.rad 2018-05-27 00:45:57   \n",
       "0          350  0.013766  20180527_WintonCal00072.asd.rad 2018-05-27 00:45:59   \n",
       "0          350  0.013609  20180527_WintonCal00073.asd.rad 2018-05-27 00:46:02   \n",
       "0          350  0.013013  20180527_WintonCal00074.asd.rad 2018-05-27 00:46:04   \n",
       "0          350  0.014974  20180527_WintonCal00075.asd.rad 2018-05-27 00:46:07   \n",
       "0          350  0.014085  20180527_WintonCal00076.asd.rad 2018-05-27 00:46:10   \n",
       "0          350  0.013801  20180527_WintonCal00077.asd.rad 2018-05-27 00:46:12   \n",
       "0          350  0.013233  20180527_WintonCal00078.asd.rad 2018-05-27 00:46:15   \n",
       "0          350  0.011721  20180527_WintonCal00079.asd.rad 2018-05-27 00:46:18   \n",
       "..         ...       ...                              ...                 ...   \n",
       "0          350  0.013157  20180527_WintonCal00300.asd.rad 2018-05-27 00:58:23   \n",
       "0          350  0.013286  20180527_WintonCal00301.asd.rad 2018-05-27 00:58:26   \n",
       "0          350  0.013380  20180527_WintonCal00302.asd.rad 2018-05-27 00:58:29   \n",
       "0          350  0.013598  20180527_WintonCal00303.asd.rad 2018-05-27 00:58:31   \n",
       "0          350  0.013658  20180527_WintonCal00304.asd.rad 2018-05-27 00:58:34   \n",
       "0          350  0.013113  20180527_WintonCal00305.asd.rad 2018-05-27 00:58:36   \n",
       "0          350  0.012771  20180527_WintonCal00306.asd.rad 2018-05-27 00:58:39   \n",
       "0          350  0.011682  20180527_WintonCal00307.asd.rad 2018-05-27 00:58:42   \n",
       "0          350  0.012786  20180527_WintonCal00308.asd.rad 2018-05-27 00:58:44   \n",
       "0          350  0.012319  20180527_WintonCal00309.asd.rad 2018-05-27 00:58:47   \n",
       "0          350  0.012924  20180527_WintonCal00310.asd.rad 2018-05-27 00:58:50   \n",
       "0          350  0.013540  20180527_WintonCal00311.asd.rad 2018-05-27 00:58:52   \n",
       "0          350  0.013020  20180527_WintonCal00312.asd.rad 2018-05-27 00:58:55   \n",
       "0          350  0.013209  20180527_WintonCal00313.asd.rad 2018-05-27 00:58:57   \n",
       "0          350  0.012522  20180527_WintonCal00314.asd.rad 2018-05-27 00:59:00   \n",
       "0          350  0.012939  20180527_WintonCal00315.asd.rad 2018-05-27 00:59:02   \n",
       "0          350  0.013541  20180527_WintonCal00316.asd.rad 2018-05-27 00:59:05   \n",
       "0          350  0.013411  20180527_WintonCal00317.asd.rad 2018-05-27 00:59:07   \n",
       "0          350  0.013112  20180527_WintonCal00318.asd.rad 2018-05-27 00:59:10   \n",
       "0          350  0.013521  20180527_WintonCal00319.asd.rad 2018-05-27 00:59:13   \n",
       "0          350  0.013770  20180527_WintonCal00320.asd.rad 2018-05-27 00:59:15   \n",
       "0          350  0.011583  20180527_WintonCal00321.asd.rad 2018-05-27 00:59:18   \n",
       "0          350  0.010738  20180527_WintonCal00322.asd.rad 2018-05-27 00:59:20   \n",
       "0          350  0.013117  20180527_WintonCal00323.asd.rad 2018-05-27 00:59:23   \n",
       "0          350  0.010615  20180527_WintonCal00324.asd.rad 2018-05-27 00:59:25   \n",
       "0          350  0.010159  20180527_WintonCal00325.asd.rad 2018-05-27 00:59:28   \n",
       "0          350  0.011371  20180527_WintonCal00326.asd.rad 2018-05-27 00:59:30   \n",
       "0          350  0.012170  20180527_WintonCal00327.asd.rad 2018-05-27 00:59:33   \n",
       "0          350  0.011544  20180527_WintonCal00328.asd.rad 2018-05-27 00:59:36   \n",
       "0          350  0.011216  20180527_WintonCal00329.asd.rad 2018-05-27 00:59:38   \n",
       "\n",
       "     Latitude   Longitude  Line  Spec_number Inst_number  \n",
       "0  -22.527814  142.938542     1           50     16516/1  \n",
       "0  -22.527814  142.938542     1           51     16516/1  \n",
       "0  -22.527814  142.938542     1           52     16516/1  \n",
       "0  -22.527814  142.938542     1           53     16516/1  \n",
       "0  -22.527814  142.938542     1           54     16516/1  \n",
       "0  -22.527814  142.938542     1           55     16516/1  \n",
       "0  -22.527814  142.938542     1           56     16516/1  \n",
       "0  -22.527814  142.938542     1           57     16516/1  \n",
       "0  -22.527814  142.938542     1           58     16516/1  \n",
       "0  -22.527814  142.938542     1           59     16516/1  \n",
       "0  -22.527814  142.938542     1           60     16516/1  \n",
       "0  -22.527814  142.938542     1           61     16516/1  \n",
       "0  -22.527814  142.938542     1           62     16516/1  \n",
       "0  -22.527814  142.938542     1           63     16516/1  \n",
       "0  -22.527814  142.938542     1           64     16516/1  \n",
       "0  -22.527814  142.938542     1           65     16516/1  \n",
       "0  -22.527814  142.938542     1           66     16516/1  \n",
       "0  -22.527814  142.938542     1           67     16516/1  \n",
       "0  -22.527814  142.938542     1           68     16516/1  \n",
       "0  -22.527814  142.938542     1           69     16516/1  \n",
       "0  -22.527814  142.938542     1           70     16516/1  \n",
       "0  -22.527814  142.938542     1           71     16516/1  \n",
       "0  -22.527814  142.938542     1           72     16516/1  \n",
       "0  -22.527814  142.938542     1           73     16516/1  \n",
       "0  -22.527814  142.938542     1           74     16516/1  \n",
       "0  -22.527814  142.938542     1           75     16516/1  \n",
       "0  -22.527814  142.938542     1           76     16516/1  \n",
       "0  -22.527814  142.938542     1           77     16516/1  \n",
       "0  -22.527814  142.938542     1           78     16516/1  \n",
       "0  -22.527814  142.938542     1           79     16516/1  \n",
       "..        ...         ...   ...          ...         ...  \n",
       "0  -22.527814  142.938542     5            0     16516/1  \n",
       "0  -22.527814  142.938542     5            1     16516/1  \n",
       "0  -22.527814  142.938542     5            2     16516/1  \n",
       "0  -22.527814  142.938542     5            3     16516/1  \n",
       "0  -22.527814  142.938542     5            4     16516/1  \n",
       "0  -22.527814  142.938542     5            5     16516/1  \n",
       "0  -22.527814  142.938542     5            6     16516/1  \n",
       "0  -22.527814  142.938542     5            7     16516/1  \n",
       "0  -22.527814  142.938542     5            8     16516/1  \n",
       "0  -22.527814  142.938542     5            9     16516/1  \n",
       "0  -22.527814  142.938542     5           10     16516/1  \n",
       "0  -22.527814  142.938542     5           11     16516/1  \n",
       "0  -22.527814  142.938542     5           12     16516/1  \n",
       "0  -22.527814  142.938542     5           13     16516/1  \n",
       "0  -22.527814  142.938542     5           14     16516/1  \n",
       "0  -22.527814  142.938542     5           15     16516/1  \n",
       "0  -22.527814  142.938542     5           16     16516/1  \n",
       "0  -22.527814  142.938542     5           17     16516/1  \n",
       "0  -22.527814  142.938542     5           18     16516/1  \n",
       "0  -22.527814  142.938542     5           19     16516/1  \n",
       "0  -22.527814  142.938542     5           20     16516/1  \n",
       "0  -22.527814  142.938542     5           21     16516/1  \n",
       "0  -22.527814  142.938542     5           22     16516/1  \n",
       "0  -22.527814  142.938542     5           23     16516/1  \n",
       "0  -22.527814  142.938542     5           24     16516/1  \n",
       "0  -22.527814  142.938542     5           25     16516/1  \n",
       "0  -22.527814  142.938542     5           26     16516/1  \n",
       "0  -22.527814  142.938542     5           27     16516/1  \n",
       "0  -22.527814  142.938542     5           28     16516/1  \n",
       "0  -22.527814  142.938542     5           29     16516/1  \n",
       "\n",
       "[240 rows x 9 columns]"
      ]
     },
     "execution_count": 4,
     "metadata": {},
     "output_type": "execute_result"
    }
   ],
   "source": [
    "alldata = LoadData.load_from_dir(indir, suffix, firstGoodLine, Corners)\n",
    "\n",
    "alldata[alldata['Wavelength']==350]"
   ]
  },
  {
   "cell_type": "markdown",
   "metadata": {},
   "source": [
    "### Print out time stamp and coordinate extent for BRDF correction\n",
    "\n",
    "The time stamp and Lat/Long extents are required to calculate the BRDF correction, used below.\n",
    "\n",
    "In order to calculate the BRF correction, the following method is used:\n",
    "\n",
    "<OL>\n",
    "    <LI>Run the print statements in the cell below.</LI>\n",
    "    <LI>Copy and paste the output into a VDI terminal window</LI>\n",
    "    <LI>Copy and paste the resultant VDI output into the BRDF calculation cell, writing over the similar text.</LI>\n",
    "</OL>\n",
    "\n",
    "NOTE: This works assuming that the BRDF code is in the current directory.\n"
   ]
  },
  {
   "cell_type": "code",
   "execution_count": 5,
   "metadata": {
    "scrolled": false
   },
   "outputs": [
    {
     "name": "stdout",
     "output_type": "stream",
     "text": [
      "#################################################################################\n",
      "# Copy and paste the following into a terminal window on VDI for Landsat 8 data #\n",
      "#################################################################################\n",
      "\n",
      "source module.sh\n",
      "sed -i \"34s/.*/        setattr(self, 'acquisition_datetime', dateutil.parser.parse('2018-05-27 00:44:33'))/\" retrieve_brdf.py\n",
      "sed -i \"37s/.*/        bbox = geopandas.GeoDataFrame({'geometry': [box(142.93854167, -22.527813889, 142.93854167, -22.527813889)]})/\" retrieve_brdf.py\n",
      "python retrieve_brdf.py > temp.txt ; awk -f format_Sent.awk temp.txt\n",
      "\n"
     ]
    }
   ],
   "source": [
    "PrintBRDF.print_brdf(alldata, field_data)"
   ]
  },
  {
   "cell_type": "markdown",
   "metadata": {},
   "source": [
    "### Specify which spectra are panels/ground/good/bad\n",
    "\n",
    " Determine panel file names by assuming that all panels have a data value of at least 0.06\n",
    " in the first wavelength (350nm). Call this dataframe 'panel_names'.\n",
    "\n",
    " good_panels = all panel data with bad panels removed<BR>\n",
    " bad_panels  = all bad panel data<BR>\n",
    " all_panels = both good and bad panel data<BR>\n",
    " good_grounds = good ground readings<BR>\n",
    " all_grounds = all ground data.<P>\n",
    " Any bad ground data (bad_grounds) is defined in the 2nd cell.\n"
   ]
  },
  {
   "cell_type": "code",
   "execution_count": 6,
   "metadata": {
    "scrolled": true
   },
   "outputs": [],
   "source": [
    "panel_names, all_panels, good_panels, bad_panels, good_grounds, all_grounds = ExtractPanelsGrounds.extract_panels_grounds(alldata, bad_pans, bad_grounds, field_data)"
   ]
  },
  {
   "cell_type": "markdown",
   "metadata": {},
   "source": [
    "### Create dataframes for all/good/bad panel spectra.\n",
    "\n",
    "For the bad panel spectra dataframe, first check to see if bad panels have been defined.<BR>\n",
    "If not, then don't create anything."
   ]
  },
  {
   "cell_type": "code",
   "execution_count": 7,
   "metadata": {},
   "outputs": [],
   "source": [
    "all_panel_spec = MakeSpecDF.make_spec_df(all_panels)\n",
    "good_panel_spec = MakeSpecDF.make_spec_df(good_panels)\n",
    "try:\n",
    "    bad_panel_spec = MakeSpecDF.make_spec_df(bad_panels)\n",
    "except UnboundLocalError:\n",
    "    pass"
   ]
  },
  {
   "cell_type": "markdown",
   "metadata": {},
   "source": [
    "# Figure \n",
    "\n",
    "### Plot panel radiances for all/good/bad panels"
   ]
  },
  {
   "cell_type": "code",
   "execution_count": 8,
   "metadata": {
    "scrolled": false
   },
   "outputs": [
    {
     "data": {
      "image/png": "[encoded data removed]",
      "text/plain": [
       "<Figure size 792x360 with 3 Axes>"
      ]
     },
     "metadata": {},
     "output_type": "display_data"
    }
   ],
   "source": [
    "if field_data[5] == 'Radiance':\n",
    "    try:\n",
    "        FIG_PanelRadiances.FIG_panel_radiances(good_panel_spec, bad_panel_spec, all_panel_spec, output, field_data, fignum)\n",
    "    except NameError:\n",
    "        bad_panel_spec = [0,0]\n",
    "        FIG_PanelRadiances.FIG_panel_radiances(good_panel_spec, bad_panel_spec, all_panel_spec, output, field_data, fignum)\n",
    "\n",
    "fignum += 1"
   ]
  },
  {
   "cell_type": "markdown",
   "metadata": {},
   "source": [
    "# Figure \n",
    "\n",
    "### Diagnosis plots of bad panel spectra"
   ]
  },
  {
   "cell_type": "code",
   "execution_count": 9,
   "metadata": {
    "scrolled": false
   },
   "outputs": [],
   "source": [
    "if field_data[5] == 'Radiance':\n",
    "    good_panel_mean = good_panel_spec.mean(axis=1)\n",
    "\n",
    "    try:\n",
    "        FIG_BadPanelAnalysis.FIG_bad_panel_analysis(good_panel_mean, good_panel_spec, bad_panel_spec, output, field_data, fignum)\n",
    "    except AttributeError:\n",
    "        pass\n",
    "fignum +=1"
   ]
  },
  {
   "cell_type": "markdown",
   "metadata": {},
   "source": [
    "### Create spectral dataframes for all ground spectra and good ground spectra"
   ]
  },
  {
   "cell_type": "code",
   "execution_count": 10,
   "metadata": {},
   "outputs": [],
   "source": [
    "all_grounds_spec = MakeSpecDF.make_spec_df(all_grounds)\n",
    "good_grounds_spec = MakeSpecDF.make_spec_df(good_grounds)"
   ]
  },
  {
   "cell_type": "markdown",
   "metadata": {},
   "source": [
    "# Figure \n",
    "\n",
    "### Plot ground spectra (all and good), normalised to the median good spectrum\n",
    "\n",
    "These plots are used to identify any ground spectra that are bogus."
   ]
  },
  {
   "cell_type": "code",
   "execution_count": 11,
   "metadata": {
    "scrolled": false
   },
   "outputs": [
    {
     "data": {
      "image/png": "[encoded data removed]",
      "text/plain": [
       "<Figure size 691.2x432 with 2 Axes>"
      ]
     },
     "metadata": {},
     "output_type": "display_data"
    }
   ],
   "source": [
    "FIG_GroundSpectra.FIG_ground_spectra(good_grounds_spec, all_grounds_spec, output, field_data, fignum)\n",
    "fignum +=1"
   ]
  },
  {
   "cell_type": "markdown",
   "metadata": {},
   "source": [
    "### Create time-relative dataframes\n",
    "\n",
    "gpt = good panels<BR>\n",
    "gpta = all panels<BR>\n",
    "adt = good grounds<BR>\n",
    "adta = all grounds"
   ]
  },
  {
   "cell_type": "code",
   "execution_count": 12,
   "metadata": {},
   "outputs": [],
   "source": [
    "gpt, gpta, adt, adta = CreateTimeRelativeDF.create_time_relative_dfs(good_panels, all_panels, good_grounds, all_grounds)"
   ]
  },
  {
   "cell_type": "markdown",
   "metadata": {},
   "source": [
    "### Add Solar angle to dataframes\n",
    "\n",
    "Based on the spectrum Latitude, Longitude and time stamp, calculate the angle of<BR>\n",
    "the Sun, with respect to the zenith. Append this number to the \"good_panels\" and<BR>\n",
    "\"good_grounds\" dataframes."
   ]
  },
  {
   "cell_type": "code",
   "execution_count": 13,
   "metadata": {},
   "outputs": [
    {
     "name": "stderr",
     "output_type": "stream",
     "text": [
      "../CalVal/SolarAngle.py:39: SettingWithCopyWarning: \n",
      "A value is trying to be set on a copy of a slice from a DataFrame\n",
      "\n",
      "See the caveats in the documentation: http://pandas.pydata.org/pandas-docs/stable/indexing.html#indexing-view-versus-copy\n",
      "  good_spectra.Solar_angle[good_spectra['date_saved'] == times.iloc[i]] = solzen.iloc[i]\n"
     ]
    }
   ],
   "source": [
    "if field_data[5] == 'Radiance':\n",
    "    good_panels, good_grounds = SolarAngle.solar_angle(good_panels, good_grounds)"
   ]
  },
  {
   "cell_type": "markdown",
   "metadata": {},
   "source": [
    "# Figure \n",
    "\n",
    "### Plot timelines for ALL panel and ground data, with one line in one panel"
   ]
  },
  {
   "cell_type": "code",
   "execution_count": 14,
   "metadata": {
    "scrolled": false
   },
   "outputs": [
    {
     "data": {
      "image/png": "[encoded data removed]",
      "text/plain": [
       "<Figure size 432x288 with 4 Axes>"
      ]
     },
     "metadata": {},
     "output_type": "display_data"
    }
   ],
   "source": [
    "FIG_AllTimelines.FIG_all_timelines(gpta, adta, output, field_data, fignum)\n",
    "fignum += 1"
   ]
  },
  {
   "cell_type": "markdown",
   "metadata": {},
   "source": [
    "# Figure \n",
    "\n",
    "### Plot timelines for GOOD panel and ground data, with one line in one panel"
   ]
  },
  {
   "cell_type": "code",
   "execution_count": 15,
   "metadata": {},
   "outputs": [
    {
     "data": {
      "image/png": "[encoded data removed]",
      "text/plain": [
       "<Figure size 432x288 with 4 Axes>"
      ]
     },
     "metadata": {},
     "output_type": "display_data"
    }
   ],
   "source": [
    "from CalVal.FIG_AllTimelines import panel_plot_layout, multi_timeline_plot\n",
    "\n",
    "FIG_GoodTimelines.FIG_good_timelines(gpta, gpt, adt, panel_plot_layout, multi_timeline_plot, output, field_data, fignum)\n",
    "fignum += 1"
   ]
  },
  {
   "cell_type": "markdown",
   "metadata": {},
   "source": [
    "# Figure \n",
    "\n",
    "### Create timeline plot of averaged all/good panels\n",
    "\n",
    "These plots are used to identify any panels that show unusually bright or dark readings,<BR>\n",
    "    which can be weeded out as bad panels.\n",
    "    \n",
    "The general shape of the curve should follow \"insolation\" - the changing of incident light\n",
    "due to the Sun rising/falling in the sky."
   ]
  },
  {
   "cell_type": "code",
   "execution_count": 16,
   "metadata": {
    "scrolled": true
   },
   "outputs": [
    {
     "data": {
      "image/png": "[encoded data removed]",
      "text/plain": [
       "<Figure size 684x324 with 2 Axes>"
      ]
     },
     "metadata": {},
     "output_type": "display_data"
    }
   ],
   "source": [
    "if field_data[5] == 'Radiance':\n",
    "    gpt, gpta = FIG_NormalisedPanelsTimeline.normalise_spectra(good_panel_mean, good_panel_spec, all_panel_spec, gpt, gpta)\n",
    "\n",
    "    FIG_NormalisedPanelsTimeline.FIG_normalised_panels_timeline(gpt, gpta, output, field_data, fignum)\n",
    "fignum += 1"
   ]
  },
  {
   "cell_type": "markdown",
   "metadata": {},
   "source": [
    "### Fit Insolation Curve\n",
    "\n",
    "Given that the total radiance (insolation, I) should increase with decreasing Solar zenith angle<BR>\n",
    "(ie. as the Sun rises) and that I \\propto cos(Solar zenith angle), we can fit the panel data to a<BR>\n",
    "straight line. The ratio between the fit and the data points can then be used to adjust all panel\n",
    "and ground spectra to account for insolation.<BR><BR>\n",
    "\n",
    "Once the fit has been calculated, the following steps are taken (in subsequent cells):\n",
    "<OL>\n",
    "    <LI>The ratio between the fit and each averaged panel masurement is divided off the panels, so\n",
    "        that they will all fall along the same line.\n",
    "    <LI>For each Line (ie. walked Line in the field), the average panel spectrum is determined, as \n",
    "        well as the average panel Solar angle.\n",
    "    <LI>The \"Solar angle distance\" for each ground spectrum to the averaged panel Solar angle is \n",
    "        used to divide off the insolation fit from the ground spectra. "
   ]
  },
  {
   "cell_type": "code",
   "execution_count": 17,
   "metadata": {
    "scrolled": false
   },
   "outputs": [
    {
     "data": {
      "image/png": "[encoded data removed]",
      "text/plain": [
       "<Figure size 360x360 with 1 Axes>"
      ]
     },
     "metadata": {},
     "output_type": "display_data"
    }
   ],
   "source": [
    "if field_data[5] == 'Radiance':\n",
    "    slope, intercept, coszenith = FIG_InsolationFit.FIG_insolation_fit(gpt, output, field_data, fignum)\n",
    "fignum += 1"
   ]
  },
  {
   "cell_type": "markdown",
   "metadata": {},
   "source": [
    "### Scale good panels to insolation curve\n",
    "\n",
    "Use the fitted insolation curve to determine individual offsets for each panel measurement and then divide<BR>\n",
    "off the differences. This effectively removes any individual variations in the absolute scaling of panel<BR>\n",
    "measurements."
   ]
  },
  {
   "cell_type": "code",
   "execution_count": 18,
   "metadata": {},
   "outputs": [
    {
     "name": "stderr",
     "output_type": "stream",
     "text": [
      "../CalVal/ScalePanels.py:7: SettingWithCopyWarning: \n",
      "A value is trying to be set on a copy of a slice from a DataFrame\n",
      "\n",
      "See the caveats in the documentation: http://pandas.pydata.org/pandas-docs/stable/indexing.html#indexing-view-versus-copy\n",
      "  good_panels.radiance[good_panels['date_saved'] == gpt['date_saved'].iloc[i]]/ratio.iloc[i]\n"
     ]
    }
   ],
   "source": [
    "if field_data[5] == 'Radiance':\n",
    "    good_panels = ScalePanels.scale_panels(slope, intercept, coszenith, gpt, good_panels)"
   ]
  },
  {
   "cell_type": "markdown",
   "metadata": {},
   "source": [
    "### Scale ground spectra to insolation curve\n",
    "\n",
    "For each line, calculate the mean panel spectrum and determine the fit at the according mean Solar zenith angle.<BR>\n",
    "Then determine individual fits for all ground data within the line and apply the ratio of the panel mean fit to<BR>\n",
    "ground fit to the good_grounds dataframe."
   ]
  },
  {
   "cell_type": "code",
   "execution_count": 19,
   "metadata": {
    "scrolled": true
   },
   "outputs": [],
   "source": [
    "if field_data[5] == 'Radiance':\n",
    "    good_grounds = ScaleGrounds.scale_grounds(good_panels, good_grounds, slope, intercept)"
   ]
  },
  {
   "cell_type": "markdown",
   "metadata": {},
   "source": [
    "### Define the K-factor\n",
    "\n",
    "This reads a standard file with a response curve for the detector, given an ideally white surface.<BR>\n",
    "Then \"k_f\" is defined for the K-factor."
   ]
  },
  {
   "cell_type": "code",
   "execution_count": 20,
   "metadata": {},
   "outputs": [],
   "source": [
    "if field_data[5] == 'Radiance':\n",
    "    k_f = KFactor.k_factor(panel_dir, in_panel)"
   ]
  },
  {
   "cell_type": "markdown",
   "metadata": {},
   "source": [
    "### Re-Make Spectral Dataframes\n",
    "\n",
    "After re-scaling of both good_panels and good_grounds, recreate the good_panel_spec and<BR>\n",
    "good_grounds_spec dataframes"
   ]
  },
  {
   "cell_type": "code",
   "execution_count": 21,
   "metadata": {},
   "outputs": [],
   "source": [
    "if field_data[5] == 'Radiance':\n",
    "    good_panel_spec = MakeSpecDF.make_spec_df(good_panels)\n",
    "    good_grounds_spec = MakeSpecDF.make_spec_df(good_grounds)"
   ]
  },
  {
   "cell_type": "markdown",
   "metadata": {},
   "source": [
    "### Rename the first spectrum in ALL/GOOD panels to the correct name\n",
    "\n",
    "Rather than just \"radiance\", it will be named something like radiance1-0<BR>\n",
    "for the zeroth spectrum in the first line, for example.    "
   ]
  },
  {
   "cell_type": "code",
   "execution_count": 22,
   "metadata": {},
   "outputs": [],
   "source": [
    "if field_data[5] == 'Radiance':\n",
    "    SpecRename.spec_rename(good_panel_spec, good_grounds_spec, firstGoodLine, firstGoodPanelSpec, firstGoodGroundSpec)"
   ]
  },
  {
   "cell_type": "markdown",
   "metadata": {},
   "source": [
    "### Create dataframe with Reflectances"
   ]
  },
  {
   "cell_type": "code",
   "execution_count": 23,
   "metadata": {
    "scrolled": true
   },
   "outputs": [],
   "source": [
    "if field_data[5] == 'Radiance':\n",
    "    all_refls = CreateReflectances.create_reflectances(good_panels, good_panel_spec, good_grounds_spec, k_f)"
   ]
  },
  {
   "cell_type": "markdown",
   "metadata": {},
   "source": [
    "### Test for reflectances\n",
    "Test field_data to see if the data were saved as reflectances. If so, bypass all the panelling workflow."
   ]
  },
  {
   "cell_type": "code",
   "execution_count": 24,
   "metadata": {},
   "outputs": [],
   "source": [
    "if field_data[5] == 'Reflectance':\n",
    "    all_refls = good_grounds_spec"
   ]
  },
  {
   "cell_type": "markdown",
   "metadata": {},
   "source": [
    "# Figure \n",
    "\n",
    "### Plot all ground reflectances in black, plus the Line-averaged reflectances in colour\n",
    "\n",
    "The Line-averaged reflectances are shown in order to identify any outlying lines that<BR>\n",
    "\n",
    "might have been caused by bad panel spectra (for example)."
   ]
  },
  {
   "cell_type": "code",
   "execution_count": 25,
   "metadata": {},
   "outputs": [
    {
     "data": {
      "image/png": "[encoded data removed]",
      "text/plain": [
       "<Figure size 972x396 with 2 Axes>"
      ]
     },
     "metadata": {},
     "output_type": "display_data"
    }
   ],
   "source": [
    "FIG_Reflectances.FIG_reflectances(good_panels, all_refls, colpac, output, field_data, fignum)\n",
    "fignum += 1"
   ]
  },
  {
   "cell_type": "markdown",
   "metadata": {},
   "source": [
    "### Apply weighted band responses to all reflectances"
   ]
  },
  {
   "cell_type": "code",
   "execution_count": 26,
   "metadata": {
    "scrolled": true
   },
   "outputs": [],
   "source": [
    "result_df, band = ApplyWeights.apply_weights(f_name, all_refls)"
   ]
  },
  {
   "cell_type": "markdown",
   "metadata": {},
   "source": [
    "### Reformat band reflectances and apply to dataframe \"ground_bands\""
   ]
  },
  {
   "cell_type": "code",
   "execution_count": 27,
   "metadata": {},
   "outputs": [],
   "source": [
    "ground_bands = ReformatDF.reformat_df(good_grounds, result_df)"
   ]
  },
  {
   "cell_type": "markdown",
   "metadata": {},
   "source": [
    "# Figure \n",
    "\n",
    "### Plot band reflectances"
   ]
  },
  {
   "cell_type": "code",
   "execution_count": 28,
   "metadata": {
    "scrolled": false
   },
   "outputs": [
    {
     "data": {
      "image/png": "[encoded data removed]",
      "text/plain": [
       "<Figure size 828x468 with 2 Axes>"
      ]
     },
     "metadata": {},
     "output_type": "display_data"
    }
   ],
   "source": [
    "FIG_BandReflectances.FIG_band_reflectances(ground_bands, result_df, band, colpac, output, field_data, fignum)\n",
    "fignum += 1"
   ]
  },
  {
   "cell_type": "code",
   "execution_count": 29,
   "metadata": {},
   "outputs": [
    {
     "data": {
      "image/png": "[encoded data removed]",
      "text/plain": [
       "<Figure size 540x216 with 2 Axes>"
      ]
     },
     "metadata": {},
     "output_type": "display_data"
    }
   ],
   "source": [
    "FIG_ReflectancesBand.FIG_reflectances_band(ground_bands, result_df, band, good_panels, all_refls, colpac, output, field_data, fignum)\n",
    "fignum += 1"
   ]
  },
  {
   "cell_type": "markdown",
   "metadata": {},
   "source": [
    "# Figure\n",
    "\n",
    "### Histogram of all good spectra, plotted band-by-band\n",
    "\n",
    "This can be used to identify outlying ground spectra that can be added to bad_grounds in the second cell."
   ]
  },
  {
   "cell_type": "code",
   "execution_count": 30,
   "metadata": {
    "scrolled": false
   },
   "outputs": [
    {
     "name": "stderr",
     "output_type": "stream",
     "text": [
      "/g/data/v10/public/modules/dea-env/20180728/lib/python3.6/site-packages/ipykernel_launcher.py:1: UserWarning: To output multiple subplots, the figure containing the passed axes is being cleared\n",
      "  \"\"\"Entry point for launching an IPython kernel.\n"
     ]
    },
    {
     "data": {
      "text/plain": [
       "<Figure size 432x288 with 0 Axes>"
      ]
     },
     "metadata": {},
     "output_type": "display_data"
    },
    {
     "data": {
      "image/png": "[encoded data removed]",
      "text/plain": [
       "<Figure size 684x684 with 12 Axes>"
      ]
     },
     "metadata": {},
     "output_type": "display_data"
    }
   ],
   "source": [
    "FIG_SpecHistogram.FIG_spec_histogram(ground_bands, output, field_data, fignum)\n",
    "fignum += 1"
   ]
  },
  {
   "cell_type": "markdown",
   "metadata": {},
   "source": [
    "### Outlying ground spectra\n",
    "\n",
    "Display the spectra with maximum and minimum values. These can be compared to the histograms above<BR>\n",
    "    to identify any outlying spectra that need to be identified as bad ground spectra."
   ]
  },
  {
   "cell_type": "code",
   "execution_count": 31,
   "metadata": {},
   "outputs": [
    {
     "name": "stdout",
     "output_type": "stream",
     "text": [
      "Maximum value found in: 20180527_WintonCal00139.asd.rad \n",
      " band1     0.199026\n",
      "band2     0.243212\n",
      "band3     0.351053\n",
      "band4     0.513127\n",
      "band5     0.549340\n",
      "band6     0.575710\n",
      "band7     0.581998\n",
      "band8     0.580326\n",
      "band8a    0.579751\n",
      "band11    0.712880\n",
      "band12    0.616569\n",
      "Name: 79, dtype: float64 \n",
      "Minimum value found in: 20180527_WintonCal00325.asd.rad \n",
      " band1     0.129052\n",
      "band2     0.162692\n",
      "band3     0.249777\n",
      "band4     0.386700\n",
      "band5     0.412053\n",
      "band6     0.430534\n",
      "band7     0.433766\n",
      "band8     0.428480\n",
      "band8a    0.425361\n",
      "band11    0.574021\n",
      "band12    0.514127\n",
      "Name: 195, dtype: float64\n"
     ]
    }
   ],
   "source": [
    "maxfile = ground_bands['filename'][(ground_bands['band1'] == ground_bands['band1'].max())]\n",
    "maxbands = ground_bands.filter(like='band')[(ground_bands['band1'] == ground_bands['band1'].max())]\n",
    "minfile = ground_bands['filename'][(ground_bands['band1'] == ground_bands['band1'].min())]\n",
    "minbands = ground_bands.filter(like='band')[(ground_bands['band1'] == ground_bands['band1'].min())]\n",
    "\n",
    "print(\"Maximum value found in:\", maxfile.iloc[0], '\\n', maxbands.iloc[0], '\\nMinimum value found in:', minfile.iloc[0], '\\n', minbands.iloc[0])\n",
    "#print(ground_bands['filename'][(ground_bands['band1'] == ground_bands['band1'].max())], '\\n',ground_bands.filter(like='band')[(ground_bands['band1'] == ground_bands['band1'].max())])\n",
    "#print(ground_bands['filename'][(ground_bands['band1'] == ground_bands['band1'].min())], '\\n',ground_bands.filter(like='band')[(ground_bands['band1'] == ground_bands['band1'].min())])\n"
   ]
  },
  {
   "cell_type": "markdown",
   "metadata": {},
   "source": [
    "### Determine Solar angle\n",
    "\n",
    "Based on the spectrum Latitude, Longitude and time stamp, calculate the angle of<BR>\n",
    "the Sun, with respect to the zenith. Append this number to the \"ground_bands\" dataframe."
   ]
  },
  {
   "cell_type": "code",
   "execution_count": 32,
   "metadata": {
    "scrolled": true
   },
   "outputs": [],
   "source": [
    "from CalVal.SolarAngle import solang\n",
    "ground_bands['Solar_angle'] = ground_bands.apply(solang, axis=1)"
   ]
  },
  {
   "cell_type": "markdown",
   "metadata": {},
   "source": [
    "### BRDF Calculation\n",
    "\n",
    "The following script is adapted from FORTRAN code that will calculate the adjusted ASD measurement to 45$^\\circ$. This is derived from \"MODIS BRDF / Albedo Product: Algorithm Theoretical basis Docuement Version 5.0\" by Strahler et al. (1999).\n",
    "\n",
    "What follows is a key to the variables used in this code, compared to the variables and equations in the document:\n",
    "\n",
    "hb and br = h/b and b/r . . . . . . . . . . . . . . . crown shape parameters, respectively.<BR>\n",
    "RL_brdf = R($\\theta, \\vartheta, \\phi, \\Lambda$). . . . . . . . . . . . . . (37)<BR>\n",
    "solar = $\\theta$ . . . . . . . . . . . . . . . . . . . . . . . . . . solar zenith angle<BR>\n",
    "view = $\\xi$ . . . . . . . . . . . . . . . . . . . . . . . . . . .view zenith angle<BR>\n",
    "ra = $\\phi$ . . . . . . . . . . . . . . . . . . . . . . . . . . . . view-sun relative azimuth angle<BR>\n",
    "cosxi = cos $\\xi^\\prime$ . . . . . . . . . . . . . . . . . . . . . . (43)<BR>\n",
    "rs_thick = K$_{vol}$ = RossThick kernel . . . . . . (38)<BR>\n",
    "d_li2 = D$^2$ . . . . . . . . . . . . . . . . . . . . . . . . . (42)<BR>\n",
    "x_li = tan$\\theta^\\prime$ tan$\\vartheta^\\prime$ sin$\\phi$ . . . . . . . . . . . . . . .(41) (part of)<BR>\n",
    "cosl = cos $t$ . . . . . . . . . . . . . . . . . . . . . . . . (41)<BR>\n",
    "l_li = $t$ . . . . . . . . . . . . . . . . . . . . . . . . . . . . .constrained such that $-1 \\leq t \\leq 1$<BR>\n",
    "o_li = O($\\theta, \\vartheta, \\phi$) . . . . . . . . . . . . . . . . . . . .(40)<BR>\n",
    "li_sparse = K$_{geo}$ . . . . . . . . . . . . . . . . . . . . (39)<BR><BR><BR>\n",
    "\n",
    "Equations used for the Ross-Li BRDF model:\n",
    "\n",
    "R($\\theta, \\vartheta, \\phi, \\Lambda$) = $f_{iso}(\\Lambda) + f_{vol}(\\Lambda)\\,K_{vol}(\\theta, \\vartheta, \\phi) + f_{geo}(\\Lambda)\\,K_{geo}(\\theta, \\vartheta, \\phi)$ . . . . . . . . (37)\n",
    "\n",
    "$K_{vol} = k_{RT} = \\frac{(\\pi/2 - \\xi)\\rm{cos}\\,\\xi + \\rm{sin}\\,\\xi}{\\rm{cos}\\,\\theta + \\rm{cos}\\,\\vartheta} - \\frac{\\pi}{4}$ . . . . . . . . . . . . . . . . . . . . . . . . . . . . . . . . . . . . . . (38)\n",
    "    \n",
    "$K_{geo} = k_{LSR} = O(\\theta, \\vartheta, \\phi) - {\\rm sec}\\,\\theta^\\prime - {\\rm sec}\\,\\vartheta^\\prime + \\frac{1}{2} (1 + \\rm{cos}\\,\\xi^\\prime)\\, \\rm{sec}\\,\\theta^\\prime \\rm{sec}\\,\\vartheta^\\prime$ . . . (39)\n",
    "\n",
    "$O = \\frac{1}{\\pi}(t - \\rm{sin}\\,t\\,\\,\\rm{cos}\\,t)(\\rm{sec}\\,\\theta^\\prime + \\rm{sec}\\,\\vartheta^\\prime)$ . . . . . . . . . . . . . . . . . . . . . . . . . . . . . . . . . . (40)\n",
    "\n",
    "$\\rm{cos}\\,t = \\frac{h}{b}\\frac{\\sqrt{D^2 + (\\rm{tan}\\,\\theta^\\prime\\,\\,\\rm{tan}\\,\\vartheta^\\prime\\,\\,\\rm{sin}\\,\\phi)^2}}{\\rm{sec}\\,\\theta^\\prime + \\rm{sec}\\,\\vartheta^\\prime}$ . . . . . . . . . . . . . . . . . . . . . . . . . . . . . . . . . . . . . . . . (41)\n",
    "\n",
    "$D = \\sqrt{\\rm{tan}^2\\,\\theta^\\prime + \\rm{tan}^2\\,\\vartheta^\\prime - 2\\,\\rm{tan}\\,\\theta^\\prime\\,\\rm{tan}\\,\\vartheta^\\prime\\,\\rm{cos}\\,\\phi}$ . . . . . . . . . . . . . . . . . . . . . . . . . . (42)\n",
    "\n",
    "$\\rm{cos}\\,\\xi^\\prime = \\rm{cos}\\,\\theta^\\prime\\,\\rm{cos}\\,\\vartheta^\\prime + \\rm{sin}\\,\\theta^\\prime\\,\\rm{sin}\\,\\vartheta^\\prime\\,\\rm{cos}\\,\\phi$ . . . . . . . . . . . . . . . . . . . . . . . . . . . . . . .(43)\n",
    "\n",
    "$\\theta^\\prime = \\rm{tan}^{-1}(\\frac{b}{r}\\rm{tan}\\,\\theta)\\,\\vartheta^\\prime = \\rm{tan}^{-1}(\\frac{b}{r}\\rm{tan}\\,\\vartheta)$ . . . . . . . . . . . . . . . . . . . . . . . . . . . . . . . . . .(44)"
   ]
  },
  {
   "cell_type": "code",
   "execution_count": 33,
   "metadata": {
    "scrolled": false
   },
   "outputs": [],
   "source": [
    "ground_brdf, hb, br = BRDF.ReadAndCalc(brdf_data, ground_bands, field_data)"
   ]
  },
  {
   "cell_type": "markdown",
   "metadata": {},
   "source": [
    "### Choose bands for Landsat 8 and Sentinel satellite data"
   ]
  },
  {
   "cell_type": "code",
   "execution_count": 34,
   "metadata": {},
   "outputs": [],
   "source": [
    "from CalVal.ApplyWeights import get_spectrum_curve\n",
    "\n",
    "band_nn = get_spectrum_curve(f_name)\n",
    "senti_bands = [1,2,3,4,5,6,7,8,'8a',11,12]\n",
    "ls8_bands = [1,2,3,4,5,6,7]\n",
    "\n",
    "if field_data[3] == 'Landsat8':\n",
    "    band_min = [band_nn['band'+str(i)][:, 0].min() for i in ls8_bands]\n",
    "    band_max = [band_nn['band'+str(i)][:, 0].max() for i in ls8_bands]\n",
    "\n",
    "elif field_data[3] == 'Sentinel2a' or field_data[3] == 'Sentinel2b':\n",
    "    band_min = [band_nn['band'+str(i)][:, 0].min() for i in senti_bands]\n",
    "    band_max = [band_nn['band'+str(i)][:, 0].max() for i in senti_bands]\n",
    "\n",
    "else:\n",
    "    print('Satellite name should be one of Landsat8 or Sentinel. I got', field_data[3])"
   ]
  },
  {
   "cell_type": "markdown",
   "metadata": {},
   "source": [
    "# Figure \n",
    "\n",
    "### Plot satellite band extents against median ground spectrum\n",
    "\n",
    "This plot will show where the satellite bands fall, with respect to the spectrum<BR>\n",
    "and in particular, with respect to the atmospheric absorbtion features."
   ]
  },
  {
   "cell_type": "code",
   "execution_count": 35,
   "metadata": {},
   "outputs": [
    {
     "data": {
      "image/png": "[encoded data removed]",
      "text/plain": [
       "<Figure size 684x468 with 1 Axes>"
      ]
     },
     "metadata": {},
     "output_type": "display_data"
    }
   ],
   "source": [
    "FIG_BandExtents.FIG_band_extents(all_refls, band_min, band_max, output, field_data, fignum)\n",
    "fignum += 1"
   ]
  },
  {
   "cell_type": "markdown",
   "metadata": {},
   "source": [
    "### Fudge GPS locations if none exist"
   ]
  },
  {
   "cell_type": "code",
   "execution_count": 36,
   "metadata": {
    "scrolled": false
   },
   "outputs": [
    {
     "name": "stdout",
     "output_type": "stream",
     "text": [
      "No good GPS Coordinates found, fudging...\n"
     ]
    }
   ],
   "source": [
    "ground_brdf = FudgeGPS.fudge_gps(ground_brdf, Corners, RockWalk, StartCorner)"
   ]
  },
  {
   "cell_type": "markdown",
   "metadata": {},
   "source": [
    "### Query Satellite data\n",
    "\n",
    "Retrieve xarrays for satellite data, based on which satellite, query area and time.<BR>\n",
    "sat_array will contain all band data<BR>\n",
    "sat_bigarray will be a larger version of sat_array, which can be used for context plotting."
   ]
  },
  {
   "cell_type": "code",
   "execution_count": 37,
   "metadata": {},
   "outputs": [
    {
     "ename": "ValueError",
     "evalue": "dimensions ['time'] do not exist",
     "output_type": "error",
     "traceback": [
      "\u001b[0;31m---------------------------------------------------------------------------\u001b[0m",
      "\u001b[0;31mValueError\u001b[0m                                Traceback (most recent call last)",
      "\u001b[0;32m<ipython-input-37-eb107d6c8f67>\u001b[0m in \u001b[0;36m<module>\u001b[0;34m()\u001b[0m\n\u001b[1;32m      1\u001b[0m \u001b[0mdc\u001b[0m\u001b[0;34m,\u001b[0m \u001b[0mquery\u001b[0m\u001b[0;34m,\u001b[0m \u001b[0mquery2\u001b[0m \u001b[0;34m=\u001b[0m \u001b[0mQuery\u001b[0m\u001b[0;34m.\u001b[0m\u001b[0mmake_query\u001b[0m\u001b[0;34m(\u001b[0m\u001b[0mground_brdf\u001b[0m\u001b[0;34m,\u001b[0m \u001b[0mfield_data\u001b[0m\u001b[0;34m)\u001b[0m\u001b[0;34m\u001b[0m\u001b[0m\n\u001b[1;32m      2\u001b[0m \u001b[0;34m\u001b[0m\u001b[0m\n\u001b[0;32m----> 3\u001b[0;31m \u001b[0msat_array\u001b[0m\u001b[0;34m,\u001b[0m \u001b[0msat_bigarray\u001b[0m \u001b[0;34m=\u001b[0m \u001b[0mCreateSatArrays\u001b[0m\u001b[0;34m.\u001b[0m\u001b[0mcreate_sat_arrays\u001b[0m\u001b[0;34m(\u001b[0m\u001b[0mdc\u001b[0m\u001b[0;34m,\u001b[0m \u001b[0mquery\u001b[0m\u001b[0;34m,\u001b[0m \u001b[0mquery2\u001b[0m\u001b[0;34m,\u001b[0m \u001b[0mfield_data\u001b[0m\u001b[0;34m)\u001b[0m\u001b[0;34m\u001b[0m\u001b[0m\n\u001b[0m",
      "\u001b[0;32m/g/data1a/u46/users/aw3463/GuyByrne/calval/CalVal/CreateSatArrays.py\u001b[0m in \u001b[0;36mcreate_sat_arrays\u001b[0;34m(dc, query, query2, field_data)\u001b[0m\n\u001b[1;32m     26\u001b[0m         \u001b[0mprint\u001b[0m\u001b[0;34m(\u001b[0m\u001b[0;34m'Satellite must be one of Landsat8 or Sentinel2a/b. Got'\u001b[0m\u001b[0;34m,\u001b[0m \u001b[0mfield_data\u001b[0m\u001b[0;34m[\u001b[0m\u001b[0;36m3\u001b[0m\u001b[0;34m]\u001b[0m\u001b[0;34m)\u001b[0m\u001b[0;34m\u001b[0m\u001b[0m\n\u001b[1;32m     27\u001b[0m \u001b[0;34m\u001b[0m\u001b[0m\n\u001b[0;32m---> 28\u001b[0;31m     \u001b[0msat_array\u001b[0m \u001b[0;34m=\u001b[0m \u001b[0msat_array\u001b[0m\u001b[0;34m.\u001b[0m\u001b[0misel\u001b[0m\u001b[0;34m(\u001b[0m\u001b[0mtime\u001b[0m\u001b[0;34m=\u001b[0m\u001b[0;34m[\u001b[0m\u001b[0;36m0\u001b[0m\u001b[0;34m]\u001b[0m\u001b[0;34m)\u001b[0m\u001b[0;34m\u001b[0m\u001b[0m\n\u001b[0m\u001b[1;32m     29\u001b[0m     \u001b[0msat_bigarray\u001b[0m \u001b[0;34m=\u001b[0m \u001b[0msat_bigarray\u001b[0m\u001b[0;34m.\u001b[0m\u001b[0misel\u001b[0m\u001b[0;34m(\u001b[0m\u001b[0mtime\u001b[0m\u001b[0;34m=\u001b[0m\u001b[0;34m[\u001b[0m\u001b[0;36m0\u001b[0m\u001b[0;34m]\u001b[0m\u001b[0;34m)\u001b[0m\u001b[0;34m\u001b[0m\u001b[0m\n\u001b[1;32m     30\u001b[0m \u001b[0;34m\u001b[0m\u001b[0m\n",
      "\u001b[0;32m/g/data/v10/public/modules/dea-env/20180728/lib/python3.6/site-packages/xarray/core/dataset.py\u001b[0m in \u001b[0;36misel\u001b[0;34m(self, indexers, drop, **indexers_kwargs)\u001b[0m\n\u001b[1;32m   1420\u001b[0m         \u001b[0mindexers\u001b[0m \u001b[0;34m=\u001b[0m \u001b[0meither_dict_or_kwargs\u001b[0m\u001b[0;34m(\u001b[0m\u001b[0mindexers\u001b[0m\u001b[0;34m,\u001b[0m \u001b[0mindexers_kwargs\u001b[0m\u001b[0;34m,\u001b[0m \u001b[0;34m'isel'\u001b[0m\u001b[0;34m)\u001b[0m\u001b[0;34m\u001b[0m\u001b[0m\n\u001b[1;32m   1421\u001b[0m \u001b[0;34m\u001b[0m\u001b[0m\n\u001b[0;32m-> 1422\u001b[0;31m         \u001b[0mindexers_list\u001b[0m \u001b[0;34m=\u001b[0m \u001b[0mself\u001b[0m\u001b[0;34m.\u001b[0m\u001b[0m_validate_indexers\u001b[0m\u001b[0;34m(\u001b[0m\u001b[0mindexers\u001b[0m\u001b[0;34m)\u001b[0m\u001b[0;34m\u001b[0m\u001b[0m\n\u001b[0m\u001b[1;32m   1423\u001b[0m \u001b[0;34m\u001b[0m\u001b[0m\n\u001b[1;32m   1424\u001b[0m         \u001b[0mvariables\u001b[0m \u001b[0;34m=\u001b[0m \u001b[0mOrderedDict\u001b[0m\u001b[0;34m(\u001b[0m\u001b[0;34m)\u001b[0m\u001b[0;34m\u001b[0m\u001b[0m\n",
      "\u001b[0;32m/g/data/v10/public/modules/dea-env/20180728/lib/python3.6/site-packages/xarray/core/dataset.py\u001b[0m in \u001b[0;36m_validate_indexers\u001b[0;34m(self, indexers)\u001b[0m\n\u001b[1;32m   1314\u001b[0m         \u001b[0minvalid\u001b[0m \u001b[0;34m=\u001b[0m \u001b[0;34m[\u001b[0m\u001b[0mk\u001b[0m \u001b[0;32mfor\u001b[0m \u001b[0mk\u001b[0m \u001b[0;32min\u001b[0m \u001b[0mindexers\u001b[0m \u001b[0;32mif\u001b[0m \u001b[0mk\u001b[0m \u001b[0;32mnot\u001b[0m \u001b[0;32min\u001b[0m \u001b[0mself\u001b[0m\u001b[0;34m.\u001b[0m\u001b[0mdims\u001b[0m\u001b[0;34m]\u001b[0m\u001b[0;34m\u001b[0m\u001b[0m\n\u001b[1;32m   1315\u001b[0m         \u001b[0;32mif\u001b[0m \u001b[0minvalid\u001b[0m\u001b[0;34m:\u001b[0m\u001b[0;34m\u001b[0m\u001b[0m\n\u001b[0;32m-> 1316\u001b[0;31m             \u001b[0;32mraise\u001b[0m \u001b[0mValueError\u001b[0m\u001b[0;34m(\u001b[0m\u001b[0;34m\"dimensions %r do not exist\"\u001b[0m \u001b[0;34m%\u001b[0m \u001b[0minvalid\u001b[0m\u001b[0;34m)\u001b[0m\u001b[0;34m\u001b[0m\u001b[0m\n\u001b[0m\u001b[1;32m   1317\u001b[0m \u001b[0;34m\u001b[0m\u001b[0m\n\u001b[1;32m   1318\u001b[0m         \u001b[0;31m# all indexers should be int, slice, np.ndarrays, or Variable\u001b[0m\u001b[0;34m\u001b[0m\u001b[0;34m\u001b[0m\u001b[0m\n",
      "\u001b[0;31mValueError\u001b[0m: dimensions ['time'] do not exist"
     ]
    }
   ],
   "source": [
    "dc, query, query2 = Query.make_query(ground_brdf, field_data)\n",
    "\n",
    "sat_array, sat_bigarray = CreateSatArrays.create_sat_arrays(dc, query, query2, field_data)"
   ]
  },
  {
   "cell_type": "markdown",
   "metadata": {},
   "source": [
    "# Figure \n",
    "\n",
    "### Plot relative locations of field and satellite data"
   ]
  },
  {
   "cell_type": "code",
   "execution_count": null,
   "metadata": {
    "scrolled": false
   },
   "outputs": [],
   "source": [
    "xloc = FIG_SatFieldLocations.FIG_sat_field_locations(ground_brdf, sat_array, colpac, output, field_data, fignum)\n",
    "fignum +=1"
   ]
  },
  {
   "cell_type": "markdown",
   "metadata": {},
   "source": [
    "### Create Field full band xarray\n",
    "\n",
    "The field xarray is based on the pixel locations of the satellite data, where each pixel<BR>\n",
    "    contains an average of all field data measurements that fall within the pixel."
   ]
  },
  {
   "cell_type": "code",
   "execution_count": null,
   "metadata": {},
   "outputs": [],
   "source": [
    "field_array = CreateFieldFromSat.create_field_from_sat(sat_array, ground_brdf, xloc, field_data)"
   ]
  },
  {
   "cell_type": "markdown",
   "metadata": {},
   "source": [
    "# Figure \n",
    "\n",
    "### Plot large-area context RGB array for Satellite data"
   ]
  },
  {
   "cell_type": "code",
   "execution_count": null,
   "metadata": {
    "scrolled": false
   },
   "outputs": [],
   "source": [
    "FIG_SatBigRGB.FIG_sat_bigRGB(sat_array, sat_bigarray, output, field_data, fignum)\n",
    "fignum += 1"
   ]
  },
  {
   "cell_type": "markdown",
   "metadata": {},
   "source": [
    "# Figure \n",
    "\n",
    "### Plot RGB array for Satellite data"
   ]
  },
  {
   "cell_type": "code",
   "execution_count": null,
   "metadata": {},
   "outputs": [],
   "source": [
    "FIG_SatRGB.FIG_sat_RGB(sat_array, output, field_data, fignum)\n",
    "fignum += 1"
   ]
  },
  {
   "cell_type": "markdown",
   "metadata": {},
   "source": [
    "# Figure \n",
    "\n",
    "### Plot RGB array for Field data"
   ]
  },
  {
   "cell_type": "code",
   "execution_count": null,
   "metadata": {},
   "outputs": [],
   "source": [
    "FIG_FieldRGB.FIG_field_RGB(field_array, output, field_data, fignum)\n",
    "fignum += 1"
   ]
  },
  {
   "cell_type": "markdown",
   "metadata": {},
   "source": [
    "## Figure\n",
    "### Variance of satellite data\n",
    "\n",
    "Band-by-band plots of the ratio of satellite data, divided by the mean, for each band are shown.\n",
    "The title also lists the min, max and mean variance. Variance is defined as the ratio of the standard\n",
    "deviation divided by the mean, for each band. The mean variance should typically be less than 5%."
   ]
  },
  {
   "cell_type": "code",
   "execution_count": null,
   "metadata": {
    "scrolled": false
   },
   "outputs": [],
   "source": [
    "variance = FIG_SatBands.FIG_sat_bands(sat_array, field_array, output, field_data, fignum)\n",
    "fignum += 1"
   ]
  },
  {
   "cell_type": "markdown",
   "metadata": {},
   "source": [
    "# Figure\n",
    "\n",
    "### Plot ratio arrays for each band\n",
    "\n",
    "Each panel shows the ratio of satellite/field data."
   ]
  },
  {
   "cell_type": "code",
   "execution_count": null,
   "metadata": {},
   "outputs": [],
   "source": [
    "FIG_RatioArrays.FIG_ratio_arrays(sat_array, field_array, output, field_data, fignum)\n",
    "fignum += 1"
   ]
  },
  {
   "cell_type": "markdown",
   "metadata": {},
   "source": [
    "### Create a statistics dataframe, comparing satellite and field data"
   ]
  },
  {
   "cell_type": "code",
   "execution_count": null,
   "metadata": {
    "scrolled": true
   },
   "outputs": [],
   "source": [
    "fstat_df = CreateStats.create_stats(sat_array, ground_brdf, field_data)"
   ]
  },
  {
   "cell_type": "markdown",
   "metadata": {},
   "source": [
    "## Create a statistics dataframe, comparing satellite and field data,\n",
    "for only those satellite pixels which overlap with at least one field data position."
   ]
  },
  {
   "cell_type": "code",
   "execution_count": null,
   "metadata": {},
   "outputs": [],
   "source": [
    "finner_df = CreateSubStats.create_SUB_stats(sat_array, field_array, ground_brdf, fstat_df, field_data)"
   ]
  },
  {
   "cell_type": "markdown",
   "metadata": {},
   "source": [
    "# Figure\n",
    "\n",
    "### Plot comparison spectra of satellite and field data, on a pixel-by-pixel basis\n",
    "\n",
    "Error bars are shown for the satellite and field data, based on the standard deviation of the pixels\n",
    "within the field. The black line shows the satellite data, which has been averaged over all pixels that satisfy the Datacube query ie. all pixels shown in Figure 11. The orange line shows satellite data which has been averaged over only those pixels that overlap with at least one field measurement."
   ]
  },
  {
   "cell_type": "code",
   "execution_count": null,
   "metadata": {
    "scrolled": false
   },
   "outputs": [],
   "source": [
    "FIG_SubSatFieldBands.FIG_SUB_sat_field_bands(sat_array, fstat_df, finner_df, output, field_data, fignum)\n",
    "fignum += 1"
   ]
  },
  {
   "cell_type": "code",
   "execution_count": null,
   "metadata": {
    "scrolled": true
   },
   "outputs": [],
   "source": [
    "FIG_SatFieldBands.FIG_sat_field_bands(sat_array, fstat_df, finner_df, output, field_data, fignum)\n",
    "fignum += 1"
   ]
  },
  {
   "cell_type": "markdown",
   "metadata": {},
   "source": [
    "# Figure\n",
    "\n",
    "### Comparison plot of Field and satellite data\n",
    "\n",
    "Plot shows a pixel-by-pixel comparison of all pixels where field data exists.<BR> \n",
    "Different band data are shown in different colours and different symbols."
   ]
  },
  {
   "cell_type": "code",
   "execution_count": null,
   "metadata": {
    "scrolled": false
   },
   "outputs": [],
   "source": [
    "FIG_SatFieldScatterCompare.FIG_sat_field_scatter_compare(sat_array, field_array, plot_scale, output, field_data, fignum)\n",
    "fignum += 1"
   ]
  },
  {
   "cell_type": "code",
   "execution_count": null,
   "metadata": {
    "scrolled": false
   },
   "outputs": [],
   "source": [
    "FIG_SatFieldAvgScatterCompare.FIG_sat_field_avg_scatter_compare(sat_array, field_array, plot_scale, fstat_df, output, field_data, fignum)\n",
    "fignum += 1"
   ]
  },
  {
   "cell_type": "markdown",
   "metadata": {},
   "source": [
    "## Print out summary data sheet"
   ]
  },
  {
   "cell_type": "code",
   "execution_count": null,
   "metadata": {},
   "outputs": [],
   "source": [
    "PrintSheet.print_sheet(ground_brdf, sat_array, fstat_df, indir, output, field_data, Corners, RockWalk, StartCorner, variance, query, dc)"
   ]
  },
  {
   "cell_type": "code",
   "execution_count": null,
   "metadata": {},
   "outputs": [],
   "source": [
    "fstat_df.to_csv('../CSV/'+field_data[0]+'_'+field_data[1]+'_'+field_data[2]+'_'+field_data[3]+'.csv')"
   ]
  },
  {
   "cell_type": "markdown",
   "metadata": {},
   "source": [
    "## How long did this notebook take to run?"
   ]
  },
  {
   "cell_type": "code",
   "execution_count": null,
   "metadata": {
    "scrolled": true
   },
   "outputs": [],
   "source": [
    "import datetime\n",
    "print(\"This Notebook took \", str(datetime.timedelta(seconds=int((time.time() - start_time)))), \"(h:m:s) to run\")"
   ]
  },
  {
   "cell_type": "code",
   "execution_count": null,
   "metadata": {},
   "outputs": [],
   "source": []
  }
 ],
 "metadata": {
  "kernelspec": {
   "display_name": "Python 3",
   "language": "python",
   "name": "python3"
  },
  "language_info": {
   "codemirror_mode": {
    "name": "ipython",
    "version": 3
   },
   "file_extension": ".py",
   "mimetype": "text/x-python",
   "name": "python",
   "nbconvert_exporter": "python",
   "pygments_lexer": "ipython3",
   "version": "3.6.6"
  }
 },
 "nbformat": 4,
 "nbformat_minor": 2
}
