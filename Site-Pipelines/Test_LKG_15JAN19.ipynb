{
 "cells": [
  {
   "cell_type": "markdown",
   "metadata": {},
   "source": [
    "# Workflow for processing test data from LKG 15JAN19 (S2a)"
   ]
  },
  {
   "cell_type": "code",
   "execution_count": 1,
   "metadata": {},
   "outputs": [],
   "source": [
    "import time\n",
    "start_time = time.time()\n",
    "\n",
    "import numpy as np\n",
    "import pandas as pd\n",
    "\n",
    "#\n",
    "# Set up input and output directories\n",
    "#\n",
    "indir = '/g/data1a/u46/users/aw3463/GuyByrne/30APR18/Lake_George/15JAN19/misc/'\n",
    "output = '/g/data/u46/users/aw3463/GuyByrne/calval/PNGS/TMP/'\n",
    "\n",
    "#\n",
    "# field_data is in the format: 'Field Site Name', 'Date', 'Site number', 'Satellite Name', 'Panel origin', 'Reflectance/Radiance'.\n",
    "# and 'Radiance'/'Reflectance'.\n",
    "# NOTE: Satellite name should be one of: 'Landsat8', 'Sentinel2a', or 'Sentinel2b'.\n",
    "#\n",
    "field_data = ['LKG', '15JAN19', 'test', 'Sentinel2a', 'GA_Panel', 'Radiance', '']\n",
    "\n",
    "#\n",
    "# bad_pans    contains the names of individual panels readings that appear to be bogus\n",
    "# bad_grounds contains ground-reading file names that appear to be bogus\n",
    "# Use empty lists if there are no bad spectra.\n",
    "#\n",
    "bad_grounds = []\n",
    "bad_pans = []\n",
    "\n",
    "#\n",
    "# Define the first line and spectrum number for all/good panels and grounds\n",
    "#\n",
    "firstGoodLine = 1\n",
    "firstGoodPanelSpec = 0\n",
    "firstGoodGroundSpec = 2\n",
    "\n",
    "#\n",
    "# Calculated BRDF data\n",
    "#\n",
    "brdf_data = np.array([['', 'brdf0', 'brdf1', 'brdf2'],\n",
    "                          ['band1', 0.160444, 0.030512, 0.024824000000000002],\n",
    "                          ['band11', 0.587068, 0.13617200000000002, 0.07799600000000001],\n",
    "                          ['band12', 0.48186000000000007, 0.090064, 0.078224],\n",
    "                          ['band2', 0.160444, 0.030512, 0.024824000000000002],\n",
    "                          ['band3', 0.33585200000000004, 0.081624, 0.058964],\n",
    "                          ['band4', 0.43227600000000005, 0.094276, 0.07554400000000001],\n",
    "                          ['band5', 0.43227600000000005, 0.094276, 0.07554400000000001],\n",
    "                          ['band6', 0.43227600000000005, 0.094276, 0.07554400000000001],\n",
    "                          ['band7', 0.5422680000000001, 0.156784, 0.06847600000000001],\n",
    "                          ['band8', 0.5422680000000001, 0.156784, 0.06847600000000001],\n",
    "                          ['band8a', 0.5422680000000001, 0.156784, 0.06847600000000001],\n",
    "                         ])\n",
    "\n",
    "#\n",
    "# plot_scale defines the extent of the axes in the final two plots in the workflow.\n",
    "# A scale from 0-1 means no reflectance to perfect reflectance. Typically, dark sites\n",
    "# will range from 0-0.3, whereas bright sites will be between 0-1.\n",
    "#\n",
    "plot_scale = [0.0, 1.0, 0.0, 1.0]\n",
    "\n",
    "#\n",
    "# Define corners of field data, if GPS coordinates are NOT written into headers.\n",
    "# Order is SE, SW, NE, NW. Units are decimal degrees.\n",
    "# If there are no coordinates, then set RockWalk to either True or False.\n",
    "# True  means that the field site was walked in a rock-like pattern (alternating directions),\n",
    "# False means that the field site was walked in a roll-like pattern (same direction)\n",
    "#\n",
    "Corners = [0, 0, 0, 0, 0, 0, 0, 0]\n",
    "RockWalk = True\n",
    "StartCorner = 'SE'"
   ]
  },
  {
   "cell_type": "code",
   "execution_count": 2,
   "metadata": {},
   "outputs": [],
   "source": [
    "import matplotlib.pyplot as plt\n",
    "import matplotlib\n",
    "import datacube\n",
    "import sys, os, shutil\n",
    "sys.path.append(\"..\")\n",
    "\n",
    "from CalVal import *\n",
    "\n",
    "#\n",
    "# Use notebook format (allows inline zooming and moving of figures)\n",
    "# Set default font size for all plots\n",
    "#\n",
    "%matplotlib notebook\n",
    "matplotlib.rcParams.update({'font.size': 12})\n",
    "matplotlib.rcParams['savefig.dpi'] = 300\n",
    "\n",
    "#\n",
    "# Remove old files in directory and create a new one\n",
    "#\n",
    "directory = os.path.dirname(output)\n",
    "if os.path.exists(directory):\n",
    "    shutil.rmtree(directory)\n",
    "os.makedirs(directory)"
   ]
  },
  {
   "cell_type": "code",
   "execution_count": 3,
   "metadata": {},
   "outputs": [],
   "source": [
    "#######################################\n",
    "# LINES BELOW SHOULD REMAIN UNCHANGED #\n",
    "#######################################\n",
    "#\n",
    "# panel_dir and in_panel refer to the file that is used in determining the k-factor,\n",
    "# so this should remain unchanged.\n",
    "#\n",
    "if field_data[5] == 'Radiance':\n",
    "    suffix = 'asd.rad.txt'\n",
    "else: \n",
    "    suffix = 'asd.txt'\n",
    "\n",
    "panel_dir =  '/g/data1a/u46/users/aw3463/GuyByrne/30APR18/Panels/'\n",
    "\n",
    "if field_data[4] == 'GA_Panel':\n",
    "    in_panel = 'ga_panel1_jan_2018.txt'\n",
    "elif field_data[4] == 'CSIRO_Panel':\n",
    "    in_panel = 'csiro_panel.txt'\n",
    "elif field_data[4] == 'UA_Panel':\n",
    "    in_panel = 'ua_panel.txt'\n",
    "elif field_data[4] == 'UOW_Panel':\n",
    "    in_panel = 'uow_panel.txt'\n",
    "elif field_data[4] == 'UQ_Panel':\n",
    "    in_panel = 'uq_panel.txt'\n",
    "elif field_data[4] == 'CSIRO_VIC_Panel':\n",
    "    in_panel = 'csiro_vic_panel.txt'\n",
    "elif field_data[4] == 'Curtin_Panel':\n",
    "    in_panel = 'curtin_panel.txt'\n",
    "else:\n",
    "    nopanel = '***PANEL NAME NOT KNOWN***'\n",
    "    print(nopanel)\n",
    "\n",
    "#\n",
    "# Setup for Landsat and Sentinel bandpass filters\n",
    "#\n",
    "sat_resp = dict({'Landsat5': '/g/data1a/u46/users/aw3463/GuyByrne/misc_others/landsat5_vsir.flt', \n",
    "            'Landsat7': '/g/data1a/u46/users/aw3463/GuyByrne/misc_others/landsat7_vsir.flt', \n",
    "            'Landsat8': '/g/data1a/u46/users/aw3463/GuyByrne/misc_others/landsat8_vsir.flt',\n",
    "            'Sentinel2a': '/g/data1a/u46/users/aw3463/GuyByrne/misc_others/Sent2a.flt',\n",
    "            'Sentinel2b': '/g/data1a/u46/users/aw3463/GuyByrne/misc_others/Sent2b.flt'})\n",
    "\n",
    "f_name = sat_resp[field_data[3]]\n",
    "\n",
    "#\n",
    "# Colours used for plotting multi-coloured Lines\n",
    "#\n",
    "colpac=['#770000', '#FF0000', '#FF7700', '#FFFF00', '#77FF00', '#00FF00', \n",
    "        '#00FF77', '#00FFFF', '#0077FF', '#0000FF', '#000077', '#FF00FF', '#777777', '#770077', '#777700']\n",
    "\n",
    "#\n",
    "# Start Figure numbering at 1\n",
    "#\n",
    "fignum = 1"
   ]
  },
  {
   "cell_type": "markdown",
   "metadata": {},
   "source": [
    "### Define 'alldata' as the dataframe that contains all the raw spectra.\n",
    "Show the first wavelength of every spectrum, so that the data integrity can be checked."
   ]
  },
  {
   "cell_type": "code",
   "execution_count": 70,
   "metadata": {},
   "outputs": [],
   "source": [
    "alldata.set_index('Wavelength', inplace=True)"
   ]
  },
  {
   "cell_type": "code",
   "execution_count": 168,
   "metadata": {},
   "outputs": [],
   "source": [
    "jp00 = pd.read_csv(indir+'line1/lkg_jointpanel00000.asd.rad.txt', sep='\\t', header=35, index_col=0)\n",
    "jp01 = pd.read_csv(indir+'line1/lkg_jointpanel00001.asd.rad.txt', sep='\\t', header=35, index_col=0)\n",
    "jp02 = pd.read_csv(indir+'line1/lkg_jointpanel00002.asd.rad.txt', sep='\\t', header=35, index_col=0)\n",
    "jp03 = pd.read_csv(indir+'line1/lkg_jointpanel00003.asd.rad.txt', sep='\\t', header=35, index_col=0)\n",
    "wb100 = pd.read_csv(indir+'line1/lkg_wb100000.asd.rad.txt', sep='\\t', header=35, index_col=0)\n",
    "wb101 = pd.read_csv(indir+'line1/lkg_wb100001.asd.rad.txt', sep='\\t', header=35, index_col=0)\n",
    "wb200 = pd.read_csv(indir+'line1/lkg_wb200000.asd.rad.txt', sep='\\t', header=35, index_col=0)\n",
    "wb201 = pd.read_csv(indir+'line1/lkg_wb200001.asd.rad.txt', sep='\\t', header=35, index_col=0)\n",
    "wb300 = pd.read_csv(indir+'line1/lkg_wbt300000.asd.rad.txt', sep='\\t', header=35, index_col=0)\n",
    "wb301 = pd.read_csv(indir+'line1/lkg_wbt300001.asd.rad.txt', sep='\\t', header=35, index_col=0)\n",
    "wb400 = pd.read_csv(indir+'line1/lkg_wbt400000.asd.rad.txt', sep='\\t', header=35, index_col=0)\n",
    "wb401 = pd.read_csv(indir+'line1/lkg_wbt400001.asd.rad.txt', sep='\\t', header=35, index_col=0)\n",
    "wb500 = pd.read_csv(indir+'line1/lkg_wbt500000.asd.rad.txt', sep='\\t', header=35, index_col=0)\n",
    "wb501 = pd.read_csv(indir+'line1/lkg_wbt500001.asd.rad.txt', sep='\\t', header=35, index_col=0)\n",
    "wb600 = pd.read_csv(indir+'line1/lkg_wbt600000.asd.rad.txt', sep='\\t', header=35, index_col=0)\n",
    "wb601 = pd.read_csv(indir+'line1/lkg_wbt600001.asd.rad.txt', sep='\\t', header=35, index_col=0)\n",
    "\n",
    "jp00.columns = ['JP00']\n",
    "jp01.columns = ['JP01']\n",
    "jp02.columns = ['JP02']\n",
    "jp03.columns = ['JP03']\n",
    "wb100.columns = ['WB100']\n",
    "wb101.columns = ['WB101']\n",
    "wb200.columns = ['WB200']\n",
    "wb201.columns = ['WB201']\n",
    "wb300.columns = ['WB300']\n",
    "wb301.columns = ['WB301']\n",
    "wb400.columns = ['WB400']\n",
    "wb401.columns = ['WB401']\n",
    "wb500.columns = ['WB500']\n",
    "wb501.columns = ['WB501']\n",
    "wb600.columns = ['WB600']\n",
    "wb601.columns = ['WB601']\n"
   ]
  },
  {
   "cell_type": "code",
   "execution_count": 169,
   "metadata": {},
   "outputs": [],
   "source": [
    "frames = [jp00, jp01, jp02, jp03, wb100, wb101, wb200, wb201, wb300, wb301, wb400, wb401, wb500, wb501, wb600, wb601]\n",
    "\n",
    "df = pd.concat(frames, axis=1, join_axes=[jp00.index])\n"
   ]
  },
  {
   "cell_type": "code",
   "execution_count": 197,
   "metadata": {},
   "outputs": [
    {
     "data": {
      "text/plain": [
       "Index(['JP00', 'JP01', 'JP02', 'JP03', 'WB100', 'WB101', 'WB200', 'WB201',\n",
       "       'WB300', 'WB301', 'WB400', 'WB401', 'WB500', 'WB501', 'WB600', 'WB601'],\n",
       "      dtype='object')"
      ]
     },
     "execution_count": 197,
     "metadata": {},
     "output_type": "execute_result"
    }
   ],
   "source": [
    "meandf = df.mean(axis=1)\n",
    "df.columns"
   ]
  },
  {
   "cell_type": "code",
   "execution_count": 261,
   "metadata": {},
   "outputs": [],
   "source": [
    "mask1 = meandf.where(np.logical_or(meandf.index<1300, meandf.index>1550))\n",
    "mask2 = mask1.where(np.logical_or(mask1.index<850, mask1.index>1000))\n",
    "mask3 = mask2.where(np.logical_or(mask2.index<1100, mask2.index>1180))\n",
    "mask4 = mask3.where(np.logical_or(mask3.index<1700, mask3.index>2000))\n",
    "meandf_msk = mask4.where(np.logical_or(mask4.index<2300, mask4.index>2500))\n",
    "fullmask = meandf.where(np.logical_and(meandf.index>1550, meandf.index<1700))"
   ]
  },
  {
   "cell_type": "code",
   "execution_count": 262,
   "metadata": {},
   "outputs": [
    {
     "data": {
      "text/plain": [
       "<matplotlib.axes._subplots.AxesSubplot at 0x7f0de074a978>"
      ]
     },
     "execution_count": 262,
     "metadata": {},
     "output_type": "execute_result"
    },
    {
     "data": {
      "image/png": "[encoded data removed]",
      "text/plain": [
       "<Figure size 432x288 with 1 Axes>"
      ]
     },
     "metadata": {
      "needs_background": "light"
     },
     "output_type": "display_data"
    }
   ],
   "source": [
    "diffdf = df.div(fullmask, axis=0)\n",
    "df.plot()"
   ]
  },
  {
   "cell_type": "code",
   "execution_count": 263,
   "metadata": {},
   "outputs": [
    {
     "data": {
      "text/plain": [
       "<matplotlib.axes._subplots.AxesSubplot at 0x7f0de0692b00>"
      ]
     },
     "execution_count": 263,
     "metadata": {},
     "output_type": "execute_result"
    },
    {
     "data": {
      "image/png": "[encoded data removed]",
      "text/plain": [
       "<Figure size 432x288 with 1 Axes>"
      ]
     },
     "metadata": {
      "needs_background": "light"
     },
     "output_type": "display_data"
    }
   ],
   "source": [
    "diffdf.plot(legend=False)"
   ]
  },
  {
   "cell_type": "code",
   "execution_count": 264,
   "metadata": {},
   "outputs": [
    {
     "data": {
      "image/png": "[encoded data removed]",
      "text/plain": [
       "<Figure size 432x288 with 1 Axes>"
      ]
     },
     "metadata": {
      "needs_background": "light"
     },
     "output_type": "display_data"
    }
   ],
   "source": [
    "diffdf.mean().plot()\n",
    "diffmean = diffdf.mean()\n"
   ]
  },
  {
   "cell_type": "code",
   "execution_count": 265,
   "metadata": {
    "scrolled": true
   },
   "outputs": [],
   "source": [
    "from datetime import datetime\n",
    "datatime = [datetime.strptime('01/15/2019 at 01:04:21', '%m/%d/%Y at %H:%M:%S'),\n",
    "            datetime.strptime('01/15/2019 at 01:04:24', '%m/%d/%Y at %H:%M:%S'),\n",
    "            datetime.strptime('01/15/2019 at 01:04:31', '%m/%d/%Y at %H:%M:%S'),\n",
    "            datetime.strptime('01/15/2019 at 01:04:35', '%m/%d/%Y at %H:%M:%S'),\n",
    "            datetime.strptime('01/15/2019 at 01:10:55', '%m/%d/%Y at %H:%M:%S'),\n",
    "            datetime.strptime('01/15/2019 at 01:10:59', '%m/%d/%Y at %H:%M:%S'),\n",
    "            datetime.strptime('01/15/2019 at 01:09:45', '%m/%d/%Y at %H:%M:%S'),\n",
    "            datetime.strptime('01/15/2019 at 01:09:48', '%m/%d/%Y at %H:%M:%S'),\n",
    "            datetime.strptime('01/15/2019 at 01:08:31', '%m/%d/%Y at %H:%M:%S'),\n",
    "            datetime.strptime('01/15/2019 at 01:08:35', '%m/%d/%Y at %H:%M:%S'),\n",
    "            datetime.strptime('01/15/2019 at 01:07:28', '%m/%d/%Y at %H:%M:%S'),\n",
    "            datetime.strptime('01/15/2019 at 01:07:31', '%m/%d/%Y at %H:%M:%S'),\n",
    "            datetime.strptime('01/15/2019 at 01:06:25', '%m/%d/%Y at %H:%M:%S'),\n",
    "            datetime.strptime('01/15/2019 at 01:06:28', '%m/%d/%Y at %H:%M:%S'),\n",
    "            datetime.strptime('01/15/2019 at 01:05:24', '%m/%d/%Y at %H:%M:%S'),\n",
    "            datetime.strptime('01/15/2019 at 01:05:27', '%m/%d/%Y at %H:%M:%S')]\n",
    "\n",
    "times = pd.DataFrame(data=datatime, index=['JP00', 'JP01', 'JP02', 'JP03', 'WB100', 'WB101', 'WB200', 'WB201',\n",
    "       'WB300', 'WB301', 'WB400', 'WB401', 'WB500', 'WB501', 'WB600', 'WB601'], columns=['timestamp'])"
   ]
  },
  {
   "cell_type": "code",
   "execution_count": 266,
   "metadata": {},
   "outputs": [],
   "source": [
    "flobs = [times, diffmean]\n",
    "togs = pd.concat(flobs, axis=1, join_axes=[diffmean.index])\n",
    "togs.columns = ['timestamp', 'mean']"
   ]
  },
  {
   "cell_type": "code",
   "execution_count": 267,
   "metadata": {},
   "outputs": [
    {
     "data": {
      "text/plain": [
       "<matplotlib.axes._subplots.AxesSubplot at 0x7f0de085ec50>"
      ]
     },
     "execution_count": 267,
     "metadata": {},
     "output_type": "execute_result"
    },
    {
     "data": {
      "image/png": "[encoded data removed]",
      "text/plain": [
       "<Figure size 432x288 with 1 Axes>"
      ]
     },
     "metadata": {
      "needs_background": "light"
     },
     "output_type": "display_data"
    }
   ],
   "source": [
    "togs.plot('timestamp', 'mean', style='-o')"
   ]
  },
  {
   "cell_type": "code",
   "execution_count": 201,
   "metadata": {},
   "outputs": [
    {
     "data": {
      "text/plain": [
       "datetime.datetime(2019, 1, 15, 1, 4, 21)"
      ]
     },
     "execution_count": 201,
     "metadata": {},
     "output_type": "execute_result"
    }
   ],
   "source": [
    "from datetime import datetime\n",
    "datetime.strptime('01/15/2019 at 01:04:21', '%m/%d/%Y at %H:%M:%S')"
   ]
  },
  {
   "cell_type": "code",
   "execution_count": 4,
   "metadata": {
    "scrolled": true
   },
   "outputs": [
    {
     "data": {
      "text/html": [
       "<div>\n",
       "<style scoped>\n",
       "    .dataframe tbody tr th:only-of-type {\n",
       "        vertical-align: middle;\n",
       "    }\n",
       "\n",
       "    .dataframe tbody tr th {\n",
       "        vertical-align: top;\n",
       "    }\n",
       "\n",
       "    .dataframe thead th {\n",
       "        text-align: right;\n",
       "    }\n",
       "</style>\n",
       "<table border=\"1\" class=\"dataframe\">\n",
       "  <thead>\n",
       "    <tr style=\"text-align: right;\">\n",
       "      <th></th>\n",
       "      <th>Wavelength</th>\n",
       "      <th>radiance</th>\n",
       "      <th>filename</th>\n",
       "      <th>date_saved</th>\n",
       "      <th>Latitude</th>\n",
       "      <th>Longitude</th>\n",
       "      <th>Line</th>\n",
       "      <th>Spec_number</th>\n",
       "      <th>Inst_number</th>\n",
       "    </tr>\n",
       "  </thead>\n",
       "  <tbody>\n",
       "    <tr>\n",
       "      <th>0</th>\n",
       "      <td>350</td>\n",
       "      <td>0.186269</td>\n",
       "      <td>lkg_jointpanel00000.asd.rad</td>\n",
       "      <td>2019-01-15 01:04:21</td>\n",
       "      <td>-35.092008</td>\n",
       "      <td>149.462438</td>\n",
       "      <td>1</td>\n",
       "      <td>0</td>\n",
       "      <td>18179/2</td>\n",
       "    </tr>\n",
       "    <tr>\n",
       "      <th>0</th>\n",
       "      <td>350</td>\n",
       "      <td>0.186721</td>\n",
       "      <td>lkg_jointpanel00001.asd.rad</td>\n",
       "      <td>2019-01-15 01:04:24</td>\n",
       "      <td>-35.092007</td>\n",
       "      <td>149.462437</td>\n",
       "      <td>1</td>\n",
       "      <td>1</td>\n",
       "      <td>18179/2</td>\n",
       "    </tr>\n",
       "    <tr>\n",
       "      <th>0</th>\n",
       "      <td>350</td>\n",
       "      <td>0.187604</td>\n",
       "      <td>lkg_jointpanel00002.asd.rad</td>\n",
       "      <td>2019-01-15 01:04:31</td>\n",
       "      <td>-35.092008</td>\n",
       "      <td>149.462435</td>\n",
       "      <td>1</td>\n",
       "      <td>2</td>\n",
       "      <td>18179/2</td>\n",
       "    </tr>\n",
       "    <tr>\n",
       "      <th>0</th>\n",
       "      <td>350</td>\n",
       "      <td>0.187619</td>\n",
       "      <td>lkg_jointpanel00003.asd.rad</td>\n",
       "      <td>2019-01-15 01:04:35</td>\n",
       "      <td>-35.092010</td>\n",
       "      <td>149.462435</td>\n",
       "      <td>1</td>\n",
       "      <td>3</td>\n",
       "      <td>18179/2</td>\n",
       "    </tr>\n",
       "    <tr>\n",
       "      <th>0</th>\n",
       "      <td>350</td>\n",
       "      <td>0.194074</td>\n",
       "      <td>lkg_wb100000.asd.rad</td>\n",
       "      <td>2019-01-15 01:10:55</td>\n",
       "      <td>-35.091987</td>\n",
       "      <td>149.462435</td>\n",
       "      <td>1</td>\n",
       "      <td>0</td>\n",
       "      <td>18179/2</td>\n",
       "    </tr>\n",
       "    <tr>\n",
       "      <th>0</th>\n",
       "      <td>350</td>\n",
       "      <td>0.194388</td>\n",
       "      <td>lkg_wb100001.asd.rad</td>\n",
       "      <td>2019-01-15 01:10:59</td>\n",
       "      <td>-35.091985</td>\n",
       "      <td>149.462435</td>\n",
       "      <td>1</td>\n",
       "      <td>1</td>\n",
       "      <td>18179/2</td>\n",
       "    </tr>\n",
       "    <tr>\n",
       "      <th>0</th>\n",
       "      <td>350</td>\n",
       "      <td>0.014692</td>\n",
       "      <td>lkg_wb100002.asd.rad</td>\n",
       "      <td>2019-01-15 01:11:16</td>\n",
       "      <td>-35.092002</td>\n",
       "      <td>149.462437</td>\n",
       "      <td>1</td>\n",
       "      <td>2</td>\n",
       "      <td>18179/2</td>\n",
       "    </tr>\n",
       "    <tr>\n",
       "      <th>0</th>\n",
       "      <td>350</td>\n",
       "      <td>0.014803</td>\n",
       "      <td>lkg_wb100003.asd.rad</td>\n",
       "      <td>2019-01-15 01:11:20</td>\n",
       "      <td>-35.092002</td>\n",
       "      <td>149.462437</td>\n",
       "      <td>1</td>\n",
       "      <td>3</td>\n",
       "      <td>18179/2</td>\n",
       "    </tr>\n",
       "    <tr>\n",
       "      <th>0</th>\n",
       "      <td>350</td>\n",
       "      <td>0.034325</td>\n",
       "      <td>lkg_wb100004.asd.rad</td>\n",
       "      <td>2019-01-15 01:13:13</td>\n",
       "      <td>-35.092588</td>\n",
       "      <td>149.462390</td>\n",
       "      <td>1</td>\n",
       "      <td>4</td>\n",
       "      <td>18179/2</td>\n",
       "    </tr>\n",
       "    <tr>\n",
       "      <th>0</th>\n",
       "      <td>350</td>\n",
       "      <td>0.043254</td>\n",
       "      <td>lkg_wb100005.asd.rad</td>\n",
       "      <td>2019-01-15 01:13:16</td>\n",
       "      <td>-35.092588</td>\n",
       "      <td>149.462388</td>\n",
       "      <td>1</td>\n",
       "      <td>5</td>\n",
       "      <td>18179/2</td>\n",
       "    </tr>\n",
       "    <tr>\n",
       "      <th>0</th>\n",
       "      <td>350</td>\n",
       "      <td>0.193592</td>\n",
       "      <td>lkg_wb200000.asd.rad</td>\n",
       "      <td>2019-01-15 01:09:45</td>\n",
       "      <td>-35.091988</td>\n",
       "      <td>149.462437</td>\n",
       "      <td>1</td>\n",
       "      <td>0</td>\n",
       "      <td>18179/2</td>\n",
       "    </tr>\n",
       "    <tr>\n",
       "      <th>0</th>\n",
       "      <td>350</td>\n",
       "      <td>0.193851</td>\n",
       "      <td>lkg_wb200001.asd.rad</td>\n",
       "      <td>2019-01-15 01:09:48</td>\n",
       "      <td>-35.091988</td>\n",
       "      <td>149.462437</td>\n",
       "      <td>1</td>\n",
       "      <td>1</td>\n",
       "      <td>18179/2</td>\n",
       "    </tr>\n",
       "    <tr>\n",
       "      <th>0</th>\n",
       "      <td>350</td>\n",
       "      <td>0.013850</td>\n",
       "      <td>lkg_wb200002.asd.rad</td>\n",
       "      <td>2019-01-15 01:10:06</td>\n",
       "      <td>-35.092003</td>\n",
       "      <td>149.462443</td>\n",
       "      <td>1</td>\n",
       "      <td>2</td>\n",
       "      <td>18179/2</td>\n",
       "    </tr>\n",
       "    <tr>\n",
       "      <th>0</th>\n",
       "      <td>350</td>\n",
       "      <td>0.013828</td>\n",
       "      <td>lkg_wb200003.asd.rad</td>\n",
       "      <td>2019-01-15 01:10:09</td>\n",
       "      <td>-35.092003</td>\n",
       "      <td>149.462445</td>\n",
       "      <td>1</td>\n",
       "      <td>3</td>\n",
       "      <td>18179/2</td>\n",
       "    </tr>\n",
       "    <tr>\n",
       "      <th>0</th>\n",
       "      <td>350</td>\n",
       "      <td>0.193043</td>\n",
       "      <td>lkg_wbt300000.asd.rad</td>\n",
       "      <td>2019-01-15 01:08:31</td>\n",
       "      <td>-35.091995</td>\n",
       "      <td>149.462448</td>\n",
       "      <td>1</td>\n",
       "      <td>0</td>\n",
       "      <td>18179/2</td>\n",
       "    </tr>\n",
       "    <tr>\n",
       "      <th>0</th>\n",
       "      <td>350</td>\n",
       "      <td>0.193010</td>\n",
       "      <td>lkg_wbt300001.asd.rad</td>\n",
       "      <td>2019-01-15 01:08:35</td>\n",
       "      <td>-35.091997</td>\n",
       "      <td>149.462450</td>\n",
       "      <td>1</td>\n",
       "      <td>1</td>\n",
       "      <td>18179/2</td>\n",
       "    </tr>\n",
       "    <tr>\n",
       "      <th>0</th>\n",
       "      <td>350</td>\n",
       "      <td>0.014291</td>\n",
       "      <td>lkg_wbt300002.asd.rad</td>\n",
       "      <td>2019-01-15 01:08:52</td>\n",
       "      <td>-35.092007</td>\n",
       "      <td>149.462445</td>\n",
       "      <td>1</td>\n",
       "      <td>2</td>\n",
       "      <td>18179/2</td>\n",
       "    </tr>\n",
       "    <tr>\n",
       "      <th>0</th>\n",
       "      <td>350</td>\n",
       "      <td>0.013848</td>\n",
       "      <td>lkg_wbt300003.asd.rad</td>\n",
       "      <td>2019-01-15 01:08:56</td>\n",
       "      <td>-35.092007</td>\n",
       "      <td>149.462447</td>\n",
       "      <td>1</td>\n",
       "      <td>3</td>\n",
       "      <td>18179/2</td>\n",
       "    </tr>\n",
       "    <tr>\n",
       "      <th>0</th>\n",
       "      <td>350</td>\n",
       "      <td>0.193165</td>\n",
       "      <td>lkg_wbt400000.asd.rad</td>\n",
       "      <td>2019-01-15 01:07:28</td>\n",
       "      <td>-35.091998</td>\n",
       "      <td>149.462445</td>\n",
       "      <td>1</td>\n",
       "      <td>0</td>\n",
       "      <td>18179/2</td>\n",
       "    </tr>\n",
       "    <tr>\n",
       "      <th>0</th>\n",
       "      <td>350</td>\n",
       "      <td>0.193247</td>\n",
       "      <td>lkg_wbt400001.asd.rad</td>\n",
       "      <td>2019-01-15 01:07:31</td>\n",
       "      <td>-35.091997</td>\n",
       "      <td>149.462443</td>\n",
       "      <td>1</td>\n",
       "      <td>1</td>\n",
       "      <td>18179/2</td>\n",
       "    </tr>\n",
       "    <tr>\n",
       "      <th>0</th>\n",
       "      <td>350</td>\n",
       "      <td>0.028755</td>\n",
       "      <td>lkg_wbt400002.asd.rad</td>\n",
       "      <td>2019-01-15 01:07:49</td>\n",
       "      <td>-35.092017</td>\n",
       "      <td>149.462452</td>\n",
       "      <td>1</td>\n",
       "      <td>2</td>\n",
       "      <td>18179/2</td>\n",
       "    </tr>\n",
       "    <tr>\n",
       "      <th>0</th>\n",
       "      <td>350</td>\n",
       "      <td>0.028832</td>\n",
       "      <td>lkg_wbt400003.asd.rad</td>\n",
       "      <td>2019-01-15 01:07:52</td>\n",
       "      <td>-35.092015</td>\n",
       "      <td>149.462452</td>\n",
       "      <td>1</td>\n",
       "      <td>3</td>\n",
       "      <td>18179/2</td>\n",
       "    </tr>\n",
       "    <tr>\n",
       "      <th>0</th>\n",
       "      <td>350</td>\n",
       "      <td>0.193701</td>\n",
       "      <td>lkg_wbt500000.asd.rad</td>\n",
       "      <td>2019-01-15 01:06:25</td>\n",
       "      <td>-35.092003</td>\n",
       "      <td>149.462443</td>\n",
       "      <td>1</td>\n",
       "      <td>0</td>\n",
       "      <td>18179/2</td>\n",
       "    </tr>\n",
       "    <tr>\n",
       "      <th>0</th>\n",
       "      <td>350</td>\n",
       "      <td>0.193657</td>\n",
       "      <td>lkg_wbt500001.asd.rad</td>\n",
       "      <td>2019-01-15 01:06:28</td>\n",
       "      <td>-35.092003</td>\n",
       "      <td>149.462443</td>\n",
       "      <td>1</td>\n",
       "      <td>1</td>\n",
       "      <td>18179/2</td>\n",
       "    </tr>\n",
       "    <tr>\n",
       "      <th>0</th>\n",
       "      <td>350</td>\n",
       "      <td>0.029697</td>\n",
       "      <td>lkg_wbt500002.asd.rad</td>\n",
       "      <td>2019-01-15 01:06:45</td>\n",
       "      <td>-35.092013</td>\n",
       "      <td>149.462450</td>\n",
       "      <td>1</td>\n",
       "      <td>2</td>\n",
       "      <td>18179/2</td>\n",
       "    </tr>\n",
       "    <tr>\n",
       "      <th>0</th>\n",
       "      <td>350</td>\n",
       "      <td>0.029459</td>\n",
       "      <td>lkg_wbt500003.asd.rad</td>\n",
       "      <td>2019-01-15 01:06:49</td>\n",
       "      <td>-35.092013</td>\n",
       "      <td>149.462452</td>\n",
       "      <td>1</td>\n",
       "      <td>3</td>\n",
       "      <td>18179/2</td>\n",
       "    </tr>\n",
       "    <tr>\n",
       "      <th>0</th>\n",
       "      <td>350</td>\n",
       "      <td>0.191980</td>\n",
       "      <td>lkg_wbt600000.asd.rad</td>\n",
       "      <td>2019-01-15 01:05:24</td>\n",
       "      <td>-35.092005</td>\n",
       "      <td>149.462433</td>\n",
       "      <td>1</td>\n",
       "      <td>0</td>\n",
       "      <td>18179/2</td>\n",
       "    </tr>\n",
       "    <tr>\n",
       "      <th>0</th>\n",
       "      <td>350</td>\n",
       "      <td>0.192616</td>\n",
       "      <td>lkg_wbt600001.asd.rad</td>\n",
       "      <td>2019-01-15 01:05:27</td>\n",
       "      <td>-35.092003</td>\n",
       "      <td>149.462432</td>\n",
       "      <td>1</td>\n",
       "      <td>1</td>\n",
       "      <td>18179/2</td>\n",
       "    </tr>\n",
       "    <tr>\n",
       "      <th>0</th>\n",
       "      <td>350</td>\n",
       "      <td>0.019576</td>\n",
       "      <td>lkg_wbt600002.asd.rad</td>\n",
       "      <td>2019-01-15 01:05:42</td>\n",
       "      <td>-35.092023</td>\n",
       "      <td>149.462448</td>\n",
       "      <td>1</td>\n",
       "      <td>2</td>\n",
       "      <td>18179/2</td>\n",
       "    </tr>\n",
       "    <tr>\n",
       "      <th>0</th>\n",
       "      <td>350</td>\n",
       "      <td>0.020029</td>\n",
       "      <td>lkg_wbt600003.asd.rad</td>\n",
       "      <td>2019-01-15 01:05:45</td>\n",
       "      <td>-35.092023</td>\n",
       "      <td>149.462452</td>\n",
       "      <td>1</td>\n",
       "      <td>3</td>\n",
       "      <td>18179/2</td>\n",
       "    </tr>\n",
       "  </tbody>\n",
       "</table>\n",
       "</div>"
      ],
      "text/plain": [
       "   Wavelength  radiance                     filename          date_saved  \\\n",
       "0         350  0.186269  lkg_jointpanel00000.asd.rad 2019-01-15 01:04:21   \n",
       "0         350  0.186721  lkg_jointpanel00001.asd.rad 2019-01-15 01:04:24   \n",
       "0         350  0.187604  lkg_jointpanel00002.asd.rad 2019-01-15 01:04:31   \n",
       "0         350  0.187619  lkg_jointpanel00003.asd.rad 2019-01-15 01:04:35   \n",
       "0         350  0.194074         lkg_wb100000.asd.rad 2019-01-15 01:10:55   \n",
       "0         350  0.194388         lkg_wb100001.asd.rad 2019-01-15 01:10:59   \n",
       "0         350  0.014692         lkg_wb100002.asd.rad 2019-01-15 01:11:16   \n",
       "0         350  0.014803         lkg_wb100003.asd.rad 2019-01-15 01:11:20   \n",
       "0         350  0.034325         lkg_wb100004.asd.rad 2019-01-15 01:13:13   \n",
       "0         350  0.043254         lkg_wb100005.asd.rad 2019-01-15 01:13:16   \n",
       "0         350  0.193592         lkg_wb200000.asd.rad 2019-01-15 01:09:45   \n",
       "0         350  0.193851         lkg_wb200001.asd.rad 2019-01-15 01:09:48   \n",
       "0         350  0.013850         lkg_wb200002.asd.rad 2019-01-15 01:10:06   \n",
       "0         350  0.013828         lkg_wb200003.asd.rad 2019-01-15 01:10:09   \n",
       "0         350  0.193043        lkg_wbt300000.asd.rad 2019-01-15 01:08:31   \n",
       "0         350  0.193010        lkg_wbt300001.asd.rad 2019-01-15 01:08:35   \n",
       "0         350  0.014291        lkg_wbt300002.asd.rad 2019-01-15 01:08:52   \n",
       "0         350  0.013848        lkg_wbt300003.asd.rad 2019-01-15 01:08:56   \n",
       "0         350  0.193165        lkg_wbt400000.asd.rad 2019-01-15 01:07:28   \n",
       "0         350  0.193247        lkg_wbt400001.asd.rad 2019-01-15 01:07:31   \n",
       "0         350  0.028755        lkg_wbt400002.asd.rad 2019-01-15 01:07:49   \n",
       "0         350  0.028832        lkg_wbt400003.asd.rad 2019-01-15 01:07:52   \n",
       "0         350  0.193701        lkg_wbt500000.asd.rad 2019-01-15 01:06:25   \n",
       "0         350  0.193657        lkg_wbt500001.asd.rad 2019-01-15 01:06:28   \n",
       "0         350  0.029697        lkg_wbt500002.asd.rad 2019-01-15 01:06:45   \n",
       "0         350  0.029459        lkg_wbt500003.asd.rad 2019-01-15 01:06:49   \n",
       "0         350  0.191980        lkg_wbt600000.asd.rad 2019-01-15 01:05:24   \n",
       "0         350  0.192616        lkg_wbt600001.asd.rad 2019-01-15 01:05:27   \n",
       "0         350  0.019576        lkg_wbt600002.asd.rad 2019-01-15 01:05:42   \n",
       "0         350  0.020029        lkg_wbt600003.asd.rad 2019-01-15 01:05:45   \n",
       "\n",
       "    Latitude   Longitude  Line  Spec_number Inst_number  \n",
       "0 -35.092008  149.462438     1            0     18179/2  \n",
       "0 -35.092007  149.462437     1            1     18179/2  \n",
       "0 -35.092008  149.462435     1            2     18179/2  \n",
       "0 -35.092010  149.462435     1            3     18179/2  \n",
       "0 -35.091987  149.462435     1            0     18179/2  \n",
       "0 -35.091985  149.462435     1            1     18179/2  \n",
       "0 -35.092002  149.462437     1            2     18179/2  \n",
       "0 -35.092002  149.462437     1            3     18179/2  \n",
       "0 -35.092588  149.462390     1            4     18179/2  \n",
       "0 -35.092588  149.462388     1            5     18179/2  \n",
       "0 -35.091988  149.462437     1            0     18179/2  \n",
       "0 -35.091988  149.462437     1            1     18179/2  \n",
       "0 -35.092003  149.462443     1            2     18179/2  \n",
       "0 -35.092003  149.462445     1            3     18179/2  \n",
       "0 -35.091995  149.462448     1            0     18179/2  \n",
       "0 -35.091997  149.462450     1            1     18179/2  \n",
       "0 -35.092007  149.462445     1            2     18179/2  \n",
       "0 -35.092007  149.462447     1            3     18179/2  \n",
       "0 -35.091998  149.462445     1            0     18179/2  \n",
       "0 -35.091997  149.462443     1            1     18179/2  \n",
       "0 -35.092017  149.462452     1            2     18179/2  \n",
       "0 -35.092015  149.462452     1            3     18179/2  \n",
       "0 -35.092003  149.462443     1            0     18179/2  \n",
       "0 -35.092003  149.462443     1            1     18179/2  \n",
       "0 -35.092013  149.462450     1            2     18179/2  \n",
       "0 -35.092013  149.462452     1            3     18179/2  \n",
       "0 -35.092005  149.462433     1            0     18179/2  \n",
       "0 -35.092003  149.462432     1            1     18179/2  \n",
       "0 -35.092023  149.462448     1            2     18179/2  \n",
       "0 -35.092023  149.462452     1            3     18179/2  "
      ]
     },
     "execution_count": 4,
     "metadata": {},
     "output_type": "execute_result"
    }
   ],
   "source": [
    "alldata = LoadData.load_from_dir(indir, suffix, firstGoodLine, Corners)\n",
    "\n",
    "alldata[alldata['Wavelength']==350]"
   ]
  },
  {
   "cell_type": "code",
   "execution_count": null,
   "metadata": {},
   "outputs": [],
   "source": []
  },
  {
   "cell_type": "markdown",
   "metadata": {},
   "source": [
    "### Print out time stamp and coordinate extent for BRDF correction\n",
    "\n",
    "The time stamp and Lat/Long extents are required to calculate the BRDF correction, used below.\n",
    "\n",
    "In order to calculate the BRF correction, the following method is used:\n",
    "\n",
    "<OL>\n",
    "    <LI>Run the print statements in the cell below.</LI>\n",
    "    <LI>Copy and paste the output into a VDI terminal window</LI>\n",
    "    <LI>Copy and paste the resultant VDI output into the BRDF calculation cell, writing over the similar text.</LI>\n",
    "</OL>\n",
    "\n",
    "NOTE: This works assuming that the BRDF code is in the current directory.\n"
   ]
  },
  {
   "cell_type": "code",
   "execution_count": 5,
   "metadata": {
    "scrolled": true
   },
   "outputs": [
    {
     "name": "stdout",
     "output_type": "stream",
     "text": [
      "#################################################################################\n",
      "# Copy and paste the following into a terminal window on VDI for Landsat 8 data #\n",
      "#################################################################################\n",
      "\n",
      "source module.sh\n",
      "sed -i \"34s/.*/        setattr(self, 'acquisition_datetime', dateutil.parser.parse('2019-01-15 01:04:21'))/\" retrieve_brdf.py\n",
      "sed -i \"37s/.*/        bbox = geopandas.GeoDataFrame({'geometry': [box(149.46238833333334, -35.09258833333333, 149.46245166666668, -35.091985)]})/\" retrieve_brdf.py\n",
      "python retrieve_brdf.py > temp.txt ; awk -f format_Sent.awk temp.txt\n",
      "\n"
     ]
    }
   ],
   "source": [
    "PrintBRDF.print_brdf(alldata, field_data)"
   ]
  },
  {
   "cell_type": "markdown",
   "metadata": {},
   "source": [
    "### Specify which spectra are panels/ground/good/bad\n",
    "\n",
    " Determine panel file names by assuming that all panels have a data value of at least 0.06\n",
    " in the first wavelength (350nm). Call this dataframe 'panel_names'.\n",
    "\n",
    " good_panels = all panel data with bad panels removed<BR>\n",
    " bad_panels  = all bad panel data<BR>\n",
    " all_panels = both good and bad panel data<BR>\n",
    " good_grounds = good ground readings<BR>\n",
    " all_grounds = all ground data.<P>\n",
    " Any bad ground data (bad_grounds) is defined in the 2nd cell.\n"
   ]
  },
  {
   "cell_type": "code",
   "execution_count": 6,
   "metadata": {
    "scrolled": true
   },
   "outputs": [],
   "source": [
    "panel_names, all_panels, good_panels, bad_panels, good_grounds, all_grounds = ExtractPanelsGrounds.extract_panels_grounds(alldata, bad_pans, bad_grounds, field_data)"
   ]
  },
  {
   "cell_type": "markdown",
   "metadata": {},
   "source": [
    "### Create dataframes for all/good/bad panel spectra.\n",
    "\n",
    "For the bad panel spectra dataframe, first check to see if bad panels have been defined.<BR>\n",
    "If not, then don't create anything."
   ]
  },
  {
   "cell_type": "code",
   "execution_count": 7,
   "metadata": {},
   "outputs": [],
   "source": [
    "all_panel_spec = MakeSpecDF.make_spec_df(all_panels, field_data)\n",
    "good_panel_spec = MakeSpecDF.make_spec_df(good_panels, field_data)\n",
    "try:\n",
    "    bad_panel_spec = MakeSpecDF.make_spec_df(bad_panels, field_data)\n",
    "except UnboundLocalError:\n",
    "    pass"
   ]
  },
  {
   "cell_type": "markdown",
   "metadata": {},
   "source": [
    "# Figure \n",
    "\n",
    "### Plot panel radiances for all/good/bad panels"
   ]
  },
  {
   "cell_type": "code",
   "execution_count": 8,
   "metadata": {
    "scrolled": false
   },
   "outputs": [
    {
     "data": {
      "image/png": "[encoded data removed]",
      "text/plain": [
       "<Figure size 792x360 with 3 Axes>"
      ]
     },
     "metadata": {
      "needs_background": "light"
     },
     "output_type": "display_data"
    }
   ],
   "source": [
    "try:\n",
    "    FIG_PanelRadiances.FIG_panel_radiances(good_panel_spec, bad_panel_spec, all_panel_spec, output, field_data, fignum)\n",
    "except NameError:\n",
    "    bad_panel_spec = [0,0]\n",
    "    FIG_PanelRadiances.FIG_panel_radiances(good_panel_spec, bad_panel_spec, all_panel_spec, output, field_data, fignum)\n",
    "\n",
    "fignum += 1"
   ]
  },
  {
   "cell_type": "markdown",
   "metadata": {},
   "source": [
    "# Figure \n",
    "\n",
    "### Diagnosis plots of bad panel spectra"
   ]
  },
  {
   "cell_type": "code",
   "execution_count": 9,
   "metadata": {
    "scrolled": false
   },
   "outputs": [],
   "source": [
    "good_panel_mean = good_panel_spec.mean(axis=1)\n",
    "\n",
    "try:\n",
    "    FIG_BadPanelAnalysis.FIG_bad_panel_analysis(good_panel_mean, good_panel_spec, bad_panel_spec, output, field_data, fignum)\n",
    "except AttributeError:\n",
    "    pass\n",
    "fignum +=1"
   ]
  },
  {
   "cell_type": "markdown",
   "metadata": {},
   "source": [
    "### Create spectral dataframes for all ground spectra and good ground spectra"
   ]
  },
  {
   "cell_type": "code",
   "execution_count": 10,
   "metadata": {},
   "outputs": [],
   "source": [
    "all_grounds_spec = MakeSpecDF.make_spec_df(all_grounds, field_data)\n",
    "good_grounds_spec = MakeSpecDF.make_spec_df(good_grounds, field_data)"
   ]
  },
  {
   "cell_type": "markdown",
   "metadata": {},
   "source": [
    "# Figure \n",
    "\n",
    "### Plot ground spectra (all and good), normalised to the median good spectrum\n",
    "\n",
    "These plots are used to identify any ground spectra that are bogus."
   ]
  },
  {
   "cell_type": "code",
   "execution_count": 11,
   "metadata": {
    "scrolled": false
   },
   "outputs": [
    {
     "data": {
      "image/png": "[encoded data removed]",
      "text/plain": [
       "<Figure size 691.2x432 with 2 Axes>"
      ]
     },
     "metadata": {
      "needs_background": "light"
     },
     "output_type": "display_data"
    }
   ],
   "source": [
    "FIG_GroundSpectra.FIG_ground_spectra(good_grounds_spec, all_grounds_spec, output, field_data, fignum)\n",
    "fignum +=1"
   ]
  },
  {
   "cell_type": "markdown",
   "metadata": {},
   "source": [
    "### Create time-relative dataframes\n",
    "\n",
    "gpt = good panels<BR>\n",
    "gpta = all panels<BR>\n",
    "adt = good grounds<BR>\n",
    "adta = all grounds"
   ]
  },
  {
   "cell_type": "code",
   "execution_count": 12,
   "metadata": {},
   "outputs": [],
   "source": [
    "gpt, gpta, adt, adta = CreateTimeRelativeDF.create_time_relative_dfs(good_panels, all_panels, good_grounds, all_grounds)"
   ]
  },
  {
   "cell_type": "markdown",
   "metadata": {},
   "source": [
    "### Add Solar angle to dataframes\n",
    "\n",
    "Based on the spectrum Latitude, Longitude and time stamp, calculate the angle of<BR>\n",
    "the Sun, with respect to the zenith. Append this number to the \"good_panels\" and<BR>\n",
    "\"good_grounds\" dataframes."
   ]
  },
  {
   "cell_type": "code",
   "execution_count": 13,
   "metadata": {},
   "outputs": [
    {
     "name": "stderr",
     "output_type": "stream",
     "text": [
      "../CalVal/SolarAngle.py:39: SettingWithCopyWarning: \n",
      "A value is trying to be set on a copy of a slice from a DataFrame\n",
      "\n",
      "See the caveats in the documentation: http://pandas.pydata.org/pandas-docs/stable/indexing.html#indexing-view-versus-copy\n",
      "  good_spectra.Solar_angle[good_spectra['date_saved'] == times.iloc[i]] = solzen.iloc[i]\n"
     ]
    }
   ],
   "source": [
    "good_panels, good_grounds = SolarAngle.solar_angle(good_panels, good_grounds, field_data)"
   ]
  },
  {
   "cell_type": "markdown",
   "metadata": {},
   "source": [
    "# Figure \n",
    "\n",
    "### Plot timelines for ALL panel and ground data, with one line in one panel"
   ]
  },
  {
   "cell_type": "code",
   "execution_count": 14,
   "metadata": {
    "scrolled": false
   },
   "outputs": [
    {
     "ename": "IndexError",
     "evalue": "too many indices for array",
     "output_type": "error",
     "traceback": [
      "\u001b[0;31m---------------------------------------------------------------------------\u001b[0m",
      "\u001b[0;31mIndexError\u001b[0m                                Traceback (most recent call last)",
      "\u001b[0;32m<ipython-input-14-e6eeb816a0a9>\u001b[0m in \u001b[0;36m<module>\u001b[0;34m\u001b[0m\n\u001b[0;32m----> 1\u001b[0;31m \u001b[0mFIG_AllTimelines\u001b[0m\u001b[0;34m.\u001b[0m\u001b[0mFIG_all_timelines\u001b[0m\u001b[0;34m(\u001b[0m\u001b[0mgpta\u001b[0m\u001b[0;34m,\u001b[0m \u001b[0madta\u001b[0m\u001b[0;34m,\u001b[0m \u001b[0moutput\u001b[0m\u001b[0;34m,\u001b[0m \u001b[0mfield_data\u001b[0m\u001b[0;34m,\u001b[0m \u001b[0mfignum\u001b[0m\u001b[0;34m)\u001b[0m\u001b[0;34m\u001b[0m\u001b[0m\n\u001b[0m\u001b[1;32m      2\u001b[0m \u001b[0mfignum\u001b[0m \u001b[0;34m+=\u001b[0m \u001b[0;36m1\u001b[0m\u001b[0;34m\u001b[0m\u001b[0m\n",
      "\u001b[0;32m/g/data1a/u46/users/aw3463/GuyByrne/calval/CalVal/FIG_AllTimelines.py\u001b[0m in \u001b[0;36mFIG_all_timelines\u001b[0;34m(gpta, adta, output, field_data, fignum)\u001b[0m\n\u001b[1;32m     76\u001b[0m     \u001b[0mplt\u001b[0m\u001b[0;34m.\u001b[0m\u001b[0mtight_layout\u001b[0m\u001b[0;34m(\u001b[0m\u001b[0mpad\u001b[0m\u001b[0;34m=\u001b[0m\u001b[0;36m1.5\u001b[0m\u001b[0;34m,\u001b[0m \u001b[0mw_pad\u001b[0m\u001b[0;34m=\u001b[0m\u001b[0;34m-\u001b[0m\u001b[0;36m2.0\u001b[0m\u001b[0;34m,\u001b[0m \u001b[0mh_pad\u001b[0m\u001b[0;34m=\u001b[0m\u001b[0;36m0.0\u001b[0m\u001b[0;34m)\u001b[0m\u001b[0;34m\u001b[0m\u001b[0m\n\u001b[1;32m     77\u001b[0m \u001b[0;34m\u001b[0m\u001b[0m\n\u001b[0;32m---> 78\u001b[0;31m     \u001b[0mmulti_timeline_plot\u001b[0m\u001b[0;34m(\u001b[0m\u001b[0mn\u001b[0m\u001b[0;34m,\u001b[0m \u001b[0mm\u001b[0m\u001b[0;34m,\u001b[0m \u001b[0mgpta\u001b[0m\u001b[0;34m,\u001b[0m \u001b[0madta\u001b[0m\u001b[0;34m,\u001b[0m \u001b[0maxes\u001b[0m\u001b[0;34m)\u001b[0m\u001b[0;34m\u001b[0m\u001b[0m\n\u001b[0m\u001b[1;32m     79\u001b[0m \u001b[0;34m\u001b[0m\u001b[0m\n\u001b[1;32m     80\u001b[0m     \u001b[0mplt\u001b[0m\u001b[0;34m.\u001b[0m\u001b[0msavefig\u001b[0m\u001b[0;34m(\u001b[0m\u001b[0moutput\u001b[0m\u001b[0;34m+\u001b[0m\u001b[0mfield_data\u001b[0m\u001b[0;34m[\u001b[0m\u001b[0;36m0\u001b[0m\u001b[0;34m]\u001b[0m\u001b[0;34m+\u001b[0m\u001b[0;34m'_'\u001b[0m\u001b[0;34m+\u001b[0m\u001b[0mfield_data\u001b[0m\u001b[0;34m[\u001b[0m\u001b[0;36m1\u001b[0m\u001b[0;34m]\u001b[0m\u001b[0;34m+\u001b[0m\u001b[0;34m'_'\u001b[0m\u001b[0;34m+\u001b[0m\u001b[0mfield_data\u001b[0m\u001b[0;34m[\u001b[0m\u001b[0;36m2\u001b[0m\u001b[0;34m]\u001b[0m\u001b[0;34m+\u001b[0m\u001b[0;34m'_'\u001b[0m\u001b[0;34m+\u001b[0m\u001b[0mfield_data\u001b[0m\u001b[0;34m[\u001b[0m\u001b[0;36m3\u001b[0m\u001b[0;34m]\u001b[0m\u001b[0;34m+\u001b[0m\u001b[0;34m'_'\u001b[0m\u001b[0;34m+\u001b[0m\u001b[0;34m'Fig'\u001b[0m\u001b[0;34m+\u001b[0m\u001b[0mstr\u001b[0m\u001b[0;34m(\u001b[0m\u001b[0mfignum\u001b[0m\u001b[0;34m)\u001b[0m\u001b[0;34m+\u001b[0m\u001b[0;34m'_AllTimeLineData.png'\u001b[0m\u001b[0;34m,\u001b[0m \u001b[0mdpi\u001b[0m\u001b[0;34m=\u001b[0m\u001b[0;36m300\u001b[0m\u001b[0;34m)\u001b[0m\u001b[0;34m\u001b[0m\u001b[0m\n",
      "\u001b[0;32m/g/data1a/u46/users/aw3463/GuyByrne/calval/CalVal/FIG_AllTimelines.py\u001b[0m in \u001b[0;36mmulti_timeline_plot\u001b[0;34m(n, m, gpta, adta, axes)\u001b[0m\n\u001b[1;32m     44\u001b[0m                 \u001b[0mtemp_loop\u001b[0m \u001b[0;34m=\u001b[0m \u001b[0mgpta\u001b[0m\u001b[0;34m[\u001b[0m\u001b[0;34m(\u001b[0m\u001b[0mgpta\u001b[0m\u001b[0;34m[\u001b[0m\u001b[0;34m'Line'\u001b[0m\u001b[0;34m]\u001b[0m\u001b[0;34m==\u001b[0m\u001b[0mk\u001b[0m\u001b[0;34m)\u001b[0m\u001b[0;34m]\u001b[0m\u001b[0;31m#.astype(float)\u001b[0m\u001b[0;34m\u001b[0m\u001b[0m\n\u001b[1;32m     45\u001b[0m                 \u001b[0mall_loop\u001b[0m \u001b[0;34m=\u001b[0m \u001b[0madta\u001b[0m\u001b[0;34m[\u001b[0m\u001b[0;34m(\u001b[0m\u001b[0madta\u001b[0m\u001b[0;34m[\u001b[0m\u001b[0;34m'Line'\u001b[0m\u001b[0;34m]\u001b[0m\u001b[0;34m==\u001b[0m\u001b[0mk\u001b[0m\u001b[0;34m)\u001b[0m\u001b[0;34m]\u001b[0m\u001b[0;31m#.astype(float)\u001b[0m\u001b[0;34m\u001b[0m\u001b[0m\n\u001b[0;32m---> 46\u001b[0;31m                 \u001b[0mall_loop\u001b[0m\u001b[0;34m.\u001b[0m\u001b[0mplot\u001b[0m\u001b[0;34m(\u001b[0m\u001b[0mx\u001b[0m\u001b[0;34m=\u001b[0m\u001b[0;34m'Time'\u001b[0m\u001b[0;34m,\u001b[0m \u001b[0my\u001b[0m\u001b[0;34m=\u001b[0m\u001b[0;34m'ones'\u001b[0m\u001b[0;34m,\u001b[0m \u001b[0mkind\u001b[0m\u001b[0;34m=\u001b[0m\u001b[0;34m'scatter'\u001b[0m\u001b[0;34m,\u001b[0m \u001b[0mlegend\u001b[0m\u001b[0;34m=\u001b[0m\u001b[0;32mFalse\u001b[0m\u001b[0;34m,\u001b[0m \u001b[0max\u001b[0m\u001b[0;34m=\u001b[0m\u001b[0maxes\u001b[0m\u001b[0;34m[\u001b[0m\u001b[0mi\u001b[0m\u001b[0;34m,\u001b[0m\u001b[0mj\u001b[0m\u001b[0;34m]\u001b[0m\u001b[0;34m,\u001b[0m \u001b[0mcolor\u001b[0m\u001b[0;34m=\u001b[0m\u001b[0;34m'orange'\u001b[0m\u001b[0;34m,\u001b[0m \u001b[0mmarker\u001b[0m\u001b[0;34m=\u001b[0m\u001b[0;34m'|'\u001b[0m\u001b[0;34m,\u001b[0m \u001b[0ms\u001b[0m\u001b[0;34m=\u001b[0m\u001b[0;36m50\u001b[0m\u001b[0;34m,\u001b[0m \u001b[0mlinewidth\u001b[0m\u001b[0;34m=\u001b[0m\u001b[0;36m0.8\u001b[0m\u001b[0;34m)\u001b[0m\u001b[0;34m\u001b[0m\u001b[0m\n\u001b[0m\u001b[1;32m     47\u001b[0m                 \u001b[0mtemp_loop\u001b[0m\u001b[0;34m.\u001b[0m\u001b[0mplot\u001b[0m\u001b[0;34m(\u001b[0m\u001b[0mx\u001b[0m\u001b[0;34m=\u001b[0m\u001b[0;34m'Time'\u001b[0m\u001b[0;34m,\u001b[0m \u001b[0my\u001b[0m\u001b[0;34m=\u001b[0m\u001b[0;34m'ones'\u001b[0m\u001b[0;34m,\u001b[0m \u001b[0mkind\u001b[0m\u001b[0;34m=\u001b[0m\u001b[0;34m'scatter'\u001b[0m\u001b[0;34m,\u001b[0m \u001b[0mlegend\u001b[0m\u001b[0;34m=\u001b[0m\u001b[0;32mFalse\u001b[0m\u001b[0;34m,\u001b[0m \u001b[0max\u001b[0m\u001b[0;34m=\u001b[0m\u001b[0maxes\u001b[0m\u001b[0;34m[\u001b[0m\u001b[0mi\u001b[0m\u001b[0;34m,\u001b[0m\u001b[0mj\u001b[0m\u001b[0;34m]\u001b[0m\u001b[0;34m,\u001b[0m \u001b[0mmarker\u001b[0m\u001b[0;34m=\u001b[0m\u001b[0;34m'x'\u001b[0m\u001b[0;34m,\u001b[0m \u001b[0msharey\u001b[0m\u001b[0;34m=\u001b[0m\u001b[0;32mTrue\u001b[0m\u001b[0;34m,\u001b[0m \u001b[0ms\u001b[0m\u001b[0;34m=\u001b[0m\u001b[0;36m50\u001b[0m\u001b[0;34m,\u001b[0m \u001b[0mlinewidth\u001b[0m\u001b[0;34m=\u001b[0m\u001b[0;36m0.8\u001b[0m\u001b[0;34m)\u001b[0m\u001b[0;31m#, title='line'+str(k))\u001b[0m\u001b[0;34m\u001b[0m\u001b[0m\n\u001b[1;32m     48\u001b[0m                 \u001b[0maxes\u001b[0m\u001b[0;34m[\u001b[0m\u001b[0mi\u001b[0m\u001b[0;34m,\u001b[0m\u001b[0mj\u001b[0m\u001b[0;34m]\u001b[0m\u001b[0;34m.\u001b[0m\u001b[0mtext\u001b[0m\u001b[0;34m(\u001b[0m\u001b[0;36m0.4\u001b[0m\u001b[0;34m,\u001b[0m \u001b[0;36m0.75\u001b[0m\u001b[0;34m,\u001b[0m \u001b[0;34m'Line '\u001b[0m\u001b[0;34m+\u001b[0m\u001b[0mstr\u001b[0m\u001b[0;34m(\u001b[0m\u001b[0mk\u001b[0m\u001b[0;34m)\u001b[0m\u001b[0;34m,\u001b[0m \u001b[0mtransform\u001b[0m\u001b[0;34m=\u001b[0m\u001b[0maxes\u001b[0m\u001b[0;34m[\u001b[0m\u001b[0mi\u001b[0m\u001b[0;34m,\u001b[0m\u001b[0mj\u001b[0m\u001b[0;34m]\u001b[0m\u001b[0;34m.\u001b[0m\u001b[0mtransAxes\u001b[0m\u001b[0;34m)\u001b[0m\u001b[0;34m\u001b[0m\u001b[0m\n",
      "\u001b[0;31mIndexError\u001b[0m: too many indices for array"
     ]
    },
    {
     "data": {
      "image/png": "[encoded data removed]",
      "text/plain": [
       "<Figure size 432x288 with 2 Axes>"
      ]
     },
     "metadata": {
      "needs_background": "light"
     },
     "output_type": "display_data"
    }
   ],
   "source": [
    "FIG_AllTimelines.FIG_all_timelines(gpta, adta, output, field_data, fignum)\n",
    "fignum += 1"
   ]
  },
  {
   "cell_type": "markdown",
   "metadata": {},
   "source": [
    "# Figure \n",
    "\n",
    "### Plot timelines for GOOD panel and ground data, with one line in one panel"
   ]
  },
  {
   "cell_type": "code",
   "execution_count": null,
   "metadata": {},
   "outputs": [],
   "source": [
    "from CalVal.FIG_AllTimelines import panel_plot_layout, multi_timeline_plot\n",
    "\n",
    "FIG_GoodTimelines.FIG_good_timelines(gpta, gpt, adt, panel_plot_layout, multi_timeline_plot, output, field_data, fignum)\n",
    "fignum += 1"
   ]
  },
  {
   "cell_type": "markdown",
   "metadata": {},
   "source": [
    "# Figure \n",
    "\n",
    "### Create timeline plot of averaged all/good panels\n",
    "\n",
    "These plots are used to identify any panels that show unusually bright or dark readings,<BR>\n",
    "    which can be weeded out as bad panels.\n",
    "    \n",
    "The general shape of the curve should follow \"insolation\" - the changing of incident light\n",
    "due to the Sun rising/falling in the sky."
   ]
  },
  {
   "cell_type": "code",
   "execution_count": null,
   "metadata": {
    "scrolled": true
   },
   "outputs": [],
   "source": [
    "gpt, gpta = FIG_NormalisedPanelsTimeline.normalise_spectra(good_panel_mean, good_panel_spec, all_panel_spec, gpt, gpta, field_data)\n",
    "\n",
    "FIG_NormalisedPanelsTimeline.FIG_normalised_panels_timeline(gpt, gpta, output, field_data, fignum)\n",
    "\n",
    "fignum += 1"
   ]
  },
  {
   "cell_type": "markdown",
   "metadata": {},
   "source": [
    "# Figure\n",
    "### Fit Insolation Curve\n",
    "\n",
    "Given that the total radiance (insolation, I) should increase with decreasing Solar zenith angle<BR>\n",
    "(ie. as the Sun rises) and that I \\propto cos(Solar zenith angle), we can fit the panel data to a<BR>\n",
    "straight line. The ratio between the fit and the data points can then be used to adjust all panel\n",
    "and ground spectra to account for insolation.<BR><BR>\n",
    "\n",
    "Once the fit has been calculated, the following steps are taken (in subsequent cells):\n",
    "<OL>\n",
    "    <LI>The ratio between the fit and each averaged panel masurement is divided off the panels, so\n",
    "        that they will all fall along the same line.\n",
    "    <LI>For each Line (ie. walked Line in the field), the average panel spectrum is determined, as \n",
    "        well as the average panel Solar angle.\n",
    "    <LI>The \"Solar angle distance\" for each ground spectrum to the averaged panel Solar angle is \n",
    "        used to divide off the insolation fit from the ground spectra. "
   ]
  },
  {
   "cell_type": "code",
   "execution_count": null,
   "metadata": {
    "scrolled": false
   },
   "outputs": [],
   "source": [
    "slope, intercept, coszenith = FIG_InsolationFit.FIG_insolation_fit(gpt, output, field_data, fignum)\n",
    "fignum += 1"
   ]
  },
  {
   "cell_type": "markdown",
   "metadata": {},
   "source": [
    "### Scale good panels to insolation curve\n",
    "\n",
    "Use the fitted insolation curve to determine individual offsets for each panel measurement and then divide<BR>\n",
    "off the differences. This effectively removes any individual variations in the absolute scaling of panel<BR>\n",
    "measurements."
   ]
  },
  {
   "cell_type": "code",
   "execution_count": null,
   "metadata": {},
   "outputs": [],
   "source": [
    "good_panels = ScalePanels.scale_panels(slope, intercept, coszenith, gpt, good_panels, field_data)"
   ]
  },
  {
   "cell_type": "markdown",
   "metadata": {},
   "source": [
    "### Scale ground spectra to insolation curve\n",
    "\n",
    "For each line, calculate the mean panel spectrum and determine the fit at the according mean Solar zenith angle.<BR>\n",
    "Then determine individual fits for all ground data within the line and apply the ratio of the panel mean fit to<BR>\n",
    "ground fit to the good_grounds dataframe."
   ]
  },
  {
   "cell_type": "code",
   "execution_count": null,
   "metadata": {
    "scrolled": true
   },
   "outputs": [],
   "source": [
    "good_grounds = ScaleGrounds.scale_grounds(good_panels, good_grounds, slope, intercept, field_data)"
   ]
  },
  {
   "cell_type": "markdown",
   "metadata": {},
   "source": [
    "### Define the K-factor\n",
    "\n",
    "This reads a standard file with a response curve for the detector, given an ideally white surface.<BR>\n",
    "Then \"k_f\" is defined for the K-factor."
   ]
  },
  {
   "cell_type": "code",
   "execution_count": null,
   "metadata": {},
   "outputs": [],
   "source": [
    "k_f = KFactor.k_factor(panel_dir, in_panel)"
   ]
  },
  {
   "cell_type": "markdown",
   "metadata": {},
   "source": [
    "### Re-Make Spectral Dataframes\n",
    "\n",
    "After re-scaling of both good_panels and good_grounds, recreate the good_panel_spec and<BR>\n",
    "good_grounds_spec dataframes"
   ]
  },
  {
   "cell_type": "code",
   "execution_count": null,
   "metadata": {},
   "outputs": [],
   "source": [
    "good_panel_spec = MakeSpecDF.make_spec_df(good_panels, field_data)\n",
    "good_grounds_spec = MakeSpecDF.make_spec_df(good_grounds, field_data)"
   ]
  },
  {
   "cell_type": "markdown",
   "metadata": {},
   "source": [
    "### Rename the first spectrum in ALL/GOOD panels to the correct name\n",
    "\n",
    "Rather than just \"radiance\", it will be named something like radiance1-0<BR>\n",
    "for the zeroth spectrum in the first line, for example.    "
   ]
  },
  {
   "cell_type": "code",
   "execution_count": null,
   "metadata": {},
   "outputs": [],
   "source": [
    "SpecRename.spec_rename(good_panel_spec, good_grounds_spec, firstGoodLine, firstGoodPanelSpec, firstGoodGroundSpec, field_data)"
   ]
  },
  {
   "cell_type": "markdown",
   "metadata": {},
   "source": [
    "### Create dataframe with Reflectances"
   ]
  },
  {
   "cell_type": "code",
   "execution_count": null,
   "metadata": {
    "scrolled": true
   },
   "outputs": [],
   "source": [
    "all_refls = CreateReflectances.create_reflectances(good_panels, good_panel_spec, good_grounds_spec, k_f, field_data)"
   ]
  },
  {
   "cell_type": "markdown",
   "metadata": {},
   "source": [
    "### Test for reflectances\n",
    "Test field_data to see if the data were saved as reflectances. If so, bypass all the panelling workflow."
   ]
  },
  {
   "cell_type": "code",
   "execution_count": null,
   "metadata": {},
   "outputs": [],
   "source": [
    "if field_data[5] == 'Reflectance':\n",
    "    all_refls = good_grounds_spec"
   ]
  },
  {
   "cell_type": "markdown",
   "metadata": {},
   "source": [
    "# Figure \n",
    "\n",
    "### Plot all ground reflectances in black, plus the Line-averaged reflectances in colour\n",
    "\n",
    "The Line-averaged reflectances are shown in order to identify any outlying lines that<BR>\n",
    "\n",
    "might have been caused by bad panel spectra (for example)."
   ]
  },
  {
   "cell_type": "code",
   "execution_count": null,
   "metadata": {},
   "outputs": [],
   "source": [
    "FIG_Reflectances.FIG_reflectances(good_panels, all_refls, colpac, output, field_data, fignum)\n",
    "fignum += 1"
   ]
  },
  {
   "cell_type": "markdown",
   "metadata": {},
   "source": [
    "### Apply weighted band responses to all reflectances"
   ]
  },
  {
   "cell_type": "code",
   "execution_count": null,
   "metadata": {
    "scrolled": true
   },
   "outputs": [],
   "source": [
    "ls_result_df, s2_result_df, ls_band, s2_band = ApplyWeights.apply_weights(f_name, all_refls, sat_resp, field_data)"
   ]
  },
  {
   "cell_type": "markdown",
   "metadata": {},
   "source": [
    "### Reformat band reflectances and apply to dataframe \"ground_bands\""
   ]
  },
  {
   "cell_type": "code",
   "execution_count": null,
   "metadata": {},
   "outputs": [],
   "source": [
    "ls_ground_bands = ReformatDF.reformat_df(good_grounds, ls_result_df)\n",
    "s2_ground_bands = ReformatDF.reformat_df(good_grounds, s2_result_df)"
   ]
  },
  {
   "cell_type": "markdown",
   "metadata": {},
   "source": [
    "# Figure \n",
    "\n",
    "### Plot band reflectances"
   ]
  },
  {
   "cell_type": "code",
   "execution_count": null,
   "metadata": {
    "scrolled": false
   },
   "outputs": [],
   "source": [
    "FIG_BandReflectances.FIG_band_reflectances(ls_ground_bands, ls_result_df, ls_band, s2_ground_bands, s2_result_df, s2_band, colpac, output, field_data, fignum)\n",
    "\n",
    "fignum += 1"
   ]
  },
  {
   "cell_type": "code",
   "execution_count": null,
   "metadata": {},
   "outputs": [],
   "source": [
    "FIG_ReflectancesBand.FIG_reflectances_band(ls_ground_bands, ls_result_df, ls_band, s2_ground_bands, s2_result_df, s2_band, good_panels, all_refls, colpac, output, field_data, fignum)\n",
    "\n",
    "fignum += 1"
   ]
  },
  {
   "cell_type": "markdown",
   "metadata": {},
   "source": [
    "# Figure\n",
    "\n",
    "### Histogram of all good spectra, plotted band-by-band\n",
    "\n",
    "This can be used to identify outlying ground spectra that can be added to bad_grounds in the second cell."
   ]
  },
  {
   "cell_type": "code",
   "execution_count": null,
   "metadata": {
    "scrolled": false
   },
   "outputs": [],
   "source": [
    "FIG_SpecHistogram.FIG_spec_histogram(ls_ground_bands, s2_ground_bands, output, field_data, fignum)\n",
    "fignum += 1"
   ]
  },
  {
   "cell_type": "markdown",
   "metadata": {},
   "source": [
    "### Outlying ground spectra\n",
    "\n",
    "Display the spectra with maximum and minimum values. These can be compared to the histograms above<BR>\n",
    "    to identify any outlying spectra that need to be identified as bad ground spectra."
   ]
  },
  {
   "cell_type": "code",
   "execution_count": null,
   "metadata": {},
   "outputs": [],
   "source": [
    "OutlyingSpec.outlying_spec(ls_ground_bands, s2_ground_bands, field_data)"
   ]
  },
  {
   "cell_type": "markdown",
   "metadata": {},
   "source": [
    "### Determine Solar angle\n",
    "\n",
    "Based on the spectrum Latitude, Longitude and time stamp, calculate the angle of<BR>\n",
    "the Sun, with respect to the zenith. Append this number to the \"ground_bands\" dataframe."
   ]
  },
  {
   "cell_type": "code",
   "execution_count": null,
   "metadata": {
    "scrolled": true
   },
   "outputs": [],
   "source": [
    "from CalVal.SolarAngle import solang\n",
    "ls_ground_bands['Solar_angle'] = ls_ground_bands.apply(solang, axis=1)\n",
    "s2_ground_bands['Solar_angle'] = s2_ground_bands.apply(solang, axis=1)"
   ]
  },
  {
   "cell_type": "markdown",
   "metadata": {},
   "source": [
    "### BRDF Calculation\n",
    "\n",
    "The following script is adapted from FORTRAN code that will calculate the adjusted ASD measurement to 45$^\\circ$. This is derived from \"MODIS BRDF / Albedo Product: Algorithm Theoretical basis Docuement Version 5.0\" by Strahler et al. (1999).\n",
    "\n",
    "What follows is a key to the variables used in this code, compared to the variables and equations in the document:\n",
    "\n",
    "hb and br = h/b and b/r . . . . . . . . . . . . . . . crown shape parameters, respectively.<BR>\n",
    "RL_brdf = R($\\theta, \\vartheta, \\phi, \\Lambda$). . . . . . . . . . . . . . (37)<BR>\n",
    "solar = $\\theta$ . . . . . . . . . . . . . . . . . . . . . . . . . . solar zenith angle<BR>\n",
    "view = $\\xi$ . . . . . . . . . . . . . . . . . . . . . . . . . . .view zenith angle<BR>\n",
    "ra = $\\phi$ . . . . . . . . . . . . . . . . . . . . . . . . . . . . view-sun relative azimuth angle<BR>\n",
    "cosxi = cos $\\xi^\\prime$ . . . . . . . . . . . . . . . . . . . . . . (43)<BR>\n",
    "rs_thick = K$_{vol}$ = RossThick kernel . . . . . . (38)<BR>\n",
    "d_li2 = D$^2$ . . . . . . . . . . . . . . . . . . . . . . . . . (42)<BR>\n",
    "x_li = tan$\\theta^\\prime$ tan$\\vartheta^\\prime$ sin$\\phi$ . . . . . . . . . . . . . . .(41) (part of)<BR>\n",
    "cosl = cos $t$ . . . . . . . . . . . . . . . . . . . . . . . . (41)<BR>\n",
    "l_li = $t$ . . . . . . . . . . . . . . . . . . . . . . . . . . . . .constrained such that $-1 \\leq t \\leq 1$<BR>\n",
    "o_li = O($\\theta, \\vartheta, \\phi$) . . . . . . . . . . . . . . . . . . . .(40)<BR>\n",
    "li_sparse = K$_{geo}$ . . . . . . . . . . . . . . . . . . . . (39)<BR><BR><BR>\n",
    "\n",
    "Equations used for the Ross-Li BRDF model:\n",
    "\n",
    "R($\\theta, \\vartheta, \\phi, \\Lambda$) = $f_{iso}(\\Lambda) + f_{vol}(\\Lambda)\\,K_{vol}(\\theta, \\vartheta, \\phi) + f_{geo}(\\Lambda)\\,K_{geo}(\\theta, \\vartheta, \\phi)$ . . . . . . . . (37)\n",
    "\n",
    "$K_{vol} = k_{RT} = \\frac{(\\pi/2 - \\xi)\\rm{cos}\\,\\xi + \\rm{sin}\\,\\xi}{\\rm{cos}\\,\\theta + \\rm{cos}\\,\\vartheta} - \\frac{\\pi}{4}$ . . . . . . . . . . . . . . . . . . . . . . . . . . . . . . . . . . . . . . (38)\n",
    "    \n",
    "$K_{geo} = k_{LSR} = O(\\theta, \\vartheta, \\phi) - {\\rm sec}\\,\\theta^\\prime - {\\rm sec}\\,\\vartheta^\\prime + \\frac{1}{2} (1 + \\rm{cos}\\,\\xi^\\prime)\\, \\rm{sec}\\,\\theta^\\prime \\rm{sec}\\,\\vartheta^\\prime$ . . . (39)\n",
    "\n",
    "$O = \\frac{1}{\\pi}(t - \\rm{sin}\\,t\\,\\,\\rm{cos}\\,t)(\\rm{sec}\\,\\theta^\\prime + \\rm{sec}\\,\\vartheta^\\prime)$ . . . . . . . . . . . . . . . . . . . . . . . . . . . . . . . . . . (40)\n",
    "\n",
    "$\\rm{cos}\\,t = \\frac{h}{b}\\frac{\\sqrt{D^2 + (\\rm{tan}\\,\\theta^\\prime\\,\\,\\rm{tan}\\,\\vartheta^\\prime\\,\\,\\rm{sin}\\,\\phi)^2}}{\\rm{sec}\\,\\theta^\\prime + \\rm{sec}\\,\\vartheta^\\prime}$ . . . . . . . . . . . . . . . . . . . . . . . . . . . . . . . . . . . . . . . . (41)\n",
    "\n",
    "$D = \\sqrt{\\rm{tan}^2\\,\\theta^\\prime + \\rm{tan}^2\\,\\vartheta^\\prime - 2\\,\\rm{tan}\\,\\theta^\\prime\\,\\rm{tan}\\,\\vartheta^\\prime\\,\\rm{cos}\\,\\phi}$ . . . . . . . . . . . . . . . . . . . . . . . . . . (42)\n",
    "\n",
    "$\\rm{cos}\\,\\xi^\\prime = \\rm{cos}\\,\\theta^\\prime\\,\\rm{cos}\\,\\vartheta^\\prime + \\rm{sin}\\,\\theta^\\prime\\,\\rm{sin}\\,\\vartheta^\\prime\\,\\rm{cos}\\,\\phi$ . . . . . . . . . . . . . . . . . . . . . . . . . . . . . . .(43)\n",
    "\n",
    "$\\theta^\\prime = \\rm{tan}^{-1}(\\frac{b}{r}\\rm{tan}\\,\\theta)\\,\\vartheta^\\prime = \\rm{tan}^{-1}(\\frac{b}{r}\\rm{tan}\\,\\vartheta)$ . . . . . . . . . . . . . . . . . . . . . . . . . . . . . . . . . .(44)"
   ]
  },
  {
   "cell_type": "code",
   "execution_count": null,
   "metadata": {
    "scrolled": false
   },
   "outputs": [],
   "source": [
    "ls_ground_brdf, s2_ground_brdf, hb, br = BRDF.ReadAndCalc(brdf_data, ls_ground_bands, s2_ground_bands, field_data)"
   ]
  },
  {
   "cell_type": "markdown",
   "metadata": {},
   "source": [
    "### Choose bands for Landsat 8 and Sentinel satellite data"
   ]
  },
  {
   "cell_type": "code",
   "execution_count": null,
   "metadata": {},
   "outputs": [],
   "source": [
    "from CalVal.ApplyWeights import get_spectrum_curve\n",
    "\n",
    "band_nn = get_spectrum_curve(f_name)\n",
    "senti_bands = [1,2,3,4,5,6,7,8,'8a',11,12]\n",
    "ls8_bands = [1,2,3,4,5,6,7]\n",
    "\n",
    "if field_data[3] == 'Landsat8':\n",
    "    band_min = [band_nn['band'+str(i)][:, 0].min() for i in ls8_bands]\n",
    "    band_max = [band_nn['band'+str(i)][:, 0].max() for i in ls8_bands]\n",
    "\n",
    "elif field_data[3] == 'Sentinel2a' or field_data[3] == 'Sentinel2b':\n",
    "    band_min = [band_nn['band'+str(i)][:, 0].min() for i in senti_bands]\n",
    "    band_max = [band_nn['band'+str(i)][:, 0].max() for i in senti_bands]\n",
    "\n",
    "else:\n",
    "    print('Satellite name should be one of Landsat8 or Sentinel. I got', field_data[3])"
   ]
  },
  {
   "cell_type": "markdown",
   "metadata": {},
   "source": [
    "# Figure \n",
    "\n",
    "### Plot satellite band extents against median ground spectrum\n",
    "\n",
    "This plot will show where the satellite bands fall, with respect to the spectrum<BR>\n",
    "and in particular, with respect to the atmospheric absorbtion features."
   ]
  },
  {
   "cell_type": "code",
   "execution_count": null,
   "metadata": {},
   "outputs": [],
   "source": [
    "FIG_BandExtents.FIG_band_extents(all_refls, band_min, band_max, output, field_data, fignum)\n",
    "fignum += 1"
   ]
  },
  {
   "cell_type": "markdown",
   "metadata": {},
   "source": [
    "### Fudge GPS locations if none exist"
   ]
  },
  {
   "cell_type": "code",
   "execution_count": null,
   "metadata": {
    "scrolled": false
   },
   "outputs": [],
   "source": [
    "ls_ground_brdf = FudgeGPS.fudge_gps(ls_ground_brdf, Corners, RockWalk, StartCorner)\n",
    "s2_ground_brdf = FudgeGPS.fudge_gps(s2_ground_brdf, Corners, RockWalk, StartCorner)"
   ]
  },
  {
   "cell_type": "markdown",
   "metadata": {},
   "source": [
    "### Query Satellite data\n",
    "\n",
    "Retrieve xarrays for satellite data, based on which satellite, query area and time.<BR>\n",
    "sat_array will contain all band data<BR>\n",
    "sat_bigarray will be a larger version of sat_array, which can be used for context plotting.<BR>\n",
    "ls8_usgs_array will contain the USGS Level 2 product of Landsat 8 data.<BR>\n",
    "ls8_usgs_bigarray will be the larger version of ls8_usgs_array.<P>\n",
    "    \n",
    "BRDF data is sourced/applied from satellite yaml file to match field and satellite processing for Landsat 8.<BR>\n",
    "ground_WSbrdf is the brdf calculated for the whole of scene (based on satellite yaml file)."
   ]
  },
  {
   "cell_type": "code",
   "execution_count": null,
   "metadata": {
    "scrolled": true
   },
   "outputs": [],
   "source": [
    "ls_sat_array, ls_sat_bigarray, s2_sat_array, s2_sat_bigarray, ls8_usgs_array, ls8_usgs_bigarray, solar_zenith,\\\n",
    "ls_query, s2_query, ls_dc, s2_dc, ls_ground_WSbrdf = QueryAndCreate.query_and_create(ls_ground_brdf, s2_ground_brdf, ls_ground_bands, s2_ground_bands, field_data, Corners, RockWalk, StartCorner)"
   ]
  },
  {
   "cell_type": "markdown",
   "metadata": {},
   "source": [
    "# Figure \n",
    "\n",
    "### Plot relative locations of field and satellite data"
   ]
  },
  {
   "cell_type": "code",
   "execution_count": null,
   "metadata": {
    "scrolled": false
   },
   "outputs": [],
   "source": [
    "ls_xloc, s2_xloc = FIG_SatFieldLocations.FIG_sat_field_locations(ls_ground_brdf, s2_ground_brdf, ls_sat_array, s2_sat_array, colpac, output, field_data, fignum)\n",
    "fignum +=1"
   ]
  },
  {
   "cell_type": "markdown",
   "metadata": {},
   "source": [
    "### Create Field full band xarray\n",
    "\n",
    "The field xarray is based on the pixel locations of the satellite data, where each pixel<BR>\n",
    "    contains an average of all field data measurements that fall within the pixel."
   ]
  },
  {
   "cell_type": "code",
   "execution_count": null,
   "metadata": {},
   "outputs": [],
   "source": [
    "ls_field_array, s2_field_array = CreateFieldFromSat.create_field_from_sat(ls_sat_array, s2_sat_array, ls_ground_brdf, s2_ground_brdf, ls_xloc, s2_xloc, field_data)\n",
    "ls_field_WSarray, dummy = CreateFieldFromSat.create_field_from_sat(ls_sat_array, s2_sat_array, ls_ground_WSbrdf, s2_ground_brdf, ls_xloc, s2_xloc, field_data)"
   ]
  },
  {
   "cell_type": "markdown",
   "metadata": {},
   "source": [
    "# Figure \n",
    "\n",
    "### Plot large-area context RGB array for Satellite data"
   ]
  },
  {
   "cell_type": "code",
   "execution_count": null,
   "metadata": {
    "scrolled": false
   },
   "outputs": [],
   "source": [
    "if field_data[3] == 'Landsat8':\n",
    "    FIG_SatBigRGB.FIG_sat_bigRGB(ls_sat_array, ls_sat_bigarray, output, field_data, fignum)\n",
    "else:\n",
    "    FIG_SatBigRGB.FIG_sat_bigRGB(s2_sat_array, s2_sat_bigarray, output, field_data, fignum)\n",
    "fignum += 1"
   ]
  },
  {
   "cell_type": "markdown",
   "metadata": {},
   "source": [
    "# Figure \n",
    "\n",
    "### Plot RGB array for Satellite data"
   ]
  },
  {
   "cell_type": "code",
   "execution_count": null,
   "metadata": {},
   "outputs": [],
   "source": [
    "if field_data[3] == 'Landsat8':\n",
    "    FIG_SatRGB.FIG_sat_RGB(ls_sat_array, output, field_data, fignum)\n",
    "else:\n",
    "    FIG_SatRGB.FIG_sat_RGB(s2_sat_array, output, field_data, fignum)\n",
    "fignum += 1"
   ]
  },
  {
   "cell_type": "markdown",
   "metadata": {},
   "source": [
    "# Figure \n",
    "\n",
    "### Plot RGB array for Field data"
   ]
  },
  {
   "cell_type": "code",
   "execution_count": null,
   "metadata": {},
   "outputs": [],
   "source": [
    "if field_data[3] == 'Landsat8':\n",
    "    FIG_FieldRGB.FIG_field_RGB(ls_field_WSarray, output, field_data, fignum)\n",
    "else:\n",
    "    FIG_FieldRGB.FIG_field_RGB(s2_field_array, output, field_data, fignum)\n",
    "fignum += 1"
   ]
  },
  {
   "cell_type": "markdown",
   "metadata": {},
   "source": [
    "## Figure\n",
    "### Variance of satellite data\n",
    "\n",
    "Band-by-band plots of the ratio of satellite data, divided by the mean, for each band are shown.\n",
    "The title also lists the min, max and mean variance. Variance is defined as the ratio of the standard\n",
    "deviation divided by the mean, for each band. The mean variance should typically be less than 5%."
   ]
  },
  {
   "cell_type": "code",
   "execution_count": null,
   "metadata": {
    "scrolled": false
   },
   "outputs": [],
   "source": [
    "if field_data[3] == 'Landsat8':\n",
    "    variance = FIG_SatBands.FIG_sat_bands(ls_sat_array, ls_field_WSarray, output, field_data, fignum)\n",
    "else:\n",
    "    variance = FIG_SatBands.FIG_sat_bands(s2_sat_array, s2_field_array, output, field_data, fignum)\n",
    "fignum += 1"
   ]
  },
  {
   "cell_type": "markdown",
   "metadata": {},
   "source": [
    "# Figure\n",
    "\n",
    "### Plot ratio arrays for each band\n",
    "\n",
    "Each panel shows the ratio of satellite/field data."
   ]
  },
  {
   "cell_type": "code",
   "execution_count": null,
   "metadata": {},
   "outputs": [],
   "source": [
    "if field_data[3] == 'Landsat8':\n",
    "    FIG_RatioArrays.FIG_ratio_arrays(ls_sat_array, ls_field_WSarray, output, field_data, fignum)\n",
    "else:\n",
    "    FIG_RatioArrays.FIG_ratio_arrays(s2_sat_array, s2_field_array, output, field_data, fignum)\n",
    "fignum += 1"
   ]
  },
  {
   "cell_type": "markdown",
   "metadata": {},
   "source": [
    "### Create a statistics dataframe, comparing satellite and field data"
   ]
  },
  {
   "cell_type": "code",
   "execution_count": null,
   "metadata": {
    "scrolled": true
   },
   "outputs": [],
   "source": [
    "ls_fstat_df, s2_fstat_df = CreateStats.create_stats(ls_sat_array, s2_sat_array, ls_ground_brdf, s2_ground_brdf, field_data)\n",
    "ls_fstat_WSdf, dummy = CreateStats.create_stats(ls_sat_array, s2_sat_array, ls_ground_WSbrdf, s2_ground_brdf, field_data)\n",
    "\n",
    "if field_data[6] == 'USGS':\n",
    "    ls_fstat_usgs_df, dummy = CreateStats.create_stats(ls8_usgs_array, s2_sat_array, ls_ground_brdf, s2_ground_brdf, field_data)\n",
    "else:\n",
    "    ls_fstat_usgs_df = 0"
   ]
  },
  {
   "cell_type": "markdown",
   "metadata": {},
   "source": [
    "## Create a statistics dataframe, comparing satellite and field data,\n",
    "for only those satellite pixels which overlap with at least one field data position."
   ]
  },
  {
   "cell_type": "code",
   "execution_count": null,
   "metadata": {},
   "outputs": [],
   "source": [
    "ls_finner_df, s2_finner_df = CreateSubStats.create_SUB_stats(ls_sat_array, s2_sat_array, ls_field_array, s2_field_array, ls_ground_brdf, s2_ground_brdf, ls_fstat_df, s2_fstat_df, field_data)\n",
    "ls_finner_WSdf, dummy = CreateSubStats.create_SUB_stats(ls_sat_array, s2_sat_array, ls_field_WSarray, s2_field_array, ls_ground_WSbrdf, s2_ground_brdf, ls_fstat_WSdf, s2_fstat_df, field_data)"
   ]
  },
  {
   "cell_type": "markdown",
   "metadata": {},
   "source": [
    "# Figure\n",
    "\n",
    "### Plot comparison spectra of satellite and field data, on a pixel-by-pixel basis\n",
    "\n",
    "Error bars are shown for the satellite and field data, based on the standard deviation of the pixels\n",
    "within the field. The black line shows the satellite data, which has been averaged over all pixels that satisfy the Datacube query ie. all pixels shown in Figure 11. The orange line shows satellite data which has been averaged over only those pixels that overlap with at least one field measurement."
   ]
  },
  {
   "cell_type": "code",
   "execution_count": null,
   "metadata": {
    "scrolled": false
   },
   "outputs": [],
   "source": [
    "if field_data[3] == 'Landsat8':\n",
    "    FIG_SubSatFieldBands.FIG_SUB_sat_field_bands(ls_sat_array, ls_fstat_WSdf, ls_finner_WSdf, output, field_data, fignum)\n",
    "else:\n",
    "    FIG_SubSatFieldBands.FIG_SUB_sat_field_bands(s2_sat_array, s2_fstat_df, s2_finner_df, output, field_data, fignum)\n",
    "fignum += 1"
   ]
  },
  {
   "cell_type": "code",
   "execution_count": null,
   "metadata": {
    "scrolled": true
   },
   "outputs": [],
   "source": [
    "if field_data[3] == 'Landsat8':\n",
    "    FIG_SatFieldBands.FIG_sat_field_bands(ls_sat_array, ls_fstat_WSdf, ls_finner_WSdf, output, field_data, fignum)\n",
    "else:\n",
    "    FIG_SatFieldBands.FIG_sat_field_bands(s2_sat_array, s2_fstat_df, s2_finner_df, output, field_data, fignum)\n",
    "fignum += 1"
   ]
  },
  {
   "cell_type": "markdown",
   "metadata": {},
   "source": [
    "# Figure\n",
    "\n",
    "### Comparison plot of Field and satellite data\n",
    "\n",
    "Plot shows a pixel-by-pixel comparison of all pixels where field data exists.<BR> \n",
    "Different band data are shown in different colours and different symbols."
   ]
  },
  {
   "cell_type": "code",
   "execution_count": null,
   "metadata": {
    "scrolled": false
   },
   "outputs": [],
   "source": [
    "if field_data[3] == 'Landsat8':\n",
    "    FIG_SatFieldScatterCompare.FIG_sat_field_scatter_compare(ls_sat_array, ls_field_WSarray, plot_scale, output, field_data, fignum)\n",
    "else:\n",
    "    FIG_SatFieldScatterCompare.FIG_sat_field_scatter_compare(s2_sat_array, s2_field_array, plot_scale, output, field_data, fignum)\n",
    "fignum += 1"
   ]
  },
  {
   "cell_type": "code",
   "execution_count": null,
   "metadata": {
    "scrolled": false
   },
   "outputs": [],
   "source": [
    "if field_data[3] == 'Landsat8':\n",
    "    FIG_SatFieldAvgScatterCompare.FIG_sat_field_avg_scatter_compare(ls_sat_array, ls_field_WSarray, plot_scale, ls_fstat_WSdf, output, field_data, fignum)\n",
    "else:\n",
    "    FIG_SatFieldAvgScatterCompare.FIG_sat_field_avg_scatter_compare(s2_sat_array, s2_field_array, plot_scale, s2_fstat_df, output, field_data, fignum)\n",
    "fignum += 1"
   ]
  },
  {
   "cell_type": "markdown",
   "metadata": {},
   "source": [
    "## Print out summary data sheet"
   ]
  },
  {
   "cell_type": "code",
   "execution_count": null,
   "metadata": {},
   "outputs": [],
   "source": [
    "if field_data[3] == 'Landsat8':\n",
    "    PrintSheet.print_sheet(ls_ground_WSbrdf, ls_sat_array, ls_fstat_WSdf, indir, output, field_data, Corners, RockWalk, StartCorner, variance, ls_query, ls_dc)\n",
    "else:\n",
    "    PrintSheet.print_sheet(s2_ground_brdf, s2_sat_array, s2_fstat_df, indir, output, field_data, Corners, RockWalk, StartCorner, variance, s2_query, s2_dc)"
   ]
  },
  {
   "cell_type": "code",
   "execution_count": null,
   "metadata": {},
   "outputs": [],
   "source": [
    "OutputCSVs.output_csvs(ls_fstat_WSdf, ls_fstat_usgs_df, s2_fstat_df, ls_sat_array, s2_sat_array, ls_ground_WSbrdf, s2_ground_brdf, field_data)"
   ]
  },
  {
   "cell_type": "markdown",
   "metadata": {},
   "source": [
    "## How long did this notebook take to run?"
   ]
  },
  {
   "cell_type": "code",
   "execution_count": null,
   "metadata": {
    "scrolled": false
   },
   "outputs": [],
   "source": [
    "import datetime\n",
    "print(\"This Notebook took \", str(datetime.timedelta(seconds=int((time.time() - start_time)))), \"(h:m:s) to run\")"
   ]
  },
  {
   "cell_type": "markdown",
   "metadata": {},
   "source": [
    "This cell for Lan-Wei's CSV file of Original SR, BRDF-corrected and Whole of scene-corrected brdf.\n",
    "\n",
    "ls_ground_WSbrdf.to_csv('../WORKDIR/CSV_4_LanWei/'+field_data[0]+'-'+field_data[1]+field_data[2]+'-WSbrdf.csv')\n",
    "ls_ground_brdf.to_csv('../WORKDIR/CSV_4_LanWei/'+field_data[0]+'-'+field_data[1]+field_data[2]+'-brdf.csv')\n",
    "ls_ground_bands.to_csv('../WORKDIR/CSV_4_LanWei/'+field_data[0]+'-'+field_data[1]+field_data[2]+'-bands.csv')"
   ]
  }
 ],
 "metadata": {
  "kernelspec": {
   "display_name": "Python [default]",
   "language": "python",
   "name": "python3"
  },
  "language_info": {
   "codemirror_mode": {
    "name": "ipython",
    "version": 3
   },
   "file_extension": ".py",
   "mimetype": "text/x-python",
   "name": "python",
   "nbconvert_exporter": "python",
   "pygments_lexer": "ipython3",
   "version": "3.6.6"
  }
 },
 "nbformat": 4,
 "nbformat_minor": 2
}
